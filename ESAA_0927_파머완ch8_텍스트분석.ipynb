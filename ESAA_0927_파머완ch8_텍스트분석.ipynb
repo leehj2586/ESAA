{
  "cells": [
    {
      "cell_type": "markdown",
      "metadata": {
        "id": "view-in-github",
        "colab_type": "text"
      },
      "source": [
        "<a href=\"https://colab.research.google.com/github/leehj2586/leehj/blob/main/ESAA_0927_%ED%8C%8C%EB%A8%B8%EC%99%84ch8_%ED%85%8D%EC%8A%A4%ED%8A%B8%EB%B6%84%EC%84%9D.ipynb\" target=\"_parent\"><img src=\"https://colab.research.google.com/assets/colab-badge.svg\" alt=\"Open In Colab\"/></a>"
      ]
    },
    {
      "cell_type": "markdown",
      "metadata": {
        "id": "iAJ6hMb5Gw7_"
      },
      "source": [
        "파머완 2판 p. 509~534"
      ]
    },
    {
      "cell_type": "markdown",
      "metadata": {
        "id": "a5quLpy9EJag"
      },
      "source": [
        "## 4. 텍스트 분류 실습 - 20 뉴스그룹 분류\n",
        "- 텍스트 분류: 특정 문서의 분류를 학습 데이터를 통해 학습 > 모델 생성 > 학습 모델 이용하여 다른 문서의 분류 예측\n",
        "### 텍스트 정규화  \n",
        ": fetch_20newsgroups()는 인터넷에서 로컬 컴퓨터로 데이터를 먼저 내려받은 후에 메모리로 데이터를 로딩하기"
      ]
    },
    {
      "cell_type": "code",
      "execution_count": null,
      "metadata": {
        "id": "lelEJv0WGlM_"
      },
      "outputs": [],
      "source": [
        "from sklearn.datasets import fetch_20newsgroups\n",
        "\n",
        "news_data = fetch_20newsgroups(subset='all', random_state=156)"
      ]
    },
    {
      "cell_type": "code",
      "execution_count": null,
      "metadata": {
        "colab": {
          "base_uri": "https://localhost:8080/"
        },
        "id": "bVvvjpauEmab",
        "outputId": "1c0dd0c2-e409-4a8c-c5dc-7705d0932b0b"
      },
      "outputs": [
        {
          "name": "stdout",
          "output_type": "stream",
          "text": [
            "dict_keys(['data', 'filenames', 'target_names', 'target', 'DESCR'])\n"
          ]
        }
      ],
      "source": [
        "print(news_data.keys())"
      ]
    },
    {
      "cell_type": "markdown",
      "metadata": {
        "id": "1s_dI5KwFNrr"
      },
      "source": [
        "- Target 클래스 구성 확인"
      ]
    },
    {
      "cell_type": "code",
      "execution_count": null,
      "metadata": {
        "colab": {
          "base_uri": "https://localhost:8080/"
        },
        "id": "sR4yNPGpFRnb",
        "outputId": "cfde85c8-d990-40a7-c71a-b461b9b1667f"
      },
      "outputs": [
        {
          "name": "stdout",
          "output_type": "stream",
          "text": [
            "target 클래스의 값과 분포도 \n",
            " 0     799\n",
            "1     973\n",
            "2     985\n",
            "3     982\n",
            "4     963\n",
            "5     988\n",
            "6     975\n",
            "7     990\n",
            "8     996\n",
            "9     994\n",
            "10    999\n",
            "11    991\n",
            "12    984\n",
            "13    990\n",
            "14    987\n",
            "15    997\n",
            "16    910\n",
            "17    940\n",
            "18    775\n",
            "19    628\n",
            "Name: count, dtype: int64\n",
            "target 클래스의 이름들 \n",
            " ['alt.atheism', 'comp.graphics', 'comp.os.ms-windows.misc', 'comp.sys.ibm.pc.hardware', 'comp.sys.mac.hardware', 'comp.windows.x', 'misc.forsale', 'rec.autos', 'rec.motorcycles', 'rec.sport.baseball', 'rec.sport.hockey', 'sci.crypt', 'sci.electronics', 'sci.med', 'sci.space', 'soc.religion.christian', 'talk.politics.guns', 'talk.politics.mideast', 'talk.politics.misc', 'talk.religion.misc']\n"
          ]
        }
      ],
      "source": [
        "import pandas as pd\n",
        "print('target 클래스의 값과 분포도 \\n', pd.Series(news_data.target).value_counts().sort_index())\n",
        "print('target 클래스의 이름들 \\n',news_data.target_names)\n",
        "# Target 클래스의 값은 0부터 19까지 20개로 구성"
      ]
    },
    {
      "cell_type": "code",
      "execution_count": null,
      "metadata": {
        "colab": {
          "base_uri": "https://localhost:8080/"
        },
        "id": "Zw1kVyU-FiNt",
        "outputId": "b19e3eb9-fb92-486d-bc5b-d3503a4d277d"
      },
      "outputs": [
        {
          "name": "stdout",
          "output_type": "stream",
          "text": [
            "From: egreen@east.sun.com (Ed Green - Pixel Cruncher)\n",
            "Subject: Re: Observation re: helmets\n",
            "Organization: Sun Microsystems, RTP, NC\n",
            "Lines: 21\n",
            "Distribution: world\n",
            "Reply-To: egreen@east.sun.com\n",
            "NNTP-Posting-Host: laser.east.sun.com\n",
            "\n",
            "In article 211353@mavenry.altcit.eskimo.com, maven@mavenry.altcit.eskimo.com (Norman Hamer) writes:\n",
            "> \n",
            "> The question for the day is re: passenger helmets, if you don't know for \n",
            ">certain who's gonna ride with you (like say you meet them at a .... church \n",
            ">meeting, yeah, that's the ticket)... What are some guidelines? Should I just \n",
            ">pick up another shoei in my size to have a backup helmet (XL), or should I \n",
            ">maybe get an inexpensive one of a smaller size to accomodate my likely \n",
            ">passenger? \n",
            "\n",
            "If your primary concern is protecting the passenger in the event of a\n",
            "crash, have him or her fitted for a helmet that is their size.  If your\n",
            "primary concern is complying with stupid helmet laws, carry a real big\n",
            "spare (you can put a big or small head in a big helmet, but not in a\n",
            "small one).\n",
            "\n",
            "---\n",
            "Ed Green, former Ninjaite |I was drinking last night with a biker,\n",
            "  Ed.Green@East.Sun.COM   |and I showed him a picture of you.  I said,\n",
            "DoD #0111  (919)460-8302  |\"Go on, get to know her, you'll like her!\"\n",
            " (The Grateful Dead) -->  |It seemed like the least I could do...\n",
            "\n",
            "\n"
          ]
        }
      ],
      "source": [
        "print(news_data.data[0])"
      ]
    },
    {
      "cell_type": "markdown",
      "metadata": {
        "id": "OhJNFYGjxQkX"
      },
      "source": [
        "- 내용을 제외한 제목 등 다른 정보 제거 -> 순수 텍스트로 텍스트 분석하기 위함"
      ]
    },
    {
      "cell_type": "code",
      "execution_count": null,
      "metadata": {
        "colab": {
          "base_uri": "https://localhost:8080/"
        },
        "id": "CjiKcmKGHByh",
        "outputId": "b87db74d-4102-403d-c723-9c2e84408edb"
      },
      "outputs": [
        {
          "name": "stdout",
          "output_type": "stream",
          "text": [
            "학습 데이터 크기 11314, 테스트 데이터 크기 7532\n"
          ]
        }
      ],
      "source": [
        "from sklearn.datasets import fetch_20newsgroups\n",
        "\n",
        "#subset='train'으로 학습용 데이터만 추출, remove=('headers', 'footers', ’quotes')로 내용만 추출\n",
        "train_news = fetch_20newsgroups(subset='train', remove=('headers', 'footers', 'quotes'),\n",
        "                                random_state=156)\n",
        "X_train = train_news.data\n",
        "y_train = train_news.target\n",
        "\n",
        "#subset='test'으로 테스트 데이터만 추출, remove=('headers', 'footers', ’quotes')로 내용만 추출\n",
        "test_news= fetch_20newsgroups(subset='test', remove=('headers', 'footers', 'quotes'),\n",
        "                              random_state=156)\n",
        "X_test = test_news.data\n",
        "y_test = test_news.target\n",
        "print('학습 데이터 크기 {0}, 테스트 데이터 크기 {1}'.format(len(train_news.data),\n",
        "len(test_news.data)))"
      ]
    },
    {
      "cell_type": "markdown",
      "metadata": {
        "id": "s0rFi4bEHfUP"
      },
      "source": [
        "### 피처 벡터화 변환과 머신러닝 모델 학습/예측/평가\n",
        "- CountVectorizer를 이용해 학습 데이터의 텍스트를 피처 벡터화하기\n",
        "- 테스트 데이터 피처 벡터화: 테스트 데이터에서 CountVectorizer를 적용할 때는 반드시 학습 데이터를 이용해 fit()이 수행된 CountVectorizer 객체를 이용해 테스트 데이터를 변환(transform)해야 함.   \n",
        "\n",
        "-> 학습 시 설정된 CountVectorizer의 피처 개수와 테스트 데이터를 CountVectorizer로 변환할 피처 개수가 같아짐.\n",
        "- cnt_vect.transform()\n"
      ]
    },
    {
      "cell_type": "code",
      "execution_count": null,
      "metadata": {
        "colab": {
          "base_uri": "https://localhost:8080/"
        },
        "id": "0BLO1GDNH1_u",
        "outputId": "1e3ba968-d3a9-468a-96d0-9fb69d3837f1"
      },
      "outputs": [
        {
          "name": "stdout",
          "output_type": "stream",
          "text": [
            "학습 데이터 텍스트의 CountVectorizer Shape： (11314, 101631)\n"
          ]
        }
      ],
      "source": [
        "from sklearn.feature_extraction.text import CountVectorizer\n",
        "\n",
        "#Count Vectorization으로 피처 벡터화 변환 수행.\n",
        "cnt_vect = CountVectorizer()\n",
        "cnt_vect.fit(X_train)\n",
        "X_train_cnt_vect = cnt_vect .transform(X_train)\n",
        "\n",
        "#학습 데이터로 fit( )된 CountVectorizer를 이용해 테스트 데이터를 피터 벡터화 변환 수행.\n",
        "X_test_cnt_vect = cnt_vect.transform(X_test)\n",
        "print('학습 데이터 텍스트의 CountVectorizer Shape：', X_train_cnt_vect.shape)"
      ]
    },
    {
      "cell_type": "code",
      "execution_count": null,
      "metadata": {
        "colab": {
          "base_uri": "https://localhost:8080/"
        },
        "id": "XmHOX2elIDEG",
        "outputId": "bae9b9d3-4cd0-4883-87f7-681fa6254552"
      },
      "outputs": [
        {
          "name": "stdout",
          "output_type": "stream",
          "text": [
            "CountVectorized Logistic Regression의 예측 정확도는 {0： .3f} 0.6168348380244291\n"
          ]
        }
      ],
      "source": [
        "#로지스틱 회귀 적용 -> 뉴스그룹에 대한 분류를 예측하기\n",
        "from sklearn.linear_model import LogisticRegression\n",
        "from sklearn.metrics import accuracy_score\n",
        "import warnings\n",
        "warnings.filterwarnings('ignore')\n",
        "\n",
        "#LogisticRegression을 이용하여 학습/예측/평가 수행.\n",
        "lr_clf = LogisticRegression(solver='liblinear')\n",
        "lr_clf.fit(X_train_cnt_vect , y_train)\n",
        "pred = lr_clf.predict(X_test_cnt_vect)\n",
        "print( 'CountVectorized Logistic Regression의 예측 정확도는 {0： .3f}',format(accuracy_score(y_test,pred)))"
      ]
    },
    {
      "cell_type": "code",
      "execution_count": null,
      "metadata": {
        "colab": {
          "base_uri": "https://localhost:8080/"
        },
        "id": "nGQ3U5jgIPFb",
        "outputId": "64c7abf8-b5da-42e8-f6c5-99bd259b880c"
      },
      "outputs": [
        {
          "name": "stdout",
          "output_type": "stream",
          "text": [
            "TF-IDF Logistic Regression의 예측 정확도는 0.678\n"
          ]
        }
      ],
      "source": [
        "#Count 기반에서 TF-IDF 기반으로 벡터화를 변경\n",
        "from sklearn.feature_extraction.text import TfidfVectorizer\n",
        "\n",
        "#TF-IDF 벡터화를 적용해 학습 데이터 세트와 테스트 데이터 세트 변환.\n",
        "tfidf_vect = TfidfVectorizer()\n",
        "tfidf_vect.fit(X_train)\n",
        "X_train_tfidf_vect = tfidf_vect.transform(X_train)\n",
        "X_test_tfidf_vect = tfidf_vect.transform(X_test)\n",
        "\n",
        "#LogisticRegression을 이용해 학습/예측/평가 수행.\n",
        "lr_clf = LogisticRegression(solver='liblinear')\n",
        "lr_clf.fit(X_train_tfidf_vect, y_train)\n",
        "pred = lr_clf.predict(X_test_tfidf_vect)\n",
        "print('TF-IDF Logistic Regression의 예측 정확도는 {0:.3f}'.format(accuracy_score(y_test, pred)))"
      ]
    },
    {
      "cell_type": "markdown",
      "metadata": {
        "id": "7FinB1TjIh3o"
      },
      "source": [
        "- TF-IDF가 단순 카운트 기반보다 훨씬 높은 예측 정확도 제공   \n",
        ": 일반적으로 문서 내에 텍스트가 많고 많은 문서를 가지는 텍스트 분석에서는 TF-IDF의 효과가 더 좋음.\n",
        "\n",
        "- 텍스트 분석에서 머신 러능 모델 성능 향상시키는 중요한 2가지 방법\n",
        "  - 텍스트 정규화\n",
        "  - Count/TF-IDF 기반 피처 벡 터화를 어떻게 효과적으로 적용했는지"
      ]
    },
    {
      "cell_type": "code",
      "execution_count": null,
      "metadata": {
        "colab": {
          "base_uri": "https://localhost:8080/"
        },
        "id": "SEixY8ZlItv-",
        "outputId": "5804331e-f3a4-469a-8186-2565c84bd0c0"
      },
      "outputs": [
        {
          "name": "stdout",
          "output_type": "stream",
          "text": [
            "TF-IDF Vectorized Logistic Regression 의 예측 정확도는 0.690\n"
          ]
        }
      ],
      "source": [
        "#stop words 필터링을 추가하고 ngram을 기본 (1, 1)에서 (1, 2)로 변경해 피처 벡터화 적용.\n",
        "tfidf_vect = TfidfVectorizer(stop_words='english', ngram_range=(1, 2), max_df=300 )\n",
        "tfidf_vect.fit(X_train)\n",
        "X_train_tfidf_vect = tfidf_vect.transform(X_train)\n",
        "X_test_tfidf_vect = tfidf_vect.transform(X_test)\n",
        "\n",
        "lr_clf = LogisticRegression(solver='liblinear')\n",
        "lr_clf.fit(X_train_tfidf_vect, y_train)\n",
        "\n",
        "pred = lr_clf.predict(X_test_tfidf_vect)\n",
        "print('TF-IDF Vectorized Logistic Regression 의 예측 정확도는 {0:.3f}'.format( accuracy_score(y_test, pred)))"
      ]
    },
    {
      "cell_type": "markdown",
      "metadata": {
        "id": "qrtx_3h63NHw"
      },
      "source": [
        "- 로지스틱 회귀 하이퍼 파라미터 최적화"
      ]
    },
    {
      "cell_type": "code",
      "execution_count": null,
      "metadata": {
        "colab": {
          "background_save": true,
          "base_uri": "https://localhost:8080/"
        },
        "id": "tZ9jjISLJDm0",
        "outputId": "1b2cf4fc-7f1c-459e-c91f-09443141264a"
      },
      "outputs": [
        {
          "name": "stdout",
          "output_type": "stream",
          "text": [
            "Fitting 3 folds for each of 5 candidates, totalling 15 fits\n",
            "Logistic Regression best C parameter ： {'C': 10}\n",
            "TF-IDF Vectorized Logistic Regression의 예측 정확도는 0.704\n"
          ]
        }
      ],
      "source": [
        "#GridSearchCV\n",
        "from sklearn.model_selection import GridSearchCV\n",
        "\n",
        "#최적 C 값 도출 튜닝 수행. CV는 3 폴드 세트로 설정.\n",
        "params = {'C':[0.01, 0.1, 1, 5, 10]}\n",
        "grid_cv_lr = GridSearchCV(lr_clf, param_grid=params, cv=3, scoring='accuracy', verbose=1)\n",
        "grid_cv_lr.fit(X_train_tfidf_vect, y_train)\n",
        "print('Logistic Regression best C parameter ：', grid_cv_lr.best_params_ )\n",
        "\n",
        "#최적 C 값으로 학습된 grid_cv로 예측 및 정확도 평가.\n",
        "pred = grid_cv_lr.predict(X_test_tfidf_vect)\n",
        "print('TF-IDF Vectorized Logistic Regression의 예측 정확도는 {0:.3f}'.format(accuracy_score(y_test, pred)))"
      ]
    },
    {
      "cell_type": "markdown",
      "metadata": {
        "id": "xoHpwZzAKZc8"
      },
      "source": [
        "### 사이킷런 파이프라인(Pipeine) 사용 및 GridSearchCV와의 결합\n",
        "\n",
        "- Pipeline: 데이터의 가공, 변환 등의 전처 리와 알고리즘 적용을 마치 ‘수도관(Pipe)에서 물이 흐르듯’ 한꺼번에 스트림 기반으로 처리한다는 의미, 모든 데이터 전처리 작업과 Estimator를 결합할 수 O\n",
        "\n",
        "  -> 데이터의 전처리와 머신러닝 학습 과정을 통일된 API 기반에서 처리할 수 있어 더 직관적인 ML 모델 코드를 생성 가능\n",
        "\n",
        "  -> 대용량 데이터의 피처 벡터화 결과를 별도 데이터로 저장X,  스트림 기반에서 바로 머신러닝 알고리즘의 데이터로 입력 가능   \n",
        "\n",
        "  -> 수행시간 절약 가능"
      ]
    },
    {
      "cell_type": "code",
      "execution_count": 13,
      "metadata": {
        "colab": {
          "base_uri": "https://localhost:8080/"
        },
        "id": "xGFeN8BILIhK",
        "outputId": "02f493e6-0c3e-4d2f-e83e-7370d443e5b9"
      },
      "outputs": [
        {
          "output_type": "stream",
          "name": "stdout",
          "text": [
            "Pipeline 을 통한 Logistic Regression 의 예측 정확도는 0.704\n"
          ]
        }
      ],
      "source": [
        "from sklearn.pipeline import Pipeline\n",
        "\n",
        "#TfidfVectorizer 객체를 tfidf_vect로, LogisticRegression 객체를 lr_clf로 생성하는 Pipeline 생성\n",
        "pipeline = Pipeline([\n",
        "    ('tfidf_vect', TfidfVectorizer(stop_words='english', ngram_range=(1, 2), max_df=300)),\n",
        "    ('lr_clf', LogisticRegression(solver='liblinear', C=10))\n",
        "])\n",
        "\n",
        "#별도의 TfidfVectorizer 객체의 fit( ), transform( )과 LogisticRegression의 fit(), predict( )가\n",
        "#필요 없음.\n",
        "#pipeline의 fit( )과 predict( )만으로 한꺼번에 피처 벡터화와 ML 학습/예측이 가능.\n",
        "pipeline.fit(X_train, y_train)\n",
        "pred = pipeline.predict(X_test)\n",
        "print ('Pipeline 을 통한 Logistic Regression 의 예측 정확도는 {0:.3f}'. format(\n",
        "        accuracy_score(y_test, pred)))"
      ]
    },
    {
      "cell_type": "markdown",
      "metadata": {
        "id": "3WRM7h1pL3gj"
      },
      "source": [
        "- GridSearchCV에 Pipeline을 입력하면서 TfidfVectorizer의 파라미터와 Logistic Regression의 하이퍼 파라미터를 함께 최적화하기"
      ]
    },
    {
      "cell_type": "code",
      "execution_count": null,
      "metadata": {
        "id": "-iicmGyFQQ5c"
      },
      "outputs": [],
      "source": [
        "'''\n",
        "from sklearn.pipeline import Pipeline\n",
        "pipeline = Pipeline([\n",
        "    ('tfidf_vect', TfidfVectorizer(stop_words='english')),\n",
        "    ('lr_clf', LogisticRegression())\n",
        "])\n",
        "\n",
        "#Pipeline에 기술된 각각의 객체 변수에 언더바(_) 2개를 연달아 붙여 GridSearchCV에 사용될\n",
        "#파라미터/하이퍼 파라미터 이름과 값을 설정.\n",
        "params = {'tfidf_vect__ngram_range': [(1, 1), (1, 2), (1, 3)],\n",
        "          'tfidf_vect__max_df' : [100, 300, 700],\n",
        "          'lr_clf__C': [1, 5, 10]\n",
        "}\n",
        "\n",
        "#GridSearchCV의 생성자에 Estimator가 아닌 Pipeline 객체 입력\n",
        "grid_cv_pipe = GridSearchCV(pipeline, param_grid=params, cv=3, scoring='accuracy', verbose=1)\n",
        "grid_cv_pipe.fit(X_train, y_train)\n",
        "print(grid_cv_pipe.best_params_, grid_cv_pipe.best_score_)\n",
        "\n",
        "pred = grid_cv_pipe.predict(X_test)\n",
        "print ('Pipeline 을 통한 Logistic Regression 의 예측 정확도는 {0:.3f}'.format(\n",
        "        accuracy_score(y_test, pred)))\n",
        "'''"
      ]
    },
    {
      "cell_type": "markdown",
      "metadata": {
        "id": "jEX8qA-xPd60"
      },
      "source": [
        "## 05. 감성 분석\n",
        "- 감성 분석: 문서의 주관적인 감성/의견/감정/기분 등을 파악하기 위한 방법\n",
        "- 활용 분야: 소셜 미디어, 여론조사, 온라인 리뷰, 피드백 등 다양한 분야\n",
        "  - 문서 내 텍스트가 나타내는 여러 가지 주관적인 단어와 문맥을 기반으로 감성(Sentiment) 수치를 계산하는 방법\n",
        "  - 감성 지수: 긍정 감성 지수, 부정 감성 지수 -> 합산해 긍정 또는 부정 감성을 결정\n",
        "  - 지도 학습: 학습 데이터와 타깃 레이블 값을 기반으로 감성 분석 학습을 수행한 뒤 이를 기반으로 다른 데이터의 감성 분석을 예측하는 방법\n",
        "  - 비지도 학습: ‘Lexicon’이라는 감성 어휘 사전을 이용\n",
        "    -  Lexicon: 감성 분석을 위한 용어와 문맥에 대한 다양한 정보를 가지고 있으며. 이를 이용해 문서의 긍정적, 부정적 감성 여부를 판단함.\n",
        "\n",
        "### 지도학습 기반 감성 분석 실습 - IMDB 영화평"
      ]
    },
    {
      "cell_type": "code",
      "execution_count": 14,
      "metadata": {
        "colab": {
          "base_uri": "https://localhost:8080/"
        },
        "id": "Gbw6pE05RAgb",
        "outputId": "86d7144c-f4b0-45be-8d83-310ebcdd3aab"
      },
      "outputs": [
        {
          "output_type": "stream",
          "name": "stdout",
          "text": [
            "Mounted at /content/drive\n"
          ]
        }
      ],
      "source": [
        "#구글 드라이브\n",
        "from google.colab import drive\n",
        "drive.mount('/content/drive')"
      ]
    },
    {
      "cell_type": "code",
      "execution_count": 15,
      "metadata": {
        "id": "Mi4kPSjTRE2J",
        "colab": {
          "base_uri": "https://localhost:8080/",
          "height": 143
        },
        "outputId": "9c991811-bf43-4c6c-d7bd-d15c75e229ce"
      },
      "outputs": [
        {
          "output_type": "execute_result",
          "data": {
            "text/plain": [
              "         id  sentiment                                             review\n",
              "0  \"5814_8\"          1  \"With all this stuff going down at the moment ...\n",
              "1  \"2381_9\"          1  \"\\\"The Classic War of the Worlds\\\" by Timothy ...\n",
              "2  \"7759_3\"          0  \"The film starts with a manager (Nicholas Bell..."
            ],
            "text/html": [
              "\n",
              "  <div id=\"df-86499fa5-8a50-449f-85a4-246a2e9f9aa5\" class=\"colab-df-container\">\n",
              "    <div>\n",
              "<style scoped>\n",
              "    .dataframe tbody tr th:only-of-type {\n",
              "        vertical-align: middle;\n",
              "    }\n",
              "\n",
              "    .dataframe tbody tr th {\n",
              "        vertical-align: top;\n",
              "    }\n",
              "\n",
              "    .dataframe thead th {\n",
              "        text-align: right;\n",
              "    }\n",
              "</style>\n",
              "<table border=\"1\" class=\"dataframe\">\n",
              "  <thead>\n",
              "    <tr style=\"text-align: right;\">\n",
              "      <th></th>\n",
              "      <th>id</th>\n",
              "      <th>sentiment</th>\n",
              "      <th>review</th>\n",
              "    </tr>\n",
              "  </thead>\n",
              "  <tbody>\n",
              "    <tr>\n",
              "      <th>0</th>\n",
              "      <td>\"5814_8\"</td>\n",
              "      <td>1</td>\n",
              "      <td>\"With all this stuff going down at the moment ...</td>\n",
              "    </tr>\n",
              "    <tr>\n",
              "      <th>1</th>\n",
              "      <td>\"2381_9\"</td>\n",
              "      <td>1</td>\n",
              "      <td>\"\\\"The Classic War of the Worlds\\\" by Timothy ...</td>\n",
              "    </tr>\n",
              "    <tr>\n",
              "      <th>2</th>\n",
              "      <td>\"7759_3\"</td>\n",
              "      <td>0</td>\n",
              "      <td>\"The film starts with a manager (Nicholas Bell...</td>\n",
              "    </tr>\n",
              "  </tbody>\n",
              "</table>\n",
              "</div>\n",
              "    <div class=\"colab-df-buttons\">\n",
              "\n",
              "  <div class=\"colab-df-container\">\n",
              "    <button class=\"colab-df-convert\" onclick=\"convertToInteractive('df-86499fa5-8a50-449f-85a4-246a2e9f9aa5')\"\n",
              "            title=\"Convert this dataframe to an interactive table.\"\n",
              "            style=\"display:none;\">\n",
              "\n",
              "  <svg xmlns=\"http://www.w3.org/2000/svg\" height=\"24px\" viewBox=\"0 -960 960 960\">\n",
              "    <path d=\"M120-120v-720h720v720H120Zm60-500h600v-160H180v160Zm220 220h160v-160H400v160Zm0 220h160v-160H400v160ZM180-400h160v-160H180v160Zm440 0h160v-160H620v160ZM180-180h160v-160H180v160Zm440 0h160v-160H620v160Z\"/>\n",
              "  </svg>\n",
              "    </button>\n",
              "\n",
              "  <style>\n",
              "    .colab-df-container {\n",
              "      display:flex;\n",
              "      gap: 12px;\n",
              "    }\n",
              "\n",
              "    .colab-df-convert {\n",
              "      background-color: #E8F0FE;\n",
              "      border: none;\n",
              "      border-radius: 50%;\n",
              "      cursor: pointer;\n",
              "      display: none;\n",
              "      fill: #1967D2;\n",
              "      height: 32px;\n",
              "      padding: 0 0 0 0;\n",
              "      width: 32px;\n",
              "    }\n",
              "\n",
              "    .colab-df-convert:hover {\n",
              "      background-color: #E2EBFA;\n",
              "      box-shadow: 0px 1px 2px rgba(60, 64, 67, 0.3), 0px 1px 3px 1px rgba(60, 64, 67, 0.15);\n",
              "      fill: #174EA6;\n",
              "    }\n",
              "\n",
              "    .colab-df-buttons div {\n",
              "      margin-bottom: 4px;\n",
              "    }\n",
              "\n",
              "    [theme=dark] .colab-df-convert {\n",
              "      background-color: #3B4455;\n",
              "      fill: #D2E3FC;\n",
              "    }\n",
              "\n",
              "    [theme=dark] .colab-df-convert:hover {\n",
              "      background-color: #434B5C;\n",
              "      box-shadow: 0px 1px 3px 1px rgba(0, 0, 0, 0.15);\n",
              "      filter: drop-shadow(0px 1px 2px rgba(0, 0, 0, 0.3));\n",
              "      fill: #FFFFFF;\n",
              "    }\n",
              "  </style>\n",
              "\n",
              "    <script>\n",
              "      const buttonEl =\n",
              "        document.querySelector('#df-86499fa5-8a50-449f-85a4-246a2e9f9aa5 button.colab-df-convert');\n",
              "      buttonEl.style.display =\n",
              "        google.colab.kernel.accessAllowed ? 'block' : 'none';\n",
              "\n",
              "      async function convertToInteractive(key) {\n",
              "        const element = document.querySelector('#df-86499fa5-8a50-449f-85a4-246a2e9f9aa5');\n",
              "        const dataTable =\n",
              "          await google.colab.kernel.invokeFunction('convertToInteractive',\n",
              "                                                    [key], {});\n",
              "        if (!dataTable) return;\n",
              "\n",
              "        const docLinkHtml = 'Like what you see? Visit the ' +\n",
              "          '<a target=\"_blank\" href=https://colab.research.google.com/notebooks/data_table.ipynb>data table notebook</a>'\n",
              "          + ' to learn more about interactive tables.';\n",
              "        element.innerHTML = '';\n",
              "        dataTable['output_type'] = 'display_data';\n",
              "        await google.colab.output.renderOutput(dataTable, element);\n",
              "        const docLink = document.createElement('div');\n",
              "        docLink.innerHTML = docLinkHtml;\n",
              "        element.appendChild(docLink);\n",
              "      }\n",
              "    </script>\n",
              "  </div>\n",
              "\n",
              "\n",
              "<div id=\"df-3b96cce6-f65c-41a8-9e62-ab92d274d042\">\n",
              "  <button class=\"colab-df-quickchart\" onclick=\"quickchart('df-3b96cce6-f65c-41a8-9e62-ab92d274d042')\"\n",
              "            title=\"Suggest charts\"\n",
              "            style=\"display:none;\">\n",
              "\n",
              "<svg xmlns=\"http://www.w3.org/2000/svg\" height=\"24px\"viewBox=\"0 0 24 24\"\n",
              "     width=\"24px\">\n",
              "    <g>\n",
              "        <path d=\"M19 3H5c-1.1 0-2 .9-2 2v14c0 1.1.9 2 2 2h14c1.1 0 2-.9 2-2V5c0-1.1-.9-2-2-2zM9 17H7v-7h2v7zm4 0h-2V7h2v10zm4 0h-2v-4h2v4z\"/>\n",
              "    </g>\n",
              "</svg>\n",
              "  </button>\n",
              "\n",
              "<style>\n",
              "  .colab-df-quickchart {\n",
              "      --bg-color: #E8F0FE;\n",
              "      --fill-color: #1967D2;\n",
              "      --hover-bg-color: #E2EBFA;\n",
              "      --hover-fill-color: #174EA6;\n",
              "      --disabled-fill-color: #AAA;\n",
              "      --disabled-bg-color: #DDD;\n",
              "  }\n",
              "\n",
              "  [theme=dark] .colab-df-quickchart {\n",
              "      --bg-color: #3B4455;\n",
              "      --fill-color: #D2E3FC;\n",
              "      --hover-bg-color: #434B5C;\n",
              "      --hover-fill-color: #FFFFFF;\n",
              "      --disabled-bg-color: #3B4455;\n",
              "      --disabled-fill-color: #666;\n",
              "  }\n",
              "\n",
              "  .colab-df-quickchart {\n",
              "    background-color: var(--bg-color);\n",
              "    border: none;\n",
              "    border-radius: 50%;\n",
              "    cursor: pointer;\n",
              "    display: none;\n",
              "    fill: var(--fill-color);\n",
              "    height: 32px;\n",
              "    padding: 0;\n",
              "    width: 32px;\n",
              "  }\n",
              "\n",
              "  .colab-df-quickchart:hover {\n",
              "    background-color: var(--hover-bg-color);\n",
              "    box-shadow: 0 1px 2px rgba(60, 64, 67, 0.3), 0 1px 3px 1px rgba(60, 64, 67, 0.15);\n",
              "    fill: var(--button-hover-fill-color);\n",
              "  }\n",
              "\n",
              "  .colab-df-quickchart-complete:disabled,\n",
              "  .colab-df-quickchart-complete:disabled:hover {\n",
              "    background-color: var(--disabled-bg-color);\n",
              "    fill: var(--disabled-fill-color);\n",
              "    box-shadow: none;\n",
              "  }\n",
              "\n",
              "  .colab-df-spinner {\n",
              "    border: 2px solid var(--fill-color);\n",
              "    border-color: transparent;\n",
              "    border-bottom-color: var(--fill-color);\n",
              "    animation:\n",
              "      spin 1s steps(1) infinite;\n",
              "  }\n",
              "\n",
              "  @keyframes spin {\n",
              "    0% {\n",
              "      border-color: transparent;\n",
              "      border-bottom-color: var(--fill-color);\n",
              "      border-left-color: var(--fill-color);\n",
              "    }\n",
              "    20% {\n",
              "      border-color: transparent;\n",
              "      border-left-color: var(--fill-color);\n",
              "      border-top-color: var(--fill-color);\n",
              "    }\n",
              "    30% {\n",
              "      border-color: transparent;\n",
              "      border-left-color: var(--fill-color);\n",
              "      border-top-color: var(--fill-color);\n",
              "      border-right-color: var(--fill-color);\n",
              "    }\n",
              "    40% {\n",
              "      border-color: transparent;\n",
              "      border-right-color: var(--fill-color);\n",
              "      border-top-color: var(--fill-color);\n",
              "    }\n",
              "    60% {\n",
              "      border-color: transparent;\n",
              "      border-right-color: var(--fill-color);\n",
              "    }\n",
              "    80% {\n",
              "      border-color: transparent;\n",
              "      border-right-color: var(--fill-color);\n",
              "      border-bottom-color: var(--fill-color);\n",
              "    }\n",
              "    90% {\n",
              "      border-color: transparent;\n",
              "      border-bottom-color: var(--fill-color);\n",
              "    }\n",
              "  }\n",
              "</style>\n",
              "\n",
              "  <script>\n",
              "    async function quickchart(key) {\n",
              "      const quickchartButtonEl =\n",
              "        document.querySelector('#' + key + ' button');\n",
              "      quickchartButtonEl.disabled = true;  // To prevent multiple clicks.\n",
              "      quickchartButtonEl.classList.add('colab-df-spinner');\n",
              "      try {\n",
              "        const charts = await google.colab.kernel.invokeFunction(\n",
              "            'suggestCharts', [key], {});\n",
              "      } catch (error) {\n",
              "        console.error('Error during call to suggestCharts:', error);\n",
              "      }\n",
              "      quickchartButtonEl.classList.remove('colab-df-spinner');\n",
              "      quickchartButtonEl.classList.add('colab-df-quickchart-complete');\n",
              "    }\n",
              "    (() => {\n",
              "      let quickchartButtonEl =\n",
              "        document.querySelector('#df-3b96cce6-f65c-41a8-9e62-ab92d274d042 button');\n",
              "      quickchartButtonEl.style.display =\n",
              "        google.colab.kernel.accessAllowed ? 'block' : 'none';\n",
              "    })();\n",
              "  </script>\n",
              "</div>\n",
              "\n",
              "    </div>\n",
              "  </div>\n"
            ],
            "application/vnd.google.colaboratory.intrinsic+json": {
              "type": "dataframe",
              "variable_name": "review_df",
              "summary": "{\n  \"name\": \"review_df\",\n  \"rows\": 25000,\n  \"fields\": [\n    {\n      \"column\": \"id\",\n      \"properties\": {\n        \"dtype\": \"string\",\n        \"num_unique_values\": 25000,\n        \"samples\": [\n          \"\\\"2570_3\\\"\",\n          \"\\\"4897_8\\\"\",\n          \"\\\"8485_3\\\"\"\n        ],\n        \"semantic_type\": \"\",\n        \"description\": \"\"\n      }\n    },\n    {\n      \"column\": \"sentiment\",\n      \"properties\": {\n        \"dtype\": \"number\",\n        \"std\": 0,\n        \"min\": 0,\n        \"max\": 1,\n        \"num_unique_values\": 2,\n        \"samples\": [\n          0,\n          1\n        ],\n        \"semantic_type\": \"\",\n        \"description\": \"\"\n      }\n    },\n    {\n      \"column\": \"review\",\n      \"properties\": {\n        \"dtype\": \"string\",\n        \"num_unique_values\": 24904,\n        \"samples\": [\n          \"\\\"This is not my favorite WIP (\\\\\\\"Women in Prison\\\\\\\"), but it is one of the most famous films in the sub-genre. It is was produced by Roger Corman, who at this point had already produced a few WIPs. It is obvious that the film tries to play with the established formula. The movie takes place in an USA prison, not in a \\\\\\\"banana republic\\\\\\\" like most WIP films. I'm not sure if that was a wise move, but it is an acceptable change of pace. Writer-director Demme really gets into his job, always digging for new ways to present a familiar scenario. In fact, he is a little too ambitious for his own good. The filmmaker creates a few surreal dream sequences that are borderline pretentious but it is fun to see how hard he tries to put this film above your average chicks-in-chains flick. But do not worry, Demme still operates within the parameters of the sub-genre. There is plenty of nudity and violence, something that will satisfy hardcore fans. The film is a little slow, but it is very entertaining. The cast is good. Roberta Collins is a WIP veteran, so she does not need an introduction, and Barbara Steel is a hoot as the wheelchair-bound crazy warden. Pam Grier is sorely missed, though.\\\"\",\n          \"\\\"In 1972, after his wife left to go her own way, Elvis Presley began dating Linda Thompson. Miss Thompson, a good-humored, long haired, lovely, statuesque beauty queen, is charted to fill a void in Elvis' life. When Elvis' divorce became final, Linda was already in place as the legendary performer's live-in girlfriend and travel companion until 1976.<br /><br />This is a gaudy look at their love affair and companionship. Linda whole-heartedly tending to her lover's needs and desires. And even putting up with his swallowing medications by the handful and introducing her to her own love affair with valium. At times this movie is harsh and dark of heart; a very unattractive look at the 'King' and his queen.<br /><br />Don Johnson is absolutely awful as Elvis. Over acting to the hilt is not attractive. Stephanie Zimbalist lacks the classiness of Linda, but does the job pretty well. Supporting cast includes: John Crawford, Ruta Lee, and Rick Lenz. Watching this twice is more than enough for me, but don't let this review stop you from checking it out. For most Elvis fans that I have conferred with, this is not a favored presentation.\\\"\"\n        ],\n        \"semantic_type\": \"\",\n        \"description\": \"\"\n      }\n    }\n  ]\n}"
            }
          },
          "metadata": {},
          "execution_count": 15
        }
      ],
      "source": [
        "import pandas as pd\n",
        "review_df = pd.read_csv('/content/drive/MyDrive/ESAA/OB/labeledTrainData.tsv', header=0, sep=\"\\t\", quoting=3)\n",
        "review_df.head(3)"
      ]
    },
    {
      "cell_type": "code",
      "execution_count": 16,
      "metadata": {
        "id": "_2_4uVuLRK5R",
        "colab": {
          "base_uri": "https://localhost:8080/"
        },
        "outputId": "29e89d97-0c90-4715-ca90-46b7470a47f8"
      },
      "outputs": [
        {
          "output_type": "stream",
          "name": "stdout",
          "text": [
            "\"With all this stuff going down at the moment with MJ i've started listening to his music, watching the odd documentary here and there, watched The Wiz and watched Moonwalker again. Maybe i just want to get a certain insight into this guy who i thought was really cool in the eighties just to maybe make up my mind whether he is guilty or innocent. Moonwalker is part biography, part feature film which i remember going to see at the cinema when it was originally released. Some of it has subtle messages about MJ's feeling towards the press and also the obvious message of drugs are bad m'kay.<br /><br />Visually impressive but of course this is all about Michael Jackson so unless you remotely like MJ in anyway then you are going to hate this and find it boring. Some may call MJ an egotist for consenting to the making of this movie BUT MJ and most of his fans would say that he made it for the fans which if true is really nice of him.<br /><br />The actual feature film bit when it finally starts is only on for 20 minutes or so excluding the Smooth Criminal sequence and Joe Pesci is convincing as a psychopathic all powerful drug lord. Why he wants MJ dead so bad is beyond me. Because MJ overheard his plans? Nah, Joe Pesci's character ranted that he wanted people to know it is he who is supplying drugs etc so i dunno, maybe he just hates MJ's music.<br /><br />Lots of cool things in this like MJ turning into a car and a robot and the whole Speed Demon sequence. Also, the director must have had the patience of a saint when it came to filming the kiddy Bad sequence as usually directors hate working with one kid let alone a whole bunch of them performing a complex dance scene.<br /><br />Bottom line, this movie is for people who like MJ on one level or another (which i think is most people). If not, then stay away. It does try and give off a wholesome message and ironically MJ's bestest buddy in this movie is a girl! Michael Jackson is truly one of the most talented people ever to grace this planet but is he guilty? Well, with all the attention i've gave this subject....hmmm well i don't know because people can be different behind closed doors, i know this for a fact. He is either an extremely nice but stupid guy or one of the most sickest liars. I hope he is not the latter.\"\n"
          ]
        }
      ],
      "source": [
        "print(review_df['review'][0])"
      ]
    },
    {
      "cell_type": "code",
      "execution_count": 17,
      "metadata": {
        "id": "YsI_MatKRNsk"
      },
      "outputs": [],
      "source": [
        "import re\n",
        "\n",
        "#<br> html 태그는 replace 함수로 공백으로 변환\n",
        "review_df['review'] = review_df['review'].str.replace('<br />', ' ')\n",
        "\n",
        "#파이썬의 정규 표현식 모듈인 re를 이용해 영어 문자열이 아닌 문자는 모두 공백으로 변환\n",
        "review_df['review'] = review_df['review'].apply( lambda x : re.sub(\"[^a-zA—Z]\", \" \", x))"
      ]
    },
    {
      "cell_type": "code",
      "execution_count": 18,
      "metadata": {
        "id": "NMdqfQudRbsc",
        "colab": {
          "base_uri": "https://localhost:8080/"
        },
        "outputId": "bd36df94-33ae-46f0-8b67-3a9c990b5281"
      },
      "outputs": [
        {
          "output_type": "execute_result",
          "data": {
            "text/plain": [
              "((17500, 1), (7500, 1))"
            ]
          },
          "metadata": {},
          "execution_count": 18
        }
      ],
      "source": [
        "from sklearn.model_selection import train_test_split\n",
        "\n",
        "class_df = review_df['sentiment']\n",
        "feature_df = review_df.drop(['id', 'sentiment'], axis=1, inplace=False)\n",
        "\n",
        "X_train, X_test, y_train, y_test= train_test_split(feature_df, class_df, test_size=0.3, random_state=156)\n",
        "X_train.shape, X_test.shape"
      ]
    },
    {
      "cell_type": "code",
      "execution_count": 19,
      "metadata": {
        "id": "QlMKgxqCRj_0",
        "colab": {
          "base_uri": "https://localhost:8080/"
        },
        "outputId": "d61204f5-7ecb-42b2-d98c-706423f0dd1a"
      },
      "outputs": [
        {
          "output_type": "stream",
          "name": "stdout",
          "text": [
            "예측 정확도는 0.8817, ROC-AUC는 0.9483\n"
          ]
        }
      ],
      "source": [
        "from sklearn.feature_extraction.text import CountVectorizer, TfidfVectorizer\n",
        "from sklearn.pipeline import Pipeline\n",
        "from sklearn.linear_model import LogisticRegression\n",
        "from sklearn.metrics import accuracy_score, roc_auc_score\n",
        "\n",
        "#스톱 워드는 English, ngram은 (1, 2)로 설정해 CountVectorization 수행.\n",
        "#LogisticRegression의 C는 10으로 설정.\n",
        "pipeline = Pipeline([\n",
        "    ('cnt_vect', CountVectorizer(stop_words='english', ngram_range=(1, 2) )),\n",
        "    ('lr_clf', LogisticRegression(solver='liblinear', C=10))])\n",
        "\n",
        "#Pipeline 객체를 이용해 fit(), predictO로 학습/예측 수행. predict_j)roba()는 roc_auc 때문에 수행.\n",
        "pipeline.fit(X_train['review'], y_train)\n",
        "pred = pipeline.predict(X_test['review'])\n",
        "pred_probs = pipeline.predict_proba(X_test['review'])[:, 1]\n",
        "print('예측 정확도는 {0:.4f}, ROC-AUC는 {1:.4f}'.format(accuracy_score(y_test, pred), roc_auc_score(y_test, pred_probs)))"
      ]
    },
    {
      "cell_type": "code",
      "execution_count": 20,
      "metadata": {
        "id": "n5h7hkv0RzL2",
        "colab": {
          "base_uri": "https://localhost:8080/"
        },
        "outputId": "30609c29-3c30-4e3a-e13e-6cdf839945d5"
      },
      "outputs": [
        {
          "output_type": "stream",
          "name": "stdout",
          "text": [
            "예측 정확도는 0.8896, ROC-AUC는 0.9578\n"
          ]
        }
      ],
      "source": [
        "#스톱 워드는 english, filtering, ngram은 (1, 2)로 설정해 TF-IDF 벡터화 수행.\n",
        "#LogisticRegression의 C는 10으로 설정.\n",
        "pipeline = Pipeline([\n",
        "    ('tfidf_vect',TfidfVectorizer(stop_words='english', ngram_range=(1, 2) )),\n",
        "    ('lr_clf', LogisticRegression(solver='liblinear', C=10))])\n",
        "\n",
        "pipeline.fit(X_train['review'], y_train)\n",
        "pred = pipeline.predict(X_test['review'])\n",
        "pred_probs = pipeline.predict_proba(X_test['review'])[:, 1]\n",
        "\n",
        "print('예측 정확도는 {0:.4f}, ROC-AUC는 {1:.4f}'.format(accuracy_score(y_test, pred), roc_auc_score(y_test, pred_probs)))"
      ]
    },
    {
      "cell_type": "markdown",
      "metadata": {
        "id": "puTuUic-Sqor"
      },
      "source": [
        "### 비지도학습 기반 감성 분석 소개\n",
        "- Lexicon(감성 사전): 긍정(Positive) 감성 또는 부정 (Negative) 감성의 정도를 의미하는 수치를 가지고 있으며 이를 감성 지수(Polarity score)라고 함.\n",
        "  - 감성 지수: 단어의 위치나 주변 단어, 문맥, POE(Part of Speech) 등을 참고해 결정됨.\n",
        "  - NLTK 패키지\n",
        "    - WordNet 모듈: 시맨틱(문맥상 의미) 분석을 제공하는 어휘 사전, 예측 성능이 좋지 않다는 단점 O\n",
        "  - SentiWordNet, VADER, Pattern\n"
      ]
    },
    {
      "cell_type": "markdown",
      "metadata": {
        "id": "nAIbjWQ2UCqw"
      },
      "source": [
        "### SentiWordNet 을 이용한 감성 분석"
      ]
    },
    {
      "cell_type": "code",
      "execution_count": 21,
      "metadata": {
        "id": "OoZmfEG3UGKT",
        "colab": {
          "base_uri": "https://localhost:8080/"
        },
        "outputId": "6f2767a6-9dd3-47b2-bd45-9248eb04922b"
      },
      "outputs": [
        {
          "output_type": "stream",
          "name": "stderr",
          "text": [
            "[nltk_data] Downloading collection 'all'\n",
            "[nltk_data]    | \n",
            "[nltk_data]    | Downloading package abc to /root/nltk_data...\n",
            "[nltk_data]    |   Unzipping corpora/abc.zip.\n",
            "[nltk_data]    | Downloading package alpino to /root/nltk_data...\n",
            "[nltk_data]    |   Unzipping corpora/alpino.zip.\n",
            "[nltk_data]    | Downloading package averaged_perceptron_tagger to\n",
            "[nltk_data]    |     /root/nltk_data...\n",
            "[nltk_data]    |   Unzipping taggers/averaged_perceptron_tagger.zip.\n",
            "[nltk_data]    | Downloading package averaged_perceptron_tagger_eng to\n",
            "[nltk_data]    |     /root/nltk_data...\n",
            "[nltk_data]    |   Unzipping\n",
            "[nltk_data]    |       taggers/averaged_perceptron_tagger_eng.zip.\n",
            "[nltk_data]    | Downloading package averaged_perceptron_tagger_ru to\n",
            "[nltk_data]    |     /root/nltk_data...\n",
            "[nltk_data]    |   Unzipping\n",
            "[nltk_data]    |       taggers/averaged_perceptron_tagger_ru.zip.\n",
            "[nltk_data]    | Downloading package averaged_perceptron_tagger_rus to\n",
            "[nltk_data]    |     /root/nltk_data...\n",
            "[nltk_data]    |   Unzipping\n",
            "[nltk_data]    |       taggers/averaged_perceptron_tagger_rus.zip.\n",
            "[nltk_data]    | Downloading package basque_grammars to\n",
            "[nltk_data]    |     /root/nltk_data...\n",
            "[nltk_data]    |   Unzipping grammars/basque_grammars.zip.\n",
            "[nltk_data]    | Downloading package bcp47 to /root/nltk_data...\n",
            "[nltk_data]    | Downloading package biocreative_ppi to\n",
            "[nltk_data]    |     /root/nltk_data...\n",
            "[nltk_data]    |   Unzipping corpora/biocreative_ppi.zip.\n",
            "[nltk_data]    | Downloading package bllip_wsj_no_aux to\n",
            "[nltk_data]    |     /root/nltk_data...\n",
            "[nltk_data]    |   Unzipping models/bllip_wsj_no_aux.zip.\n",
            "[nltk_data]    | Downloading package book_grammars to\n",
            "[nltk_data]    |     /root/nltk_data...\n",
            "[nltk_data]    |   Unzipping grammars/book_grammars.zip.\n",
            "[nltk_data]    | Downloading package brown to /root/nltk_data...\n",
            "[nltk_data]    |   Unzipping corpora/brown.zip.\n",
            "[nltk_data]    | Downloading package brown_tei to /root/nltk_data...\n",
            "[nltk_data]    |   Unzipping corpora/brown_tei.zip.\n",
            "[nltk_data]    | Downloading package cess_cat to /root/nltk_data...\n",
            "[nltk_data]    |   Unzipping corpora/cess_cat.zip.\n",
            "[nltk_data]    | Downloading package cess_esp to /root/nltk_data...\n",
            "[nltk_data]    |   Unzipping corpora/cess_esp.zip.\n",
            "[nltk_data]    | Downloading package chat80 to /root/nltk_data...\n",
            "[nltk_data]    |   Unzipping corpora/chat80.zip.\n",
            "[nltk_data]    | Downloading package city_database to\n",
            "[nltk_data]    |     /root/nltk_data...\n",
            "[nltk_data]    |   Unzipping corpora/city_database.zip.\n",
            "[nltk_data]    | Downloading package cmudict to /root/nltk_data...\n",
            "[nltk_data]    |   Unzipping corpora/cmudict.zip.\n",
            "[nltk_data]    | Downloading package comparative_sentences to\n",
            "[nltk_data]    |     /root/nltk_data...\n",
            "[nltk_data]    |   Unzipping corpora/comparative_sentences.zip.\n",
            "[nltk_data]    | Downloading package comtrans to /root/nltk_data...\n",
            "[nltk_data]    | Downloading package conll2000 to /root/nltk_data...\n",
            "[nltk_data]    |   Unzipping corpora/conll2000.zip.\n",
            "[nltk_data]    | Downloading package conll2002 to /root/nltk_data...\n",
            "[nltk_data]    |   Unzipping corpora/conll2002.zip.\n",
            "[nltk_data]    | Downloading package conll2007 to /root/nltk_data...\n",
            "[nltk_data]    | Downloading package crubadan to /root/nltk_data...\n",
            "[nltk_data]    |   Unzipping corpora/crubadan.zip.\n",
            "[nltk_data]    | Downloading package dependency_treebank to\n",
            "[nltk_data]    |     /root/nltk_data...\n",
            "[nltk_data]    |   Unzipping corpora/dependency_treebank.zip.\n",
            "[nltk_data]    | Downloading package dolch to /root/nltk_data...\n",
            "[nltk_data]    |   Unzipping corpora/dolch.zip.\n",
            "[nltk_data]    | Downloading package europarl_raw to\n",
            "[nltk_data]    |     /root/nltk_data...\n",
            "[nltk_data]    |   Unzipping corpora/europarl_raw.zip.\n",
            "[nltk_data]    | Downloading package extended_omw to\n",
            "[nltk_data]    |     /root/nltk_data...\n",
            "[nltk_data]    | Downloading package floresta to /root/nltk_data...\n",
            "[nltk_data]    |   Unzipping corpora/floresta.zip.\n",
            "[nltk_data]    | Downloading package framenet_v15 to\n",
            "[nltk_data]    |     /root/nltk_data...\n",
            "[nltk_data]    |   Unzipping corpora/framenet_v15.zip.\n",
            "[nltk_data]    | Downloading package framenet_v17 to\n",
            "[nltk_data]    |     /root/nltk_data...\n",
            "[nltk_data]    |   Unzipping corpora/framenet_v17.zip.\n",
            "[nltk_data]    | Downloading package gazetteers to /root/nltk_data...\n",
            "[nltk_data]    |   Unzipping corpora/gazetteers.zip.\n",
            "[nltk_data]    | Downloading package genesis to /root/nltk_data...\n",
            "[nltk_data]    |   Unzipping corpora/genesis.zip.\n",
            "[nltk_data]    | Downloading package gutenberg to /root/nltk_data...\n",
            "[nltk_data]    |   Unzipping corpora/gutenberg.zip.\n",
            "[nltk_data]    | Downloading package ieer to /root/nltk_data...\n",
            "[nltk_data]    |   Unzipping corpora/ieer.zip.\n",
            "[nltk_data]    | Downloading package inaugural to /root/nltk_data...\n",
            "[nltk_data]    |   Unzipping corpora/inaugural.zip.\n",
            "[nltk_data]    | Downloading package indian to /root/nltk_data...\n",
            "[nltk_data]    |   Unzipping corpora/indian.zip.\n",
            "[nltk_data]    | Downloading package jeita to /root/nltk_data...\n",
            "[nltk_data]    | Downloading package kimmo to /root/nltk_data...\n",
            "[nltk_data]    |   Unzipping corpora/kimmo.zip.\n",
            "[nltk_data]    | Downloading package knbc to /root/nltk_data...\n",
            "[nltk_data]    | Downloading package large_grammars to\n",
            "[nltk_data]    |     /root/nltk_data...\n",
            "[nltk_data]    |   Unzipping grammars/large_grammars.zip.\n",
            "[nltk_data]    | Downloading package lin_thesaurus to\n",
            "[nltk_data]    |     /root/nltk_data...\n",
            "[nltk_data]    |   Unzipping corpora/lin_thesaurus.zip.\n",
            "[nltk_data]    | Downloading package mac_morpho to /root/nltk_data...\n",
            "[nltk_data]    |   Unzipping corpora/mac_morpho.zip.\n",
            "[nltk_data]    | Downloading package machado to /root/nltk_data...\n",
            "[nltk_data]    | Downloading package masc_tagged to /root/nltk_data...\n",
            "[nltk_data]    | Downloading package maxent_ne_chunker to\n",
            "[nltk_data]    |     /root/nltk_data...\n",
            "[nltk_data]    |   Unzipping chunkers/maxent_ne_chunker.zip.\n",
            "[nltk_data]    | Downloading package maxent_ne_chunker_tab to\n",
            "[nltk_data]    |     /root/nltk_data...\n",
            "[nltk_data]    |   Unzipping chunkers/maxent_ne_chunker_tab.zip.\n",
            "[nltk_data]    | Downloading package maxent_treebank_pos_tagger to\n",
            "[nltk_data]    |     /root/nltk_data...\n",
            "[nltk_data]    |   Unzipping taggers/maxent_treebank_pos_tagger.zip.\n",
            "[nltk_data]    | Downloading package maxent_treebank_pos_tagger_tab to\n",
            "[nltk_data]    |     /root/nltk_data...\n",
            "[nltk_data]    |   Unzipping\n",
            "[nltk_data]    |       taggers/maxent_treebank_pos_tagger_tab.zip.\n",
            "[nltk_data]    | Downloading package moses_sample to\n",
            "[nltk_data]    |     /root/nltk_data...\n",
            "[nltk_data]    |   Unzipping models/moses_sample.zip.\n",
            "[nltk_data]    | Downloading package movie_reviews to\n",
            "[nltk_data]    |     /root/nltk_data...\n",
            "[nltk_data]    |   Unzipping corpora/movie_reviews.zip.\n",
            "[nltk_data]    | Downloading package mte_teip5 to /root/nltk_data...\n",
            "[nltk_data]    |   Unzipping corpora/mte_teip5.zip.\n",
            "[nltk_data]    | Downloading package mwa_ppdb to /root/nltk_data...\n",
            "[nltk_data]    |   Unzipping misc/mwa_ppdb.zip.\n",
            "[nltk_data]    | Downloading package names to /root/nltk_data...\n",
            "[nltk_data]    |   Unzipping corpora/names.zip.\n",
            "[nltk_data]    | Downloading package nombank.1.0 to /root/nltk_data...\n",
            "[nltk_data]    | Downloading package nonbreaking_prefixes to\n",
            "[nltk_data]    |     /root/nltk_data...\n",
            "[nltk_data]    |   Unzipping corpora/nonbreaking_prefixes.zip.\n",
            "[nltk_data]    | Downloading package nps_chat to /root/nltk_data...\n",
            "[nltk_data]    |   Unzipping corpora/nps_chat.zip.\n",
            "[nltk_data]    | Downloading package omw to /root/nltk_data...\n",
            "[nltk_data]    | Downloading package omw-1.4 to /root/nltk_data...\n",
            "[nltk_data]    | Downloading package opinion_lexicon to\n",
            "[nltk_data]    |     /root/nltk_data...\n",
            "[nltk_data]    |   Unzipping corpora/opinion_lexicon.zip.\n",
            "[nltk_data]    | Downloading package panlex_swadesh to\n",
            "[nltk_data]    |     /root/nltk_data...\n",
            "[nltk_data]    | Downloading package paradigms to /root/nltk_data...\n",
            "[nltk_data]    |   Unzipping corpora/paradigms.zip.\n",
            "[nltk_data]    | Downloading package pe08 to /root/nltk_data...\n",
            "[nltk_data]    |   Unzipping corpora/pe08.zip.\n",
            "[nltk_data]    | Downloading package perluniprops to\n",
            "[nltk_data]    |     /root/nltk_data...\n",
            "[nltk_data]    |   Unzipping misc/perluniprops.zip.\n",
            "[nltk_data]    | Downloading package pil to /root/nltk_data...\n",
            "[nltk_data]    |   Unzipping corpora/pil.zip.\n",
            "[nltk_data]    | Downloading package pl196x to /root/nltk_data...\n",
            "[nltk_data]    |   Unzipping corpora/pl196x.zip.\n",
            "[nltk_data]    | Downloading package porter_test to /root/nltk_data...\n",
            "[nltk_data]    |   Unzipping stemmers/porter_test.zip.\n",
            "[nltk_data]    | Downloading package ppattach to /root/nltk_data...\n",
            "[nltk_data]    |   Unzipping corpora/ppattach.zip.\n",
            "[nltk_data]    | Downloading package problem_reports to\n",
            "[nltk_data]    |     /root/nltk_data...\n",
            "[nltk_data]    |   Unzipping corpora/problem_reports.zip.\n",
            "[nltk_data]    | Downloading package product_reviews_1 to\n",
            "[nltk_data]    |     /root/nltk_data...\n",
            "[nltk_data]    |   Unzipping corpora/product_reviews_1.zip.\n",
            "[nltk_data]    | Downloading package product_reviews_2 to\n",
            "[nltk_data]    |     /root/nltk_data...\n",
            "[nltk_data]    |   Unzipping corpora/product_reviews_2.zip.\n",
            "[nltk_data]    | Downloading package propbank to /root/nltk_data...\n",
            "[nltk_data]    | Downloading package pros_cons to /root/nltk_data...\n",
            "[nltk_data]    |   Unzipping corpora/pros_cons.zip.\n",
            "[nltk_data]    | Downloading package ptb to /root/nltk_data...\n",
            "[nltk_data]    |   Unzipping corpora/ptb.zip.\n",
            "[nltk_data]    | Downloading package punkt to /root/nltk_data...\n",
            "[nltk_data]    |   Unzipping tokenizers/punkt.zip.\n",
            "[nltk_data]    | Downloading package punkt_tab to /root/nltk_data...\n",
            "[nltk_data]    |   Unzipping tokenizers/punkt_tab.zip.\n",
            "[nltk_data]    | Downloading package qc to /root/nltk_data...\n",
            "[nltk_data]    |   Unzipping corpora/qc.zip.\n",
            "[nltk_data]    | Downloading package reuters to /root/nltk_data...\n",
            "[nltk_data]    | Downloading package rslp to /root/nltk_data...\n",
            "[nltk_data]    |   Unzipping stemmers/rslp.zip.\n",
            "[nltk_data]    | Downloading package rte to /root/nltk_data...\n",
            "[nltk_data]    |   Unzipping corpora/rte.zip.\n",
            "[nltk_data]    | Downloading package sample_grammars to\n",
            "[nltk_data]    |     /root/nltk_data...\n",
            "[nltk_data]    |   Unzipping grammars/sample_grammars.zip.\n",
            "[nltk_data]    | Downloading package semcor to /root/nltk_data...\n",
            "[nltk_data]    | Downloading package senseval to /root/nltk_data...\n",
            "[nltk_data]    |   Unzipping corpora/senseval.zip.\n",
            "[nltk_data]    | Downloading package sentence_polarity to\n",
            "[nltk_data]    |     /root/nltk_data...\n",
            "[nltk_data]    |   Unzipping corpora/sentence_polarity.zip.\n",
            "[nltk_data]    | Downloading package sentiwordnet to\n",
            "[nltk_data]    |     /root/nltk_data...\n",
            "[nltk_data]    |   Unzipping corpora/sentiwordnet.zip.\n",
            "[nltk_data]    | Downloading package shakespeare to /root/nltk_data...\n",
            "[nltk_data]    |   Unzipping corpora/shakespeare.zip.\n",
            "[nltk_data]    | Downloading package sinica_treebank to\n",
            "[nltk_data]    |     /root/nltk_data...\n",
            "[nltk_data]    |   Unzipping corpora/sinica_treebank.zip.\n",
            "[nltk_data]    | Downloading package smultron to /root/nltk_data...\n",
            "[nltk_data]    |   Unzipping corpora/smultron.zip.\n",
            "[nltk_data]    | Downloading package snowball_data to\n",
            "[nltk_data]    |     /root/nltk_data...\n",
            "[nltk_data]    | Downloading package spanish_grammars to\n",
            "[nltk_data]    |     /root/nltk_data...\n",
            "[nltk_data]    |   Unzipping grammars/spanish_grammars.zip.\n",
            "[nltk_data]    | Downloading package state_union to /root/nltk_data...\n",
            "[nltk_data]    |   Unzipping corpora/state_union.zip.\n",
            "[nltk_data]    | Downloading package stopwords to /root/nltk_data...\n",
            "[nltk_data]    |   Unzipping corpora/stopwords.zip.\n",
            "[nltk_data]    | Downloading package subjectivity to\n",
            "[nltk_data]    |     /root/nltk_data...\n",
            "[nltk_data]    |   Unzipping corpora/subjectivity.zip.\n",
            "[nltk_data]    | Downloading package swadesh to /root/nltk_data...\n",
            "[nltk_data]    |   Unzipping corpora/swadesh.zip.\n",
            "[nltk_data]    | Downloading package switchboard to /root/nltk_data...\n",
            "[nltk_data]    |   Unzipping corpora/switchboard.zip.\n",
            "[nltk_data]    | Downloading package tagsets to /root/nltk_data...\n",
            "[nltk_data]    |   Unzipping help/tagsets.zip.\n",
            "[nltk_data]    | Downloading package tagsets_json to\n",
            "[nltk_data]    |     /root/nltk_data...\n",
            "[nltk_data]    |   Unzipping help/tagsets_json.zip.\n",
            "[nltk_data]    | Downloading package timit to /root/nltk_data...\n",
            "[nltk_data]    |   Unzipping corpora/timit.zip.\n",
            "[nltk_data]    | Downloading package toolbox to /root/nltk_data...\n",
            "[nltk_data]    |   Unzipping corpora/toolbox.zip.\n",
            "[nltk_data]    | Downloading package treebank to /root/nltk_data...\n",
            "[nltk_data]    |   Unzipping corpora/treebank.zip.\n",
            "[nltk_data]    | Downloading package twitter_samples to\n",
            "[nltk_data]    |     /root/nltk_data...\n",
            "[nltk_data]    |   Unzipping corpora/twitter_samples.zip.\n",
            "[nltk_data]    | Downloading package udhr to /root/nltk_data...\n",
            "[nltk_data]    |   Unzipping corpora/udhr.zip.\n",
            "[nltk_data]    | Downloading package udhr2 to /root/nltk_data...\n",
            "[nltk_data]    |   Unzipping corpora/udhr2.zip.\n",
            "[nltk_data]    | Downloading package unicode_samples to\n",
            "[nltk_data]    |     /root/nltk_data...\n",
            "[nltk_data]    |   Unzipping corpora/unicode_samples.zip.\n",
            "[nltk_data]    | Downloading package universal_tagset to\n",
            "[nltk_data]    |     /root/nltk_data...\n",
            "[nltk_data]    |   Unzipping taggers/universal_tagset.zip.\n",
            "[nltk_data]    | Downloading package universal_treebanks_v20 to\n",
            "[nltk_data]    |     /root/nltk_data...\n",
            "[nltk_data]    | Downloading package vader_lexicon to\n",
            "[nltk_data]    |     /root/nltk_data...\n",
            "[nltk_data]    | Downloading package verbnet to /root/nltk_data...\n",
            "[nltk_data]    |   Unzipping corpora/verbnet.zip.\n",
            "[nltk_data]    | Downloading package verbnet3 to /root/nltk_data...\n",
            "[nltk_data]    |   Unzipping corpora/verbnet3.zip.\n",
            "[nltk_data]    | Downloading package webtext to /root/nltk_data...\n",
            "[nltk_data]    |   Unzipping corpora/webtext.zip.\n",
            "[nltk_data]    | Downloading package wmt15_eval to /root/nltk_data...\n",
            "[nltk_data]    |   Unzipping models/wmt15_eval.zip.\n",
            "[nltk_data]    | Downloading package word2vec_sample to\n",
            "[nltk_data]    |     /root/nltk_data...\n",
            "[nltk_data]    |   Unzipping models/word2vec_sample.zip.\n",
            "[nltk_data]    | Downloading package wordnet to /root/nltk_data...\n",
            "[nltk_data]    | Downloading package wordnet2021 to /root/nltk_data...\n",
            "[nltk_data]    | Downloading package wordnet2022 to /root/nltk_data...\n",
            "[nltk_data]    |   Unzipping corpora/wordnet2022.zip.\n",
            "[nltk_data]    | Downloading package wordnet31 to /root/nltk_data...\n",
            "[nltk_data]    | Downloading package wordnet_ic to /root/nltk_data...\n",
            "[nltk_data]    |   Unzipping corpora/wordnet_ic.zip.\n",
            "[nltk_data]    | Downloading package words to /root/nltk_data...\n",
            "[nltk_data]    |   Unzipping corpora/words.zip.\n",
            "[nltk_data]    | Downloading package ycoe to /root/nltk_data...\n",
            "[nltk_data]    |   Unzipping corpora/ycoe.zip.\n",
            "[nltk_data]    | \n",
            "[nltk_data]  Done downloading collection all\n"
          ]
        },
        {
          "output_type": "execute_result",
          "data": {
            "text/plain": [
              "True"
            ]
          },
          "metadata": {},
          "execution_count": 21
        }
      ],
      "source": [
        "import nltk\n",
        "nltk.download('all')"
      ]
    },
    {
      "cell_type": "code",
      "execution_count": 22,
      "metadata": {
        "id": "aMdAVBNQUHPK",
        "colab": {
          "base_uri": "https://localhost:8080/"
        },
        "outputId": "58e4e955-64cd-492d-c418-64bfc377ab01"
      },
      "outputs": [
        {
          "output_type": "stream",
          "name": "stdout",
          "text": [
            "synsets() 반환 type： <class 'list'>\n",
            "synsets() 반환 값 개수 : 18\n",
            "synsets() 반환 값 : [Synset('present.n.01'), Synset('present.n.02'), Synset('present.n.03'), Synset('show.v.01'), Synset('present.v.02'), Synset('stage.v.01'), Synset('present.v.04'), Synset('present.v.05'), Synset('award.v.01'), Synset('give.v.08'), Synset('deliver.v.01'), Synset('introduce.v.01'), Synset('portray.v.04'), Synset('confront.v.03'), Synset('present.v.12'), Synset('salute.v.06'), Synset('present.a.01'), Synset('present.a.02')]\n"
          ]
        }
      ],
      "source": [
        "from nltk.corpus import wordnet as wn\n",
        "term = 'present'\n",
        "\n",
        "#'present'라는 단어로 wordnet의 synsets 생성.\n",
        "synsets = wn.synsets(term)\n",
        "print('synsets() 반환 type：', type(synsets))\n",
        "print('synsets() 반환 값 개수 :',len(synsets))\n",
        "print('synsets() 반환 값 :', synsets)"
      ]
    },
    {
      "cell_type": "markdown",
      "metadata": {
        "id": "0HERa6BFUYer"
      },
      "source": [
        "-> synsets() 호출 시 반환되는 것은 여러 개의 Synset 객체를 가지는 리스트\n",
        "- ‘present.n.01’에서 present는 의미, n은 명사품사, 01은 present가 명사로서 가지는 의미가 여러 가지 있어서 이를 구분하는 인덱스"
      ]
    },
    {
      "cell_type": "code",
      "execution_count": 23,
      "metadata": {
        "id": "FgNTzo5KUhK0",
        "colab": {
          "base_uri": "https://localhost:8080/"
        },
        "outputId": "f40cfeed-1c1a-407e-8d38-24ed850e98a0"
      },
      "outputs": [
        {
          "output_type": "stream",
          "name": "stdout",
          "text": [
            "##### Synset name : present.n.01 #####\n",
            "POS ： noun.time\n",
            "Definition： the period of time that is happening now; any continuous stretch of time including the moment of speech\n",
            "Lemmas: ['present', 'nowadays']\n",
            "##### Synset name : present.n.02 #####\n",
            "POS ： noun.possession\n",
            "Definition： something presented as a gift\n",
            "Lemmas: ['present']\n",
            "##### Synset name : present.n.03 #####\n",
            "POS ： noun.communication\n",
            "Definition： a verb tense that expresses actions or states at the time of speaking\n",
            "Lemmas: ['present', 'present_tense']\n",
            "##### Synset name : show.v.01 #####\n",
            "POS ： verb.perception\n",
            "Definition： give an exhibition of to an interested audience\n",
            "Lemmas: ['show', 'demo', 'exhibit', 'present', 'demonstrate']\n",
            "##### Synset name : present.v.02 #####\n",
            "POS ： verb.communication\n",
            "Definition： bring forward and present to the mind\n",
            "Lemmas: ['present', 'represent', 'lay_out']\n",
            "##### Synset name : stage.v.01 #####\n",
            "POS ： verb.creation\n",
            "Definition： perform (a play), especially on a stage\n",
            "Lemmas: ['stage', 'present', 'represent']\n",
            "##### Synset name : present.v.04 #####\n",
            "POS ： verb.possession\n",
            "Definition： hand over formally\n",
            "Lemmas: ['present', 'submit']\n",
            "##### Synset name : present.v.05 #####\n",
            "POS ： verb.stative\n",
            "Definition： introduce\n",
            "Lemmas: ['present', 'pose']\n",
            "##### Synset name : award.v.01 #####\n",
            "POS ： verb.possession\n",
            "Definition： give, especially as an honor or reward\n",
            "Lemmas: ['award', 'present']\n",
            "##### Synset name : give.v.08 #####\n",
            "POS ： verb.possession\n",
            "Definition： give as a present; make a gift of\n",
            "Lemmas: ['give', 'gift', 'present']\n",
            "##### Synset name : deliver.v.01 #####\n",
            "POS ： verb.communication\n",
            "Definition： deliver (a speech, oration, or idea)\n",
            "Lemmas: ['deliver', 'present']\n",
            "##### Synset name : introduce.v.01 #####\n",
            "POS ： verb.communication\n",
            "Definition： cause to come to know personally\n",
            "Lemmas: ['introduce', 'present', 'acquaint']\n",
            "##### Synset name : portray.v.04 #####\n",
            "POS ： verb.creation\n",
            "Definition： represent abstractly, for example in a painting, drawing, or sculpture\n",
            "Lemmas: ['portray', 'present']\n",
            "##### Synset name : confront.v.03 #####\n",
            "POS ： verb.communication\n",
            "Definition： present somebody with something, usually to accuse or criticize\n",
            "Lemmas: ['confront', 'face', 'present']\n",
            "##### Synset name : present.v.12 #####\n",
            "POS ： verb.communication\n",
            "Definition： formally present a debutante, a representative of a country, etc.\n",
            "Lemmas: ['present']\n",
            "##### Synset name : salute.v.06 #####\n",
            "POS ： verb.communication\n",
            "Definition： recognize with a gesture prescribed by a military regulation; assume a prescribed position\n",
            "Lemmas: ['salute', 'present']\n",
            "##### Synset name : present.a.01 #####\n",
            "POS ： adj.all\n",
            "Definition： temporal sense; intermediate between past and future; now existing or happening or in consideration\n",
            "Lemmas: ['present']\n",
            "##### Synset name : present.a.02 #####\n",
            "POS ： adj.all\n",
            "Definition： being or existing in a specified place\n",
            "Lemmas: ['present']\n"
          ]
        }
      ],
      "source": [
        "for synset in synsets :\n",
        "  print('##### Synset name :', synset.name(), '#####')\n",
        "  print('POS ：', synset.lexname())\n",
        "  print('Definition：', synset.definition())\n",
        "  print('Lemmas:', synset.lemma_names())"
      ]
    },
    {
      "cell_type": "code",
      "execution_count": 24,
      "metadata": {
        "id": "VOPFp6b8UuzH",
        "colab": {
          "base_uri": "https://localhost:8080/",
          "height": 206
        },
        "outputId": "18d04f7b-9ac7-4b9e-cb30-2a669241f776"
      },
      "outputs": [
        {
          "output_type": "execute_result",
          "data": {
            "text/plain": [
              "            tree.n.01  lion.n.01  tiger.n.02  cat.n.01  dog.n.01\n",
              "tree.n.01        1.00       0.07        0.07      0.08      0.12\n",
              "lion.n.01        0.07       1.00        0.33      0.25      0.17\n",
              "tiger.n.02       0.07       0.33        1.00      0.25      0.17\n",
              "cat.n.01         0.08       0.25        0.25      1.00      0.20\n",
              "dog.n.01         0.12       0.17        0.17      0.20      1.00"
            ],
            "text/html": [
              "\n",
              "  <div id=\"df-5f51b689-7f76-40c4-85c3-410dd87655db\" class=\"colab-df-container\">\n",
              "    <div>\n",
              "<style scoped>\n",
              "    .dataframe tbody tr th:only-of-type {\n",
              "        vertical-align: middle;\n",
              "    }\n",
              "\n",
              "    .dataframe tbody tr th {\n",
              "        vertical-align: top;\n",
              "    }\n",
              "\n",
              "    .dataframe thead th {\n",
              "        text-align: right;\n",
              "    }\n",
              "</style>\n",
              "<table border=\"1\" class=\"dataframe\">\n",
              "  <thead>\n",
              "    <tr style=\"text-align: right;\">\n",
              "      <th></th>\n",
              "      <th>tree.n.01</th>\n",
              "      <th>lion.n.01</th>\n",
              "      <th>tiger.n.02</th>\n",
              "      <th>cat.n.01</th>\n",
              "      <th>dog.n.01</th>\n",
              "    </tr>\n",
              "  </thead>\n",
              "  <tbody>\n",
              "    <tr>\n",
              "      <th>tree.n.01</th>\n",
              "      <td>1.00</td>\n",
              "      <td>0.07</td>\n",
              "      <td>0.07</td>\n",
              "      <td>0.08</td>\n",
              "      <td>0.12</td>\n",
              "    </tr>\n",
              "    <tr>\n",
              "      <th>lion.n.01</th>\n",
              "      <td>0.07</td>\n",
              "      <td>1.00</td>\n",
              "      <td>0.33</td>\n",
              "      <td>0.25</td>\n",
              "      <td>0.17</td>\n",
              "    </tr>\n",
              "    <tr>\n",
              "      <th>tiger.n.02</th>\n",
              "      <td>0.07</td>\n",
              "      <td>0.33</td>\n",
              "      <td>1.00</td>\n",
              "      <td>0.25</td>\n",
              "      <td>0.17</td>\n",
              "    </tr>\n",
              "    <tr>\n",
              "      <th>cat.n.01</th>\n",
              "      <td>0.08</td>\n",
              "      <td>0.25</td>\n",
              "      <td>0.25</td>\n",
              "      <td>1.00</td>\n",
              "      <td>0.20</td>\n",
              "    </tr>\n",
              "    <tr>\n",
              "      <th>dog.n.01</th>\n",
              "      <td>0.12</td>\n",
              "      <td>0.17</td>\n",
              "      <td>0.17</td>\n",
              "      <td>0.20</td>\n",
              "      <td>1.00</td>\n",
              "    </tr>\n",
              "  </tbody>\n",
              "</table>\n",
              "</div>\n",
              "    <div class=\"colab-df-buttons\">\n",
              "\n",
              "  <div class=\"colab-df-container\">\n",
              "    <button class=\"colab-df-convert\" onclick=\"convertToInteractive('df-5f51b689-7f76-40c4-85c3-410dd87655db')\"\n",
              "            title=\"Convert this dataframe to an interactive table.\"\n",
              "            style=\"display:none;\">\n",
              "\n",
              "  <svg xmlns=\"http://www.w3.org/2000/svg\" height=\"24px\" viewBox=\"0 -960 960 960\">\n",
              "    <path d=\"M120-120v-720h720v720H120Zm60-500h600v-160H180v160Zm220 220h160v-160H400v160Zm0 220h160v-160H400v160ZM180-400h160v-160H180v160Zm440 0h160v-160H620v160ZM180-180h160v-160H180v160Zm440 0h160v-160H620v160Z\"/>\n",
              "  </svg>\n",
              "    </button>\n",
              "\n",
              "  <style>\n",
              "    .colab-df-container {\n",
              "      display:flex;\n",
              "      gap: 12px;\n",
              "    }\n",
              "\n",
              "    .colab-df-convert {\n",
              "      background-color: #E8F0FE;\n",
              "      border: none;\n",
              "      border-radius: 50%;\n",
              "      cursor: pointer;\n",
              "      display: none;\n",
              "      fill: #1967D2;\n",
              "      height: 32px;\n",
              "      padding: 0 0 0 0;\n",
              "      width: 32px;\n",
              "    }\n",
              "\n",
              "    .colab-df-convert:hover {\n",
              "      background-color: #E2EBFA;\n",
              "      box-shadow: 0px 1px 2px rgba(60, 64, 67, 0.3), 0px 1px 3px 1px rgba(60, 64, 67, 0.15);\n",
              "      fill: #174EA6;\n",
              "    }\n",
              "\n",
              "    .colab-df-buttons div {\n",
              "      margin-bottom: 4px;\n",
              "    }\n",
              "\n",
              "    [theme=dark] .colab-df-convert {\n",
              "      background-color: #3B4455;\n",
              "      fill: #D2E3FC;\n",
              "    }\n",
              "\n",
              "    [theme=dark] .colab-df-convert:hover {\n",
              "      background-color: #434B5C;\n",
              "      box-shadow: 0px 1px 3px 1px rgba(0, 0, 0, 0.15);\n",
              "      filter: drop-shadow(0px 1px 2px rgba(0, 0, 0, 0.3));\n",
              "      fill: #FFFFFF;\n",
              "    }\n",
              "  </style>\n",
              "\n",
              "    <script>\n",
              "      const buttonEl =\n",
              "        document.querySelector('#df-5f51b689-7f76-40c4-85c3-410dd87655db button.colab-df-convert');\n",
              "      buttonEl.style.display =\n",
              "        google.colab.kernel.accessAllowed ? 'block' : 'none';\n",
              "\n",
              "      async function convertToInteractive(key) {\n",
              "        const element = document.querySelector('#df-5f51b689-7f76-40c4-85c3-410dd87655db');\n",
              "        const dataTable =\n",
              "          await google.colab.kernel.invokeFunction('convertToInteractive',\n",
              "                                                    [key], {});\n",
              "        if (!dataTable) return;\n",
              "\n",
              "        const docLinkHtml = 'Like what you see? Visit the ' +\n",
              "          '<a target=\"_blank\" href=https://colab.research.google.com/notebooks/data_table.ipynb>data table notebook</a>'\n",
              "          + ' to learn more about interactive tables.';\n",
              "        element.innerHTML = '';\n",
              "        dataTable['output_type'] = 'display_data';\n",
              "        await google.colab.output.renderOutput(dataTable, element);\n",
              "        const docLink = document.createElement('div');\n",
              "        docLink.innerHTML = docLinkHtml;\n",
              "        element.appendChild(docLink);\n",
              "      }\n",
              "    </script>\n",
              "  </div>\n",
              "\n",
              "\n",
              "<div id=\"df-93bef205-9c13-4556-bcf0-6c4a0b431bad\">\n",
              "  <button class=\"colab-df-quickchart\" onclick=\"quickchart('df-93bef205-9c13-4556-bcf0-6c4a0b431bad')\"\n",
              "            title=\"Suggest charts\"\n",
              "            style=\"display:none;\">\n",
              "\n",
              "<svg xmlns=\"http://www.w3.org/2000/svg\" height=\"24px\"viewBox=\"0 0 24 24\"\n",
              "     width=\"24px\">\n",
              "    <g>\n",
              "        <path d=\"M19 3H5c-1.1 0-2 .9-2 2v14c0 1.1.9 2 2 2h14c1.1 0 2-.9 2-2V5c0-1.1-.9-2-2-2zM9 17H7v-7h2v7zm4 0h-2V7h2v10zm4 0h-2v-4h2v4z\"/>\n",
              "    </g>\n",
              "</svg>\n",
              "  </button>\n",
              "\n",
              "<style>\n",
              "  .colab-df-quickchart {\n",
              "      --bg-color: #E8F0FE;\n",
              "      --fill-color: #1967D2;\n",
              "      --hover-bg-color: #E2EBFA;\n",
              "      --hover-fill-color: #174EA6;\n",
              "      --disabled-fill-color: #AAA;\n",
              "      --disabled-bg-color: #DDD;\n",
              "  }\n",
              "\n",
              "  [theme=dark] .colab-df-quickchart {\n",
              "      --bg-color: #3B4455;\n",
              "      --fill-color: #D2E3FC;\n",
              "      --hover-bg-color: #434B5C;\n",
              "      --hover-fill-color: #FFFFFF;\n",
              "      --disabled-bg-color: #3B4455;\n",
              "      --disabled-fill-color: #666;\n",
              "  }\n",
              "\n",
              "  .colab-df-quickchart {\n",
              "    background-color: var(--bg-color);\n",
              "    border: none;\n",
              "    border-radius: 50%;\n",
              "    cursor: pointer;\n",
              "    display: none;\n",
              "    fill: var(--fill-color);\n",
              "    height: 32px;\n",
              "    padding: 0;\n",
              "    width: 32px;\n",
              "  }\n",
              "\n",
              "  .colab-df-quickchart:hover {\n",
              "    background-color: var(--hover-bg-color);\n",
              "    box-shadow: 0 1px 2px rgba(60, 64, 67, 0.3), 0 1px 3px 1px rgba(60, 64, 67, 0.15);\n",
              "    fill: var(--button-hover-fill-color);\n",
              "  }\n",
              "\n",
              "  .colab-df-quickchart-complete:disabled,\n",
              "  .colab-df-quickchart-complete:disabled:hover {\n",
              "    background-color: var(--disabled-bg-color);\n",
              "    fill: var(--disabled-fill-color);\n",
              "    box-shadow: none;\n",
              "  }\n",
              "\n",
              "  .colab-df-spinner {\n",
              "    border: 2px solid var(--fill-color);\n",
              "    border-color: transparent;\n",
              "    border-bottom-color: var(--fill-color);\n",
              "    animation:\n",
              "      spin 1s steps(1) infinite;\n",
              "  }\n",
              "\n",
              "  @keyframes spin {\n",
              "    0% {\n",
              "      border-color: transparent;\n",
              "      border-bottom-color: var(--fill-color);\n",
              "      border-left-color: var(--fill-color);\n",
              "    }\n",
              "    20% {\n",
              "      border-color: transparent;\n",
              "      border-left-color: var(--fill-color);\n",
              "      border-top-color: var(--fill-color);\n",
              "    }\n",
              "    30% {\n",
              "      border-color: transparent;\n",
              "      border-left-color: var(--fill-color);\n",
              "      border-top-color: var(--fill-color);\n",
              "      border-right-color: var(--fill-color);\n",
              "    }\n",
              "    40% {\n",
              "      border-color: transparent;\n",
              "      border-right-color: var(--fill-color);\n",
              "      border-top-color: var(--fill-color);\n",
              "    }\n",
              "    60% {\n",
              "      border-color: transparent;\n",
              "      border-right-color: var(--fill-color);\n",
              "    }\n",
              "    80% {\n",
              "      border-color: transparent;\n",
              "      border-right-color: var(--fill-color);\n",
              "      border-bottom-color: var(--fill-color);\n",
              "    }\n",
              "    90% {\n",
              "      border-color: transparent;\n",
              "      border-bottom-color: var(--fill-color);\n",
              "    }\n",
              "  }\n",
              "</style>\n",
              "\n",
              "  <script>\n",
              "    async function quickchart(key) {\n",
              "      const quickchartButtonEl =\n",
              "        document.querySelector('#' + key + ' button');\n",
              "      quickchartButtonEl.disabled = true;  // To prevent multiple clicks.\n",
              "      quickchartButtonEl.classList.add('colab-df-spinner');\n",
              "      try {\n",
              "        const charts = await google.colab.kernel.invokeFunction(\n",
              "            'suggestCharts', [key], {});\n",
              "      } catch (error) {\n",
              "        console.error('Error during call to suggestCharts:', error);\n",
              "      }\n",
              "      quickchartButtonEl.classList.remove('colab-df-spinner');\n",
              "      quickchartButtonEl.classList.add('colab-df-quickchart-complete');\n",
              "    }\n",
              "    (() => {\n",
              "      let quickchartButtonEl =\n",
              "        document.querySelector('#df-93bef205-9c13-4556-bcf0-6c4a0b431bad button');\n",
              "      quickchartButtonEl.style.display =\n",
              "        google.colab.kernel.accessAllowed ? 'block' : 'none';\n",
              "    })();\n",
              "  </script>\n",
              "</div>\n",
              "\n",
              "  <div id=\"id_1c843990-7d11-4801-8af0-4761f59700ef\">\n",
              "    <style>\n",
              "      .colab-df-generate {\n",
              "        background-color: #E8F0FE;\n",
              "        border: none;\n",
              "        border-radius: 50%;\n",
              "        cursor: pointer;\n",
              "        display: none;\n",
              "        fill: #1967D2;\n",
              "        height: 32px;\n",
              "        padding: 0 0 0 0;\n",
              "        width: 32px;\n",
              "      }\n",
              "\n",
              "      .colab-df-generate:hover {\n",
              "        background-color: #E2EBFA;\n",
              "        box-shadow: 0px 1px 2px rgba(60, 64, 67, 0.3), 0px 1px 3px 1px rgba(60, 64, 67, 0.15);\n",
              "        fill: #174EA6;\n",
              "      }\n",
              "\n",
              "      [theme=dark] .colab-df-generate {\n",
              "        background-color: #3B4455;\n",
              "        fill: #D2E3FC;\n",
              "      }\n",
              "\n",
              "      [theme=dark] .colab-df-generate:hover {\n",
              "        background-color: #434B5C;\n",
              "        box-shadow: 0px 1px 3px 1px rgba(0, 0, 0, 0.15);\n",
              "        filter: drop-shadow(0px 1px 2px rgba(0, 0, 0, 0.3));\n",
              "        fill: #FFFFFF;\n",
              "      }\n",
              "    </style>\n",
              "    <button class=\"colab-df-generate\" onclick=\"generateWithVariable('similarity_df')\"\n",
              "            title=\"Generate code using this dataframe.\"\n",
              "            style=\"display:none;\">\n",
              "\n",
              "  <svg xmlns=\"http://www.w3.org/2000/svg\" height=\"24px\"viewBox=\"0 0 24 24\"\n",
              "       width=\"24px\">\n",
              "    <path d=\"M7,19H8.4L18.45,9,17,7.55,7,17.6ZM5,21V16.75L18.45,3.32a2,2,0,0,1,2.83,0l1.4,1.43a1.91,1.91,0,0,1,.58,1.4,1.91,1.91,0,0,1-.58,1.4L9.25,21ZM18.45,9,17,7.55Zm-12,3A5.31,5.31,0,0,0,4.9,8.1,5.31,5.31,0,0,0,1,6.5,5.31,5.31,0,0,0,4.9,4.9,5.31,5.31,0,0,0,6.5,1,5.31,5.31,0,0,0,8.1,4.9,5.31,5.31,0,0,0,12,6.5,5.46,5.46,0,0,0,6.5,12Z\"/>\n",
              "  </svg>\n",
              "    </button>\n",
              "    <script>\n",
              "      (() => {\n",
              "      const buttonEl =\n",
              "        document.querySelector('#id_1c843990-7d11-4801-8af0-4761f59700ef button.colab-df-generate');\n",
              "      buttonEl.style.display =\n",
              "        google.colab.kernel.accessAllowed ? 'block' : 'none';\n",
              "\n",
              "      buttonEl.onclick = () => {\n",
              "        google.colab.notebook.generateWithVariable('similarity_df');\n",
              "      }\n",
              "      })();\n",
              "    </script>\n",
              "  </div>\n",
              "\n",
              "    </div>\n",
              "  </div>\n"
            ],
            "application/vnd.google.colaboratory.intrinsic+json": {
              "type": "dataframe",
              "variable_name": "similarity_df",
              "summary": "{\n  \"name\": \"similarity_df\",\n  \"rows\": 5,\n  \"fields\": [\n    {\n      \"column\": \"tree.n.01\",\n      \"properties\": {\n        \"dtype\": \"number\",\n        \"std\": 0.40971941618624813,\n        \"min\": 0.07,\n        \"max\": 1.0,\n        \"num_unique_values\": 4,\n        \"samples\": [\n          0.07,\n          0.12,\n          1.0\n        ],\n        \"semantic_type\": \"\",\n        \"description\": \"\"\n      }\n    },\n    {\n      \"column\": \"lion.n.01\",\n      \"properties\": {\n        \"dtype\": \"number\",\n        \"std\": 0.3683476618630828,\n        \"min\": 0.07,\n        \"max\": 1.0,\n        \"num_unique_values\": 5,\n        \"samples\": [\n          1.0,\n          0.17,\n          0.33\n        ],\n        \"semantic_type\": \"\",\n        \"description\": \"\"\n      }\n    },\n    {\n      \"column\": \"tiger.n.02\",\n      \"properties\": {\n        \"dtype\": \"number\",\n        \"std\": 0.3683476618630828,\n        \"min\": 0.07,\n        \"max\": 1.0,\n        \"num_unique_values\": 5,\n        \"samples\": [\n          0.33,\n          0.17,\n          1.0\n        ],\n        \"semantic_type\": \"\",\n        \"description\": \"\"\n      }\n    },\n    {\n      \"column\": \"cat.n.01\",\n      \"properties\": {\n        \"dtype\": \"number\",\n        \"std\": 0.36664696916789047,\n        \"min\": 0.08,\n        \"max\": 1.0,\n        \"num_unique_values\": 4,\n        \"samples\": [\n          0.25,\n          0.2,\n          0.08\n        ],\n        \"semantic_type\": \"\",\n        \"description\": \"\"\n      }\n    },\n    {\n      \"column\": \"dog.n.01\",\n      \"properties\": {\n        \"dtype\": \"number\",\n        \"std\": 0.3745263675630862,\n        \"min\": 0.12,\n        \"max\": 1.0,\n        \"num_unique_values\": 4,\n        \"samples\": [\n          0.17,\n          1.0,\n          0.12\n        ],\n        \"semantic_type\": \"\",\n        \"description\": \"\"\n      }\n    }\n  ]\n}"
            }
          },
          "metadata": {},
          "execution_count": 24
        }
      ],
      "source": [
        "#synset 객체를 단어별로 생성합니다.\n",
        "tree = wn.synset('tree.n.01')\n",
        "lion = wn.synset('lion.n.01')\n",
        "tiger = wn.synset('tiger.n.02')\n",
        "cat = wn.synset('cat.n.01')\n",
        "dog = wn.synset('dog.n.01')\n",
        "\n",
        "entities = [tree, lion, tiger, cat, dog]\n",
        "similarities = []\n",
        "entity_names = [entity.name().split(',')[0] for entity in entities]\n",
        "\n",
        "#단어별 synset을 반복하면서 다른 단어의 synset과 유사도를 측정합니다.\n",
        "for entity in entities:\n",
        "    similarity = [round(entity.path_similarity(compared_entity), 2)\n",
        "                  for compared_entity in entities]\n",
        "    similarities.append(similarity)\n",
        "\n",
        "#개별 단어별 synset과 다른 단어의 synset과의 유사도를 DataFrame 형태로 저장합니다.\n",
        "similarity_df = pd.DataFrame(similarities, columns=entity_names, index=entity_names)\n",
        "similarity_df"
      ]
    },
    {
      "cell_type": "code",
      "execution_count": 25,
      "metadata": {
        "id": "EILHH1Q9VRhb",
        "colab": {
          "base_uri": "https://localhost:8080/"
        },
        "outputId": "6f55b2f2-7230-4e54-f6e2-4cdb9df161ac"
      },
      "outputs": [
        {
          "output_type": "stream",
          "name": "stdout",
          "text": [
            "senti_synsets() 반환 type ： <class 'list'>\n",
            "senti_synsets() 반환 값 개수 : 11\n",
            "senti_synsets() 반환 값 : [SentiSynset('decelerate.v.01'), SentiSynset('slow.v.02'), SentiSynset('slow.v.03'), SentiSynset('slow.a.01'), SentiSynset('slow.a.02'), SentiSynset('dense.s.04'), SentiSynset('slow.a.04'), SentiSynset('boring.s.01'), SentiSynset('dull.s.08'), SentiSynset('slowly.r.01'), SentiSynset('behind.r.03')]\n"
          ]
        }
      ],
      "source": [
        "import nltk\n",
        "from nltk.corpus import sentiwordnet as swn\n",
        "\n",
        "senti_synsets = list(swn.senti_synsets('slow'))\n",
        "print('senti_synsets() 반환 type ：', type(senti_synsets))\n",
        "print('senti_synsets() 반환 값 개수 :', len(senti_synsets))\n",
        "print('senti_synsets() 반환 값 :', senti_synsets)"
      ]
    },
    {
      "cell_type": "code",
      "execution_count": 26,
      "metadata": {
        "id": "-_au3qLvVbRm",
        "colab": {
          "base_uri": "https://localhost:8080/"
        },
        "outputId": "18fbc74e-2cec-4f84-ce9a-edfd67a63978"
      },
      "outputs": [
        {
          "output_type": "stream",
          "name": "stdout",
          "text": [
            "father 긍정감성 지수: 0.0\n",
            "fat her 부정감성 지수: 0.0\n",
            "father 객관성 지수: 1.0\n",
            "\n",
            "\n",
            "fabulous 긍정감성 지수: 0.875\n",
            "fabulous 부정감성 지수: 0.125\n"
          ]
        }
      ],
      "source": [
        "import nltk\n",
        "from nltk.corpus import sentiwordnet as swn\n",
        "\n",
        "father = swn.senti_synset('father.n.01')\n",
        "\n",
        "print('father 긍정감성 지수:', father.pos_score())\n",
        "print ('fat her 부정감성 지수:', father. neg_score ())\n",
        "print('father 객관성 지수:', father.obj_score())\n",
        "print('\\n')\n",
        "fabulous = swn.senti_synset('fabulous.a.01')\n",
        "print('fabulous 긍정감성 지수:', fabulous.pos_score())\n",
        "print('fabulous 부정감성 지수:', fabulous.neg_score())"
      ]
    },
    {
      "cell_type": "markdown",
      "metadata": {
        "id": "MpydWMZvVs5y"
      },
      "source": [
        "### SentiWordNet을 이용한 영화 감상평 감성 분석\n",
        "\n",
        "1. 문서(Document)를 문장(Sentence) 단위로 분해\n",
        "2. 다시 문장을 단어(Word) 단위로 토큰화하고 품사 태깅\n",
        "3.품사 태깅된 단어 기반으로 synset 객체와 senti_synset 객체를 생성\n",
        "4. senti_synset 객체에서 긍정 감성/부정 감성 지수를 구하고 이를 모두 합산해 특정 임계치 값 이상일 때 긍정 감성으로, 그렇지 않을 때는 부정 감성으로 결정"
      ]
    },
    {
      "cell_type": "code",
      "execution_count": 27,
      "metadata": {
        "id": "95Xy_cjTVdbN"
      },
      "outputs": [],
      "source": [
        "from nltk.corpus import wordnet as wn\n",
        "\n",
        "# 간단한 NTLK PennTreebank Tag를 기반으로 WordNet 기반의 품사 Tag로 변환\n",
        "def penn_to_wn(tag):\n",
        "    if tag.startswith('3'):\n",
        "      return wn.ADJ\n",
        "    elif tag.startswith('N'):\n",
        "      return wn.NOUN\n",
        "    elif tag.startswith('R'):\n",
        "      return wn.ADV\n",
        "    elif tag.startswith('V'):\n",
        "       return wn.VERB"
      ]
    },
    {
      "cell_type": "code",
      "execution_count": 28,
      "metadata": {
        "id": "Xi292Cb-WE8U"
      },
      "outputs": [],
      "source": [
        "from nltk.stem import WordNetLemmatizer\n",
        "from nltk.corpus import sentiwordnet as swn\n",
        "from nltk import sent_tokenize, word_tokenize, pos_tag\n",
        "\n",
        "def swn_polarity(text):\n",
        "#감성 지수 초기화\n",
        "    sentiment = 0.0\n",
        "    tokens_count = 0\n",
        "\n",
        "    lemmatizer = WordNetLemmatizer()\n",
        "    raw_sentences = sent_tokenize(text)\n",
        "    #분해된 문장별로 단어 토큰 -> 품사 태깅 후에 SentiSynset 생성 -> 감성 지수 합산\n",
        "    for raw_sentence in raw_sentences:\n",
        "        #NTLK 기반의 품사 태깅 문장 추출\n",
        "        tagged_sentence = pos_tag(word_tokenize(raw_sentence))\n",
        "        for word, tag in tagged_sentence:\n",
        "\n",
        "            #WordNet 기반 품사 태깅과 어근 추출\n",
        "            wn_tag = penn_to_wn(tag)\n",
        "            if wn_tag not in (wn.NOUN, wn.ADJ, wn.ADV):\n",
        "              continue\n",
        "            lemma = lemmatizer.lemmatize(word, pos=wn_tag)\n",
        "            if not lemma:\n",
        "              continue\n",
        "              #어근을 추출한 단어와 WordNet 기반 품사 태깅을 입력해 Synset 객체를 생성.\n",
        "              synsets = wn.synsets(lemma, pos=wn_tag)\n",
        "              if not synsets:\n",
        "                continue\n",
        "              #sentiwordnet의 감성 단어 분석으로 감성 synset 추출\n",
        "              #모든 단어에 대해 긍정 감성 지수는 +로 부정 감성 지수는 -로 합산해 감성 지수 계산.\n",
        "              synset = synsets[0]\n",
        "              swn_synset = swn.senti_synset(synset.name())\n",
        "              sentiment += (swn_synset.pos_score() - swn_synset.neg_score())\n",
        "              tokens_count += 1\n",
        "            if not tokens_count:\n",
        "              return 0\n",
        "\n",
        "            #총 score가 0 이상일 경우 긍정(Positive) 1, 그렇지 않을 경우 부정(Negative) 0 반환\n",
        "            if sentiment >= 0 :\n",
        "              return 1\n",
        "            return 0"
      ]
    },
    {
      "cell_type": "code",
      "execution_count": 29,
      "metadata": {
        "id": "2gF_7gSmXeE7"
      },
      "outputs": [],
      "source": [
        "review_df['preds'] = review_df['review'].apply( lambda x : swn_polarity(x) )\n",
        "y_target = review_df['sentiment'].values\n",
        "preds = review_df['preds'].values"
      ]
    },
    {
      "cell_type": "code",
      "execution_count": 30,
      "metadata": {
        "id": "Ww4iJM4vXqzv",
        "colab": {
          "base_uri": "https://localhost:8080/"
        },
        "outputId": "a9f50ff5-32c0-40ef-e7a0-d1a527d1d23d"
      },
      "outputs": [
        {
          "output_type": "stream",
          "name": "stdout",
          "text": [
            "[[12500     0]\n",
            " [12500     0]]\n",
            "정확도: 0.5\n",
            "정밀도: 0.0\n",
            "재현율: 0.0\n"
          ]
        }
      ],
      "source": [
        "from sklearn.metrics import accuracy_score, confusion_matrix, precision_score\n",
        "from sklearn.metrics import recall_score, f1_score, roc_auc_score\n",
        "import numpy as np\n",
        "\n",
        "print(confusion_matrix(y_target, preds))\n",
        "print(\"정확도:\", np.round(accuracy_score(y_target, preds), 4))\n",
        "print(\"정밀도:\", np.round(precision_score(y_target, preds), 4))\n",
        "print(\"재현율:\", np.round(recall_score(y_target, preds), 4))"
      ]
    },
    {
      "cell_type": "markdown",
      "metadata": {
        "id": "Az6n5qcbXz0l"
      },
      "source": [
        "### VADER 를이용한 감성분석\n",
        "-  SentimentlntensityAnalyzer 클래스\n"
      ]
    },
    {
      "cell_type": "code",
      "execution_count": 31,
      "metadata": {
        "id": "Bl-kb5IGtcr7",
        "colab": {
          "base_uri": "https://localhost:8080/"
        },
        "outputId": "d9f6d42e-138f-43b2-a51a-5c9585bd0c6b"
      },
      "outputs": [
        {
          "output_type": "stream",
          "name": "stdout",
          "text": [
            "Collecting vaderSentiment\n",
            "  Downloading vaderSentiment-3.3.2-py2.py3-none-any.whl.metadata (572 bytes)\n",
            "Requirement already satisfied: requests in /usr/local/lib/python3.10/dist-packages (from vaderSentiment) (2.32.3)\n",
            "Requirement already satisfied: charset-normalizer<4,>=2 in /usr/local/lib/python3.10/dist-packages (from requests->vaderSentiment) (3.3.2)\n",
            "Requirement already satisfied: idna<4,>=2.5 in /usr/local/lib/python3.10/dist-packages (from requests->vaderSentiment) (3.10)\n",
            "Requirement already satisfied: urllib3<3,>=1.21.1 in /usr/local/lib/python3.10/dist-packages (from requests->vaderSentiment) (2.2.3)\n",
            "Requirement already satisfied: certifi>=2017.4.17 in /usr/local/lib/python3.10/dist-packages (from requests->vaderSentiment) (2024.8.30)\n",
            "Downloading vaderSentiment-3.3.2-py2.py3-none-any.whl (125 kB)\n",
            "\u001b[2K   \u001b[90m━━━━━━━━━━━━━━━━━━━━━━━━━━━━━━━━━━━━━━━━\u001b[0m \u001b[32m126.0/126.0 kB\u001b[0m \u001b[31m2.4 MB/s\u001b[0m eta \u001b[36m0:00:00\u001b[0m\n",
            "\u001b[?25hInstalling collected packages: vaderSentiment\n",
            "Successfully installed vaderSentiment-3.3.2\n"
          ]
        }
      ],
      "source": [
        "#from nltk.sentiment.vader import SentimentlntensityAnalyzer 코드 오류로 인해 install 코드 추가\n",
        "!pip install vaderSentiment"
      ]
    },
    {
      "cell_type": "code",
      "execution_count": 32,
      "metadata": {
        "id": "Vv3N3-KPX6hH",
        "colab": {
          "base_uri": "https://localhost:8080/"
        },
        "outputId": "dedbc432-2707-4034-8b48-4b8e7f52f98f"
      },
      "outputs": [
        {
          "output_type": "stream",
          "name": "stdout",
          "text": [
            "{'neg': 0.11, 'neu': 0.769, 'pos': 0.121, 'compound': -0.0327}\n"
          ]
        }
      ],
      "source": [
        "from vaderSentiment.vaderSentiment import SentimentIntensityAnalyzer\n",
        "\n",
        "senti_analyzer = SentimentIntensityAnalyzer()\n",
        "senti_scores = senti_analyzer.polarity_scores(review_df['review'][0])\n",
        "print(senti_scores)"
      ]
    },
    {
      "cell_type": "code",
      "execution_count": 33,
      "metadata": {
        "id": "Xm3j4BZWYEFi",
        "colab": {
          "base_uri": "https://localhost:8080/"
        },
        "outputId": "30f22f9e-c6bd-4ec4-87d5-d3b995e20fc1"
      },
      "outputs": [
        {
          "output_type": "stream",
          "name": "stdout",
          "text": [
            "[[ 6657  5843]\n",
            " [ 1818 10682]]\n",
            "정확도: 0.6936\n"
          ]
        }
      ],
      "source": [
        "def vader_polarity(review, threshold=0.1):\n",
        "    analyzer = SentimentIntensityAnalyzer()\n",
        "    scores = analyzer.polarity_scores(review)\n",
        "\n",
        "    #compound 값에 기반해 threshold 입력값보다 크면 1, 그렇지 않으면 0을 반환\n",
        "    agg_score = scores['compound']\n",
        "    final_sentiment = 1 if agg_score >= threshold else 0\n",
        "    return final_sentiment\n",
        "\n",
        "#apply lambda 식을 이용해 레코드별로 vader_polarity( )를 수행하고 결과를 'vader_preds'에 저장\n",
        "review_df['vader_preds'] = review_df['review'].apply( lambda x : vader_polarity(x, 0.1) )\n",
        "y_target = review_df['sentiment'].values\n",
        "vader_preds = review_df['vader_preds'].values\n",
        "\n",
        "print(confusion_matrix(y_target, vader_preds))\n",
        "print(\"정확도:\", np.round(accuracy_score(y_target, vader_preds),4))"
      ]
    },
    {
      "cell_type": "markdown",
      "metadata": {
        "id": "9ogcpRIpYuM2"
      },
      "source": [
        "-> 정확도가 SentiWordNet보다 향상됐고, 특히 재현율은 약 85.14%로 매우 크게 향상됨.\n",
        "\n",
        "\n",
        "![화면 캡처 2024-09-29 150645.png](data:image/png;base64,iVBORw0KGgoAAAANSUhEUgAAAgMAAAB1CAYAAADTP+KiAAAAAXNSR0IArs4c6QAAAARnQU1BAACxjwv8YQUAAAAJcEhZcwAAEnQAABJ0Ad5mH3gAAP+lSURBVHhe7J0HgCVFtffPhtmdzXnZJYMSJYuggooiEhQUUERRBBEkmH1iFkQEFVAEMSGC+pQoguRoliwgGckZNqeZ2Z3Z3e//+5+qe+/MzuKi6Pe993nu9HR31amT61RVd9++A5YKYkXAWPwbwEFj93cbPy/5QgTQYcvZvxxWUKoG9If/75F3+Zz/nu1fTPn+7byex+DL45VNasPE+ntyNdnoqJywa7YrdP4eoQJNen+f94pCLxkbMOBfQD/hxab79+gl3orr1huzN/TV5V8BL5Z9VgieT9kCfXWuaJT/W2V9HlgBNRo4/6zM/Q05K9p//1WwPB89H/wjbf4ZeAGTgT5osu7yGiK06/RvacGyItUjrQ1L0b9a0f6gP/mXJ0df3OeXN7FrG1Ibxy9cx95cm/QSkmbTD5T3xWlCYj8fxt+D2rI/eOHUlg/mU5hVqSuDJp9GjSCPS5MGrIhMxGfvoUclhVAvv/VLrJXjinDrDS9E3tqPKiTuC+f5b4OG4VYMemvX1ycvDPratcKKUlw2JhIq3f8rVn8e5n31BeX/qqzLgRWVCbx/Vu7/l/Rv1efF0K2pXX/wj1MfWPYNgM2yrFRSebDXlsmpN2apaoFan/tG/QB1tnLSKPt/HFJGkgTb80GLTRoTKO1XcM7VhBXFT3maMqWM2b51A+oeaC1fMWjaIPeNTbr1HaxeFDAj0W0oV3m07pt8QWvd/j4027aC2xcCveg02Lbybd3X4xWF3nT6b93EqXo1Zeq/xTKwgmgvGlR+L4BvU69s1MwvddP/2oeaRf1Cq43qcT3vDa1EKtHl9e9mv2qN9marfweIy3IYtepboX89XiA0+MH7n9MSeV4UmVYAlsfrn9Pgn4e/q//zCkjl8yE062uMPh92X2hcGei/UZNcqxLZQCWNQg7oLL2xIF07MHUDBrbWryCoORTc8oU2d8PlN7K5UjxDovbFLwgVb4VkSORl+45s8DzyNKG1YZM/R83mHLjEZwm1DKj7Vqi4rXWUtdJYHvSml2f6z58UNZWGcH3oqTzjIPFLUQEd+LgUlPqyE9QGDQxBs7YJqnVxE8vQ57QBrc5ZLk7ZG0AqBbTVhLY3UF8ItfrYaNkxE+pRC70KblZ7Ue96KLi8T5PGeStPQSuXZUGl/VckLBu4gudrsCJQaPZLphYWOzX4L6uFrUNxH337h+XxbPJrQMuhodGmBVdyNdBczD/KW8+b0MC1PqrzX/Vvbde7TTZqjZcmtJaaTmnaituH2jLQyMdu/HewrW9vSar0/dq/Rc/e0JtGA4zeB9mohU7d18P814Rl+PQHvZEQcRnR+y18sSAt2LBbXx1aT33cWqA2vcTq07YBpZwdemiznwcss9bvY43e0O9tgmaBjnzSilIEbBS1nBdOeaoPpFuaDqyTgVLmJi5K4evx8sBm1R+BXMVOXk06L8Sx/ahu2kDK8zx0zIeDvjhNmqYvGonRxGsVsfX470Mr7dwvX8a0f+96jmv5soHSQr5V3AbY/gI0yuOkl8Kkng2bNvi2ENKhWxql4NEOXMj4rNToHyImvSzlA5ck3VIOrpEpb9bkv95gFDVIu9S2Nf5Kgywsh8mzcawYXrpkSaFdGBosWTms+HnIHtzKpwJHYGZ14V/wB4Lbiz6QHHpR6IvCeWHKoelAkIYFGvroU3VukGmRrz9o2KgFTB6WS3rTq5hNiv3QNhL/WutaWhd5/F//Bg5s+rlCr1M1a/Ctjcr/fkQXbhb28ouO4VPtD47bU1fKEl81DZpZm0eJb/v6uOBSpnbse9kxmyWJAi7Sv8qvglFs7KatKzQx3dDIyfUFQCvPclxp+LjwdBmHhY/3jZMCLYe1zvpXuVvaNviUc/atPukPChUd1EZlp/PaFl7VV0CDf2nCYWVTj9kDjfLGvwIqp8p4BYf6Bm3qTajUCarOFSfrmzGRyJVYhWL51qps4LYubG2icp8WXo19Cyxb0oSWyQC73qi9qhogAYXWKFq2maEZUEqctPH/hNqEiwscVTYNHBgYgZOEpCdcfWxMEnIBt7Pipd6FfQi0QimGb1ItoDYyiPWm3ImnUVmACtqZfHE+QHkBH5aVY3Fng06Dp9u7yMeUN0DnRu9TVs8buODp2Ke1DaAD47TI17Cbi7FR+pECyqoMxnYBBwVKXVoF3KTjY/6ZWSJV25mvGRRynDbOcl/lSOZunu0KSsth0lUsUd/gnwSNlINnHhtqXQGkaqC34FsGHS/RQAZD/TXKwC/FbgMV2i3xiQt6QbZo7g0cVtRaXM7ZZTW66RhGhuRvNP0zXqlqtqn/ElyWQjYnAPobOCjlLVV5QQ9iKqDcMU55RaigU6OV05SGxvzpX541aDPRZzJAo0J+GchWqqh13tPGZ26b9UkDQC4+INknpQL6lpkylwhK83rulm5fKhr7glPpqQj/13kGbQZqcpntE3lQC5/kXfJaK3+B0UtBxklCxWrYubTj3DV2jOp84prCxxT9x1qqSUfHedgAU670DchXDpcDia5/+WegTSXj5oVIyio/67RBlgMjZ2E9BNiVwwRVUm+bt1RQZtoqr/I27ERdkcxVFUFQY6FCbUN5TtihR99OXwHgNGJen+wr5Ux79IMsOjqeW6AXN5Aq6JBxA39XmZqy5BhCqcvgoT4JbTCMXmSAZxGmAchjoB3nxuGg7IFyDH1X6dw2cF2Jr0qngvmAmKfA8icDlk57KLMvWA0U9myLyx4oJCwSQsgQS5b0xEAKobNYTilXB5YuWSyjDBZmOss4AisPLv6qzkAxHKq2qaQMD60i+iAMDpi2NtHO4xahOa1AbKiK5rAy+CD5VJM4aCodymq2QC7K2VcClDeglJem2TbxTLpUGRoHpa40dTlyAqVNA7eWc05dK2AKyhe3VFRZantVVRXgib6+asMJuLVpxRc0Elsp81kpcwfyuU8TF58Ut6SJ8DSeq8FJ80y6ecx/1TAQFDoGqlW5GJ+agooGKVpEtHa+Sq8hAxuk4JXMZQ7FG4X6G1gEMxv9Y7+YGJQsiONyAS0rTiukifQp/HNiOiDjRbjJseCVc0gwfkC/llcwTmlU97UMP9lXaudj/cNXnrwkZrYBXzvkaZ0M+NYcdIS/WGXYjjrXF3zaAembbEv1IOFmIs1a8xHQr8FbIoWqHAMHDnI7oxSa1MOcdpS4CyCW+q75Ch8fmoJdAm/8UBgBqoTOwEGDzNdyq5od5dBFx9qGvMCR/QJ9yw3xolft/IKMvaaO9TameQg8wdEh54OJOYrZQCs+XwZSWQtITNHWPpED2dOeWPYxMi1enLrprLWPWdZ6KlzT0EasobONWep7gduJp+Rt1FOmj3mabwvAxH/ZDubESNLRmQYum6w2S/QGYMKl5BpIY69SDpiV44NK7cjZlT/E4QOk+RNHGwPlEuxSbJb9i6aqpCNU4BDyrUwLO9sJ/NLeqhXIch2ozPQ5LL6qucWgirRJ2oZD19O4tPeew9q+8HSZzgdY3hyvoGva2Akd0UvnAwcTg6KvKnjUiSYAL/oJsQdtxyjV4FFfzJHtMjfQ1LyZdOiTlACOSsMGJL6P1KhZpUOfuigJcW4EB1+iWkGOXcTe5rFyg5QUEDyL1XlLMCxVoctEB3vUJMKkAAWgmYMIyqu88M6ODL7wRMfKCkA1jo4zaISjwlQnk2WbOlmPApW6QWqXnQ1Z5QgZfJDaQWExjlCdjQ0/4dtZLiMB0REzdhFbNUlFx6kLHRo5swCd4ORkg946BqBpHYpOvQKRAhH0xEg2TFribVmyfjAJl0+RtQ6QNWk72PjQxsJBpQSDGfnIeABFHPX0aMImW6SuoiO7LdYevoN1jFyL1TkHD1a5dLD4apy04YfOLQEs/GQvGdUJnOyQ3cdqTNsGHdrqeLD28hWfQP1KSzvqSZrEzhIGdfTUMTo65ga3NfijBzzxN+1gBn/q0YH6pCtPcFza4VPLpTN8jfycgUNb65iFLpfRMVwmXdFa0pO0sQhJr9FHih4+QhlOsa3qjMM5clIHwAeZbBMMoXKdG996KLZkswYpCTtA9RmD6StXIgs2K8dLiqz4xPrYfuZoHMcPx6YBmeJPCqUPRuHQ5bad2qNnwbF8xnDzQhP+aedqQ+Oq3hMF5FI54NiuduGTpBKKoCU6GnzYcWzZLZ9kqvRVlosEtcGW2NpkKIMvMhpTB8hG7Ou80AQZeYkl9hl7WY8VG5NLqOF/nVefDoCf2oCHxNabY9VbVnjQxzmHk86r3m5TbA+eZbLc4kM/1959VJgN2qCozHlDp9WXzl/Wu9qNQ2QUD8noMrVPmQZmHoFfwTOu6mlXhPFGCeWeQKsNLcAlN2MvPowDLhOe8woGFxAT8DBdaCZ1H1ca7KFNtQ59Tu6BUc/iHuWkwW6zWDE9SMeeFEKPj9rbHpYq2wKmz16fpt1KWYqgPTGA7QaYD3KTY8mB0PGkVGXU42+oIUvP4m7Xccy+ygxgBwvk/9ijGfMwTpraK38MHiy9kLPGj3zXo3Kx0Ua75Ak+se0Jk44hb5+aKKAjtWV86xcaiGpbdAeakwH+lwonNhm/u6vLSaStbXAsmD8vhg4daoHnz58fw0eMsBE7OztjyJAhCoIeK2kDEhASdFj7UCVqlIB4luNkCyoDLxT9ESPaY9HChWY/ZEi7B6ahw4ZF96JFNqgTrIywUDjt7e0OlkWLuh24CECCh277sHbRyABmFoasXV0LY9jwEaYFP2Tq7lkkfdps7C7x59g6S0Z3tqID9QvVrk0OxqHIOmToEOMjo52g8s4F82PEmLGyn+TokVyyTybBHGRxErxrUiGBEi0EMbID1QWDNaiBs2jhIvEaatti7zYd05kWLVrogMNNA5FbNu/u7jaPwW3ywRL5QDQZCElKPZJnsHzX3d1j/w5pH0aGMH+Ci7acQ4sERlskoTPTDl3g4aCTDuYvG+ATbJq2QG/5bMTIEEEHMkA9METl3Z1d5omMGWKJUzuzCEWPdAWHuBsovh7I8DH01M4GXSQ6+HFhl3Ckv44lgP3cPmpULLafRQ9ZRa9N+i5R2SLJNXhIm+zYLqayObZTu6Xa4DkAPYlLBgfK4IUM8mOPZG8bOSIWzZsveu22NfGbeGquPT6TctEjvzExIdEvls0HjZRNZDPbW9sSEgw6CfCnkwN8kAH+Q+RnxTm0BqhPdc2cFe3qZ6nzQreHdo/inz6yuBsbK5aGird0pH6IaCC/Y1F6YmPqho4eHV1z59p3Q6RHV0enfQF+Z2eHbdNGP5a8g9RnkIO2AyTLQNmBGBoyYrjtUZMSvAH0J8YBYok+hF3w5YJ581w/YtRo93P3PfSxr9VX5A/3DbXtwefaD1WMEZu5UMgkiL04blMsEIfwI8ahiY0WSDf0Hia7dKqvDpWO9JU5s2bFmLFjbYNO6Uw+WLRQ8SC9hshu3bIT/YQc5v6ADqKLHPS/0bIb+Q6/k/M6VIZ+o8aOsW7kAfJSZ1dnDB82XDQWZa4gxgT08Wob+spw2ZBc47ypfk2ML8SfOibBk2eHI6PoELejRo+JhQsWWB77VbyHDxcf2ZeciD2RnVxW8yXlw4cPE9/BMXfunBipOKSOfDZMsiL/QsXqSOUtaNuWkmOB9EQmaJIn8Q26QQ/++BEf4QNiw10THxbfUE+ewJ4pLnGo3KBxgD1+zlyYAx+4mb8Uk/CUfGriqMIvwBDxIo96UFabodK1R7FIPOBfcAcSz/IFNlwkGoxX5Idu+p6A/On+qHKEZnzAFsiCLgtkA2zKwAwfx5n4LCEeBrC4XWI5sQv0GYPa5Ose+Zxy4i8n6eqLaruIgV17IUa3bEcuxeeehmhPHlmktm3KSR7npMtQ+Zyc0qX+1S5ZFpEzZQx4dokG8Uzf6lrQYX+TH7sUQyPgLTzyHTjAEsURZV4caO+J5wpAv5MBhCOxPfi3+2POzJkeEAj8CePGxrx5cxWkPTF50qToVvlsdbZx48er0dKY6eNxNijBPH782HjmmadjGIlGzpk3l0Af7oF7ngKPZNGuhD1r1uwYoXKCZYGS7rhx4xxgc9TBJ06cYJlmzJgR4ydNcCd47tlnRXu8A4zAGKuOOXv2bDmmx/gLNVh0dHRYxpmzJL90mzp1Sjz55JN2crvkgedodTQCbMaMme6ko5WwZokOBmb299xzz5neoEED1FEWxOTJK3ngmSWbjFKSYEIyfbrkGj/Bzp6viQE8n332GQXgECemuXPmeAAYo45HAiAJThTOtGnT3FnGSIYnJNeYMWM86UCPUSNHxSgNbh0EaTsdvzvmyu4rrbRSzJd9SE6rrLKKbUtHWXnlqWo3h1CLkZJ99uxZ9sE4JcHnpj0XI0VriHWe5YCZMGFiPProo0oSo2L8uPExY/p0HyMPOk+dspKT5zwlpkkrTXIHmD5jmmwx0YkWPVdeeWXLQkdaSXaZjj76TJJu+LZTdho1epSS0VxPCMdKlmcl76hRI9WJB8WMmdNtE+IG247WMTHyzFPPxqrSjU4yS76bOHFSLOhYYNtNWWmK7D3diW/y5MnmzfEqq64qWzznyQvJE3+2y/Z0fnSePGmydXvkkUdiqmzFZG/mzBnWYZ7iukuD4VjZn2TIymAVlc+SDbHz1ClTZJ8Zjifs//jjj8VY9YPxE8bHM08/7VgZpbh55tnnYoRsOHhQm2Jutv2JbF2KxbFjRjupTp8+zbGKPZF9nPrHQtmpQ/ynTJka056b5o4+QXZ++qmnnfiIUWKFJDNFsjz91FPuM8OUjKA3UX1iqSaixDm2gif0xqoPwWeO4mkltUM3YgUcaBD32B/aJD98O1NxDf9h7pOz3CfgNX3adB/j30xW7YqzkeqfcywjSZW4wffmL39h8/nSEfsSBwy+2JB+a7t0dFmfJ598yoPeZOw8Y3raU5MvYpgBeOKECZLxuRii9iS3Z595xvEmd5oefqVP14TOYEdcYn8S6TTFC7p1aCJADBF/xB4rTfpBR+dCT77H65j+hJ9GKDHPnjPbAxEDKXY2T8lD/DFBWKiBhvw0QfpgP/QcJ98ycM5Wn8f+lKMTOsObgQM/z1DssYr3QCtbMGjjGwYjFKO/dijpM7EgVxGHo1WGbZ564knJOkHlQ51v0RGdOR4lWeFJDkFn+i/xNUE5bI5kgv9Y8pAGIvrcyqusbJ+Tu4hp+iqTASZjc+fMdd6ZolzwlHw0Qv4nzqcrDzMpIj9DY5Lshnzojy3IQdiffIsc8IUP+YlETGw/8cQTlnOC9EBPdGcMwc/oiD5PKUbHyJ6OP9kf35IT6Yvoj92mKS6nTp1q/uhG/BEHnYqLScoP8MZP5O1nNWbQt6dOXdkxDx+2xx573LFCvqCvjFDs4XNyxRj1W2LgGcXc6qutZvswWk6aTKw843Gl2ha+qyoP0VcYUhnDwCdmofPYY485Dih/6MGHzAMfPfXUk7HaaqsrPjqk5wz3CfoeV2BXQgfRQB/GJvoVsT5cNnn62adNi7xN3GIb+tmzz6mvivbqa68dE6X3UsWZFzDqu38Pet8mKMDMjQlBl5J+hwKKycAArRZ7lFy4asAsjoRKgBOMng3K0F7JCWDOwN7V2aPZ8kjPwpR7FPQ5O+LCEgPpwkWsrliB5gydAPGMSry51LxIQYJw3FNhVk0CYyN4aM+A5xWRcJnLD5EcJCdUyssrmgVqtbxUG8lIZJVUWYkxBuWlb/ZMInL2TmLRjF716AUNBpRu+IhnXiVIHZkIsbYbqpXVQtlhqIKGwMM2dBT0YdAjWTExahs8RCsyzVwlr4iYHhvB7kt2sp9n3JIJOyAPAyozbwRHv7waoZWS+MILHOij0GD5g2TN5X1kXqDgGiJ52xQMlkWdfKHkGKQkyIyaCRP60p4VCXbmGB/bltJDDKW7ZuWiSaKiHnsxucEP8GP1wMDApIeFNTrQMfEJHYwBiXvVJBPsUK8g1ZUe9mO14RW92vf0ZB1ArOSVDa2SRAffMutPO7NiSD4cYysSLP7FLtCD/lxNQIdp8gltJjH4VYp4FUH3wDboUFc30Kc9vkEOBkfq8zKz4kkDr2NhSMYhyQ9QlTZm8kOFAwutdhRL9JG8hAs3I5k39iOJMSjZ7qIFr8ZVr0KDA8ehyhKPq055tc2xiNG1+fKqsJEd2vQ5eFku6ZF8UgfK8vJkXh1Cb1WihsFX9xTz7AfTv1XHYIrtoEN7/AhU2aGDnYlfbMVEvcYntsUflHOcl2NLHxUM1YDHpJ5JI5dnYYA4HLeJn+PFZfSBtMNi2yFvkVFH/2aAQHcAevBjYCMXIR/+oL5rYadzlqhZRmlhubEpvFh94wvzkQz0GV+CR3HJ1S0fAeQ5y4bDBc6F4smEgLhAJgZ87M8Eebj6A5ND50v6pGSh33I7E54KH9/2wXYE0VL1BRYVUHcfVBm+oL+ycKCfqkXKLB2hCT/7VnJQm/rmyj5tX3RVzPhKkPxM/qNvgWs5pCf0iHs1UEt0TbsPlDDIAI3uxbKpfOc+wJ/4IhtXGYlN+jV4jiX7Qit0nWMfZIEffddXZEWgU7bBH7aHxgZbVbIgD3mFOvq5mFgegAc70dRX/0QPH0CfY8YGX6kVT9OSbbEn9fjXVytKnKMTeJkv8Xmbb9M1cFUHYA76BIsVeKBTpyYCUkA4XEVvs5zITFvrIzwaIgNjZIfitF15r23AIE9EPW4KD5sAlOGwYZoA0YjxBW2tR9GBemTCzsQ2fLnK14OPRatdi4V2TSDSf+lDbFn92R80JgMWtOwd4GK0SJ1mvmbIPQw8JV/kgxAyCMlbBxiOzoBD6fAEBhQpqzNdO7QIxABCGYP94sUEdwY2gQQWlwS5H+dOKhwSBxMEyyRyBBVPSJP8wCXgaGvaKmtwUTtrY+3ScNDDaAR1DXh3aO2tv2UhuWSbgeijE/SgrCZcZEA+Bin0rvzp9GnODGDrhuEa8hTb6rNYHR3TMEnIcvRIHcBHXg90CsRKk2TAnnY5KDBoZ3sKU6csp7MQ4LQgWXNEue+9CWoyd4eHr2iiF7zRF/1IWiQHZM5ALYj6g84gBTM6Oyb0scWFAi4TAHA9KIsONHukY50k2X9qB3igCBJkXoK0zTUJIXkzCcDx+DyTL4lFvJBDgF0tH8+GKJtWu7NxORkZPF7iO9NVopLs2MKeKHXgAyR96DsZmlfGBEQyIdCA//iaSV/acSCTELUdwGVF7GJe0g9zqW3aMOMayVNO4liyih/y4Ce3g4+Qsj8lLvXwHCja8Orp0Zn4M9FFdNcLGXqOIU4owzc6rfpVWvZ1aWPZis85Rr4aCxUX2WrMoTd2xD+c5yVg2Yq+QFvjpL1Sv4w5+GUMSw7tHas6pp6rQra7bERskiBRAwRiEEHxNXqkH2Qf7O2j1CnpiTcf/Cx9kAMdsUlOZJZ44MhFgxtbJraaD8yHvWTHLrZp0RN6poudsKnOkQ++4OifcZAT8u57KqPK5YrjCsjCBMhyC8ETG2QpgiEPdExX9IkHIRgfFOxNHfGCDOhX+zwtyI0pO2JljKNPtwZai84Ipv9JPfNwBXRz3xKj7u60N7Tk+cIj22EnADwPVgiGbJQLzzQkG/ic0/fBo98kX4qZRLcJI+2I/I4TN0kayOaJiuocJ+Qv1QGwZAHkOBaGc7jjHpuhE7Kl3ahDfmxVc6DjuchOzieXVJ8Tm8hO2/ST2JY64oGJAbKhP3QQpvqi4qMltPEtBeQ4FEFu6nzrF3pFRjb4g5Q65OQcgCf5FD3wJXKDY3og6BgdhmoiMWL0GApcZoBhkac/GHSkoBwbpYmGAbt9z2OgkhnlKGSh4QoDOalHCuRpTR4ylD4Z0KLBgxZC5bRucqeUVfIElzI5xcFCpei6Q0pZjJoJk04MucRBBoxQO006XFXa0ilJx4y1sWKrZdw/sRHlGLfWP+6vuB58B3HS8owV5xBkqocvsqGxVzA0L3QJUNoUqi6z1dxGeuK80tGRqjrcm+2YwShs8zEJfWqHT7myDjzs4nLOtTNfHdeOV5MC3SPb5MAEJjvKvDd/FxRddKwyb/BXZfq2tAEP27Ehr5o4gSkOqn7uyGrL/wzqKp98pU4CUIsEyTJ5Z7smMHiCAI6J+VjtLDsUsg7+DT469rlwGmUmAIkkVG2acVYGiVJf6WNHJi80tf8KP1VaD/bgUp8+RC9XJG0OhV/cJmgm3jqZZUYPAdp7EBaiafk86VIGpGzQ0uR4UF7lSlrEVspiPO2RlXbEGIMRmCmjWoCmffUpZY6YhhxJJ3VQnco9yYWbjmtChqfpFcj4z+RrmbVVW8IrJ1cMrFy90wpGcpmn6pC30nIsQckkJI9xSH4M/Ayw4IGf8vu09G/KsBPtSJgSEpF9zKBrWUSjygQt6hsxK1qNySuUVG5dYANN2QckcgJ7y8RmkUQTf9VN50lblIhHcon1RyYsmHxpR/6BXtWNFWddiMAXPRLoX1a3tKOq6KJjx4vP8Sn9x1roAz4RiP84ywGG25/ZT9JnVVfiBtHwGatrIP0LfwIT9olfmiQvNfKVVRUy4WKARm8jafPCRoc1F9HvwPckCImtL9SwnQ6KHU1fdTU2iTHbFXzJzuqf21fIwJiCwh47SiyiC7joyWTEuda2oQ/mcwq+ry5+8Kk8qeDY/UL8sjhtl7GQNsoJbM2zRjHYF7YtNsjnXYivvKqVcQJRmvA8C/phExSgDps7XsAoeDz75OcMJI/lUhvHJjGuzbGkDT48G6QTnxu8L8f9QPPKQPIzUOQrA10dMY970YvzYTDEweAIgGHpfBi9AkLjcAxKokNgDJTGzbZ+Ml+fNIoCzTOeZG7jaLOhZHACkZYe7HE+vIRKgFlGNiG4HQogAXtwCp0GHoX6S4elw/nUYx2kw6FVAKcjsy9d68Ml65qEmFXWgEBIZHQnkm2QpIKTHTw5KfxJIlzGRTc6PmVcegSHGR8ypB7wZPWV7YBMLi0217kFALRD3opvSThWFT6xrnwIsqIHKPBlUCegaYx8GYSFfm2rdhx7EBOA07RHczIDDfNAFwtDezWluYWRjMYVUO8jfFFWM6JJW896VUM5dDxoo3/5lD/jWF7Oi23o9NA2pnziKy+uEagB8cseurUtOmA/1wmbOEcnVq3uaHyKPQDT1DE0TEeDVm1PR/ZkRjwSL/1i/7TYP+1TfcGqk8vcXHFT7KtctWYnaZKXPgMH8u0J6Wb5oZd1jj1ttLedVAYfYoa4cj9CVur1MWHVOzFCG5kdA6DBGTqpaylMHi5Db5caV+SdC4hd9zvTpB34OTExTZX1lNWN44P2hUXaggkItkqbpuyZ6KijPX3PSVsf7EwhdrUO0EEY46JlyVUqq3HQOE8BvfdKVWXYqbaFJsfg1pUYtx9I5lwVQQfTYKMNwmnzwFJk8iS56AOdCrRjoww6lV/KlLRsD8DycFDrErKaOnioTlsdqBig7CvTEZZ9Cw/aSX+xFKog8znB1OAngAby8KAhNk6b+s+8bEP8LN6UmpPKa//zAFXi3Iup4n8P/OKHD9EmJz6UNVfEAwbU1XnGX/UDgJocYlNPZNRfWFiqwLwzP1gd0wKHsmqfVh1tkyovH1XleJZ4llc00M1EVY/stOODvAnpW7MoNkfvuvDxgG205GFCbEUuaFUejgmuHsGvgho5lqxzM4ZgSHxBE38gFwt1fDV0GFcGuE1Q4nkFoDEZsCalkZ0qZ3XNXxDzZ89SAQmOOpVLMZSr92atpv4QlnvCTAbgT1KHZnUGHYj20OKyaQ0Kf50M1qLlWZQUqQpAEzPhFD+tqQ2wk4WP4+CDMYHqQPNVPTIjK3QcKMJxUmFfgjnvUdIEvEzeSQ7sJj4DZQZ+8kEGUCyL+ICdA6IRkmbBBWgPLe4jYpOKm9V5iZgC0y4O55g2BUWAraqcGViVvn1mjhl49RggiOxm0TWei8FKezlw1ak8EGQT46EbtqPjgl1vsfhenDMJvoVu3sumU3PJy4lIH8sv22AfyngGhOAfKjq+9SMb4B/agYuNTEfyuEw9mvrsgMys29JuhXaVExkRnLLsqIL6L9FsA+rBrxNY47dsThrYICv1lwMbFOlsAHHkmNYnV4gYDBuCwwp4sScixB9+qhu0qx1q/MKTtlCwHuoL6Em5jwtNn6udkKzr4sX5bELSY5WQlyshRD+DlvuW9m5vGrDKeIKO/uDqvwpu5wq2artqG2yYyJxT5cusKoM25+7z9nfqhk0gRbtMiFmHH7m/TcxnH0+ayAoxbG5Idg0d2BN3TEaxM+SbA2lO5Cwbsam2HoRs73xOhvaogFzWqehp24MnWnmcdOxfeDgO6rMRLALKMyeUYQPL2KSpnWiUAQ+GOq/8qeQDUAXQznKIb51oW1+Xc1J2tNWGfGwQIN4B+05ldTLgPo/NVY05oacixQeyQYscDNH0DfkQ5NYchxGxM4B+yIEtrJL3S5ULio2sm2i7/wih6MbesooHfdqNBaZPOwkBbeQlJshDAzUZWLSoJ4Zo8YU9uTSO/EC25j/xhI1oj+yFv3jZDsZPX7JhJ2T0gOlclTHqRZn20LAc9DNBvXrH5I92PpYczs3YWiJAgxjxVQE+hU6TXsps/dFXgGzY1OMfHxHyLQVw0KngpR5Zn7FQc3HeSkXX7Os5Qai8JJTHUq4KDNNkACtVmn8PCoV+wFZPYXwkphaQc20pWBo+r0lRrj/26E4zlKENAVLaWQubTo6BPUrI0C5XvdHUxjPJgmna5Zh6DxpyEjJQ5kABWQAmG3UEpo3JRwbzXpVsyAkOpW4Hnoxm/axL5Z5tCYZKo9axWV7OtdU9H5yTAZk4DkSOxRP505bs0RkDClP8m1vqQEIhANCFAQJazOzho+rkqz107IcWOdK9uV+6NJMBdSmzioFynHIUv6pDcJxy1QClXeI4OB3sGfDopYpiU234W39+uEeby12mwK92MH/oqlh6ObBV784m4BgU28K2B7cIzU4bZQxubJYDftpz2ZA9FEgyaetMbPa56FV8CFW9kCd1K3UqQo6EJh40qQOHGPa+btYNPHCybe7gWVYx+KXhB/6V+pLIoUFhykSNJfNxlmS7Wi/G5dwnOhUd7CI7eDNdJQnVemUrO5iS/5IOdmFLyORc+48Jl819GTyfV2zxZ4+fJL9aOcar7ahP++hYnQ+a1V6JUHQv+nuwhqbwqlzOI97oz26SNHRsW+vYAwmxQD+FJlvxpfUULr5nz8TF/VBtq+3Mx3rBgzKdg+P+wASBxUHKCF7tl9ZDzcxTdkYcCjhm4uMJGCWmm/vUKe0AS+h48sIJdLRxnPK4ee7rufbGVzs1cK5JXcmF2LbYs8Wm3iM7fjHNtDMyVV6Qdx/WxrHpQJMmjXJt4k2ZyDbOocQ3qHiOCb3qVvWlrRu0bOanrb9+rOKs1x5dOc5m0BWefAmkTMhTYsOlFWiQR+CQZ/KqSdKri8K0UW5Zlht8wIM856bj/wJV4GNf3S05BV7gg2WZBJaXvc8yBnuYCMt3HFNj/6CTCaiIzXrKRrZdXllh0p/2JnaQKe1VwTqW2LZhXwC0PDMggk2aYrY4ehYu9BO62YHLIIFg4oHCNaCNnwVFOZ1LGOpBTsNnIyuhgcmdhkEKZcV4qZSyAE6S0KI2aUGHI+OpzisNbRjOMzzKtaUOiWkcCwqFYjQGyJYySVMO6pHq4e+ysrkMWnnMYOoOIvlTVuoJXB1DW/wdVI1g1n9ktdPQJQk3Oge8KVKZZZT98tIUuHnpzCK4DeThzwomVUEGHsRMugRjCV6V28aSLeUsqqMHMoOLzPqfkPZMn+ZVjN4AjZS1Ds4ZqC26mIJAx+jKceW7pCfjwSsQzovMBG1OjmifnZMBBTmTpGi6kwlfhdaNjw7gX23GuVem4koChLnlUrl9IMh92sUd12XeWSak98c2TPmor7g+t642ohrkoAmSO6TPGTjARl72NamLjgarnIxhGcor/+SLXOwpcxsQElVlVQ/40AYO4ouq0r+hJ9X0QdstbVmBJ9K9mhcSyQcgIaEDyZZYy/7U5Id9Acuic27vYA/0rasZA41ULu2tV9qO+pTH9hESIlKO7HWPv+xzYcAzBzjqc+Lf4OEyYqCWpd1roszVba2pkHpmmf5b7sW+LVBtZim0x/Zm6vO0TbZ0jW1WY4HyOmnO+Cz2tjxQBCjLPgKeKVEvup5IwETn6JMJPOnR98BzPFv8qkOho2YcQ4c9uObTQG1wzzptgGNPsqTfYE3rhKoHVuDqXEK2E6L9aX40KPkEyxFT5FX3Q3243cnVE9oA1r3QsZ20sU/JoUFFxr7zGAVuKzmIyUTIPqfy1AVZrZ0nCskDNEoKlANjuY3wbDszcFnGJc3y3BPFFEDn5CDwC33t3Rfou6X/NmkxiShtKKK0HFeejc2VeauMfcaTStWeescEFbDIf6Vdysfk3rFDCW2SIs0LDagJr21wDOVbVJYr6fSGwqcFmrcJWgAGvHChc97cmD9rtoRQACnJcbnGBGQMieZj9gxelSEGhgJJh9U9syaCncCunOoT45wuwb7aY2gopsF14A6fkEkq6aexCucyYPlSnfjbsHYoCVv8tM8ZnrDVzJeHoK8TjCoSSdsO4fJRjxMKsnWr3GC2dAI6KU+9w6d8xREc5CkGJ2CdMCSrduoUi6yKnVblFn8uGYLbSCamKf1bZvGUEzBsviwkHEg44emYzUkcu9JRxKk+JV95sSrBXvDyxEJ716m51fK/3LHiQSdsQALmnmgm9KTlBMextjpRQG7LyaU0/OeVL7pItsX5MpclihVeNsQgSUwM5QEYX95KX6IfMcNXGfnutHURLZ7TsOzSsa2NRMElVzoPgxV8kYd7jqkzl1f5yiH24+VQ2BCZtXM9G3XIix3sZ33QFZyEPOA/OOnPfPAHwNa5z0uH0LT8pp30s4346RjnIyPAHt6WRbh8jABYxnoAXtq68oMuQNuETDTJV2eKt5rAKat9BDAnaEpPZKvPUjjGVE/fIdlRx1bfG1B9jf4NWbSnjjiBBu8L8FeZoKf44WtPHV35tb3B6ne8whfJIQVf88P3pY2Btv5KYeaXgYoXBp2csMm32NmIGeNpi6IfbXVOnNKvoImszizeCzjko3P7RDjYJ/tM2gYd0QubAPQVIalN+j99kr7jmPa2h/HhybeC8hYadY5/902uXqbdat82TulXbLS3vSUPMUd99nH46Fwf6JmxoMrBhr3AsZ4CFTm2QHUM8qGZ+WiHn2VfcbBcfrhbrTNfIUdOVv3VSZ3bHoWW5XNfSflo0714kXMYug8dzFd1B/or1/5aq+jyNUe+JofM4FlP1fiFasQJdref8eHi/PaPqJAf/fU96SeFXO+XaCET7oeKRUvbsxjL/gctFFZR0TnPWiHLAY6ox2fQAujPCUk7faZTTrRv+rDkVGJVvuXdCOiNjcnDzi9qAz33O4+D+FxkRIcy6CADcVYh/VD8bx65MEvcbF/bogFxiH/gl/EtW4gX3yZoHznaPIHEbwXKe5f1PxlQEW8z616wIDrmzHbQ8MrFvL+Oy2UQJX4YMAAYX4bBoIuF5w4sp+T9FgYDvgoFDTo5g2EGv0h5hiNtHBimrTI7VA72JU0FAd/ThAaGtnFlPIxbE5V1kiy8DwDH8j1VKNfJCzydWITKAzHg8yQtMoJvC+uPCn9dTh86LMLYXQPSWYMG5GQAPGzbNJ1O9IeTIIRd2DiHFvQ9ABHkJFKwVOZ6VTsRwYt2pmAE78EzR+yjemwAgEtbJlyJmWU1kDKxmIzLDdqZB231cVvolzImdXRakrEffkmygpQq5VWhNttUMmVizIDloTbaq0q0aKE6ZJRfocC3UkRcdueJ3iK1+DpGsAv0Vc9zFdSzku7u4V0LIiZ/Ej+SkkaWg0+diNIp2ChnEPJkBlmFU5N8BXyL/K5FF+nhiZnKoQWYvhBStrYsQz7tsYOTgo794JkOMsbS571pJC+QPRkFz74EgT//a+DAkwL87Xvj2EslxGrGCbZwiWk7qAVO1NpT71gRQNtS5l9DHiDx0m7IbN/qUwc1l3swSjxVWX8oOVbV3u/MUIVjTnLw5jVVuu3QIdJzCZPL7BOsVKCDT5DBJG1H6UFb0WIQUC/1E+HoAy3C3bLrwx58ZK+6VFsDHNVztLSu+rNvdYwfmxOxxAFqO38a5HhQdlGJFcqRM2marnHZ0h81oWdZpY986X+VWo46oKYfaywSNyWHFt8BtmsRssFXf55YCC8H9CqPeKlp8m+RgyZMGMCziPizPo2Pz5EHORisyaksVHLSxoDv18gjI0hw0TEvnfM7JTQuDBmqPtrV7THB+Zk+SDhIPzThNdMMkkz2+boxscHL5iyyAF9X3ZjYk9/J20wkOnl4cVC+g0aiwEF0GBjVkM261ZME27aBAFT7UEcp5ZnLWvuq7aUPOQYZOeadI7RgoUTcQAds/FjbYn/4sWBgckwZizAAfPCA6m9LgjzmJ0Am6Mh22hmBnIJvKHfssLkyoT6nQu4zQWiwgw7nipuhw0b4DZOubmlbJCjQWq4zCZy1hSg7JwECt7NTk4E5Tsg4nnJ6BA7wTESOJDCc5CQAzuRlNryQhUkCL1zhxQnMAhfJoe3tmq0MbRcD0VK7wQqkHk80mDSQOJg18trbrujsWBpPPP5YTF1pcqwydapfvICB8sEq9MVRCkxmoSrgKxesUjAkq0+ZxU5Fu6rTvHnzJfdgvz1u8RJe1MCDKnxjQR2VRFaQqwPyq2U8ECaniEZPtyYhas9XuwgOJj72q5OFmsoT8AKgCR3zllwkASY0DHo4HkaYnvZ+mEQHOK1ugOsLRTte0BpcJFM6n4Mf/hDTQdLLWa4v+xZ6+KsmQ+zhDq+6RqDCDxsTmDqvdjCxUg9/tjqpgb9XpUowDPJgclVg8eKFvn84qG2oVgtL4yne/ihS+JOrNUu1PfDQQ/HY449bXhLvMK3oX/ua13gS2NG1MO68465Yf4N1Y/QoXq1KMkVPVjVpFZIGNmXy0qUY402XTtyqgyYxmqsfyV7sBmTHyw7Ghp4MvOhHkk2/iUOq7XOX2T6Z0GoHZUKlg+SrtpnQkVN4kg9hqAPcwfnQlo/wjcB/tSFGMglwlSZffpITtkTzxMdbtgXXg2ZpDyW3lc/tJ9WlD5NHxg46gJdtACaO1ikJuNy+BlF/+dsPDI6LbSfoUE//oQ+oMgco9cknn34uHnzwgdh6q41jxJDx0bFgoegouUlVfzMGPOvPq2bb3Lemz3wu/nz99fHKrbaKlSZO9ktrYL1AyZXbhzW58pUq4tlxL9tgD2jga+IxJxf4DpHQVXpwLGLV9tSDn75yrTYg9UYwcCmvV00ow4csKAB4295pMNP0pE00cyCCJrSSNpMcZGDC48EQG9h/WZ90FS+S2T4qIkHX9Is/6kY5G/4F6nMYWZ64lUj1sfVVOeTpf/YhH+wiNv5BOeU2ZQ81zYneIAZe+afGITLPn79AOoTfnnf7HbfGOeeeFV/8/BejfXC+2Ove+++NCy75ta/SjRo+ItZbZ914y5vfbL154dJ9998fF196aWz/xh1i800389dMoc2b9njr4FVXXuExhDfyLdY4s/Jqq8Vee70zJowdE90LOx0vTPRr7KMXOb3GJJD5EG+n7g2DGjLPOlcTt7ZxsZPQ8K2vXokWMUU/zMkuTW0x8WoO8lRAAxxPjkUj4ytlsO+EBT5l1ZfYA5r1aoZzqIEFb/Kn3jFb+4xpRo55AvNF/oKb/9RC/ZVvEwznAUKqaCeAZgOtAc2TxmQgmWdFnQz0dHTEgtmzPXAqTF3ORIABmZkQ31l99tlpcdHFF1swOkR9AxYJCMO95c27+lWTXzn66Lj5lpvj3LPPiXZ14M6OBV59Dh6qGaM7Eg6VcoMxdHcs7BoUh//XJ2PcmFFx0re/HbNnzgy+7ogx04CZwAH2fI1ikTqvA57JhVRhsxwKmDYF3Vvftnu85z3viT333MMTHF7LylvgeFc5kwESS3UeG0mIWySTJo6LMaNGaUKgoNCARGdicGLGmp2JxKAG+ucX3+AQ5KSX6bgGUCYUkpXK1K4GlMtsf2ROx9OGgAGHQGO1C9i28BEuAc2lSAYI5EZ39MjbBVxqV8JU26Tv5i7nELq0ZcD05UE+pYOAWzsK+A6mQgA5sy4T4/0PPBC//f3vY8TI0Z7J81rSwfzokAaAtdZaUzZ/ezz51LOx3/veF5tv/LL45gnfiNmz50rmtrj2N7+LS6+8PHh/OjTXXmP1+MynPuW3mj3yyGNOGN/4+rGx5+67iZPklbkefexJ6aeJiERikpmDAb8R0eHVCve08RuvD7UXkdf7KjsbdsCG0k0+oUO1djA2g5tl8vBlP31IwNmR05eFWLFVrv4IBVpyTLlaeXDC/0IRFJsaU2V8dE4ScNIQngcQWurcsQGmcNyOvyRk9tSKos/5Twy5HTxlG5JTHWiIDU9gwBUNaOegn3rAE8j/KpLe2GmB7PvTn/23JvPDrBcTDkTo0SSOb4y88Y1vjLHjJ8QNN90Wn/jER+Lnv/herLXKJnH/vQ/FH/742xg1dpRXmcjBm++I53fu9XYn/XkL5sVe79wrPnjQgbH329/hlSaLiD9ed50mkjnxZILIFcJ826QWKbz1TTJvu802MYakZ93SrqmOeyFrF+O5r0jujHf1iaq72oGPMtgdzV2GBXSats+Btk6AiZXaL8xHeDWpG71A9iWuXrESzskF+jtW9KEvwwR5oOXYkow2PkRNG7mKd1WOryijBFrimDhCcDk6CAc8bIJOlk08PIgpd6vQ8qSvaQ9+TjoVebFgfpdz2wIm2CN4IHCwX7nL21JnzpgTBx98aPzy/F/GVddcEZ/57OFx6UWXxqpTV42hmvjfdd/d8c2TTvSCcLEmj1tstmkcfOBB1hWZLrv88jj0wx+Or3/ta/H2Pd9u28yZNTtO/s7J8XvlkZeut25svMEGfoXvU888F397+OF4UDlmh9dvFwce8H7165UtM7akv9CexVn6qUA5xCa5zwPrrI3+AA7H7pNYFxsKpzkBT7tm/qTeJBp82HtRId8gA3vftqFMuPg4B3F8n5NXl2kDJ2OI25x59YF6/JGTxIwL89AxbWqMEM/NhUv6u4hW6hlDNRlQ/xk2gm8TuMI41snn/KvQPGm5MqAd0gmcHDRTXKiBcv6sme5kBAuvs82fq9TgqpkgVwWefOqZ+MpXj1EH7fC92kWLlvqd2JIn2oe1afB9X7z0JevFySefHHfffWtc9OsLNaRqVfi3v8VXjzk2FmjFTwfwZWGVr77myvG1rx+joxHxocMOiVEjh8VPzjgjZvDOZwZ5hJecXM4kIFDzjDN+EhcryPjBGboHPwIxeuRIJe1uOWRpfOO4E2KVVdeKPRR8e+z51tjrHe9Q+0HxoQ99KK688qpYWJJjBYY5SnK4i/jYhw/S9mHfJvASBxlwmM2VicMdFtEkYQbC4Lz3JuC8EZDlnAGFAAAYvOxI2d0OK8d1ZcLslFUY5diqBgvU0m2yQmnDytQgHwF1NZkAXroaXGQg+LItiQPrFjmETT3t816i6uFTaDAr50dbzv3lL+Nb3z7JP4I0bcYM/4DO8HbeqT8yVl99tTjllB/E9Bmz4r377BOv3fZV8fnPfjpuuPGWOPvs89yGHzHhdwKGqg1vuhymSdvaa78kdtrlLfHGHXaMb3/rhNh7rz01GPG7AQPjPZpU/PaPf0h1lgPbbbtN/Orcc/zwK52F5F5Xy8hNx0I/oNoOX2DRakegtRNWwCaeDAiqX9P38rxsmf6p1HOVYL4qp/MCOZAwkObggE29si3+lBeLnSWLy+jEea6d99B0orJe6UuosxjNY8kj3k5U4DtmMtb4CrBl0cYP/UAn+Tui3B76yMlqnsu8/GbHxz72cflqtt/zzuDA14j5HQcmYkce+eV41TbbxsOPPh17vWuPuOSyM2Lq+I3i2qv/EIep/0yYNF4D/DC/kx1as+Tz22692XZZ1LMkdt51p9hv333iwP0PiO7OJf6xlh123DHuvu9e6yUFPBngGLu1K9eQtH/wg+/HG9+wvfIOP0o2DMyGbral/qELuNgBXb2aAkd19mfxgYmzsaNetrDddEi+oQ34+dXawbZvTsj5uhcLh/Q1bbN1+q4SpQ9x5rjRxwOk2rfGi+Vipw1ZoVdpIHcTlxiQn8QbwDbgEgDQZ3N+EbrlKW1ZzOWxm1kG4o2rNwxcTAbOOuucOOGb34ou2dQPCApjmBZtb1afPOSQT8Sbd31zXK5J/FVXXRFfPurIOPvMs/2sx9133ROTp0yO4aOG+3creNUyr2l/+KGHYutXbu3fBbnxppviffvtFyee+O3YY/fd/dsEV15xRXzq8MPjuOOOix3etIPybPbBhbLzYvX5Sy65OI468kuxx1t3jW8e/w3ZhVfZ548Q0ef035Pn6jP/eZdKQstWTdO6DWXYCzuBVlffeUUpbca5n0NSuzoRzP5dScmW2Nb9WX2pLijkN0SpNOBFjHBMGTmoPnfERgw4bhjYVZ9+ynGAzVB2ADIANZ8A9Zir41w9ZTIwavRYHTKKZV1fO/QiKuh3MoAR+dWxrvlzY64mAwxGBA2DUwYkKykppxnZwm6CdUAcfezRsd0bXhebb/7quO222+LKqy7SIPH1OOKIrzohQKd9WE9ccfkVMWTwkHjs0cfjkkuv8LvjWX0weF599TUxbtwIDe4/lnNHxgHvf19MmTIpfvD978VcJRAuH+LIhRrsvTqUyHTkiy+6JO7R7HGYVqd/veuuuPG662PXN78lJowfE13dc2Lf934gVlnlpfHWPXaPd++zp1ap+8fCjq64844742kltssuuyy2ePnm8Yott/CvEPKjQE88+ZTl+dBhB8fkiWNj9VVXkekkpyYEXhXTkT2bTic6mUqehiP1wel2uIOj6djawY2nMjo9NmdlgJ2hBaaTss6deIhIFOZ/acvHfzrGdwQEx3X1YLrluPIGavsEAjZxkasmJ45JcBz7spXOa/BCygEtXDosl3MXKkHvp5n73ffeGz/+0anxmm1eHQ8//Eg88cRTohXx9WOPjW1evVUcf9zX4re//WOc88sLNJNeIjs/4R/ZmTxpYqy26qoYJ1aeOjVeu9328fZ3vFPtjom37voW24PvNH/0Yx/zvbkPfehQ7RfI9lyG5RmE7FzIzI9ebbrpppaZJOGOVxOAtlZ72ApFX9oDnhiouuIwoJIs6PS0qP6rdHKrHTttaMJqTlkOOKymc8BPupqAMLkWHXDYXGcO6QPiCh2IcQ9i2sTJdFm5ceByX95FjSKbfAPAh/6KzpRDzz41zTLg6wNvcIk1ZK2AHgwcXE3gB6q6Fi7SsBEaxG+Pww47NF6z7evihONP8I8O3XrrbdG5qCfuvv/hOPOcn8SvLvxuTJ2wafzsJ2fHUV/5Qpzy3ZPj1du8yja455571P7g+N3vrvbDTvMWLIm3vG2n+OAH3+fJwIJZGuw1sO+2+9s0uKwUH/nQh2P+nLnBr6COGzMmOuYv8I8C8cMt/JgLP4LFw6roQK5CZpmQP9uKfoVt6Fe1j7DVFaL1FB52ppzC6g8g/ZJ2Apekz+0pbInfWRHWAaEJ2TaLanlShA5l9hd5pMFXXOjnRT7LoGLnGPjTR4t/zE97KDIh0T/1AQYc2UA2hm/l48WdtowDdFW5EJCX9vzaaRYxgVgSN9/8F03Yb4rZc+fGz3/xi9hwg/Vipze9IVZdZfXYeONtYs+9do/f/u43yvFXxsc//pG4/LIr4q6/3hk/++l/ixoTuXzDJFftxNQTqbVesrbP71F++IMm88d+7Wuxp/Jxt2LqjjvviA984MB45atfFdu//g3xilds6TZz5s2PBx96ROPBGfHcM0/GCcd9PbZSjvabE6Wb/aFFJFvmX+xGP858m5NCGwuTNeulJ3Zw/KO4ANy0R9qa2IB+PgSa8UEOoA22NH3GAeHad/rDl+lHWCa9CrTzOKBjPxMAzZJ34ZO/R5DjCMRqPzQN/rSHNjHKJJA2NX4Tz/9dz1jaPnxEvo7Y+qUctC9oBRoHhrSEoaUCBqLuRIACHIsoAoDHpXOe8EYYks3gIYPjr3fcHn+67k8xatSYuPvue+P+v93vH+c47LAPx7XX/i522OFNXtUzg+VWwhprrBEHfGD/+OhHP6IB90NxyMEHu2Pzy3D8QtVYzWq4VEiny9nY0vyZSR379gKXBCUOlxvf/Oad49BDDokPHnJw7LrbblpxDo2Pf+IT8eEPHxZHfflLMWWlSZ7NcwmdX9rq6e6SsTvjJS9ZVQE+Je699x7/6t2aa60d6224Qbxi661ivmasdIo1Vl8j1lpzbeudq6zigGITbOQynKVinO6kouMcQLBrBg9AHY5GH+zJVuuAekQZ7euzEQ6ywoMtQdgKKIIMOnxNE3kqXexU/edEL9ulLZk9Jg/9NcBJU/IJIdsoYJNtIqEb9qeM+3YkXoKXn1zll7a458cvaj3x+BO+1P+Xv9wW++23f3zggAPiSdWxwuTZkY022Tg+99nPecL1Fw0i92n1d8ONN2pw+F3sqNXg4Z/+jH/kSHPM6NTKlV+BI5b4FoKUjSmaLGyz7baxpZLGy7d8eWyigf/Vr94mXvWqV8dWr9gq1l13XcuanTXB9rMfpA8JF5V8oj02lC7sSY72G36xDZVYfQ4utdmJsW/DWYbiI+/T1pw7eQjsE9FxOwHPoqQMuXFvlj06m75x5R/HQPq30kh/sImfeDROBSQ1LsNbbiosd9JMf0tHnadvU1d0Iul5wldwAMeS6/MJcF4dy2X6WzXZ597x0888FStpsF7YvTCOPuar8cHDPhgnnXSS47v+KA2rdcee9OWeMcf8oAoDKb+ESPyMGDHSl6DhwyDCQ1wSz1eD+EXKjRUv+HnjjTaOl770pbHhyzaMVVdbLTbYYIMYMXKk5SfW0acO6A07Sgf7T5tt6ryRNsFwWZf9Cqh26jVI6886SB/28DKB0gg7madPXNQC0NN/tuJDBmVihBa1HTzxN/WU1Bzivsq+HBeWAh2JZsZE+rTq5DiuTNFVYCo6t6x8Cn/AMUUblfHswJYacA/4wPtjzz33tBybbLxxvGvvvWJbTfD58R3yDTbg10759gmXrXfaeee4+NJL4pxzz4337LNvbP+GHeK1r319HPnlr8Qvzjo73vWufeKmm2/R4P6weQLkG/hutNHL4syzzvQk64tHHBE7vGnHeLX699vetrsn//xC7Nlnn61Jwiu8Uicn2odS2Pqjk+xodX1e/F43KgTF0ql1NneZP5xjA+18O0tH/nEonfPf8UAsCNKPuYCzH9gaV2SSVzV/sy+JtmzJhK2e679jzAN/wU96y4GK09hqbGXMehNdbxWnBfora4XMTH2gioPCTpIMemxC92CgTcOaOu5CHXO1QAP1MAXFos7o6pwf0559OoaTPBQ03//eD2MbJenLL7lE6+q2GLh0kFcScBk+fJCSBb+21BYzZkyLxx9/NN7//v01WPdoYOEnIgfErNk8wJgPYnGvkIBlEGIGx6RELJRM2pVY+K35JfHUM09owGEVs0C0h2r1yM+ccrmbVWLEyJHDNSngCXXa81vbGtDa+EpMd4weO0oTCQ1ySlTPTeNnM0coSY1QsOclNFtTf7aP9nUQJkhYKduxdGIHZjqFIMsgUuhoz2awZxIcjKUd5cZTeQZXc9BxecGrMlQ+KQsFWV7bZHBkW1YVOThJPnOFFnLnLQvOTVM8GYAoB9+dS+c10LhtxMqUDgL/Nq1ML7rgwhggG6y80uT4yemnx19u+Uu8cfs3+krQBaqbrHImafP9YNDSOPSwwzzIX3TxRX524Iorr4z3vPe98cUvfSnuve++7JjqYMedcFzs9tbd4m+aXHIlhttRTChI4AM1IWXgY5Dil9nQwV9rkky5AkQvLt1JM67iOGawa+qRm2ws3Zh02tYq84OenEtPZHAvgR6UJLsnVQzmlLTYG1sCQtVGDGhTjBI6gwbDK2OWvsNlWX4CbkB2r8bm6/xq7wEHPfCFj3NA8ge7S07qkB+K+Ily8Kp+lkvgOCqDYdXBEcSeeGqJqXyfvPjBV8fph3IvVQfX33CTb8tN0qSdn97e933vkZ0GxE9+enpcc/WVccp3vy0q8lOHBg1RbNdCYYi2W2+7NX7z29/GVVdfE5dceqn9xPvYGUhYFTFRz4dzxVuy8JZKHi4bqrbkG+uEDXTMHluTRFlY2G8AsmqHvKlviVmdu40/4OlcGzHBFSX8mXaXr7C5Yit5EDeyjVupgP+qYCJTben+pANwkbviNfdZTI1t7C3tDW10cNyA3mgKf3Qp8pY6ckv6VYOIPq53Hf5O/3ryX3QGv05g4NfISaWdJyX6mJdlzKsl/vEry6acoIo5c2crFw6L9qFcKezxFZlTTvlO3HTTjcr5+ds18Ljzrjv9XNZJJ50cDz74kCb6t8b+7/9AfPozn/NPRP/w1B/Fhz/yEQ+ITCIQ8v7774v7tNGvDzzowPjOd0+Jb514YnznO6eYzmk/Oi0O/uAH/bPHt/zlFv8MPT8vTdygI7K7H2jPJMHfGJFz0aXq3bphx+pRjskJ7N336I/Y1zbGPvQp2U9YTAx821af9I3qsC+xAymVIU8eF397M6dsI/6OF+MmPrWeINBWG/TyPHGytcD1+E9+Lvq6iNjnQGDZGkdqmQL0A26Zhy1QelH/YIIWSHsHmzqqASOrIw5VstBAy4BLh3/s0YfVsTvi8cceVpB0xd/uuz+2ffVr4jLNGLfd9tXR3dXjy0K+XGelWCVAc0mceur3Y+LE8bGhVuY4daKCh1/0u+GGGzRTfFN8+aij/HQ6nZ/JA5eKGJQGa0BAPjow548+9kgs6JgX5/3yHE9WwEM2EtQgOrzk5kGXJd0aAAa0+9LX2PHj4p777oqJK03UCkgrFk0YHn3ssZg4abL5+bf+iwGRm6dsPVFSx8kElANEIwkVB+F4B6AABxNoXlErmfgBLPAAodQJA05mDw3sxMQHGRgQasd2g+JLB5g2EopXg2oHJRIBwWsZdA5Z+GOPmhDUyO2gQT38SHTwrPzBhQZ7+01yZ6fKYGV2f6Rm87/47/+Orxz55bjuj3+KladMjb323Csuuuji2GSTTbWC21Ar/XZvo8eO8SCz/gbr+17iN447Lo7/5glxsjr/z3/+C//e+2qrr+7Blq+z7r7H25REvh9rrb1GjBw1woM/K0x/XYkJ51AmA0Nj9JjRvprAfexR8hf7Hk9w6OBYKu2GHmzoVztWPcbGngTgQx23rsjT3mov+0E336FQ6KkOO5I4iEMeniKO2DPR5IFKJgGsupQ+FCS0w/aKSeETw7SFR5WvTgDsJ+0zSWjgIgbkDw9ayGUASzTxicoci/a7Wyc9+i7+Uh3t6v1n6NEOnzMQcEx8c7WPyZATo7ZhI0b4it9nP/v5mDRppTj7nHPjxJNOjGt+c0184MD3x+NPPhprv2SNmLryRNFYEkMHD4slmojNmTVdE4K2+Lni4wtf+EIc/unD44yf/CT42WImGPyCHj+bzW27Hm5DdC+J0SNHxGIlewVX3HjddXHdn/4Uf73ttrjnnrs1yDwYt9xyS9ys7ba//jUee/yxtEexRe1/6MEEAh/RZ7AJmxczLuP2V4+fNcCXOZDiZ3zDA8f5voUKtlnpH/QBrhIC2Df9lJsOyz/25YAdPCUn9s7bTi3tC3CMjPQznqXJfqY/dNMePSBJPCc/fM556krMELfgc2UgdRcWtpBujTbCzVihceYpamQ1L+B43wcTgXvvucfPlNx7z70pd+kTyHjccd+Iyy+7xBM1rvZypfiMM0731YKL1e8///kvxje+fnzssceevlpw7Ne+Hm/eddc49tiveZLHYoLbZO9973viLbvtrknEnrHXXnvHBz7wgTjk0EPj0A8dFgd+8ANaHL4/3vnOveLte+0Vu79j73jH3u+OJ5960rbxoF+vcBWf15jmmyfm4QFc2klP9jYYgEnRX3sm6kz6waVvOoa0cdXI8S9wDEEL+tK5MYAb0qb4wHFIeZHDCyq11alpgWfZwYUPcSWbpuzyf1lUWkzTzz4McOo+al11rn/WW+XwYkINrn1b2te2hl4ny4IkXxagQ0PaIpgvKWqPsNxv8VPPYs4lo99ce62d9dc77ojrrr/Bl5duvPH6uPPOO2PPPd8h5381xo8fE6utsrIGNX6PnvfLY3QuAeOwHiWSJ7U6/E284Q1vcCDSOWfOnGWj87T/008/HdMVZBgRoWwsGYF7Izw9KdMqyQ7w/aWrrrpanWmoVzBtQ7nUnO+fZsbIZeYFHfOFv1T7BXHSySdrkvFlJbm746677op99903/utTn1LC+nTcqlntY5oQHKPgPf2MM6wzhsGxXLnAyQhDQNohOBWZfJydDY+kY0jCCibRgI4dRzA5QjIB0I4kUBMytN2GgFKAOIAgKTx3cvuD9vaWsLVxbVVQL/VmR1FHL3xcVtomDwpza9KiHvkIfKyabXOwE0+19V4fOtsxxx4TvzjzF7HFy18eb3rTDvHUk0/Fp2W/ddZdJ771zW/Fn//8Z39ViNUfD5amXEvic5/7XHz84x+Pu+68K664/PK49OKLYrPNNouPaOWALOPGjnWsbPWKLWOD9deNCZqw8fVDvpd8/XXXxytf+arYaqtXqs0W5r35Fi/3ngeV3rHX25mu+mpP7UpMFOl8BtH3JAgblo37vgwOSxzbTZulvXIAwQH1XmNeZs8k6k/Fp84dmjaiTbFtXOxd8TnEFtrVq0mt4CTeUka/y9tUoqO/lKHwB7ec16s/cFAUpG6SB92IJSdAoCET7bOt9REtV7mt+OsPfX582mlxyCEHxwhNCk4//XQ/37GpJnqfUn+5/76/xTe+cZyf5SDB8yDo9OdmqF1P7LTTDnH11Vf5IbE//vGP8ScN7OzP1QAxfsIEf0Vt7NhxsdOOO2rSoIm+FgAL5s33g2fwv/uOO+PA9x8Q737X3v4m0DvesZevIO1fBglijySOXgxIqFc0NNg2xYzpl7QXUBOxL/mqiFyErdAZe1Pv/lxs7thVO+zIPpOyK7yv9YnsgwJ4Q0CxBKS/Y2/wyRlZkYkd2dzfJSckTB9QeeJavEK+1AlMX//c3r5MScDhA/0K1tkDEWWVUvLH5diABdm06TM0UR2iwfdp5dDumL+gU5PEoc67Rx19dLxJPhsxfETMmzfX9CZNmiD9ligP/y0mTx4f45T3n3n2KbPmysL8ufMcj+TAhZ05CWOC+IPvfcffMtpGC0ZuBX/pS1+KY756THzqvw73JH+XnXeJr3/t2Dj5xBPiK18+IqasNKWMQ922pfOpc2v+3oXjWEzRLO3RzKG2iyqQKfO0cJgAas9EHgDfucB2tHHKv/RvtSwHGSPql/q0XhUGPa9maXNQZrknMJYhjymDBue0If8z6ap+N26B2h6++Ik8XH3t8RA6Ks+8Q7tm2xWBxuuICdcqgKUSQTo2D+uJMn+UKiBzFeFOoxG9W8KMHTc+XrYR9/VeEeutu35stvlmmhHuHrvttlu8frvXx9QpkzRpuCoeefhBr/S4FO/LuTJi9+IBceKJJ8dzzz3rIBihVTkv/lnUtdTfOV1v/ZfGhRecH9u99rUOJL46ZllRXBtfR1y4eGnMntcRRx71FX8lbccdd47rrrtRk5DxscmmL1OyIMCHxHnnXxgvXXf12Gijjezsm2++OZ6bMcNfiXpAso0YNiK/0vLkM77vveaaayo4tYLRpIf70/kb6GUGWU1VDY5T62AD4DjvEpF2Hpz5SA+Svev0h0M9kVB7ymxrSFHXGsQUub55bBKU6dwJRv5hMgCAlwHPebapbR04AkupIsoJXqqhw6ajQj/L1K1AdNDTnk79pAb/N75xhzj40ENMY5Tsx3Mfe73znb6n++ptXm29r7/hupg6dUpsvvmm8dvf/k6ru1vNa+LECaLxhJ80ZkB4+umn4uprrtZk8i5N0O6IV79yq9hys02jWwONv0aoSd3L5L/NN98ittzy5dHZ2RVz586Ngw46KF6x9Ss0Odg0NnjZBvHSdV7qqwOsuq2n9c3BnA9LBdtHh9gnJwE5QSPGsIuthpC0LDb1IE977CKatr1o0jEr0Mb+TQr6ZFtIQQ3T0gYbunO7ruCUf8hl3vAhaRQ/Js3qI2Pbb/CDAW2gbRCqz7WRNAEGAiQybe2TWpMXpeanPUmWuPSLv7hiMmCwJ2urrLKKn9UR11hrzbVi6622jl3fsmusPHVltemJ6//8p9h1lzfHBE3omNzz/MD5F1wQP/vvn8c111yj7er4wx/+EBdffIkf/r3w1xfFvLmz3cf5itrApQOjS5P1SZosbKWc8sqtRX/Xt2oSeF1ssOGGcbAmJVtttVXstPNO8cpXba1+Ps4DAc8RYZcan7jMCdoGR6Nqcx+qv+VVIPtQn/rtH2yUSAJs4eM8ty2ZVKnMVwdtK9U18DksvtIGXaqqzbFtTjiaq1nLq4aelBCfqkv/kG9z8GCzXMnNYD9pA7K/NoHmVYYqk0TwHr4NUBltfUvFsi2N+R2dmsD3aDX/DfWpV3qSx+X517/hTZoYzIyLL7s4vvaNYzVxa5P/fh37vGcfTRKHx/rrr6f6x+MEDeyXXHpR/OynZ8Sjjz4cX/riF+K9msjt8+59Yo3VV4+rr7oqXvOa12gCv1Fs9LKXxbD2kf7qKu8d4crPa1/3Oo8xvNeCq0DkiJdrTNliC23KH76yqoUTOtLtsBl6eVKrwmpXVLaKINoPqbv3VLo+/aMu5HL6ccaMjeUyN7d/csDNQV42VF0tA8W5GkxoUV7qTcPlyZNYyNwB3Tznjz6Ov+1zlWfObQHhE6+ejNrf0EtZzEfxk5MOLSyHcPs9f8KYD3+WwXT8fxnIbxNYljQWkEZm9jZfs7lZaWx9xE5MUTq/EsVKe5EMwEtlBvAb66q/Vh39wgsviCc1mMJ8FSV5vsq38Ybr51fONFgMHjokZsyeJcWGKqiO99P83/rmN+NVSirD2gfzrcaYO6snPvbJD8eYscPi1B/9IDrnz+cKjmVAVl57KQL+NkN3z1Ilmws1GTgqdt99D88ov3bM1+P66/8YPzrtxFh3nQ2ibdDYePNbdot99n2zgvI9yhJptAVdC+PZadPiHRq8ztIqY43VVvMqdued3xzHHPO12GH714vv4uhYMC8DSODOQwLW3kWlvA6mOMqJAqfKdgwguMEO0wd8HApyTfKNBCNng0dnQL5cYUpjbwoOGAgP3BwM2OALH74BoARHUiGoSeaig9zUmafxISE53DTb0ql8W8DnqRcrfyZ/JCE/vCf8DDpkHKQksSi6FnZH+7Dhvmw2f8H8+N3vfu+rPHPmzA1e6DRx4qTYdtttY489d49Zs6aps/XERz/ysXjiMVYbPX4OBGDQZuDg8h6D+HZveEP89Kc/iyM+/+k47IMH+utr/FpfjyZ/fPecp9DpuD/44Q/i97//nZLPxTFjxnOSK19mw1UoHhrl6sIQcKU/nRUdfJlWE058gb7onT8hjd4qK37EVakvSSInQXga29ivxU7QxRfYiY5s24KHMD7Qhn+Kj9ggD9/qq+q/9Ak8LF3GB83ZaCc8+IDLhBbwi1tUDo8abzVBVIKMhZUe/CjWUVbnPwPtc2BALtFTcuFpc0Jt0aIl2hb7fu2fr/uTJnXXOrHP00R8/LiJseNOb4pXvfqVWsntFF0LFsRITaQxUFd3T1yruLjrnnsdMyNHjVQszFRMdTk+Hrjvibj22ovjhOOOi9122S065s2zTR0P6udIN2RYe7zlrbvFmzXJ2P+A/a1DvvRrifgMk9y5MgQZX/C8D8mRFaPjXnL4Ej/620blQcBqd9WjFzYjPuCJD7JPFxzsg50B6OE/2crmtO2b/sFp1a/4j/b1CiAkKKuTSa6wss8rgwxyta/mxMSxp3Oh+Bw/Wg6dMxmp9chab1/k5BQuVtHAmaQ0/YSkQ1vyjQRS7uuJLvWFLx91dNzyl9viEuXmH536Q38L6NRTfxzrbfiK2POdb1WfuzYuu/jiOPyTH4srLr9Mg/xqpssVuPnKlZdddrkfvuZrwu1DhsXY0eOVE+bLz9fEZz79GU00jo2d3/w6+Wxp3HbrPfGBAw/ww8Kjx4yxXbo6O2PUqNHOIxiY288HCee/Pvlx92/HMhqhmzYmCOChNzakD7hPFMicVfoEM21B+ievlqUddE78y4b0H4B9+hW6tX+rziSwpQ70B32OzVf44FZ+2JyYZAMHXL9AC1rizaLKsVRoAM4pls8e8556YpivBsMTn1lWtyj/y21gbp0OGzlG7cSDOkwFbyMlbl9IrRLDBa1A47yklQqSDPMSOcKpMYGpZjwoxcMk2yuBf/e7pygxjIkddtheHXfnmDR5cvz49NO1cjwsHnr0iRjY1q5g4Wt9d/kbADffeEN8+UtfjG20AlRYawLS4cnGcK3SPf2QsjzA59/VFj/u8dFp7SDJ8fhjj8f3vve9+P4pp8SnP/7R+NynPh5jRmiS8dUj45VbbRH77bufv+q4UMG0ZCkvT6JzDVTg9YTiUPK0OQgJHHjg6MGDh1hfnmbG8DzohhkdcNK1PmDkeLHZcKCcLRq048wdF2drj70AB5EKjCNct8oqO5rODDk221vJLQO2BAaIat8YbLQnGUAEfM6hh21q4JEMa6eg0/tQeD7WhzYkEA9MJcgJRGyOfXNFVWas+Ft7aDNh4rx9WN7WOenkk+JNb3pTfP8HPxDNgV65bbPNNqZ/5plnxhu33z7uu/dexca4+M5JJ2vidWYce8xX4/hvfEOJ5usaCL4RR335iDhOSefYrx0Tb3j9G+KDBx8cr3z1tkpOPdE2tF2TyHbfux6pJDFceyaWyMBEBNlHjBitbVQMbR8meQf7vjRdAV3QonWgxl7YBXNwbAT9w8+2ls6Nq823drTVQYRB2BOB0hYq+I6NurQtdsyJXHb6cnsNXmrJB19wewL5SET2Gbxl8+onCijHJ+7Mpcy+AcV0SicXIFfGW9bzP8tyMELnjDLiA1nYOIYH9dgldYJ/lQMdsOddd9+rJP4W3xPu6OyKD3/0o/HNb34rPvHxT/hrwp/57Gf9cCjvm/B3ntWO9lzRGTdufEyZspKvsPFSqC222FKD9shYY43V7C9WgvM06esW08Ea/OdqQFBgRqf6+yxNEPi9kLnqk7aLdODStRMrybRtiCb8+XsayApwS4mv2XmQZZAU3Wo34+gwLZcbtxJ5Cx8oHhi0J9l60gAUOyR+4jDh5PYVG1cM2ToXdmrSkw9HAtiSDzFa+ysx61wqGtCkHB/QxlcOxCN9Lhl0zISeTyMO1IY9Pk0/pm7QJf48iKneMaW9cwLE9AdtrgAQd2y2lsrR8tlnn/FXOS/69QXx4cMOju6uBfHed+8db9999/iB8uz8uTPVdpHzMDrBmfzpGJYfHvjbg7H33vv4avFGG28co+mrw4fH/A78tjTWWfelfuh0ypR8Eyn+4RbgRz78kfjYRz+mAf+geM8++8Shhx4S++zzLpV/KLZ8+Rbuu3xlmMWO9UlF7BP6BP3IdtEnf+NAoaPckM+B0IdygsWVK+fEOqbJnnzF2S9jgqRo2Uz8oyGgMo4pwp5u4/bYlv6lTWXOBTQTbuXH+JEP36bM9CzGUSnfoAtAj9ihHf3PxVmlHTqih2TgXHarV3LQHTnILZlfkIktY6KQWCEYoEairybmkoUoxEy7s2NuzJ45zYE0mO/XCwGjk4B5wMuzdhSSQ9+33wfiueemx/m/Oi+WasaezwZkMPIg3kc/8lGvGi+88FcxVrO/n/zk9Ljl5pvja1//WkyaMF6DS6fo66OIZILfsWBIfOQThyqoRsQPT/1ezNTqfRgrBWbRktFPHQv5bw8+Eh//5Kc02Lw+PnyoglfG5ytLDOy84vIarV74qsqEiVNj17e9LXbV6mK7120X555zjmZPbQrSjnjgwb/FdddfH5tvsllstOGGkmWhH35bb/31Yqstt5QxFsfaa64Re+7xNr85cYRWIjih+N3/HDz8yQk4D/3ZO3AUFOB6MJLMmAyzZ8Bl8nLQCggEzh0U2F2JzMFhZuLEoFM7urYGrvgkAnGWsnnCpE8+hwAecljIxBUy7fXfx6hiumpXGdIWnJSVUmGrrKsrf1QEzBkzZsbb9tgj3v3uffzMxezZczxZwPckU1bddOz11nupHxSl/pGHH49937uvEjoTMa7u8CIcrT7lPy7fLuzm9a2L42uaMJCMzv/lL+P447+pAcYGtx7YkasR2Je30KEANuYSdnf3wvjKl4/0hHRhV0fqUezmfuLjNEVePcEGUIVu8mDPlm8LQ+/0nZ95UUOObZViGxI0/iY20bv6j3a08e9iNIABkvSbiQMaOVAnXyYW+WR0SWTq6HDDFwCTDoBzT9KEmHiZUChjw7bQdQKSmMS8/Ukyk93wvvUQDjGJDsjrZ3GEn+15MRADzND48pePiXPOPluTvlNiu+229f19fnue1R8vHbv08kvis5/7TJz1i1/EBuo/2GOQBv9PfPLwuOTSS2Kdl7zENllEHpH+DNKLNSsfohUlOWLTzTaLwz50mHXo0mQDmjzJzZyU9xPwLYOVp0wp/YJv+QyIyRMmxGmnnmq/0w+IdWzniaLkRjfsY+NKp3r1DR54Dj1zAJUtbBvQ0hc8XAZgK+o4c2KnUQFiB39QBJvqI47TN8WHkg156RdGFrUmLpSpKwldn8bkVajNvJADvem0yJDUmnQafAT+j8w+S8DX0ASbF7ARD7SbMXN2fPPEE2ND5UFeCgQ/jM+Dno8+/mS0DR8R79p3n7jokovj+uuvi49rMnjJr38dL1lzLct7++23xXv23Te+qn7LV75re2w6UhP1+fM1qVPf5GodV+8GDWyLSy+9XJPKjylnDvUDkFNXmWqbzdUE0L9ToQGBB9IPOICvKb9fC8XMv/z6LXphW/yet3zyYe28pcjVrfQtgy2APxzrfLCzBLOPZK/0aXNPuQF8l1HKaalX7AKmpyLq6lUHlSo35liAUMZxaUIh5zbGKccAVfiPg8rXipW9bUorHftqtVFqvXKEYpaHqYeNGKMCyVjaQstHlVYfaE4GWgD+rZMBWdIDdTo1n3ZlFsMbCcngPFTy2c9/KX7z2z/49bFbb7WlVhFt6iBa6SsBPqYg+vrXv+Hjb3/7xBg1cgS9y7QIIL4+xICbMx06DZegh8ZBhxwQk1YaG9/97skxZ9Ys/xa+f4RIApJw+T6yWMRsrUh4Q9Yw0fE3BqQOl5F5ScogydaDimr7tj3e7qdRd9pxpzjqyCNV3ymHiycdR3pzG4LmzM5TR2QkuURssN668alPfjzmz5vrrydyKQo5mAxhvQyIDArATqp2VSGyAl6p1NmtO2tzMkAZQUsQEsAEOXIQsIWs6dZVgQdbnVNXOwRsnbTMP3EcNNKRIvCQJ4PfKAJ0KLI2ALkog2ApoUcL3/x17tmo5OQtkny3mG9lHHzwIbHqqqtpwjfWA9B8DRb33H1PHHHkl2LHN20fn9NAQaLmcvGC+R2KkyG+AsMgxdP28BJnT/L22/8D8dWjvxK7v3XXuP222+L6G26MYcNG5LcJNGFjUuanwSXD6JGjXK4MJzoMdD3xute+JjbdZOPgGxzEGzrLgpYL/+ETZu284IQVRyMhsFltbJaTAXyE36DQTC5lkBG+zQjogKfOSRTIVRMKg0nGQIkRNfPLYYova3LOSlWrnu/j41/KWXnRtk5akAFALmSoctS4yUlcczLgAcY8WY0xURGe/Od4UjmAHEwEJJTxkTbbs1E/OM4685dx1FFHxetet2188IMH+JXT/EAVifnRxx+NU0/7oZ/6P++8c2Pi+PHWjwfPPvXpz/j+75FHfCnGOTbEX0ZARqKJOOHBsFVWXzUuuPDCmDE930pJuYT0N1HQjcGhnWdBpF/1wYRx42KPt77Vvxxn/wlMV7j4ALvUPoEtsFkdTKvdiWX8Txsm7PjPehOT4lH9WOmzr3b3RFt80if5jSHa4Adsa746ZjJgfNUig4PAUHxQ4gJfQ4/bZQDx6jwk+WhfIeNZzfCt9jU3VH6uY5MeHBTJ/T9zbdLjuTke+uSNsnxDR5ql7Dri2y5LNFlbIh9zBeaRp56IAz54cFx19dV+M+BnPvPp+PX5v4o1V1uDwSTuve9+33LdZLNNYn3lzEUa+DPeNNFXPh42bKh9t9LkiXHQQQeL96C48qqr4uBDDovdlZ9ft912MXPWjJA1s1+qjzCR5sfKRo0aoYXca51bbEV0Et2ciKVt067FN/QB2yLzKq5jwlAXSe53KsvL7dkPAfAByqHfsBz1+kvbMLEoebyUU+iciWiOnZzAEb85maeOlkmrDr3EWh38c6JZJij6cO4W+pd1xKsJuBxyXCnIiSN9otsTqmFaEA8brgVSy2SANoZ63gee98oAzwzMmzPTBYs1MyTYedoXwbmf7HtsMi6mefTxp7Qi+IJmhrfH1KkrxehRI2PMmDH+JsDjjz8RrLK//e1vx4TxE3yZkEs+PJw4auRIv5+cmV/et2I1TYcYHId95LAYPWa4JgPfkRxz/AtYPLQCf4xC4HdqhcovKLKyCAwhHdzxVM8Kk8nAgo5OG2j3t789dt7lLfHBgw7yhIQHY7jFkS+yGGjdeN0yTiB4oO8ViATiiXj/jKbwCG4ClYHEgWCbpaPsQPGvEwpwMWy9ZIjj62XH7IzaEzBqSzscDg/A9ISQPJKPSBkqP0Wa97QlcPGHA0NbtVMTX0HmcvmMcsqyUv/KLFObExv667iWwRZsEiRnDlbRYfXOd/yvuPIqP2Mxbfp0ByuTJzrpAw88gIKx+WYbx3dO/rYfIiRR8z5xLs+RrHleoMaSE75syzdDeB3x5z5zeHzwwA/IVx1+dSmXhokfJg/5fIQSvtoy0fS9RMlKZ+ep90XyGT+MBV4mDAkmWdCW2MBmdcCmHfHHHlz05RgdWW17oNBxtaOtoWOhpPkK0OmZDDDQQxsepiO+xYhJQ4dOFOU8VzXIzoCeq3uuLuEv6pt0IEKMZ3JLeZpXf5q4QuIf5zqsOjq+tHc7yecBxBTxLVKpLpupJPsBcYSs8+bxno9B8fOf/zzOPuesePjhB1RPwmOSxMDbHSNHj4ivfOWo2PUtb/bkncSKrT/28U/G1RpAFnFFCeLIJpktu47x4dZbbx2nssIvfq1XOfiaHTHFxE9aOgfgU2KRK0nYiPfnY0vrKGT2HkylDDTANU3pjPXR2rlLdVxN1Cl/+kf/4WuhQ3yOTtjaeUC4OaAnn5wgJP3MB/nOBA8itmXyqYM2gAzgu1y8klaWsUGTST0x4EmlzolnP7Qs8BXHFh3hYZ1gBz/Rp9z+1VYHEMpAt1zamPQ55txM9GV/wtoToTYmIWqniRBtPEHSgMPzQU8/+0w88thjfoj397/7XXzo0EPj8ksuiw3X38By80bRj//XfzluuFXCAM7knwd9eY6DaOzRBOElL1k7vnLU0c7/xMXhn/6sBq8Raie+yKlPHSCdg7RYXGmlSX799OiRDHLkppSfPpf4RScVkk/Q2ZNbtMEW2Nh9t6U/qAyfVFtC1zbS3nnYduWsHOpf60DviUWxL5AxkbdrwHMelpxJoQm0t6AC2rfK03puuUWnTlrNJ/9Uxz+TUMyW9vrQf7hNN2z4KGoafLKBoJ73gcZkALxmGwWYjNnVMT8WzJuN5KlKYU4gE4AEKA8YodfAQfxwUfgrhrxIgq8C8kIKvhu+3rrrxMYbb+TAwGGsvr0vfOlosplo0vFQWslBg/Jdd9+p+iWx4Ybre1BlVUAbHIzidBYSN4PRYAUOl7tIDCQoNoiSiByYkoX3YvN1pvXWWceO5BewUMiJlc6FPN5LGNFzifiw4VACTQh2GPJzzw9Ix2Vg2HFSyu2gIXqcoyj0waVDM+ByVcGJVmXoiU3RnyCs7TiuNIvxRZtNssBDstKGlY0vyYpWDW7wHJA6qJMAoAZc0gQnbUB9xan12E4HxUfIkiugxB2kevwVmtjxvfvwmwbvv+++mDNntuoH+JbNmmusES/ldaRD8x0GPDmPPXERfkJOFEN2+CEWL5u6/oYb/ODp6quurNp8rWn+bC6uTd/xl+cZG9ZNglT5HCv6YBvomhm2wcY6d3Lg3FVpMyoKWdPBDsmtaSfwWu1Xt0zw0DFFxyf7xiVx+g3JS3yRD0Jg1skA4DiyDnkOUOekKMBmjp9SXutqe8e+ZMnBPXGQnTP8SP9DG1ZycHczldEOuVJbgfT0+w+wkcqGtA3VpEv2l478uBTf8edlMJ1di0x7wsTxsc46LwneF8IvhzLIYw9/LW0+k7lOx6HtxF5tejTgoCYcqRs3fpwncEwEeMiKBQC4IDg3yI/gOsmrGP/hc/JD6o9GiCh7lwlfq5/SXgVLjHPCkb9+iRHy1iZXUHiLI7LSLzO2dWKZactkhCP3heJzy0d/AeBpFvBrbjCnDeBzIFEF+d/+V6FzpIqasZU07CPx8kCjza0KXePq0+AHPZWBByLyMWnJ/lHiWDalrXOKBg90dOwpUJw/dO46VfBQMKrBf+7sWf5dkdVXWT1GDBsOlnMxD3uSb2mQE2x450NtTNC5vUOuBpCBiTxXHbA7duYqEPrTX9x/6HPK1Z0dHTF27GiVp1/JfR5oRZv+gKDW2TYQlHOOS3GxPXmV23eK7+ILK1kQ/WGvreYTKkEBMScA9N9SIjzbtxxjbyYDtbxQdH0F6oWQ9fCxzJbaclDmK0Gc6lyRZZ4Vx/Xl43r+ZUXLZGCkCvpMBnzYW5YKygeVShMo8mRggSYDc5XUFRQ0J9gtS6NFGSzoDKwONHv0QykKNs9sbaBM9lxpYM+KjqkfgS7dvM9VF4bPYMYwdHJomIuOWQ36FwGJmBIAOBN8ZrUMJDz57vY4S+1ICHa45IYekwcbGP2gLaTiQ5jkzgGZx7SHFg6DPoAsmWA4QYx0JjiU147uS8rWicSdyRsckhZ7Ei8618HbbU23Bl0CT5k6+ds2sqXaoDs8deANWYrEbl8HDQet9pzDg41627CCUAl2JzEd56XrZsKqwZcrT8p7PAni3D5UGTZjgEdyBjp04fIivLjq4xWuztkDDMzWAYa0RwEB8iWIjuTJCaDO0B35BPiy0VFSTcsPkKChxf1NSPJQGZ0eH2UMpD7Gxo6C1s7lRgKvCCSDO590SX51YMg4to0rf+gWW2dCzTL7mcFLuAxeea7JlBJc+r/gopPk8cChskLW9eiDPTmGDnycOFAGuoW2eYiG/asNvo2BSXXQADwRhZ6L1calqQryU2ca5ZwrZ5zrn2KaHweCLvLyXIYGBuGQ2PiqMLd8UAnzefLMSRJRm1yt8RAi8aNwsS3IFXwtDf7Ib5qWz9Hh9h6oRa/azn1d/QLwD+mIfspPbMhmHOsfeDVe0i5NOxq7lAG+Kqlc5cnAYvol95yxP4ueHADdDsHVtnGJWPSRxf4v55UmUPuid+UYmRC4xopLG3XZFl7Ij86i6HNskjySF7pUfao/kK3ShXDFd1wJT9plzqZa9RlLxDntiFHsgHC2kOrpe0y2uAXL4Cn5JL5vMdnP+FaxUa4OkWcHyJb4FUA+/OG40p5JAOI17C4ducLKw4TEsVfUMBek/nlFOp8vYOKw0LR44I8YcyxIth7RQNfS1OUoSJllQllB1d2TYpXlFQRQqU8c27Me+3/xC7S0z9guNSoDn1tDtiU4kpdjx78oUNakRz/limo+/FrHMLc1Bv8T2zlOH+vLpFyQVzmxLXRkM3xi2dKetCYe+QnjYSNG6bzGO5XYp2q0LPQ7GbBgMu6ijgUxXys8ieOAyFmUxJMAbkWiKMLXzZ9iKC7fMKOjbXUqCqSTCVDhFSd4YGRwcYeUY7VHQQefwA+EyHg1qTNQV8MzUNC+Ko3DMXSuZpOXE7kaIgvOMA2Qs4nb11mmE63LGLTTCaaPvJIMeujmgVPGRg7a0orAwyYePI2PD3hyl0uRmrUht4qrHNgCuc0Tu5eNMvS1rbC95HCAqbzarWELl3F5syaPAkXJlCL31UZuo49taH4utkyAH+iTDnUSQD1BRyKn4zGooHNOYGiHP7B92iYnAHn5Hx74AgGwD3Sso3jBD9bYrOrNxjEbtbwa1fGnDT5ObAhZZHZr2uqo2tzJQgmKb4CkXVLP7HT4COTka0s0aDGYpc6OGWKWSs4tdxl8zIyWCSJrmi4Bl3P+GVpiC5rQkW+IKduLiakAOW0Pk2DiSJxKWuG4b/i40gQnebGHProjT8ZLbqDAHz0BxzT9UuXQ5CqByfBRYY0ztKl7ak1YQH/Er9gW2+TAJuriZdugpvCoQwf8BUAF1CzP1YvLxcO81SgH0hoD2QgRiJmMy0yMNS7znNs8GQ8pL/onHcdKEShthx2b5yYuyNyhU9VTKelEs03ssYX6kxMxOPAsbXVuWcFWbKOXFRQgrxXWP2Kn2t6M+bNytVwUis/T1yrTMf5EL9PNIrdjb7kryQLUNQZ5nCscUPCJB3rrCK/kCx9/wCu49hcfycO5+yq8ZBcmS9zf79FEm69lZ+DASzxEi3hIX+cCET70fWIM5aCD7NBm0cYJuZsywL5xjsjBDVmRimPAVxQ5Vxvyby4oM+exeaUNFIKOF2iIb83JAOogm+NA0Ji0YJviX0iAB3gMQX7JYd5lMsokxrSLrFy1ZG+bFVkgUe3rE9VXmcmhOrEs9SpCA1fHyEBZ2in7MnHPpIMHsuEDHY87ik+jihZ9P+Sn9mH5Q0X+lUoqVwCWMxkQQQnY3dkVHbN5DzRfIynGZiRjAORQTRGADsnqHBUwXn7nM7+6guEIFg8KasN5tkFpHJWd30//Srk0Jk9vl4AQHsZgRpQOQD45iVcKS3FuRQjBdLz6ksGYOdGWVbVX9wQPVpXsNrjOnIQxnIBzAqGu2t2BLQc4ed/Mb7BTHa29slMds1k31sZ97jphSB5Jn3NkcdAVGRvJQ1geJODPP2jRUrRpk7IwIJBoCRThkfhU10xy2CODMv2hcgoFBGj97nUmvOag4QFOBJADXzC7Biy5dCYJGq+0Ax1fEMQMJjzcRnm9EuDBXuCJl/A80Ms+OXDLJnyKfNiGc2g6PlSOHHWChF5VHyZPONy3ZNQg4ydtJgqWjyMGVI7rIIEMtCepk6Ty0rzKQHeL/MALYIc+QA4KWWafy/5VPl/uLz6AXm9IvyAjPslOW2ljd2ghV+pW492rE+HkrYTUzbjIIT74Ch1o435TgHMnRsA4tIV+c0OWrOcv9aOvQpO69A7NtZf98C80KEx+KYP1pRxgJ0NaJ3247MsDm1TQTyhDLute4i3bM45QnnR4OMzxLURkoBge2IU28Mc24Ptys/QDFz9XXT2gqDHn0ICndYeBtHOlIOMpBzWKiI+MHWJFOrqNI0r1rBq5qqC+ozzkgY96y5e6uF0WWF7iw37SZv3YBI5HjlVuqfTH80sAg0DmCHimfdxK5GEJuJ+6IuXlU8syjrRHN32gAW/LUmzOVu0FGQZq2nivc+OoLgcV/M0AnbKoUptk0wk8uaLKM1VLesTPheJJCnSnQib2xCO2MgUBNKDIjrwvfXWMt2x/+aExidGp85AO8nmslLHSQod6uy15pX7swXFM6DRjmGLqbPWmPCpLnVMmysHnjLEjS5v4HhOEX/NR6wSmQZK9cBijoO22yFFiNyH50o8dq9CEXvG/x73CI3WCZFOWzHuiLXt5fC5kkc0P4vPKc8nP13P5JhAPWo8YM84yVjp/D5Z7m2CJDLRowYKYr8kAP06RGuNkmBcG2jwRwHES0gITPNqQgkB3EBYlfaw9fsQoOeu2tFIq20IcfvgVhVO8nMkRPBnsolVmYvKOE5HJEFyiwWCGgWlD4EBDHIzPMfe97FGduzNalRzsvdo32RwA0I9yX+GwbYrT0JfJhgqdzNSIQEVXz4x1njZSIwF8aA8OPNwB1M71GIRands+yAs9AlG8bQP/gZ80ayCZKGVQkGy0qwHnIJYOlZ47tMoTm2aylfRkopJJloFMhifoLAe+QO5c2ZMw0ib5wBSCeJAUbg5i+Ic2OmyRyx3Mf9iEpETCaFSbHnYGw5drVZ72kkzCJx8bB5oQdsO0b+qa9TjDnaPIjl3zEjpyI5cJJAivDlK1DXyh7A4MDXhpD+30R8ZgYiVUnGySds44zvuG2JQy6tlnm/zHObS9qhGCbWw7GsP0AFH03joKiCGXmS7yqT18C14F6urmhI+t4Ak/AfjEq/UTT67mwBEfEp/sq+zQQPcc3PAzDIpMwnO5/Cp042NDr0rMSHvo6INXzQTuqsS/nhSJDu2yUnXYWQXEAZDJkCtR2CoHBuSBfsYp1KWn2xLjzVikDsgBgA8nLrJcIDnBcq48AUtyDLe2+E0J0wWvNIICFFP3lCVzXNJzXwAVuu5X2Y5jZEEXlE87i4arE4ddxSfHALXHVj2oRgbz1Qc50n6lvwiBY2TBFkDaKPfIAX9wOE860E0+9GmA38Inlq0TtORPFgJstkku5DMWlqit8xg2cYHbEnOIn/0v44kNnbATMhC/NIGW8QXYJcuhpXLFF3Hi+FWZ+xhWQDbJCX0dmpcXU8UG2R47UCnRJGzW+cztq+0wgheUpo0a+E7H2tvXaG3b+dDl9qUKWHQ1vv2h8SgnZCkjecl+kH1sN/SXLsibMmYby4k8BadulTfH4NZjrMgxkybIEzf2hWgPHTo8hvvKgKgK15AnedwPQG1ZKPgEqzsJBMRtCcJQrv+uI2HI8DioGsWKSXheOAIuTuLJfo6JFW8cQ0OSc1wZQosy37tSpPHVRDqlXOIrU6rWnvvJXN7JOh42ZHrKbKiWy0WiQaQy4cBAGJi24GtDA1haexHmWA5jEsH9QR6M9KZJjoNSKNCAP68/Nv2BrISlr72QTs4Eikapj1ejapMDFpsmD35AB1vxNDSDFPLTgQdLJsmLUNpX2dEdPHQTOW0MMsxmc1Ika7mTMDizJ0AIZg9wjowMKMtEkKOLdKqDY/qxBJqwoIfMdHgutecbrJggYc+y6Ry5pLzMJl7o5GTAEfcWmThIFhFkS6qWAOZSQq2FP0i2HEAf6BaS5meU+QKUbDJAx/zCJY6yj8XFVx+sQ+kI2IfYAhebiT/kvYlODsrZmdzZBZTV+5+89haJkRe/kNBoa/qiRwxmkODzrFsqmZ34tOfrVtxfdkxQJnpui1zQMa20AasqT8xMROWi5xWV2sAbG2vIc/sqf9JMvCoX7fCv9dGGn/EdUqrA5fa7/hwHigmzxB5qDya6pf1okzThIXdnv4WmbEQ8spFcsLv7IbQqXbcXPVZzxsn4hY5jV3SUlrPfChmRiRfLQL1karzwRaWNOOVUWy480IfztGsjtoyX+rC3OYxniTzQcFWJQaxwlIXxXbEPuLIvNGkBjWqP+oEmPk486Yze2KMXDowVHeJXk64HFPF2HwFHvPAnPIk4eEGLB+HcZ60HZUSC5JaOuYmGjEdeTAXZcpd5jH4rvuYNXeycfZtz8g0csT25I8mkDlzy5z5/28A29wP6Hf6oMtqu2El8Fnfn1UDyG/oyMOdPQWsv34NfbVLbIz9XEThnn/3PWqqAeM5zZKGf0SfpC9gqJ5GyD89t+Mqe+ie5wrEj+5d+UW2R2cWnLkcuyuGROVgYlGuDPrkFO1c5eVkVdhisTZaBc/JS/llKfrbNyBGZBzm2TI1NOsne8EuTIQ9lpd9gX84LXj50LZsgN7huhM6cCwVFytawm2ilT7EBH2iqXvrQvxkrfVVA6LYpvARI0hug1z+oxfIqkYS9yJUgd6JxuZSRBHXVmYEtw1HPJuXc4QSeTJR2jaSsze3reQFmjkBVl05Q7/9VQ7eqB22C3w+xcQ6OaSIyxsigYPOkRPLyYFqlkbN55MvN9d38mlYJfk0IoFn5m4kAR0Cf05RfOCIJb0yVq2Sdix7MM4mkVg35IVe2DISkST23NlL2kkjE2xMs0UMP7JJy43gFtpJP3uKgYyWXpJ+yF0G95UpQ+uA7dEMvIXCJC7lpS5u8/F99Sx2JheRXaMMeej7HV0kL7o1gNmRXtUzmJ9mxkxrWMh8Ln82Jw2WqLbTNR4c5QGeHqKsnyyJhqE98ztksCaVFruRne9lO0lV4A1RHG/NGPhKY/pCY5I4v3Nmlbw5cyC88ZGJf24Nr26efc5AWGfQF1/jZX/Sv2Z62LR/ra59nu2Zt8sgJH3hJhw371eNqXzbO7VNXVRwRatmSpuzplX32E9B8RQW9rQf2JhkhmyrdLvFZZXngc7HiQPuC4n/JNvsPermtPtafTeU9XNYt5dkwj20+27tswqcsYzxxM4/ApLT3JtA5eN4otSA6qAIii2XiGPrlWEjEFzbJsrQHW23DZk5GL+2KbHVr2JvjQofzzAPg1Jxg6UzLZ5KXCYwnq9qnjCmfdVQRfuDAdM3XHF2OPWxPQMXUt8Zs2oWYSB5MCNynQIaHNseDeYuGzskV0CQ/knPpe+Scal9kqR/o0544pT1tkQk64Fr2KpP1EQ34gQ97+LGhF/KViXuVveYF8xW0xoaBYh2n3ixolINFz8zo2+Lr9kKsNvbESHx824oa1du3tNOGXraZN3TI4zrgVt4pY8rtB5cRhiqKLYPRjOetyF7loW0Dr4GTjbA5MgC2oYA6x790qrq28ukXnqdOfUQcBWLLKYcSQkLK+d0LOqJz3jyd56yQy/oYqwpoZYsSvnxXzws1DJ2TAZ1QVhR0ACiYSoUVQgonIAosksqK4QFwnNj0YUAHN42RT51zj0nIGYQCz15JUpa18pYsAmhwXi9D2cGJ1agDC7o89enkUO+JI6s+BI+aST+diUe2za+/UV47ZAYPl9M1AIpevYICHewDLzoZq14faxDOy9HZAWiHZA06tOMRe0BiUpadCTvlPVYA2ZEpO1fe53KACh88AscdsNDFzr6qgT7aOMbe1HOOXaGDnXNFIPlMKYEX86BbPqeAL1I2/O/EWmgiJ77EzpbDtuOcxJRJhFsF4PryuWqRjfact77D2229Z0DgUjUDmOiqjI9BxyJmbrZTo0MlDbZKz5s+6SOaEZdqD0nsoI+TIXxcKFzJTRmyIGvl0bgsySbZknb2CWG4Ar/n4JvtVGXevtyHjVQAFR0a0nfsvWu04eFU+FNPGXLBC3D/0TlxAy7PeuAf6IOLPRPRyJaJto5rfcCjgGrw6UPVhkwYk2f6GRzwaY8e0KJlHpcBv8honXVsXsKrkxH3V5U7ZnROPEMfPaBPGfW0tX1UyL7Ggn2H7Np6gc+TH1alDQTBQ3aAtmzoUJ8xgSP8C7Lx8C0f8BwP2KPI4jY6SN/Qd1RGOZW0Qy/sQjntxQek1IdBhHZpZ5BsQ9PLevIstiEG+eql/WW5kqfbmGZ+c4RybG/7IQOo+pe4CeQe3tcALXDwBfrxhxTwodz5V1vNLcjCJqnhLkxayZ74WsBl8xrfNZaQuz43wjfLoGd7i04dGMXW+xystXdOyDgFFznJx/m10CV+JwRl6ISdsB2S4EN0r2+jhC7xxTdf0Aea6SMbRYzBkCZlz9XhtEfJB+LFRrXtZ4KUi0/J99Akrzb8wmYaxaYCbFEOXAIt24iNYu1rjiXWqs7ZxzNOPfZ5bACfMQMe9EP2bfltgjFjzSP16guuyMMC/U4G3LHFvHv+glgwa7ZoMXvn5yF58EiCu+MVobQnuTiYJTgBg/Ak7gzs0mlsRI7TSL4/qT2Og46V1TnOtCERpNC0saQ4wUE7HsyykWgPpv4ss+rhmUaDNyTS2ZYZ9YRr3jrnKgDAMbgMZJZP54AHUfHBMdDx71urimBmn+ZKmzHQugOLVyYUEmHSsDyiwwQC0vBCJ8rRl6/L5P2mtA/7mqTrIMvT10krOxf3jfEFbwwDB5shI74AH7HoRJwXF9s2TkA6h6/fcCccXr7kiRN20mZdhU8rdHJyoX3xrUE48KHDIAf+pk3VHZa1w1RaHAxtb0+Z9CHY6ZgkBWy+sCtfUwpgz3wNcCYVAp92PJyKjGnL/I0E5K330eFJgsK3tpHOLYfk9nsxxMfPekhm6BC3TrCS2xNJ8XOSwZfIgQ3VLm0qDoUX/Ls6+EVPJYDy4BBxwuTREz/jKSbsL5Oy7ZCx2oM68LAxMrZjm8X5MCGyZULhJL+WyVclneAkX/Ib4ESNPP5OfrGdqszLsYKdRZv2bkOlyqqMMEMi9EVHvu+NPbA5SRA74n+vnESDWIU/9ciYdgmXV3tm389vklS+DPhMJCnnHFz2yIacqWvKij1r3Fon7fVnPGKGeOO76J6MoE2LfakjLmgPb/NDv9KWc2KJF41ln8vJFHyJCV4uZpwSE9Dg9eT4spHbiv4A57BHfgB8x5kKrac+xIVOnDfgU3MPtzFox9emMSJ1FWoM42PbynU5oEIXPo4tfei75EQGadfrY72Lzchr+MwTeVHBPtTD236XbvCjHhnIKWIh/vn+BfhZ3rLQQX5sCX9yCpeo7QP3qcyZfIXQ7yQQLnHrvKNN4jqPopP7mAgiE/QA5DR9lXsQFh7xhFxomz4Z4ng3qJ4YgV7agzye5wC+AmhHX0ZP5IAeNuSYPIy/mTAbF3uIZ34TiYfyiNv86iZ9FHvkC+uy71Z6dbGFDrQnFit4YiMZss9jM9EkZ0EDBIygfxkDWtQphqhAXtPGx+IPHrp5fFiatsPmXqjL7tyaWCrc4aPGxJDhIzBsEjf9VoBr78IyGSCkfOpqgnaxOsCzjz0e82fO9Ex22rTn/FOhJOgFmiSM1qwDJyxYsMAzMwZr6GCsBfyoiAQfN25sdHTy1jLqeCEFb4QbqnaDokOJdIRfS7w05s2fG2PGjvXstFP4BCCO4njMuHEOrhnTpse40ZrpiMfcOXNj5KhRNhTyjJEss/gVRBkN/rDDWWPHjhGfDhl+sd9+xe9uD2PGNGxYzJk9x7g4jp/A5b3Zo0aPVPls88b4c+bOiVGjRtrZdHDkhR/Byfel6YAE0HDRxIrg8NUPvluPjthntujxE668EW/+/PmmjSxzJQsvV4E2v/M/Yfx4054v2yK3Z5eSDdvmd2ulw4jhMV+2xUkjR4z0u7vhAX3sSXDRUXhTG3xIWOjGu7zpbMgCT+y7QLKMEA1o8Xaw0aOxVac7KL9Rji8UqfYXNOggvP9/1izZWY2Gtw/zq2K5vcBrYGcqTvhBEtpiNyYafB10+owZMXLkSMuGHiNGjVDS6Y5O+QfbYj/siO94UQmdiB+04VfLGISwOcfqJh4AoGE/Sw/kInKxhQce6UvdbE1gmWDgg5kzZ8X4ieOtPzKOlg74Chmg4WQhG6DDPOJWskyZMsWvSHYMjRnjOMRPI6Qzv6uAXthipuxJLBFTM2UXcIhjbDRCOpMMFij++FVB/AL/seoT2LbGJ4DOxA3xiX6TJ0+KOXPmOLnwFs+5c+a5nDjnxT30B/jORRbpXPvhuPGiLTzigje7sVLgtb4TJ010eybz/LgT/WeRjidMmGBb4Rvo8bpk0gHH/nEu9U3HrejRVxhUePELNiS58rPjxB51xDPxRLyg/8SJEy2H+7B0AHgb6ZSpUySL+pD4j1HMLehYYDsR2x3SgTzET4/jC/rFxAkT3W+IS2KKWHCfl52x0RDZFRlnTJ+peBplOvxgEn0Suex/0av+HOOcAI2FjlcmAuQH2pIreGsefiGeSNyUT5s2zTpg65mKZ2QcNXKU+5N/hVV2If+MHj3KAyq2pj+hIzHKjzMx0aW/8ENd2MV2Fv9pymvEOLIiHz5HH17axku6MlfM8Z7BHjsjE+90AAdc/ASfCbIVgyT5GfvPlO8J9rHYSn6m3xOr/J4HfWWsZHn6maedK/D5DMUnfY8+1SG/0D+om0W5bMiEgBgmrxNvGILjedKLH3cbqv45W3ZQ2nCfe+7Z50xjpGw17blp6qcjHDfzJCuTy4mKv+eefdbxW/vfKNkQ25A3Jq8kuzEmyC784B15hfFkqvpnp3zIL56OHjXaCwL8SVw6JqQbEyzikPFs8kqT7UN0550WlPOLiCjwnMrHj5/gmML/9BUmAdAhbxGT8KevMGYwOZg0aVI88+wzzh38vDKTHvqw+6R04xgfIeMw5QzneMUkuOS0Z555xvSY4KEPP7rG2Eg7XopHbsaG9Cf8QFyAj+2ZSIxUvMySPxlzkWXWrBmKlcGO51nq2wPli7Veuk6stPKqmi+URYy0zX8ViGKgWdicDOg/sxSgWwNPmw6feOChmCln8Rpe3hxFos2BUYorODESKzs6CkmIVR0zug4FY3v7UBlHEwMZ07M+TVMxFEmKTj1bDhk7dpwNgCEwHrgEKk5ghUUCWGXVVTxgPPPU0w5qAgmH2FEyNg4h0RJIOINkxOCG0QmOOmFol1MICH5rHx0wLPgEJ8kD2nQC5KGMwRd5xqizkxj40ZRhw5UwGTwEDHoEDx2Rjk/SY7VBp2agwZTMsOkc8KbTEoQ4DP1JqtgbXgwOyEISgQ6yYOvULS+7U8crnLEhCZgE99TTT5kfdnzuueccVAyAdDySAZfIkB3aDHLYFnwGduyFLUiWBN/Kq6xiHTvkUxLtQrVbY601Zb+lLZOY4bZJm4IN4EdqCExmzgwYDHQMGCR4Bmj8js3xAx0UnvzwDP6mI0+ZvJJ/mphVI/QZoHjIk8QzTfoMHdIunpq4qWMy+YIXx9iBGMYW6APPmbNm+lXXxA0y0nmwJRM06y8b4i9ilWTJK25J4uhGMmJwf/KpJ2OKbILtsed4EqPkwYfEJwBPyol9eDMpJb5ImMQBP+AE/8lKXpkYetRhJ/vX4EjW9LUZSnTE4PgJDFKyp5I0tEieDC74ioFwJdmH+EC3cUrcDCjogL/hWX/mlUGWpDBB9J6T7+kD2BMa8CH2Mrnxq29D5BMm9hOMM2PmDNMm7nl7JHGAPafPmG55p8t//NY8v0M/VzRI4hOU1OiHTBiIIeIaPrw9kMkHk4upU6d6gGRwQieSITJQzqCDD+nDjz/+uJM+gO2IX+IMPWv/wI6UOXlKFttCMYT/8C0TaHCJMQYGJhvoDA3K2PAzAw14HeoH7Jkwsvp17KkP0lewnaqc1+jj+J9cgqzYkz5CHNZvJDHpIN6hgQ/5cTRinGN40lcZXLiKxHMLwxTH/g0N50R+90ITNAYO0QUfPaGbkz9NXLSwQEZsi4+YYFR9APB9RU260JBj4okJaMYWD+ANdF9gYCanMnHlh2wYMOcLBxr0AeyFbfEV7bCh+5DsQk4gZ2IPBlTsjG/QH33ygboB6uOaFCrOOH5K8UQeYgAjppkUID9DE/anb2Su5WpGWCfwyRPYjfxBbqESfVgtc0ULXcm72IOcDf3Unx+4ay7E6CPozuSd3EcugRj51DlBehEr+AdaXDFiwVHpkO/JTeACTAYowzbkO/o+9sBulKEHNsdvyA1/cOgDjAUsyvhJ5uzDYz2OsuAbrckntL2ytyWW2jfOq4o5+NPv8AX+YXKADhmT5C9ubw2wL7FFu/zJ+MzX7znXP8tv0oZlJwKA4lNWFUgnt5FpFTCL/WBVhzpvh2YgPeooXIrAwAzMXGYaLOPTkvMyn3Cws2rkQgdsGIgR1E/pS/gqE7WsfAkINxUNHMKEgY5HY5xD51+q47wUlZe4APixcveleQlBx+GccvjjGLcXfTbLq6CDBpdX7ATLlm+N4hj8NnVi+NNhHERyCPUICW3f6xO9+uAJzgefyQn41JmuOiNBqkIHGPQ4hQc86QAA7etA6Ethag+dvMzI5b+BxqcxgYsO6IOBakdikMMv8EM3eDAxoz2zbV9KVRs27IUs9T4ekwLLoDJ0QH7jime7OvxQDej2gfhJfMnDZTvQ8LD0UbDWHwMpCChpn1lObGbMcplTvoIvjsSW8Hd9A0+gY55QlmDW3/EoXUkuIPkqk2gzWSNZqJQmSd8HKoFPoUh8WG4V4yvTLHK6DTiJaF6UwCu7BSVq6E4KinCgL/B/HWPv6k8TKrzNkwLOhUwVL0+CJ7JDwbedRDNlTxwAPq5Xu5SF83KMfSwDdkk6qjAOcmCCbCg68jMF2Ik4ND9BXqlLMKVi2yXZzDQc9yq0/gKeUCYKKIZ/1qYsjm/OaxvrozLL1bwsSx12wbbgpj5CI550QOu+4DJwrZOksazCXZztkRgc9EMW29e+zUuy6Oq4Vw4CoAOnejuR+sY9YexpAySedQdf5zVRW8cij/1S5MFezcvAKlM5gyjtfbnYpKABfSTmWPwdZyl3o1479y3toVnth6z2v46JO/a0cQxST1v/Ez21tayFprno2FYu/LFf9onUCxsy6DRsKPxso9wBLvFU6aBn4U87ZE5c9mlX87Is0HcFza1PObRgyAGOdcJX6u/2ZYmLimd9BI5n5MV3kgFiaQ/kSpwqI2Xg2s/gai+GPsb/OjF+kiaeSy53AfbBD2mr6vuaN9MXqT886H+Mhy4TbeyDrOR2dIEu44Pj39RzMyvzLraChvA5rjEJbdvZ+OhT4s3nwi+vzgYZ2agg7hkXTZMCGJmHyQgaB4bGZMBUC5bviUtoHiCcy2UxHeNgIB0nxuBqozVCICiDpCcEUhr0fGEPRiQhZPAyqDFAcZkLOrTzQFgcgIIY0zz0qQM1A14ORikHZWkU+p1wJYj5SiwbUjh2GAcWlYDO9pR7UKSeD3xVl/dwCLR0LjNK5MU2kijp5JHpiZCOMEA6S4yNj43QCRvBk4BATtpZXsnJBt90tmrEkyBjwLdc0FYxctXAA1i1AcwOrVPpGJDARsbVBl140NkJSurAt1yyFZcJaxI3iIZtr42vkPL2Kn6Nkoce0YOEgFWtQ7awLmwSQbTyWKx64QCUI1+jvJz7RHt25dBxY+CkD1Q69rt0xK4gcp5xlvsKFb8vUA7UKk4bZaUw+egAmvIn4K4CH30qv3zuQ/4UCi4DwHaLxgFkCgPTQ+48XkZAFVX6HJd/hU45bhJNEtBrrapu5Zit1lkGFejP8cVZlQW8FiiqNotL074iGEod9qm2agKxS7XKrWshUOm5Ifs85LhV/5pca2Wrf6l389LeNYlmX1TVsiKhVUbHi48E9cD8C5lClzOzdWFpV41TcBr+pVh1nFZRKz4YBctNs6AMauQs5KKMnfa1HXQ4piwnYsitQsqlKE2IwQrg6X8e+3+RqR5r63WcDRqFtreOsxwM/a/kKdcuS/uHJJOyk5sSuXeLBk8Vowu1lIHf0EXH1j8PIel/7KoPk34OgB439OEYvNoW4BjwvXXGC9XAz3YxiSYf9gXdEyDXeUsRSlXyFvjclSmb6UqHrIZgtkjshMqbmmoLfGsoTcpZLxkYL11XbOSWOs8FRi6SIcf4CD6TRPYNWQS0b1JvwgAFosdL4yVWmQws8euIZ0+frlk4MzVV6x8DArM3OikrWM/0xYnNRtYeMlaQY7VBUCdvVbA6x1mshutKhgEf/jk4ZTAwQ0UkOq9FY6PDFCX8vvCSsVCWwa7SYACsdFgNubuoGWubKoPPVQ8Oxq4TjpQnB19wcbhnV9KDcgAZsAeQejIwJU6dxFDOd7Y5h4dlNaS8eZTAKh987MHgThsgNa88OBZfJgcM6DpngxR4lgmhIKpC+DUmUVUmyePOpnpPHFSWqyOaMLFghSQCknfEqNHRxiVT+cFgmXMzz6pOAVcL7MJ6bPmanc7lfRtmYR6ZMH99cVoh8Rs0C1Q+5aSS7AeoaLarUG2Zx5WEDnycFU2eTRrNMhpQ3qwDTIeivqByYxXaBiFW1MoH+rRvxc2aJtTzZm2FWtqCXYqqrapuFSjt1Ur/wGlgZbNEaEAWmia4jTodqIw+CQXoNDVsAnWU5j51bsiVFQ2o5UV88zJfslgLXoWmLAmterOI4bTBq1W2xmGpa5DPOPOx/lU5EiCmP/ffWgEmx03dsjSpAa0yNaASVpkp+DTp5J5DHZeiXm0FlSbg45b6PKr1vdsB9oPaFNKlrc5qgfdFLm2tkGWUarN8pREVraBi8EylytYic7NtgUIm/9WTlnpBKxl8a5uUwqa9s43/l/EjzxIXvWsLABkbg3QLUA4f19BUH9NUIR+ftLTLeDNG45g9GFlqMr3APkiipp9/BasiF5qJK52Vu62H8jA1lr2BWw7reR8okwHVQpSGgnxafkks7OiI2dOm6ZDZFEZhnMgnqes9EZgzsDBQ1vvqACtkBhdIWlDVN4yqHR3Gg6/K6+CMDDaYjn0LQMeLu/PKAAMaGwQZXH0rQHLxABAyJC8ckrzMhjZtWmk7MCCrtqpHNmZYjUGRQdIzqbxSYfMih4DbFxzCi3pyDkDbdCoJhUuRGsSLI9wAXOFxiB7pTOqyvXVCbtqokHNQoOtJjIxdRDD4WBv1THZyYsKER5SFb3l0zC0KaHEFgEkMx9gGmn5TI22Eiw+h4RdCIR98B+StFyZ7PNzUNrTdVwbgiz7I1z9QYSSfNQWve0B1VC+XxvLBMSFAxlYCTbuWggKgG7UF0BtoFvdBKPWtEjfABPMwd33bCmhIcUP3Ci24ywrlfw15G9Xpk4Ss6E/P/qEv/xWEVnb9QS+yBck7VfRq2z+Bhg/9v0C/J70YCfqnt+KQ8kHVlJr/CtTKPmUVWg4bAGotb21WQbr2bdYk31+D54Hl8W8F4yRiQ6xWfVrqm43ruYC+3Qq98DlqHmdr/W+Qb+FjvL7nBVrjuRWlFVrQG1BsSW5bPu2y58DIHFfcFjxDKW8ltVwAqWjfkF9QbNuXwzIk+7I29GnFrlfDprWbPuxD2Qj6Z5kqNlDwaKettQboQ2UZ6PfKAKtHJgALOxbEnJk8kcotgCTGQMIRkwEGcSYHCO2BRQMPD6YwwNXVPqteBnFwuJKQfJIWl+U5z8s6HOoj3uAyeEEffZ0IBZTn6ju3pALBUueypEcbaIh5vmhIhDzQavPAq1khl5mZVKAfvHxJvdKwoZks5GrZEyQB8lHFIMyWtsrJBsdMGOpADi2o1EErcYu8+jCBQEYmE5aJcrXxxAaDyzONGa5bIH9e+tehgJU9s8FsBxqX/wEeTOJBRvCZ8FCPL4BqB1/+Nx0o679l1oRANhk5eozoIgf6mwFosCxgZO/wm8uNAlKFZjk7/qVtfGYwiXKaeqZ9axw0yNFW526rvTFLuwZuZVba1KaAZSxQZWyWVFi2JKHQbfxvBUpU30RJsHB9sC1jH3DTKn8p4L/15KiWL2PZvtQLZPusrccrBtWeSbg3P4Pqq+8sbh+ZE5qt0ublvLVdA1pP0u/LAA1sixa6DVpZ1oukoJLJ8r5E+2Kbs0qXLa9t+U9tk24TtzWueoGL9U8y9ke5NyT1Jv0KOmo1Sm/jtYBw8i+PBc14eh6opHvh1sIEzjK/oUfB8y6PjS0ZsxX/hVXo8T/7pk9boG9Btmvi6l+L3i4nly8PWnBNqy/D1mrXJb+E1soKfdoL+vNzpdQK2bLU9Eeaukq+Ve5GWdnXc0OvkwS37cOjgaaDYoN+q5cD/Vo46Uh9MfQqldGm8IYkAxfGYRWZq2Hh6OMBhkFN7Xh+gAFXo6jbITvjKUU+LucOMXC15y12zAvq5jfwCU+H0cOAyYVtDSaN+9jIWQZ8JiMebBFR4EHZMuiYcVbjIL87wnNE/NSC31Dn11+28IRZsRgB7Ycfdcy1As6xBavtehWCOgCe6CUM69N4i54/iYBkHKtZPoBYgtuX/CuuKqlPXH2klwvyLD/G4ShlZEIDrfRT3gKp95iYqAGZPNlyIkCdbeXyIpN0QjfwmGC4zvwlZ4qQUI9pJCgUfA7dZj2b/jV0qLicVlwjuayIIuiNm+cVN6HKXVAbKJQ22/WFglQa9Y/XrE+o5xmf/W+A9g1dyma7lXJtxGq/PF2tfw3gGPsQS618XwhU/Nq2v/atdZKPfT1dLkiDfnFqYe8K3NTLV9qaNkjcem5cfwQtdkus/A80yTXLWqFJvx6D17otC8ujVdtkfe7zuBWybhmw/JkPmjjL24BKu095iy2WD1nf6FPaSrZ53q25GEjA+s0cWvGAclxpq1G1szFUljGcOagCOMhRt8Ru1jchy7It9Hu3NU+fLwdo19j66aut9Ya6BzhubslzWUjvND9929Wttvde/KqNTdMycFCgysRW2i9z3qtBC7S2bW1T804fWLZkWSBV9w/FIpmUMki490fnzpV8Do7exBxH4kRfwtYAx+X2OtCx92YvMwiped1EBxko8/1rNtDMAs48H5A0c8BnQqBCSU4dVyCgy958TQN60IGQyIDIIe39fAA65KX5nu7Fwe/f8/Ud6pNP0kE2lxW+CIae6Esddsh77il3vU1Q9QBs3yIHgLbVZuAwcMMj6/J/yq4jRZGtQ3PhJr+mD/wwiVtkS4AnmNGFUh5GNK79VvBKZ0kehQ6VlBYyPOOBHcCzPjoq4i8fmiIsB5ZFqCVJW/J4D5SaKlALVJwG7jIof1fSFQCILst72ZIXArRu1XHFoErSH+++tDgnCfUP9JfWrT9L1bbL0lgWf3l8WnHBIdbqcYXCv4nYBJ1nq5YW9cC4pUELub4kgBdu6X8WWgTqdfzC4B9vWe0AhaTyfBZo1oHLWd+tBeiH+qulfWobMtfuWs9LWvG+tW3f9n0B3yVe/d9k3rd9Pe9bviLQt+0LaV91XDEQtozzQnmsECCIt+TRF2r1ikC/3ybwILG4JxZ2dsQCvivd0+3XE2tEEopw7GXtdcz3S3tU58FepFipcvmfIceXsxnEoJfXoE0fYDBkIMpbCEnStLXxcb0Kc2DmgTkNSSKal9Z5qE31DKSs24WXckFZrXXoy/iizbu34eNBHjyvoIVWBnc/7+DVdH59jSrLUO6fe+YMaeGKc6kvZWzij+4Mwo3390tnJlHIYFsKC75p1/zWBaLW1Xx+00LELBg0+Sokl/YH+pkJeIHnj/bQwR7e9MlvQWgiID2o4wUgfhZC9Y1bA+WKhidM2pKfK1yPn/gqGnINUvvR48ZFW/swP0AokpYtpSvgMuySp9QhSwX7o0DKm3XWwXZxjcsqVN0q9HtejlvbVskaJWqD7vX21PKgSeHvw/KprDjA78Wg82JA1b3K07RFU8p+Za3+cGX6x/24xDJgf2ufk+aEhv8bReVAxWCnr4np7Bd9gXJoZAy4UaO/Niaz/lcZUNYnZv9FkNyBevTv4bs8SM2fH5aVGdAxC5Biw4bNi50rtLagvPob4LzR3v+zDB9lXS1JMI7qqPcCSafeg1/OnU/JVwU4qrRboYmxYtAfDeDForM8eKH0lw8vhhWa0Ox1fWjUUzo6gwyDiJ1SynEWv2vtl09o4NSpB2q+m899+HqPJ/FLIKjIgUWVCvyzwAP4VgJv8tOEQ8OmW5EUNEDyNUUNc9GmBm0azIZoPxA+QhmigZdB1T+0wSCtcoLI4VMCi+8W83PI0OpZvEjUu2PJQA2ug0BGKpJPDozcEuB7+p5EIKPbM4hJVPgyKCIa/zyPIIChyy8c8n1iEPmWhOQSLnarMwluf+RbqnI17ysN2gM1yPNKBLySL/gVhz3vMK8DOVcSWjtgqoys4GPfNDCyskHTHZQGxtMmHqlfbvWrKTWBI7/niRCApkvLqaHSIT7yBVHJI9sgs8Xh1LbggD/aQCRjouoILeoB6HDOA6rs0yb58ij056HR5CGZtWfCw0Oh8HFZoQ2vBtHGcXMDZ8W2Zds2txUHaP3j8M/x7gtVtwpNXdPXvXTG1rK/Y8S+yTjDN55sau9YMJ58UPzNV4jZ/PVcQdblxN7xJ3K4C44u15bPxKiP+EehiHmu2uVLvNjAI0bpd0zik27tE7khe9XnxYEWW/SzJT+2+llRoP2LD/3zX57MiZ9yN/PGIq6UcgBo7/yvvTf5rrYD6J/4pOYOwO9KKT4mHHj3ifu1a8t/6BceNOUcCn62rAEqU6Ept+CbhDbK67ZiUBpC11tvGitOpwn90Xi+7R+Hpuy5tUCjqE/5C4DmlQFDimqHyyGdHQti7qxZWp0qCavjESq8H4DL9vBkkOQngxd2Lco3umkgZOPqAC8CWkpAEUT6+IUnGvzp7DiUmeBglTFA8nYqOrFXw8gg2nWlAQ/8v0QDLpMHVsH5LuwBsUgyMfiapNSgzoOYPrQnSXgVjrwadHneABmAJVpxEwx1tQ9vBvR88JES2vPIg1by6KVVdQ4+tBaeypdoZkIZsmMbfm4TuZgckajyiX0lQx3zUB52tTwQFgvrqHYEP8f5DEbqZX3Ek1/S4gqLk1zpbPzPSQRO0J97C4lY8kkSVvbY2S970sYDnfmtCXAkN/QlCz4ZwFUc7KzyvHiDnwbHkGHDY/jI0b4yIOHMM1X3/2yvPfSIB2j4jV+imd91xQdcjRA96BuXAYLEPsBv0+KtXACyQRfe1DP5BHjvglVTORM0BhbTE0Db3yTRh8GmvsUS4P0QfiEHsiIuzNlBrF9YXjmQ+v7j8K+kXaEvj1a6z8cfWB6uyvmTDYnPjHP81+M3FfKGSd6gSNwS51ChtSe68jOmxl/Tp08zHfIDr66lPOOevqoeKPzuHt79n79B0dOd79tIsfzPfJng4mf4cxuMV9Py5jzebolfHcNsihPnGKvCv6Tx7wEzfR5YUVn+Ebn7491Cow85cmSF7BfZHt/xcDi5hzdG8spp3grIm1jxQ/U1+QhgMcg5LyWqPoIcx7wThZ/V5Y17Dzzwt1hjzdX8lk7e8kgMEB/kR16r/NCDD8UGG2zgtwTylkz6e12AMlbga08yBbRNwOflcIWgjxEMfQn0h7M8eEHMlwMvhN9yYHkkGuKtmJxlMtAb2UlUTuqSE+fyrmk5vodVmZzHZMADpjocl9IXqfNC4brrr4uf/eynfnf2AQceENtuu220Kxh6NCnwapuJgAKMxF9XcCrJBKNjn8uzDjLteR2lwkABQeJgUFBAjMhX/U6fPjMuueSyeOMOO8Szzz0dG264vukyaPAyHl4lO23G9Nhk441jqWQeoBU8vyn96BNPxMC2JbHWWmvHok5en5wDNAM3P6DDysSmkD6YICccTEKU8Jjk2EzqRqpE5y4FPu/lfubpZ2K99daLeXMXxIMK6g0V1BPGj4uuTl4V2aaBaqFlfuihh2Lrrbbye/3NV0nWt1KkM1dTBkoHpjKLCHpHef1BCjslveQ9yVZnliMv0VJJ58mBc5DbJ498738+9Ihb+d1rreTFg9em8iZJX62RQj3q2Og1aMjQaBs6LEaNGy86dDw1NHOztB1oD106+n333RtHHfUVf7WU16Yef/xxTvz4xBMCbSQZXvHKKu/zn/9c3HDjjX417SmnnBKTJk7Cqk70Dz74YHz0ox/1a03XWWdd1/NqTuyDrjfffHNssskmTg7ocfvtt8cnPvEJv+/7LW95i+Q4yq9RJaFgOOTEDsiRSQ9j9oWi3N+Fvm1XtN2LAf+M3P8gyG7Yjok9dsTXB33woPjD7//g17YeeeSRsffe77J/AF8Klo3rpPMXv/hFfPaznzWNjTfeKM4888zg901wA7mD7qaqmDlrWvzmN1fHO9/5zjj//Avijjvudo5AZ/8Sm475LYB37LWX4+CA9x8Qt/zlllh11VXjhz/8ofu5Y9w5oHWAeDHt05/9K/zfjgPghciQfs0j+nMdXBO4Kvn000/F/vvv73fr8/rsU777XflwY3MhX9C3/3r7X+MTn/xkLJifv50BTX4bgon+Rz7y0dhjjz3illv+4phZafLkePyJx+PEb30rdtxxJ08OmUj8+Menxfe//wO/vhnAn+uvv56PAV51fcstt8Suu+6qs3xAmlwGZH9+IdBquxVp29fW/04/9wcvRJ4XqqvioOz7gexUJP4eVu4aROhwzPw1Rka3Bp55Sg7PaFb3icMPjy9++csxeZWVY90NN4wTvn1SfExBslCD3SANOKzI/VSlPrxTnM7NoEU80ueXaoXAORvf66dTd8NHPufmwdzO7vjK14+LCy+7QgPlgJg1f0H8Wse8LvfY446Pq669NgZr8jB3wYJYIhq/OOfcePe+74uf/uKsWKyk0yNGAwcNUfI62omM+/CDtYrvWcxERAOxAp538oO3FLkkq69caNXMStQrV+msqYkMIju0KSg1weANfU88+Ux87vNHaGAaEHfcdV/sd8BBceiHPxqdi9Q5pLemPb4ycM9998UBHzhQE5XpnhGzSevgt8v5sRUmBZR1S55F2n/8v/4rzj3/fC5ZRGe3kjF+0GDY7VsqXLLldgNtyi0c2TInAmlXynxgGzMgMsFghZUdOXXKVbVn9yaQnqcMX2VC7h1WlDsGdMzE7OJLLoqTTj5JA/zn47Qf/zj2fe++8bWvf01y8UuK3D7hykeuFp955ul49z7vjh123DF+feGv41OfOjwOOeRQ0bjE/J988iklhx/Ht7/97bjooovjve99b5x88smWmXfH/+Uvf4nTTz/dspNwLr/88jjttB+r7Iy4UZMLJqDvete7/WNCXCWBJ4BdmlCU/IeAtq3bvxNaef57+Fe/M1nnNwze/o63x/777R+33nZr/PEPf/RqjgGfGGQlSOxhc85POP54/64Bfrn99tviq1/9anzoQ4fFY489ZpqOSe35/YKPfOQjce1vrhWfnnj5llvGXhr0995773jn3nvF29++pyZ/G8evL/q1J9PEy+e/8HkPEKee+qM47rjj4nfq015QiGZuitLWoH1RoNq81e7/Hj/0hv54vlAZyLfNDaj2YoHywIP3awD/gPrnf8V5vzwvfv7zX8Qxx3wtfi875y3IXMi85CVra7L+HffJnysOzjr7TA/m6623vn/Xgt+UOPOsX8RFv75Qi7dL4tprfxNXXXW1/cjvD1xyycX+bYrLL78s/vCH33uy+J3vnOwJP5MLJhuf/vSn49577/PvY9RbRFX+Fw7ZdsXt1Yq/om3+lfBC5FlRvCb0PxmQoUn6zR6VKyuSMKt8JgP8QhUzhcuvvCKuuuaaOFYDwMe1QvvM5z4b11x9dTz88MPxHa3q+BqghqpYoOTNQNetjsrKk0GbFTAXhJeITle3BjWxG6iVNO/GHz5qdCzQxGGhEsuQ9uEaTP8W991/X3SqbNjwUfHfCtCFmqRssOHL4gIlCt72x6DDD+vcreDRYfz1rrti5JiRvuw9fdbseFyDzeu3f6NO22KuJhSssXmxTo/awBsZmITwoCGX6udrsuMfe1B7v41BNmACNL9Tgam28OqSDLQdzw8DSZeOhd3xpxtuivN+dYEnTPzgDzq1t4/QsRKW2vFu/C6tkqGv2UYs6Or0xGGROhh1HV0L46577o2nn3nWVzrwAuwZFD0r1jFXTVxeNsBXBFRJR2E17o5bBkImDkwQPEhqYoBrcwVH4sxVGGX2u6BOFhrJomycMXAzYYDe1fL1qaeeGhtt9LKYMmVqvOa1r/PlPhLDoMFM8LI9P+xz/q9+5VXCG17/+hg9ZoxXGieeeGJ85Stf0UThWSWfT8VbtAJYa621YtKkifF64fGDTHfJjyeccIJWjnvHs8LjcjKr/9/85jfxzW+eEKuvvpp/BOUtb9k1XvGKLeOvf/2r5Cu3QsoEqXfy4Lh1+58E/z55sRmDK7fIzjvvl5qc7Rs77LCDfwSKHyg65JBDZP9v+oeH6vMd3JJ6RH3/rLPOive9732++sMPO22++eZx0EEHxRXKF8S0iBv/yiuvjNe/4fXy4armx2p//fXXj7XWXjvWXW+9WE2+vevuuxUjR8edd94Zx2hS8YpXbCW6K/sKERPHG2+4wf3CMd/LPhnLLz78T4ybvpA6VC3wBcCv/33uc4fHG96wXbxuu9faJ6uvsUZ89eivxqWXXNZYlTMOcBVg3XXWjbXlq7XWXCNWWWUVX6Gjb267zTbum9u97rUxdeUpvgq5ysqrxA5velMcf8LxMXbM2LjpppvjiCOOiImTJvlK8JprreGrhkwg4Xv2OWe773I1iCvS5DfnIAldxP0PvIjAaOGDVtsSGBib1TGrQxySEwHN/IsXuhZ1aUIwVIN8hwbDxeq8a9phS7RanDN7Zhz0gffHTK0m+LUonit48JHH4vhvnRRHf+0bcaQ69A1a5fUooJZo5XvHvffGlUrsd99/f3xZQff5Lx0RP/v5mR7MGHCvufa3/qnLm2+6Ie6/964YOnioksCJvlRM4rjhhhtj+oyZvqKAjFxa2mPPt8e999+rAbpbw+bAuOu+e2P46BExZdXVNaB3emJwsiYrXzzyiPjiEV+KX17wK088mIgs0GB81rnnxpz58+L7PzxVs+MLpOPAmDe/M2646Zb4xgknxtGaKZ93/gWi86QG8e6YMWemcLh2sDS22377OPKoo+OxJ56KtiHDZTNNfHpYlbdpoF8UXeIzW7QvUyL8yteOjW9qZX2FVkYa5WKAtj9ed33MnTc/brj++vjLzbf4mxzdkolfv/JAjgPUIzw5kP04xi11YwDM2wIaCJkMqIyk7vvxmnD4gURwVUbHwma0q3uv8kqnb4DKW3ZqN8C3YxgUWCX4l7800eCX4F72sg3j8isui66FmuyoBT4coknXA397IF772tf417Xuuvsuz/b5yU5WFc9Ney4efezR2GyzzfyLeXfddbd0GKhV4js0UKweHzrsMK8Ytn7l1p6IsH3uc58TzmCntPosAr9AyRUdT1pRpj+geDlV/z9CjZv+oN7a477umzQRIEb4FU4SNL7beeed4/bbbtO5YlcffjXyNp2/5z3vdVw+9NCD9jXtt9hii9hzzz39YjImkvza4j333hN77LF7xhsPrRTHMOHDx7TDr6+U33faaadYeeWVXc/VB2gQQ7wtE2Aiy0eE/FmeTv/zoa9iK65o5nbw65bAg9Rdyk3TZO85ymVve9uu7n++Pad8se6669gPTPqUOGTd2q5eccznyX7/u9/FF77wRflncdxw4w1arK2veBni253kpC22eHncrb595113+tcPvUDRhj95dmz11Vb3QpJf+Dv22GN9m4lbS5bb+arMBKwHAuTpCzDBf2A5kMvGAq329HExOh2LJEAny0S8yJ2Vn6FdacpKTsSnnvrDWG3VlWPqlMkxUc572267xZePPNJXBv6i5HDIoR/yCn37HXbU6nlRvHOfd8efb7wpOkXvKk0EPvuFL8Te794n7rnv/njgoUfiU5/5XFx86aWafY5UUN3s3w6/+66/xh//8LuYNXN2XKhV5pzZsxSk62nwnxP33Xu/Hyx64oknvPI4/PDDvVKYOWu6V+83a/KxumaeWqbHX26/I/bdb7+49re/jZVXWdW/6/3tk78THzz4EF9hmNfZGd/53vfiHXvv7UnJI489qYnNnDjo4MPigAMPiWt/87t4+JHHfXn6q8ccg1lizLgxMWrsaJ6kiYMPPTQmaZA897zz/VOSPNDHMws8MMWtiPmajBzz9a/HCZrQcBugbfiw+LwmJV/+6tH+PYDb7rjDl7oZPC+64AI/r8FDcfiCQd0vGmLVLZ/4LYHqiQzu1HFMf+E4HweR98Cz91gp44ZBpkdbC6+NTlbfXkhJ9b3jQAW0cwRwrIEWGf74xz/6t9hzgpJXj8gNXBnAD1wKJHnQ0SE0pH1o3K8J35577qFBZJfYaeed4m6t+kjw/CToK7bcMn7+85/H9m/YPnbc8U1+BgBf8nOfo0aP9tUCkhOxCF1+Jpgkw0QEfa+84grLtNFGG6GRdQJsC/QByu4/kFDNsoxhyikDAZMBnothBVfLqKZ8i823iIeUvHnupj6/8tjjj/vS/ic/8Yn45gnfjLPPPif22ec98v3f/MAfyZ/tCE3Cd9ppR98Cqre+kIcFB8ds3/nOd7zKJIbXXHNNxwE8uK3GpeSDP/jB2Fj+Ji853u13i9nw/39AINO0To6b3YFBNfMCCwd+gnrEyGHqk1Nkf55BSjvKFTF61Gj/jLUTRDGt2+rDyv7BBx/wz5hPmTLFP0dMTKy22qrus8knYuSIEX7OisUdP/dL+9qfIfn0M0/H44895vxS2fjXWvVxfEkWe1l7ZKsaNTX7D/yj0GsyAGDUdK8gI8EdlY7nWSEgBy5Skh6iwX3HN24fxxx9dPzx97+PzTbdXEl8lzju+G/FX279qwaXdj849+lPf0YD7QfjsEMPic032zQ+ffin4otf/GKcccbpMYgnR0WHlcH3vvfd+P73vx+nfOcUTSZ2j0suuUiTjrY4/FOHx0vWeWm8a5+947377auAG+8V6PARQ7U6GafAXT0eeOChGD1mXPzhD3920hg9akyMGztR539SAA2Kq668OjbdZJPoXtgdPz3jp7H+uhvEj049Ld7/vvfHhw/7aJz4zW/HX265La699neeIfNiopeus54mAz+J/fd/X1x/3Q2qvzXe8Lo3xNlnnh3fO+XbccaPT481VltTgzXvZOiKDnWApUpsIzS4H3nEEfEbTTauv/FGWXlgdHUvjMX68PvWt2pyxOz34osvjk9+8pNxiCYhP/zBD+KX553nB+ZYBXO5dI/dd/e9eDrQwkX8fjuXybLz1nuzdYXEDJ0kyi9F+quaXAGQ3/AVHYdZPp0Ol1JO8uSYjkY54G9AeHDN20EZBILWnqZjBgP20OAp4+YT/mrC1R7JtmD+AtmRh0fzqWLkuUUr+3POOcf3GO+9994466yz/cDfqT/8YXRogvRbrSqYpNx6661xnyYNXEL85je/lfyISQnMhv4kGPRmJfrnP/8pPvaxj8fXv/F132rgMiVyAOACVZXmwX8AIAYSljWMbUexkOj7TLwYlPM2k5I4vtCHOCD2ctDgClSP/cpthJM1mH/xi1+I448/Po5WnuABW1aNFyn2X7rOOr4ShL/83Iz8XC9DQ+OuO+/SoPFcbLrppuYFfeISvz/66CPxpS99Kd6mPvKqV73KMYas/3+695/Q2t0j+4gnWfIBeQC/1gd/q0+wP4N8QuWZ/ZErOF/XAuc1r3mNSgZ4oJ85c6byS/5WCg+L4zuuII0aNVJ1s+zXL37hi25LnueqBJNH4gsa6W8eCl9odl5sEJM1Lv8DLyr0mgxg37qRAJibuRNS4go5k8FCTuHBN0JkqJy9i1ZxP9MAe+QRR2rF95Y44yf/Hfu9/yAN5lco6d8f056bFkOVvJ96/LG4+UYufd/EiOInx7s6+CneQTFGs06etG/X6pTB75VbvVIr/ulC08Cs5MFXCIe0K5A0+HC/nyfTB7cN1OpwYmz58q3i9r/eGcPaR8YVV1wd66yztt8quOnGL49f/PeZ4j89Hnv0sdhsk800iVkY991zb3zsox+LsaPGiv/CaBvQFuu/dH3xfFXcqglBeBUfcdBBB8fUlVfSrLctbr7plhg+VIP8F4+M8Xw9ZsjAmDRuQnz8wx/zOxA653fE4kXdHlx7Fi30ymi7173Og/2cObPdAbiNwbcLzjzzLAc2tze4rHbHX/8azz7zTIwaMTJOP+3H/tZGV2dnfh1r/LgYqElA/RYH9OkQXAWh45Z+XIAkXVbBXHK1I+Vk+YoTOniCPKqOab8WVNqw+d0P+ngyQCW0+gCd1DIoafDwIYN1DaTajKshQ4cMEy6Dh5KBKrjXfLgmgtxb5NsWa66xup8XuODCC/xwIROBd7zjHZrkjYjhw4bHFi9/uZ9FuEmTCHiyobMnGKw2JEO7bLTNNtvGiSd+K84991wNEF+M22+7vTzdnLagnf6lgACHLaf/v0OrebCX/jXsg+1ysFes6Rifg0OC55wVfn6bIMugA/6BBx0o/23R+CbIpptuogXBwXH5ZZf7gVpu+RyuiRvPGLCi570CPNTrrxnrHDo8T8DDhaNGj3LfARhkrrj88njrW98a73rX3rHvvvs6XuptzEZcF/n/dwLKtW4rAEKrfahuvSH7P5OqhVowDRyAvfG9+rfyDpN5ctCwcouHvkWmyDwR8dOf/tTP82z0so0cK/xgHbdxGcgJHYPCCjrQJRfwDYG1X/KSeOtuu8XBWhDx7YNdd9s1Nlh/fU8qkaf6lLaOyz6wjBr/gX8Yek0GGtBqYDuEe9OsGLWKpFMqwfs1vur0N910o2fvEydMjFe/eltfDrzssiuV1N8ZXzryyHj88Sc1s2zTyvwqrcR/FL++8MK46KJfKxncFC/b8GX+LqsHNg2AQzTgD1Ny90tGJJln+w457sRHdCrBL1RwEsgEpMZTBduC2HPPveLJJ57S4Hpd3HfvPbHhBuv76y7rrbNu3HXHPXHTjTdocGmPqVOmaJDNp1LXWeel/nrUyJEjHVFDhwz1LJbLZNwC4Tvr64vOYk1GhgwZrBnx3BitpLTy1KmWlQGWCQoTF2J0+HCtbtRZiHylSO4WxA47vNFfyzn00EPiuWnPKpEu8iVRBqpnZTNWxmdpYvCjH/0ozjn7HD//sOkmm4q+JhWaADBD93fp5Y/6oh27RMnSgxwfVToBCic7ELcKqAM3z2s599zY259lUuEHCAs9NuxKgudY/+DmLakl0EEBbMFT/XWAAB9e6LbS5CkxWpOtJLHUvh0zZpQv+edLoHjcMvzwH7YfIT/wQCEDB/jwYDW60kpT/EAgAA+uQsCDQYFnFuCNbWgHbb6qxNfOsItlkuTYJgX5D7wQqDYkFrn0y0ovy71znPztgQdiiuIAf+VzKiE/jFayH5++UrwxUOOzNddYw3hHaNGw9lpr+0nyadOmeePJ88cff0K+ZJKbz7U8/MjD8bKXvQyO9h/55pqrr4k//flP8asLfuVbFAxQ8PRlZR2wJXr6/j/wfCBDeUtL0cvHjB0XHVogTZs2w12GqwNM3jDrgw894BzIBL/mDHzVqZx6ofL6/vu/31d4meBNnjzJD/U+9tjjiS9cYoF8z7MCXPmcMWNmHHTggXH++b+Kww47zN8OesnaL4lJkyYbn1jhNmGdZKZPq1f/49sXGxqTgQyJAhkZWN97OhgDSE0OXEJnUcqT9mf898/j1NNOi245mpX7IE0YFnTOj402eZm/NvTss89GR1dnfPozn9Pk4Mvx7ZO+E0dof8wxx8ZPf/IzJY7xXi1z+ZGgW9AxP3grIW/2XbJkcK4w25mARIwcNUaDiOSSHCR/ktSSpT0KoJdqYHg2TvnuSWo/O9Zeey1NKtpijTVWiYUKph+e+v3YbPNNYvJKEzVjbY/BQwbFn2/4c7QJh8sbi5YsjM7uznjq2aditTVXiwEqWyy6AyQHD0vNnjsnJkyaIL0WxINKUPmNh6GxWDLdcc+d/gbCfAZFBlKtgqWKJxmbbLyJn1247fbb4rTTT/OEiu9qr62AZ9V72WWXxY9PPyO+94Mfxk9+/vP4yc9+Fmf85AzPvllR8SwG37fv5muKsi8vEeIhQnnCqyiSLx2mfk9Y3U3/c6Njk6yhQYd1RypOhhaQPvWhaXLlgY4HHrRyktFolFsByrd9zWs0CXtSE6JRpsnWJV/zANlGL9sk2ocOV5u8RcE2ToN1R8cC+y6pLvUVEFissvLKfp6gFXwPU5OpddddV5jJnokaqw2uDJ100klOMMhCLHCpkecI0IF7mOjHZoWKGv8esLRl+58Fdnf1uYBD7I1decob29JfiT0eDv71r3/tARv/4gd8y206vvqXIZMTRODuu+/RRHiRL/9z24Bvlbz2ta/1t0R+fNrp8e53vzse0OSCCerf/vY39eH2fDGVaSyNp556Kr5y9Ffiwx/+sHkQ48R/pW+G3plxOf2f5oN/tbzQb/LAZ940FNBX+PbH1Cmrxve/fyq1Htzb1LeYCHA7Z+jQdvfL+s0l4NHHHlO+ao/tttvOdidvkL+4ZXDrrbd5goePOjSB/9Mf/+h3sqyzzjrx/e99z5N6rhKsv976yiNc2b3CzxDhV+SCP7Ty3OyW6cpZTjT86633vxkak4FWwKAYGAcwyyNUWFXWt4vxoBlfm+tUx8apl2pGt0BJnq+PzZ03J1aaMiluv/1Wv3hmr3e+UyvCcXHHnXcqYbRFR2eXB7I///m6+MZxx+UMU5uTjBzPpICBaFHPQgUCb6gbIF7cM1oa8+Z3xIjho3wJihUhwTtUA8CYMWP8xOnvf/ebGDtuZKymWecQTUomTRjjS9KPPPZorLn26l49jNbqlK8rnX/hr6JzkQbw0Kxz0IB46NEH4577747VNRnoWsglep6O5+n7xb7cte7663hScMr3TomhmlDwzQKG3AsuujAGatVbh2A6AgMwX9EhPN/2trf6Ker7779PK/1Fvqy98y67+LuzyDVPCXXmrFn++hz2uOTSSz3QkQi5OsEbuewHyS5yhhzkcB1+IempQv7CfuD5AUPh+Ng+pDy3OnFQS9PjFoEP5dvkQyfnykJvaCYN1dRkqzZcGXjiycf9YiVm8dwO4X0A++23f1nl5VWGhbIpPuK7wwwuTFCo+9GPTvNLh7itwtcI77vvPvs2aY2KO+64I7baaivLA38GIp4XGcODaOKP7MjgN1mq3S/PP98PNUIffBsGpH8b9OX17+T9QgHZWjeg6Xn8hg2JI57mP+GE42XzfKPcXPWFP/zhD5pwr+EBhKs4vEME32262WZxzTXX+FshXLVhgsjVMC4lb6lJMM8FsQq8+pqrhXd1nHP22X5/wK8vvCjWXmstxXy7+8PkySv5KhwrS+KNbyYgB3FCnDEBRL6c8KUGOTHIftjU5P916OuD1uMXE8gV+m/SrfSrpZhchVbpH44rLr8ynnt2mgdr3idy+o9/7Ft25DUZ3X52C03G79EkjwF+1Kh8GyTdDvsf+IED45abb9EkPd80ysOff/rzn2Pffd/nh4t5IJU4qG8ipey8886Tj1/l3MDmK4WCfKiUeIQ98rZ6t+jSVO4/8A/AoCN5jVgLYEo23kjH1wS5/42BvTL1nsFosAa1dgfFKqus6su4vCSmTQMwrx897bQfxW9/e63vCW758i1jDQ2+fBedVeDs2bPi0ssu9bcPdtpx51hzjbXi5ptuigc1WO77nnf5cjJ8uER4yy23x5t3ebPcviTuv+9et1tl6sraVo0LfvXL2HPPXR0YgwcNF43r1Oa+2GabV8abd94lOpWwuDVw4403xTNPPxmf/9xnY8qUlTyAsfI+77xz4+GHH5I8M+O66/7sy8sbbriB70GGVvcX/ur82Huvt2u2xI/7LFHCmxKPPvJI/P73v9Ngd2vceec9cf75v4xHHn3Elyq5RPb0U0/EL395Xrzn3XvHhHHj87mKQYPj5Vts7u/Ez583Pw5SB1l7zbVi2nPPxPc0sVikBMqzEz/44Q/U8ebHnnvs6Znw7Fkz4tcXnB/jNaFal1samkRw6ZQZvK+kKEHSOZigOWGr88k7TtzePFlgIpcTA05rR6UjOcFSqwqKSKL5QFj6n69/MXnjGweOB9pqTy0xYJ6aOPAA4dFfPdr3elnVnX3W2RrcJ8dOO+0Sc+bMjT/88fceuJnA8f4AHpDkmwZ8JYxbIwvmz49Pf+bTvqTIKpEB49FHH/UDlj/4wQ9igw039LcM6qVGVpx8W4EJDsnilO+e4u828xDS2RpU7tdkgkuOrGCqvuyZ3qT8+f9fA1hqefCv5PtPQhUbYzWAQvlaMcZgMHbsON8mIHmzaufNjzzz8pnPfMaD81VXX+2rgHznnK+Frbveuv5mCC8muu2225UfLvIVhLe+9W1aCU6MsYobvsVDbLC4eOCBB+N1r3ud+v9QXz248qqrYvXVVnOfJN6JbR4svf766z2xvuyyy/2imuuvv85XlHhbpSe7xLP9bseXWEWf/4ftv1z418rcdDcHJReocLXVeGfAqu6LfP3zvHPPM+4BB7zfV+Z+csZP3Bd5TTH49El8ytXO5oJCg78mByx0eDkUvuJWAm+L5JtC3ALm6s5ZZ54Zv9ekksnfJZde4ndRbLDBhqKDLwdo0TXftxa4OphXKp3IRL0RtL12gH3/H3jBMEBOtVX9XzbEjOr//m2CRfPnxYI5s0qQ5JvI2NoGD9XMMI/5zvhczejOOfccD7DPKSlvueVm8f73vz9e/aptNZPs1mp+RNylFR73xnkqfpVVVo6ddt5ZTt9YLh3sB74evP+eeOc79lAAjdBqXZMBDQh/+P2f4117v1sDXk9Mnzk9fqeVPy+u2Hyzl8dVV14eO+2yvQeR7kWDlShuiosvviB22WWneOVWr1YSY6XcFn++7rq4486/xl7v3Ks8ZT7Qr8194MEHvEIh2LnXzAtuDvvQh2K2Ao9L2QzEu+yys+iPVoJqt74kRWbBvEyJF61s/aqt4z3veU/8SZOJ3XbbLR7XSv83114Tb99jj5g4YVIMXKqOoaDv0CToapXzBi6+WTFZg+Xs2TP8vMXpZ/xYOINir73fGdtv/0bPonn4kV+NvO5Pf4wRw4bG1ltv5YcJAT9oNZj7pLzbO1fXrJTpOJ1dHZqQDfaEiisALJKYMPhZAU2ofGVPwGuWNZSbBlcTAN9OkJ257M5zIWPHT4i29uFqw9cihUAAEBf60Bq+PhM+tzJOO+008R6ijr6jVncvdQK/SZO8V716ayWBC2Tf7VSfLw+55JJL46qrrvFl4a232tpXlbivjD7cF+ZBQFYku+yyS6yhhMEkhXp4MuhPmDjBk4F6P/HKK6/QpOxRTbq20IDyWscciYOkhKzN5MBx7v8DfaEkgD5APCzsym+FYGsmar/61a88AcB/+JTJJ68S5grdD374Q9+e4vIuq8hzNZDw8O7+++/vCQVX2fBJfvsAnoSWVpryO18RpY4rStwe4sHBESN4dbdw5E8mnJ60MuCoz5C6mKzQnnIGqgrg/AdeONC/F3bxw1KsxJfEk08+6ecEeKCXZ6L41sd+++3n/rzPe/Zxf8UP2Bs/cXuOfkessGdixzG3lHilNCHGVU+u5pF/WOQwiYQOMUU8QY+rPoQkOYHbq17cqK39rWNfAdJ57/79H/hnoGUyQI9Lo3K4pGdRLPRkYLbOc9VYncF9YBzAwEQZyReYM3d2LFK7sePH2JkMyKxm660GBiwu+/HgHgMk370f2j7SNOXeGMBgtGRxLBFtHM5ASkDAeqEvTxGqfOUF/kxO+KEiTUy8YuZhF1YCS6NNAxireS3wjUfiAXKFnCtMLikD0EU+ghhkBxrJDFyIYgtURlUFL/fVkZFbIu3D1DnUQbpEgyfhsRNBPUSTEO4bsLLmFwv5MBwzgDFgYpP8+t8iJzmEJ7kxG4YHvJh4sJ7l6gJf9UNmD+wSCRw2gHInPtkGudAX2U1UfvIKWuUM9oP4fQjj5gTAHYurB6DCVNR5cRJXA/gJ4/bhPFzJ8xpCYAND/LzRVkV0Sp5lMD9tDAzwZcLBYH39DX/2V4jyR2ry8iJJQiTcFnnYM9hTj/1y4JfFkKXwJv7qMZygwzm6QgswPXTEhjq3rgLwazvObEMf//8Nfe1gM1ZjqgZzY1OSOef4Fv9Qhu3Z6iqQqz1ccWO1yEOyALSh5gRPJ6JEO9q4T8q/LlUxtCiqsYt/AcdTAfcB2ogWt8JqLILvVsik9vi/yve/FdD6+eAf1Ry/kKNZ6LGIYILGRI0Fh3O5fDdbq30u7fMyoUYfk61zApBfS8YtbH4YVAd4iOxV/UIMkXdp47JST75CeM7xcY0DcgKQ/k5+eZC4/4F/HpaZDGBWnMdb7xZ2zI8OTQYYSOi4OMAzNCX62gmdLLT5kjWOlS8JEgYngopVLh2aDlyfUieQuIzbpRkor/kl6PjK4kDxYEBjcGd1ygBNgMCDgZ8Bs1uTjYGi7e+ulwTDilZoXlUjg3kysOpDIvIT7wpofozI8guQg0BmoGRPbJmcgBWNX8qjQuOVwRe7OIDVhkkPHQPeUsH39nn634Nbt3TQNoinICWDBzWVQx5docUKno6yqDvvwdHZmAHnPVIGy0x64LCaBoerE81OwJ7BsCbL7GhuByf9VRvUCUxOOMBPvaCXEwYu7bFak52Fx+uXR40Zq8nACGXnnKDAD45qVuhXfjkpgGaVLQeLnFShN8XU5WRFJ2pOOb6yPJWmgPom3YyvTCYJ4FNXoRUfSDpg0wbGLs7jArV1s+T/P+jPBg2rFhNSh1ll3oY/0mdM9HMgB9L+OVCQvDnPimznwVttyAPuF2UCAaPCquE/T45VUnm6vNIrOIZaBg0XJ5+Mt/R2Q47/RdBigb8L/4j22DLNycSLXykk35ED5WN92DNRJ1fgR5cLz5uamWe1O8RUYlz6rcs0QVAeoB/jJU8KxANfMYYYRe3sQ5ExCfi633OUOHD43+jf/5vQ+NXC2ukwrycDGoS6Oxb4ykCPZvpctgYYtAHjaHOiVkfnxT4kChzP6gw/OTEwUgpIHnao2WkwHJKrdyYS8B+oYoYu6BEslkX4zDJz4CgzTJFjbGKA9kAiYJBRlSDPkYOwIbHwTgTLJV7EEdJkwsmBxRMV66HkZho5mHFCsDswC15ees+OgCwqUD36Sn8SnMrQk/cEmEPhB9mknfg5GdBkRsfI5qB2A+yWG608qOqISQJ7+BpHH+SCZO0kADNp2pWrr9YT+uDSaZ2EtXdbbSRm6PnBw8FMdriCoAmNZBs5emwMHTbcEwPaeCtg6SpTAfK2niMY0jV1aeJX3FqegDxZV6EvDue1rG+5gfI8Mu+kp61RClBToXdNE5oYCf1jvTiwPF6t5f8a/pVDX+ovhLMHXxnZfnFfyNa1DAJYufoC4llebN/CoKQh4/vc/7MdxxWV4wYfl9IOpPSt8cys2aYVsuU/Bv3Rq9Af3efDf6HwYsi9PBrLkxP84saGH/hXzOsc2F9fdEkfH2RN73Pw7cNSWOugS76q9Ck36XrQh/Y/C31lez74e7i1vhVeLDn/1ZCjJyCJ+wpN9/LAbKeVev2jjBUxv0nAOXj8ml7+UBADHG8hY88gyyA12L/wx4pXJ8LOVS6N6+zSdMUnL4VzXmeCmVj8dUboQnMJgxyDtuobW9JctIgV8OAYpJW3teOysQZJr4oZ+FUEPW+hWalwcxCFJfemeRc7g+NgT1hsAyYTYsJaqG7QY1AfyC0BJglFPuTkVw8JWCZFqIIWTCYYcFOGtKtXS7yqWIJyy4QHM7FVNmLVn3LUy3aU+VMnQSpDtv/T3pkAWFZU579mpnume3qmZ9/YdxAIO8iOipgoalwCKiEKYkxc0MQl/sOm4oIgKpKgRiUaxQU1SqJRRBBNxIjIIuCwrzMwA7P09PTs6//7fafqvvtev54FMDHap/u+W7fq1KlTp07VOVX33rqs3GDEw+GhXNVVOOTzgK0/8iJPy5dABndmHTge4WDhksW5jgcElYDMSeTnWufGIdGr/JJmyGkFShtE2CdDiQO3lc/i/Elg1VlUnVYrSVDi6rGUl4NDwmYRnkFoVxZxW8vDluQpOA08JNMss4ASX6UpC3KrZFcjU9rI7aR/y1yHw6TniQBRVR71MV+XuHxUefVP/2gkNsBXKgs8xgyjc1Z0Iy6u20Ezta2DoWgOBVuLvzl4OvS2pt7gMmZzVG2eC8/NXNFD0owvlQ7kuNIGBb9AvT9XQSGCW6+f7YGgmU5kqNrbVxlIapD+rUNT2S2wqbTfdWgaXS30LNiolDoeGBxqBJIwOvVGZTYJHsauQ8aOezsY+NJgfAAjZu4xo6adwePs5X3y6hrkjUxpdTDmjxhJ82Ps2Ns+7p+zZMU7rywwaUwJ5kXTn1iWMWMpqrxuBF0DdPnT2cZ+tPKDI0ON0V63cZ0/RxxGnmXyWPZn73/iOuQQ8M1/M1xApENO+lG5G2WQObjm4T3eBqAsmKScETgb8KF0HAgewiHC1yYWcuGgI1B/r4hIFvFgHzIUd+p4eMvIEno4FjgcXmZTHtdAdbGzBg40LEuKk8EXBn/QcFj0Oag3+coe8bFaI75Uhs/5KH+Rlo8M1EX/gerKlnCAUcu1zp4J5uvo3jXIuE2xOa4lNqIZkGr0GrgNgDdH+SfzV6AKQ7t2ZGM2CDcf9X5QcEo55WgHkdZSlo6QX74uZ6LqhAYRbeAB7ctEy6APXV22R2oLraglu+NdtH50VHFAFR+XFbS5btAhAFRUKihJred2uAUCp54efS2OSB98DJ22OWiLb2WAh8LH0PxuCQTd9vRay289gHbxHK0wFI7PVZ0E6tSlmavmro0JoRUFQrYFYmO0nGcIKGlVGXEZ0MRHPjYD1djV0iZV9kIPqIcLKK4qppF90GF6nPNRpQH18BDQjBpcN8NQBAr2UOmbBsyEISopUlSYzq1zGJU4wpCAyHIySzjCFo4HYaXYAKvm7C5HXNwjjIMkcHEKvBwPvkrGiAFelheYBLcT5QiMzIeVhk2IFO7AmAsJs9Yhi+kHCV0298fzzADqNq6x6sC5GEGvEsgRYKMhxsUw/lE30jCelZEUazaSpFGA7+Pn4SIsbzglwa7L5WE/EspT+RhkHA7P5HX2bQkd8IKxDw+YzMQIV3LeKOcEGbqkkg+jz4zdRStFsgR8ndkBNUlOQScbc65oR53D8IOjf+qq/4jDseAQDTsVIEVeZBfXdYiyG1CuM1479IJSwjpM20w4pQr7XEELMV3WY2rkBDnFNOJATBVOJayMB5TEoaCg1rIUcLaSV+dWMiXLpsgPBvhrBCtoU347wjV2Bh1PHTIF62jRo6DoX1hGRzKPGSsu6pDzACUU+QfjtmuqAo045RucdWgAtxxbBZSzFZmsdC15HNwKGm2B/OqTOvkgrJhyPH0QUfE8gkME27UB4UZT5/IVabycHvXOvOZ4oEp3WrkuqZuHtrg1eq3Q4CKgSSeHKraKF247nHrc5mhwbj0qqPEyBDT4bgXVxJHNKVWv0w/pbfvgZiA/MyAwgSCEkVq/bnVaPtCXBpYu0qxXxotlbBlEjBkP8xWDFDvucU+9Q0YMoxRGq8xgw8AFXYw+Z2bHvgevfDHj5d54NgP6IT+NHw6EiDoPSof5hRavnsQrKOtYHhcOhh+rCH0PVjqYkRPPcrrpCODPTomuyR90dVRGsJwijroTtuHO8QYKUgRXfkVKAR7Yw7lgSR+Dy0yeOvoBRP35SVmh8jBjLOXjVIXTZTq6hheW/uEbXsszFaQHJxRdGj5UANbih3PBFpjHDOYDmUIn8oR8xaMu/CyIztxqoTUm+G2CHvGpdiV/oQ9kuvBawK8rlkvKEI6v8UCQTxNPxPkiwlsKNVRzQDnxY15cDFCKipOAUC6T8jOu5eB0Jzi+6IShEMiXBvI11aEBZCtZqnIcU0NsuTSYHkk1fHBy0KdSpqDi2wUqPvMdkDOWOgAlq9q6yufIHLbzWMIRLGQs3wLOHChwWkIFSlsA+KZN9DIYx/GciQlKBSq98QU/uuC60HGYCwVqNAZDxjGUcD6XIOAwdDJuoe1Lhe1BC/KpygcQl9GbzoY6Yg1K3SuCNWiNMt5QUCusyLkNyQrqpFrkH+UUAhmxwjFSgJPUghnVKU7PeYBasOLLUEsotJvCpjYYmujnsC/147SAtqxWwFXkDRT9tpZfMhdUQ6ECTpzqUVW4CXLCFuHWAJwaBDq/jYQYHRSXeY9xKtKrfqq0yKW/ukCAViG1QJMzECBkhdevX51WLAtnQFNLzcg7NaHmfj+zz3z/GsI6vHzNwf18Gf+4745h3uilZwwezwtgzLmvHQYI482ZNBWYKxH3rXnNLF4r8S0Gx0dZPLHPDn1ju3u4FJ8b/DCeX4Ux+yEw8D37lhH0l7NkVDHCAHE4KvCCAYYfrjG+fo1PuBhkrnnKnpl6GGzVwesB5FGccBS0YxPGmydvRVe0cI68DSd1Vxl+ZkF1Usa4pSAoxp/DToPoMIOlfsAoViPgzVfhTHGhIl1PPrcMX+SNVRCi9YMsdTAglwc+w6kAgh5oo0byYRj2KtiYxo7rFr21aQ23gZRzwqTJqbt7rOQRbzJEpjgsN7DgV/FFdoAHc87OEPwYX+d41qEQQldoe6SZCQtoC8cFimm7TgVKQgaXo3/0BVkZt6CDVqfhrEZ2OBxE1UN8US5guSkdfMKFduTVQV7i1XZBu1Zmoa0z+oHDV+RR5auHM34Em+vpz0uLhnHBsQxJQPeQt82t8om+cNFRoPAdPAlHdF2AwPURN+id68IPdETPeeBX7e+8xlG6+6kzN+iFIMwHuKVM/qItA6WK11E9YEs9CSN7UE1T8nLeGlAEcaQ76Ajj0z9LOcF3HcfM+tJAXJFFMKWTSqN8gXn02ZemVyIchRwKTf6V7vqU+EKfc1OcgiXMYQBHfHi8iTjKj9unWY7WYSc4vcgY8DmHgxfqkK8FkVTSc5lFfpHB0W5njUHG10/onvB0jVzI6bLAV9jjlqDoqPuNzvwVXA63BflyWeCEnIOnUmfTM/mMn8sJLAFxHLlPVpAR/JaS0suzU6al/gE27VJygd6gm68cQYZogzL+uz0VX+9bRfbmW/+Md9VYRnxOJ5/DZQx0OPK57EKDID+iH3WIGNJCn8irPIyrlJN5ChkqaL4Ul2kBUZ3IW1U2IolpQC3PoLQMlTNgxkuj8xBcWpeW9j2RBvoXpfVrZOD1hzHE4PNaH0afd+V51Y9X3/zwHA8Fihqb4ohzG0uMILQ35JUFU17LVsNCVSUtCDEXxiw+TuN74OIXY4GQaBQ3kuIDN95DJx1+ovHCuIADUF2vCpBXuDgoOBfgRWNGGeDwoSSvIiiC/QfKxhfwh0EH15/1VXrwooY0X7EywfvVGENeSSRvKBdOTTQq9cERwTFiXwLu8zMDL+/OQsPv51pmKs/ch7H3h6EEOEHwCl/IlQ2VeGsBntlshQ1ZAoJvXl3EG2BiAx88e2BZi0Y4UB3eJta3ahRvJ4d7I+Jho/AnTJ6cRqteHWPGyEEIQ4MMkTF1wcESwyoLWSBLyUN8eYBSGBxeIUVelGs9ULwI+KFI3lAB4AfeLQvJkG8vELbslA/e1C3SCJVDPhVoPRs1mg1q4uM1diCRu9pqFG1HhxJteGKHR87IF77WS2cdFqyWHnoDJ99aoeqSf+FFuBtyu7hzoy+uL4MID57yaiv6HvVBLsgCeUKL1TPowCttiiyQCXRYXSurP9QRGcEvZZY2KvI0DnomGjzQSv9AF3jtFhqum8JrV64MnaOOSo9dKqm/dDI/CAtj8BY6gLMS7cZnoJEh/IJPOr0IB5LvPaxfG84wvHgfCNJdh2hr8rHtMHKAHvGcAfoPuPQf9vQAFweVMmmrEZKlP48sp5M6iqDT4Y++yNgCz9Z5dEiyoCouR/yRSP38IS/lhUfqEB8Niy8o8tputMP61MlYJbqEkWH059iwKCYftG3IhxrQr6N/Rn+OB3lj7wT49mqpJj4u0682s3FWjCHoC88z0falnel30HM7KJ1yAOuKZEw8fEHb5ddkjqz5SmhsMkZ8fKCLeMopZbLvC/TQW+jDV5QZK6gqQrqITsbeAegGYzp7m1BHgPKRCTxbboR1RubQsHxUbtFPrskb+hSfu6YcKuTxSeUB8MXW1OBZjyRXeEDm1NN6o4zwaz3kWpKgXl6VLvVQ/eGNfRCoJ/zyrBZxgFdp1RbwBg7xhQZ1MG8CHDH6ruWlMwd1Ap8w/JiX3D/gnXIa7Rm0OehztEkZXxnjKZN6MsGjvS1H8Ok7AurCXNjtr3I83sCT5MkH3ODT/UN6y/jByIZIoI18Sjlix/HWJwXQIdLh3zKlLP+SHNetEC0/DMMwDMMwDMMwDH+wkFcG8BTwG8JjsGe/cV36xX//Z1qyaH5as2pVWtq3JM2aOcP7RLMaMFUzxzHy5ubPfSzNmDYtPfroo/aWdt551/TYY4/bQ9lu220T25dOnDQ5TZo4Jd3/wIPygEZ5n/+5c+ekqVOn+Hv9t99xuz94gge2YMHCNHPGLHlGfLhiWdph+x01g11t+jvsuENavmx5WrxosfB38jbI7HHP5zCX9S9N64Q3aeKktLB/UVqb1qdJ0yenpcuWUEvv8f/EvPmpd9y4tFbEFy3p87a2fGMB2mxVvMMOO6SHH3rYX9FatmzAWxXvtNPOrsvSpQNpm235ANIY76O++x57pf4l/ab5rN32SHNVT00wxe8Oqa9vUVq1dmWaPHViWtS3UN7hyDR2XE9aIhlOmTA5dY7oVDmPphkzt1G542LrVfO1IT0055G061572Jt86N7706477ZRWLl+ZnnjyibT99tunJf19qbu7yx9cenz+4/IYO/2VLz7hjPymz5ye5jw2157hLjvslB4UjRnTZjrtgQcfUvvsYs99juS/neqDl/uY8J/1rD3SypXL0uNPzEvb7bxzmr9wobd63lE05qiN+xb3pUMPPST9989/Ib5npW232T7dcfudasNpaZtZ23l/ctqQWcDs2b/xB6J6e3vTvffdJ1ntbu+bbxfssfvublc+YgP+Y3Pnpocffjjtudee0p/10i+Vc9jB6b777vV3Iw4+5NB00023pAm9k9wWt916u/RjZpoxfbq/LcGqDGXxffyddt1Js82R6Z4H7k3bbrdN4rkNPrF74IEHpRXLV6Vf3virdPQxx6Ynn1yYlixcnJ5z9DFp9p13envqAw44wHuk77Xnnt5F7yHJipkKH+K6557ZojfDW2X/+Mc/lhwO84wG3T7wwAPtyd9www3p8COOSIskpzvu+E06cP+DpJsr/ZnWgw8+JD348EP+/PYk6dyjkj0zgZ122DE9Meex1NM9Nu26yy7+iAs6iE6y9/8ee++V+qSHj8+fl/aWvk1Ue8y+/Q5/m4EdPNkqdm+FH5eeLlNf2Hfffb1PP12aT3TPVTrf6OCb8Xzrge2C0e177r3HnySmfWkrdHCWdOieB+9Ps7bbVvKdkW6/+da0m+TN90QenTPHZfJtDfRw99129+yC+u8q2owJbCm7g+rDBl98rXTXPXZOd99/l7rEerX/Ht6mvK+vX/h7prlz5nmGvYf04o7bf516x46zrvKNEr5fMV3lU39kxLcO2Ld+lnSO8YJtx/fedy9vgc3nxmmf5arjkiVL0qRJkywHPm3N58D5sNhj8+enI446Iv3mrt/4Ftgu2++iPvGQBrkRrgcf2aJ/IyPKgQbtP1vhHXfa0bfK6B/bq1+zIkhdwUHGbGnOl0n7VPYcjSGHH3F4euThR/xJZj7H/bjGwbnKe+BBB6VHJStmauj8fWojVi74QNfd99yddpacGX8efPBB786KTH9106/STI2T0zS2/uY3s933+Q4IX34knbbkmzB8Khoe6UPIio9I9fX1ub1oH9qMbwDwAbBx48cqvF165NEHNR5sVN/eNd17z/0uA9r33X+f9Y/t4//zv/7TfYJy0KnddtvN9eT7EMcd9xy19zzJYpH65wHp5z+/QeNVR9pXdb5b9Jb0L09HHnVMuu766zUezUi77bpzuukXN0ifdlCdp6b/vvEXsgHbeAy57dY7VP4Mj2H0YT54xEwXvTzhBc9LDz18n2fbBx14WJo/70n3f75hcddds13no48+Os17fJ5XnvbcY09/Zwbdpo1uveVW27PDDz/c9UH3aQs+sEVfYctzxof99t/PbcX3cPbf/wD3+wc1tuy/334emxk7t9lmW43ZD3n1g7Zlq/Xp06anyZL/vffcq7FhvO0d8tl7n73VD1alX0u3jzrqKH/TA1533W1X97nbbrs1HXHEke6bixcvSgeoTL4Iyme8n33YYf6yI+2NfsyePdsfXjvqqKPTdT++Lj1rr2f5o3B33323xsy9XL/7H3wgHfrsZ2tqP8Lb7x+kcZp+NE1jJOCVgCFWA+pQcwbyMkJeS9i4fm1aumRB6ls4P61bsyaWfTtZBomlHJaWyEW4S4q9VIqCYeFTliwJ4VDEcjKfwOxMG0ewDMQSRvLyFMvWLA2tWr3KAubDOHRqBtkxfKyErxsqnWWTWH7eaIXzvvP6i3s3LEtxv5elLK43etmG5TYvyXgJhWXhkabLPtmc166PZUI+nsPSGMaAMHlZ1geMyxIPyzeUrzg+Z8xuXOZFvLE0iMAwgF7WE9Jo+JUy8/og9Yc+S2ZeMhQd9hUQuzaOyM67e6n+GG9kw2DqZU3VIZaJFUnhysRgAg1uHaD8LBlCg6Wn1atDLuDQeSx34fAJ57JNM4OZ68Mym2Ub93FZpvc3EcQvtR/TPSb19I73pkOjRrF8K3zJmaVJ9qkfKzmgNSzjjlbbUhfag+VQluDWq/3LWxO0DUoa9+R59XK0ZcK1+XP701Yst/GMRSzfshxX9lyI2y4sKcbyHfWkneikncJRKV4SxDGiXizJjR4dy2cSkPNa5qIDj2tUB/hj6Y9y3K6SK7cukIMFrv9yT9K3CQgjK9pTvIqs5TWmK26RoVOWoXgCH72lHZAx7Ys+sQOmdVU43odfRIwzUu1pfWKpnVsHLNFHW9E9HRYdluHZ4tnLlJRJ+SwB6wyU5XKe80DnwbVc1d7cfoE/9AB6fpZE5TOw0A7IGRmyvEq56CFOCcvryLlLcqPuyAV997K76HhMkP6UpVZwqfMI1QOZiqx5hBfkQJnwQj+EN+TCrQjye4wR7RKmPsjItzrgF7mgu/QxGlTA3vbQ4JpbCmvUD9ggDSeR/fCRBTjuV4xDykM9kSd6gbNTykd3y1Kzl9EtT9VZ+tk1hu+T8DXSNaaN3gBegpfM0U34pQ39ppOuqTPtiepzC5FlZLezaLi/C9BRcLm9QDwyR7+5jQLfMZbGbSbfHpPcfJtNcqYyXPvWhfhHLiH/WK4HqAtyp90BzgQpEz6pB+0AgOtxSmXSd9klFgeWdmW5HrkhMwDqDpseZdAmMe7DHzxTYuO2bh57FA8OOkd/5FYzcqFP0MdCFlFPSjHfmWfC6I1qJ5nmpXnxTl7XEUEXgEHq6fhyq1Lykc4CoUNxqwOwXHTm2mUSdl4eNke3kRF8hB3yOCxcynX5GkuQg3lXOYUe7U9caQOOKJJxLXQYYAz0+K0DfFAsi4wDXx7vsg7T96iDGFSfEE3lB0L+6n8KO135Sh03B4OcAdE1s3yxcNWy/tS/eAF9wYoTg7KMqZSSMNkoiDisCGdXUHE0Fh2AOCpFRUv+KCuY9P1KNTACxvghFFB4PS8UJhrdjaoiYZc85KeBaATfMxEvhTaGq0POBwaKXfZQQnjlLQNRU7rKoJKigqI4DzwqCloMbgiXQYyyeMAOxe+UgXE25UNZV65c4Wu/rijaUX86Jo1KR1FHYG9/+HaDiVeetdgA/eiw5aAR4cn32iQHOKVOPNtv3sQPgwG02FXRib7LE8qjaJeBkBjoUBZ//0DtwAzZvItG1DeMNGXBM20T7Y7RJDzCH2gaM3asylddNVhSD+9dEAUpH3zT7gz4yqNo2i8cNPEGe8SrnAj6N+IkA/Cikyo9JwG5CqHI8BUFBp5jyE8cpKCXdU5ygidnBlP8bpS8MErEFd1yO0ADVDDz4AZOtEM89ElbuGTCbivoKALSLib0hmsVHUHaP8dzLnKwUyc+0VWHS5lOj77isCD441Ll01+IdEToVlAXI/qHrzLQgL8uD6gRn8PKB3I4zVE2vIdcoxyTV0l+/kN/yNN1MQZFc5810iwj2pzyM8/oJ/JTcuS3/KJfIuioD5hRpvsKeTyGkCkMDeWUgZtykAv8uswsV0425MQpv3lVmDqTz+2lvslYQ8nU3jISP8G7yuGhYP2ZvvTMXEFLePAA/XVKo2fQbm4f0aVeImGeigwMRArCuCiX9AzcaGccm3CQAifqAS/ElfYD4J1yoEc6AD5jH/QIu22hAX0P+oEHUH4x1iGfqDd1NT3Iq1Z+zspNxhhDvYsMcVxC/n4mSGcbJvq6/ijfep9xYVWJ/JgLgqHfwpUuMj67TZTPD7kqH6y7usprfmkL01RcLiOAtpSMvKU7bah2M454FwHKhi/okOAyAsFgPRAecTgA0Q+c4LhSjmWva/6sE6ZjNNOo2lS45KsfrlvhQ2AHwWEO9E+/6CEE9Q8+UPKWcP3aoGvzB23Ckg9neLXdFRSdcBuCpx9w3F9MQweo1cXmoXIGEEScg+mNcgZWr1jubxPgGEgspIgZZzMDzko8Hd7CpiMYS51XMwchYYhDaKHUVGgkA3XObyVHiMoYzaUEFHQEnk88nIJgwvhEuRTLw3XwYWUni+gq2fzTdDyJz1AQwos0cWXeOjVYIDxvG6z4MqghA5USNTVRhdVxXI55B494HUp3R4YWtFVf4yudmTQy4aEoceIsZgOaI6kLweDfadQF0kJCqZntiikl8SeUqu7Bcyd1RVoqww/lEU/J8GCqwafrQ2HwV66FTyplRVuE1CNSAwgDxYjONL6XBwi70kg5ESpGSZIlKKKBZOGfos2D/vg3KA4pBj0kL6DeAuM7r2vFhc/WHcVRF+pFMjhRZwYS5So0MmHrFMWAExH8uGmIsPGOAh1RHyyMinwzDQb8YmyA4E9gfgjnMvLvIBA+lANbYcm1YJrf3NaWdWl31y3yGRc0zoACllvhv/AjCNzI68w1oC+ZF8rPYdq4qo8g9C6A7D5cz1xMwRWvQQfNCogyB/NE5tAj1R4U4pxOa5qyeStGheuMVcHgGF05IvLGZc6va3hxHl+isygJcpGmZx5pc+LjSgAufSyC7hPksV5EEf4pD5hRFrXy+GCcKDf0spyFgEwzDROBBmFFMOZVtIGKDicjOS1CKgt8gLSM67MwAj/n11/hmxaq+nGhlFENFQ0FVX/n8/gCWkbMKI4TfpFbhe8UcErdpRuKztocuNAQnvGVLyBKIKWRN66ti84YWEVXXX6lt0YuxDONHJvpRYRiqrMzRFj/6E+jPjEOGKUA+QDwOeVw0C4RnEwhRzXCXFkWqg+0GYOi6Izj6xIO+UTdFJPPdjgUH+N0ADkKlUYfgErENkrXkTNFeq1M/xO7edAYG+zwGwxHpXjFaM2KFXIGBuThr5bB0qzEMzp55pqxoyQYQxtdKNj70glaKty8KZ5lMYxj+fhQGCClYzAFZctSCIcnC+uKU15mC1QMvjjIax7NMAdCdWZ3YCjZSyMgjxNUwr7dII+J2bdvMyghlrTWubObNsjKa+dFmVgSZWbT0UleCFGQymMwKbLSEU4QSTgL4ZVTD3uU5iH40K95VXQIyaAIRbrOOqCLUWLWVPApmYa2zHI6rwZRLC6AkQxg1kDxOFksy5OXcDhVyihUv6mgeHcS887Mcr2Xu0eqfafMmJZG4czYM89yr8BcWSKuQy67QiksFahnNQjBOI28g6EQUXo9qGNwjhxT8Aq4hwzGNhRcn1sy1ivSVO9NQXTN4rQ0kcw0ShRXxh2Kt6cKreQopNIPgdNL6QXq6YVAxqmSWgm3gNFrdAhDqynbEDRq2ZphyISAQeTyABjBAF0MphJ9zeBE/XCucFtaRURzcv2nGYiKzEODcCr+NgVD0iHzZnNnyAVtjqcqvYVu/XIQHS5qCAQrww8oosUvCSgXSq9ld3wmGZYooFIh17mWoSQ0UAdDDX0Q3qbSCiOGehgI/WoC8WGMenwtC5pj9pXeQGmDnHFKMKBGaEio0RJ6nXIrbMlYY2eAgD13c044nIHVy/hQUX9av45tamOZpkMzRUhjWL2syOgMCR3ogAdrG5wwZrEUhjMgXIw5OMYPA8erOcRRJkepEYYVfiAVtMKCOpnsKCAXMmQYegwddN11ZQTCKZDxzAbQnqZIrFO97FRAR7g29JCizorxvSGlYxjh2ffoMOpgC8f5EIRPOBUyui47HAloW36Zl7rxihmw6lI6D3KIQMQZV3/wR50Vx9FUpvj1jE1/OBzkjaOk57qJtpfsJP9wJJxs/sC1UwEmfOqww6Bz7MiY0uRpU6sPFcFBeK4mIRA9Tpkm8TkIxS2EWg4FqY/54cJEMqXCOGAGuM5phhodwLQy6qagRtZlVBmcO4LA5uhkCP4dKD+CZjpRTI6rF1PCbbI1QUlvhS3GV4Qbi3NcBuSAeSvEFEd0qyBzNFBVRfQa9Sq04tSAQREBLiOfB0E9soY0BKmq7ArQ05JHmRQMNmsEnMxP6HR70pnGUAUTXVDqUOJLtlaczaWXtBJf8IDW+Na8jlOkK6wz6fX8XJc8pe2GgpJs/DohhS1XnQstwJOnDPX4kpdkxzclNl0Vnar0qkCpU3PWBrSgD8IrZVc8DAUFqQHmiXNFI0asik4zuqKpgwOBnuMKkDvIMD5HfJBoITQkNKiWLIV60C5Xcb05kDMQVigGs8iAUeCrhWuWhzOwdu0qz3apmL9rjZGiHOMRJm8sxcBO7MUfhhJjgrHkIQvwS17uyyGE2MKXXIpUQtwHlJFWehhX0VEas/hQELCZ6YJPkPc4475SGGFMmXjB7irs+2tyFqAHBL9hCInjWwdcY/h9u0K0fD+MGsEoIRcqZ0UysHFV/VhuQnThDKxXWI6PaMW9NBybqAP8QYfDM37JyLcFClCEfiwf4bKsWNrB5Ys++UxDf9Cnnq6Xr5F5xhXEgzfK5pUXahErKtC2QdefayV8P0sBLdUbXOLc9sKfNGVq6uRhJpwBZWgs8QbAS/0ayFUxWGRbAIXvgMjUlLee3oao5aLDdcyonCpUX0TwfwYG1+f3CaI5kDmOZdQPncGZbIbAASKJn2ircIp9RYKuc95MuyG3GgHlq1LqjVtHHwRDJgxDaRxgUNttIRTZm9QQ9DbRPoyDTsrty3mQ8f+9hE0I5X8RwnKIuVbWaJQyu2agdcfXP8bPoJP1SfF+whPDLWNor5CE3LgBYTZ8QI94HWF8MPUQEg/KyzhB2WRn9uqZKoZaioNDYqON8cU44yYIkdl+OAthAE2rHmalQEUyw/csH/pKseEDg0QBzzhgZDGOzfeYo2ynUTY8O2/Qd830H85BbG5i4660WP1wMoR8Js7yJU44DucDcP5c5ygh/ym/HYEiA+jlfLRR5FfdxAdpZOYM3+G0wD8H6ZQk/FxmlMVfrObEgyjBY0ZpBucfDEGBcn0ytKKWa/PI2b9AcFDiAYJc+agTzbh1yLnNs8F59VeI/I+AJZaP/4swtKCQZUlHJyrMpnYpUK9/DhuNcLRToRbtE1f13wKkl6tGrEAXxnQkdFuPYRgS8lixNeB2cFvliJzdrQM9HU7ip+BUgSoioFyWwaWc/yDgd7Ou2RkQ1NrKrNLwMjhlqZlXOJih2jGQxfZsWgYP5eBVCpbXeWIUX6EYbHAhi7LQ1mxRPGZ0Z+ocHTPdMOKalVrBOHjIkOV2HAwMVLxqxrNgfG1wlOJl2uQChDPA6gLPA/DgHEYaGr4Hzlllj4ZflaugDowEfMQrbeQDcACs5MKzYVUGnrD1x4Z0iAvXAJmEvoZRBc/1llx4hoKwHyZEPjoTF4aasokXXcpRXssQSroGuDYdzcKZNSGv4nzAF05RcVwAyuIVE56ElqRcZ4w3cY1nAIIXt6bFG/UEkAkrCKUN4/mIeFUJHMI4HbowPuCqN4GRczjygYOj47L4K8m+bkChVTkyCEmxvlaIfIXXkrPgmrbTwI046lrHMRFBvcx6eBiGBos2y34QKLrI2EeOJlzaCyjhgldBdd2gQVykxVFF5QCUCm7kFVRF5XhnHoathiLnIYB2ZKyrA+N1c29uBqeZblwX+tUkMgN4XqnM7drUvoDQW9WQ67qeDcMzC/k2gYDf3BgWuGbaq5YPpIElfbqWAZZxoLEw+rziFu9Tx1KzFUZpDOqexSsvMBKDxet5q1dJG9bxTJ/QMHa8+tQw3LHnAAO6nAHR4/47jsfKVSttVHktjjL8+hF0NfhvWMcWot3mxZ8wFsvw4lsLQlq/FpojvMEQu+w6I1XV/6hRODaqB8892NhT5zjz3jT1Z2Yf9+4jjTgbWCKop/hBwbnmuYdikFByyw8a4tezbJbaMeyB4HRQCrg+JYKTioA+eDgJyLl0FnjxrN1hd72AnL/wSX72GLCDIB4Ar7won374d3tBm3epaQPXQXE8OMhtgo6uMcrDLRMyK4/+St0sz3ztQ3TMm/UheDAGjWH8jKs08jKoeLlY1KHLf0kzCNeyFR3FKg39w4GBdtAqAwzX4Nqx9DX6BT7l4yjldmsLQaNR8P9lKHWpw1bUS9mLRhV5lfZFtuV1JuTN67e0NXjoo3H1x7XHA66FW7UtYWjSz8BxMfHgr/fBII/S4lZa0Aj9aAbSCq36mTY3/QLQr11uGdTlt9WZNwN12lsDzzQf7QEZ1otiTLBMcyTjWPTZuC79u7Q1k5eGU891jFPU26+Y6lwesC44SMTtLig6RELVjkKAr2hnJeV+Pgy/HRjc2wQWN8J3gA7tUzX4unEygpecFS4PCaJTJktH1sEsk92ZABtfN7DC+vEmLCIzWkbHH8hhsNfBnuWrVq+VIYwNb9isiLLj2QA2K+lWfPKmImtkxJQhnnyXwq4VD2uVp6tnvNJUlgx1RUN8yocQz8ELCu56iBcU2a8BCYri4Zy44vkXRfShPzpDHDxDoKNDtLKyIhE6Bx3FM3oNcsgGB8ObtSjMyglAWe5QCMURuRw6IvRFu6w6QNeM1IF8OshT1UfglQLJxKsV0NMRqwaRXujAM6sEOFGUYxrIwWj8xJFzBUAvx+DwsFlKWcngWQWcEL574EIyb2CXujPQYEzYhwJdYnMWcFixwSEgv42PeCmy4cwGReATLmIgH3G8JQLAC3tDUDY0SvkAeSzDJoj6DYMgi6HSkQyxaqRBXfLEaWTjKRxz4thAyJJVFvKxuY/36VCYM7u80d5sxgO+x4Ci78Khzy0Tzrp1bJYUTr+fi0EPVq+u9AWgnQH44d19v/2S0yrmCzytJn1amYcAaLY7fkdAbeFeKhG7fb3ZUYxRyJg2clugCxk8zimOvk6/gwabyIFDzZhA0kbgxWoxEyhuUwaNMskiDn3xamQk+OTNyRQHfcbRVr0chmcWGs7AIDlj1KLBw1uXMVIHZbC3Emjw9w50XXztjh2lOr1TmBtNHZzZPYrCzn7EjRnTnbq7x0k5NqaVGhh6xvem1VIyZr44AuzMt1qWunNMV+oYrRkpS+AjO1JX11jRwRNl9yoUgl3wpDQjOozb3dMjOhpAOsfIAejxJjMrpZjzFixKa+VpdIzuTr0TJ6ceNtEZ0yN+ekUjZq8YEFYyqDrOQMyUcWhC8cL5yYJRnP6dhlQwrDagko1npkVe4CEnyUREnDsUPp53QG7NEMYMo1xmuOSrQ/2hwKAVnYoj+IH/cE4okPIh4Y9VEAdnkBxBHTiiDSOnQMjUw6sqGoipielm2sFO5kmnwqNfzRR9dnCj7VeuoNOGLoxVu9tg1IB8DOTw2r+039dsl+r6qSgMCQ9hAhgCdpbDeDAY4aiw81vc4tEhfsvtHtrJPKjd4QdnArDeSqZVPam72/T3FXIbPQ1w22YougVYd+mIilo6sNTOJtflwysAsmXXOnSD7bvZUIbVvblz55oWO0PWn3Uh/2r1QXb6QyeKk7BixfIKz3kyPtf6j1mk2KT9C9TYfhoAkWeE0FZAKbNeduv1bwdo3XI0gHEoVjPZ+v3aa6/z9s60Fe2M81f0gvaOthyZ7rjjjvSjH/0o3TX7LlHg1ewYGzjYvI2dGmlnDq49buZGgxwOPG3sdnZc7NGg7mvngTFr8zC4NsOw5dC4TWDIyqeYjWqAVcuXpoEli9y4TOFRBrW7kjem5Rr4l/QPpCu+8vX0539+Stpu21m+HcDsjy1s7SzIGHzxX76YjjnqqHTAfvunDXIE6Nz3P/xQ+urXr0wv+OPnp6OPPEJlaZCRgSbtsssu8xap3AZgv372zJ48aXI67rhj0qRJvTImzBBHpX/58j+nJQML0vje3rRiGYMQhkyDiwafgw4+LO2338Hp85+/PK1UHbq6RtkITZ06I82atV064fjnpckTe13HDg1Y6+WBYtgwMtSNwacMQGV2SmfA8DQrbByKiMHMsSSE4pIPowUNPOQYNJFm3nFNf2UXMcrTKejrz88LKC6cjRgoyV8GRDsvMqJlKc58OC244Ex84dflYhiN40tvtkMnwyECcOJcb9H0Vwt5m6CDbTizXggif9CGH/bdvuCCC8wvbbakvz+d+henpmOPOdrOCHnhv3y17Lrrrks/+MH308DAgPM///nPTy960Yu8N/sDDz6Q/ukz/+Q08o4d25P+9h3vSNOnTfP+8Oeed17aZeedXT5y4fyc5zw3Ha2ykNkXvvgF7xnOnt8Yr798wxvSEUceaUeB9qH+UZcQQKNWwzAU0EboPg7Z9773PQ/4f7TvvunhRx7xwP73f///0ng59u4TGkpYhaNdBgb604UXXug94mnb2399ezr22GPSySef5D7BLcS1wseR+4/v/Xu6Z/Zv0jvU1lzfettt6Utf/lKaOmWq92i/5957le/kdOghh5gn+PnSl77kfeyf/exn15zeYdgacF9mjNCc0LeB9UcckyTa+Yc//GGaPGVSGli61I76hz78IfXJsd6amv5DXr4TQzv3aKzu6RlrB+Le++5Np59+ejr6qKP9jYnPf/7z7oeMr15J0qTkiMMPT7vvsaf75TXX/Mirgy996Uvk4JXbtDFxuvrqH6Trf3J9+sTHL7Eugs946yGtBuQpEOPdMGwttHUGLFg1xOqVA2lZf596H9fZkLB0zgN2wu3o7EpveOObZLR70scvviitW7tKgwaDwSjvpX3HnbelN7/1TemHP7jan0Ee3zPBD8SdL+Px7X+7Ku29157p61/7imd0NPzKVWvTa197mpeDT3j+8+yR3vjfN/rjRXvvvVf6+pVflTJ0pv7+temNf316Wrl6iT8CM7qzNz3++CNpXM/oNGPG9PTsw49Nu+2+b3rxi1+Sjjvm2WmqnIhJk6ekm26+Lf30P3+ennPMUelb3/hqWvTEPCl3l/heI0+W/fzDGbAcGNwUigftwvAVTzdWPorYwpBzjRJipG2AcZpyHjxn7/ftPFmOOT/pdAA/g5FpcDAoUiZGz8qd85ANA25nIPMDo3RmmtK4+idvvQx4Dro4FWFMQTWeDgWNY2dAdZ4gB6yzq9uDtglmKOUUXt///vel6dOnpTe84Y1ux9Gju9JrX3dquvzyz3mf985OPp8anfjW225Np532On8ohDqzEnLqqX/hj8qc+da3pufJSfvmN7+Z9tAgwcDx32r7a350TXrXu96Zbv7Vr3xb6MUnvjgYyYCRwnnk4x7Q/eAHP+iBi3r93d/9XfrEJz7hOsGLZSUQ96pRo07DMDQgR5b6+VjNm970pvSd73wnTZw40as0n/3sZ9P999+XPvShD1kXvEeHDMuK5SvSn596SnrdaX+RXvqSl3qVBx14zatfnc4//73+AA63A9docvD44/PSKa85OR139FHpfe97r5yMRzW5ODV94Qtf8MdkcKIXLVqYXv2a12is+FqaoLL/7aqr0lve8pb0rW99Kz3vec9r9INheMrg2zf8qW9/97vfS2effZY/7jOhd4LTcfr22Wef9Gq1ob+foPbGKaPt+VDcSSfJyVOf9Wqc8HHsPvKRj8iYX+2x4kT1W/pqT0+3Jn2rvHI4sHRZuuKKr6XPfe5zavv3eVIQq6OMVSk98MB96aST/8wfRrrkkk/KkWCL+vh8MOke6zKUsQ6oxw/DlkPVgxqiDPCgLwFz2DBJWcrWvGUJiMH5T/7khekHV1+T5syZa+Xg4bx1wuee/z9e9ql0xBGHu+FZ5iVfv2Z9eItnnvm21KdZ5K9/facNBUtB3DNcq0Hjuc99Xjrz7W9O53/gvek7V30nfeOb3/As9fV/+ZdpqWZ9I0RrgxySP37hC9M555yXznzLX6ULLzg/ve+8v09veuMZ6YD997VS83GRv/mbt8qYvMOrFxd/7GPpy1/7anrgkYfSF/7lC2l09xh/054VDOrFa4x4pPW6xz3OqHfoG4oWB8bThlb8F/z4i1k8Govs6ATUHfmEMY57ZBzQNC75yE9YcehzLKO50ChSQGfxwAdt4TNY+taD0CgZgK75Ei51AQ+IcJTFEfXkWqA8hScKM62cD4gcpAQjrLRwz5+v2L3+jNebB76exgrLczVb/8xnPuPVD+jAC3X77ne/61lCGGaVobp+7OKLU1/f4nT99den173udf56H/JA7sweiqOCrjEDxDDx1UVmEv5GhZgi7vzzz1cb/7lXFQBkfcILTkiPPf6Y5eiVi3xQiwKNGg4DMEgekh1L/8wSGfj5wh3P+iD/V7ziFeknP/mp+v4c6xptjD7edffdDj/nuOPIbnxmk+eee25asqTf0qd9KOtf//Vf1YfP9ZcCcVD5+iV4e++9t3WRsWPmzFlyIk/zFyMfV3vypb+DDz7YzieORuj0MDw9CAO7avXKdOmln0zvfe95cgR6o+/q76yzztLk7k7rAm0HMKbR/nxFkUbFSaBDMi5OnjzZecHha6O0LStJjEXEu+10jO3pSc9//gn+6mVjrIj+f+U3rvTB6rCSTAMAr52eDsPTA6xKDjbAgtYPA2h5aIiZLQ6BbLABY9Dd3ZP+aL/9fd/wZzfcoBnZKj9yx/1/PPxrf3ydPPfnSCFW21hgdG++5RY/I/BmefY777SLZpBf1GDRnV835Gn+MZqh89rcBnmaI1J3T1fadrtt01vf/rb0y5tvST/QTHHchHF+UIWPWLAstWbNChmNNaoJT7RKUVUWDgZL0xs3rlE4xUd5OkemAw8+KE2bMd1L0ut4kEVKxEw4novQgCZcFBGFt2GEKUEYyQYw2CE7lJvBqHQajA0DIkttyAhHIIxWGGXOOEamYTrc9tCApjIpqzgGZYUhIMrytVkKOhhKzoEhHPMUM3aMreNzHAeGGuD2gh0D53eUIHcwsnGUBJ0IlWgA+szs+ewmn8qkDJbiuYfL/cZjjj0m3XDDf9lZMB0dyJdPgB580EFpxcoVaf68eTYoM2bO8Oz9STkVhx16KMTV9uGjMuOfMGGiB4p5jz+epk+f7gHp0k9e6s9O87VJHI4HH3jA+Cwpc496sZwLBpAXnPCCtOMOO3oQCcdKkM/UKddwGOqQ2zsH3ebcHuNT4c/VLBxAr5HpxEkT02te8+r0y5t+Kf3lmYLQZfSC2z/MFK+44or0kQs+4s8p77///unII49wfijPlROBI8dnXtEnbh/wqV9mmuSljOg7G9MxRx+dHlGbk/be885Lf3bSn3n1MZxK+kNwPdymWwe517uhGefpo6ySvvglJ0bja8DnxO1YPmeMESeHVxc15r32da9NN954o58DoD/Ttkv6+tL96pM4B3xampW6d7/73Wk/2YrvaULAmMUnnKH3Z698pW/1jfKqUjgYOAk/u+FndgS319i/dIDni8KBBCi3dTw2q4prjR+GLYe8MjBYsCgJs0B3UjVUeP4ydDKgdFIUAi9yxoxpvg949TXXpAkTJ1fGkSWmcfL69tlnXzdih4xF/7KB9A+XXZYOO+xQL/2d+OIXa0b4k/TAAw8ltsBnYF+6dJmUaHQaqwOjTknjxnalHbfbMU2eOCk98vBDaaycEIwO3x+/+57Z/vb07Nn3pnvvfSDNvusuDTArZXz4tOxGP6iGkqIkPE/wve9elebOfUSzxuNVOx52iwfRfP9d9WJ1woZNhwckHY177TKeylMUD3vrmbrCpOOAhEKSHnLkIapyq0E/ipfjYZyCF7N4ynFA+4MAADplSURBVPeT//aMhUs81/qDD3ZKLAY+8FQm3JgnPGph0kncUcyg8XgmARyezI0yox3t7CgfA308CxF8UQc/uJPLMOTxghMHNGhnZM19QvOvfMShLzOmz0j33Xe/Bw4GDT//oIPrL8s4fPzjn0jf/Na3/AzApz/9aQ8eu+y6i40Kg0k4U3zad2S69dZb/E14vs3+9re/Pd0kQ4PRZ5Xhwos+4nuQGBSckg9f8OH0D5f+Q/rny//ZS80/vOaHrncl/yxviycfw9BoVwMyykGMrFdTJDtm5EgOMYa+shysmbv6OO0HHvEs4y5csCgtW7bM95iZBGynAZ1nQT71qU+5HcB9Ug7ee/7fe9Kpp55qR51PL/Mtfr4n/5Of/MT6iR7QXsC1110nugs8u2TY4lbi8uVL1bZMHOKBQtcCBmvQfDUM7YAxjdfHuU0aK3CMOdFnNmxYK9nSf5lgJY3P/ZYxzYLcTz7pJI3fD8gpPCV94AMfSG9961vTc5/73PTmN73J4+5sjdE8y/Oyl70sXXnllenBBx9K73rXu9Njcg6ZnDBesOLnz8GrsWh3ng/67Gc/k17+8leKO3QOJ4BRLv6G4bcD1W2CGCIbwHV0xDBWMVtjdhmvivBusKKtLG94w+vTXTIMCxb1yZiO9ozhuh9fm1796ldpZrZDNqqj0g9++MN01913pZe85MW+T7//fvtp1r99uu76661wKIaXklTGCjkOfC1xlOI5Zk6bmSaO702LFy4QG3xfvDv92799z/cSTz7pNekvTj1DTskp6aSTT0v/9bOfi1a3+B2Vzjjj9PSnf/oy3+viwcH3/N070/OPf07aZecdVU48pcrhJQ9V13XO9WbQsvGgoqqzZ9Pijc2I2LwIfA+MGObcQZpkZiOra6dFHM4BZ9N1HPTlMPgJXhlmHRhiyiOfaYsPG1SRMk3LPgy2j0yPTs1T2AzA5dVFOwQM3NCBpvjmr6RX9XIeZKFUHS6/BagZUJKRBW1G+WJAfKIPakc5UtBgMC/4q1avSTf8/OfWhXPPPce3iS75xCXpTs30zz7nHBuBT33q0x4koMeDSjf8/Ib0ox9dY0djP80qv/vv302ve91p6SUvfanvXx980MHprLP+3oPKld/4evqTP/6T9N73vje9453vSF/5ylfStT/6kVcPkB36a2fNHDWg9foPCdq1cl0ealIDciv6bX31X9Z9pcWYEHlxKJfLqDPwc9+YB/9e9apXpfef//50yy23yJn7lXRylJzBb6Z3veOdadttZlUPpLEEffjhh6d///d/Tx/72MdcHo7C7Ltmp4sv/miUr/IoI3YSZVWMvkLJQ4AYs74OQwV1cZTWpAvTjmre1N3D/hFqb8dLxjLGjFtjNJvnNT/aAWcd/IULF/o2EWP68ccf71t1z3rWs/wgL2PDKzXz/+fLL9cE8DD18f3Sm978prTNNtuk8849T2MebwOFM+dJJGOH2vs73/m2xoSz0rRps5TW4ecMYozSOLiOsxgfbtNnHOhJbQBFAHhIRAaCa8Z7OeCEiaPx6JRjujrS9OlT0x577pku+/RnNFMYl26+9eY0b/5j6a/++o2mxWuGCxctTp/6zKe8PMQs4Mn5822MjzziCHn918qAdPkWw1jNNGn4MaO744E+ZidSun7NPhYtWJh6x49TufHE6ymnvEoDx7+mq676dvr2t69KX/7yV9K3v/O1dKgUb7k8XBT4RSeemP70ZX+adt9j98T3/c879+z0jr/9GysdBtQDmcqjXrnSDlv5SjxADxBQb4yLgQFSpzDsgcJgGY5SdDKyQ4dr+AG37niUg+ti4Lm24stAE+YM7w2Hg0LxzMPQ23nQNeml07hzwT95zI9m7or3tXkOw039jV8dulbnb9yCiPpnKRiCjxFp3LjxvjXE8iJtFHUZaQNMmBUHCuKPryeyTHzSySeZF5Z44ZF7/cwsYIrZ/mc0g7zwwovSe97znvSzn/0svf71r0+T5Fy+6EUvtCPR1TVGbRcPNR5+xOFp9uzZaUCO4yGHHJz2P2A/uHNZzDIPPOigdNttt5pndDagXpMG0M7tU34/wXXdRIVLEu2IHrBXCKs2EeeT9YW25JkAorimXehb75NTNmniRD+3UxzGt2jWeKdmirQ3KwcHHrC/afEMCM4fmsnDiZfLeHR3dfsB0L/5m79NP7z6aq8q7JKfJ/HqlzlQm0mHzOyQdYlE0IZhaDEhT2RJO7ACU8YFckS/jj0k6It+jkcZWJF729ve5mc8TjnllPSc5zwnHXfccX7TA6eeB8CP0PjOrVIeOEV/eF7oZZqcLVq0yPkZxykXnYHo3XffbX3aYYftbV/gl3KhAU8+NEb9YfXW/xlo6wwweBskbzxxK4WiRnY0ZqEog4IaeEdpMO5Pxxx7bPrq165MDz3ySPrc5/4p7b3PXh4MMBKrV61NDzz4aFq0pC8NyEifptndyzS7e8mLX5yuuOJL6bZbb00LFixNq9as8319NiQa0aFBf8xYGbpONf4I5ZXyrFyedtxxJ9Hot9JOnzEz7b7b7mn33feUsd/VT7vuusvuaebM6WnChG7xuDb99V+/JZ3xl2ekS//xk2mfP9o3feGLX0pd3T1pfO/ExMOK/jCRlxq5RxlPw3qGLuXkWQgUlYO4sgUwtyg4EAoDJdJiRo9cWNrmVgPnYkyZ9YfcQtzQQ9HBR5CkFSCOdGTvcFZ62gR60UF1LQNPXs5BJm4nUDYHDgI5yR9OQZ4d2ykZmWfvmb9c31Y+cihOsBSs5LqMSAcceEDq7+9XXmiZnbROnZb7+Rj+3vwkMoM8Wf0Uujo69eNZD/JMnTbNtwhwEHfWYH/RRy9K5513brroogvTOeecbZozZsxw+Z5ByDkE4BeDsXjxIs9YuJfsVwgzb8xgent700MPPWSnknpDxLJtB44eIu0PHJDnpImTNIAvtv4hw6Ift9xyc9qNB8gyMFBvo9k+bcbgb6dYuPQdbh/RB9785rd4ErBsYGlauWJ5Wioduu/++9OcuXM1DixIO+20Uzrt9NPTxRdfnD560UVy3t+RHn7oYfX5HhkDHBK1k+iw54j9YLGS2RkE9Bv/DZH+hwaIYbAouO1H/+pIs2Ztm8aPm5zuved+y23dWiZ/9OCR6tdzPAGgl9AX6Vs8y8PbIVx711baWs7fIYcckn5z551+Nih0BRo8l8BkY6Posqo4WvliTMJZR194iJix9Vc33Zx+8tMfa0LwX3L47/aqIuVV7ThUP/6dB/gux+8WNEb/FqDD0/HxxOJetGPdGKUdWErii4Ys1x1//PNSh4zn5y//fLpOM/0jjni2vP8BeXUr1Lid6eqrr00Ha/b2iUs+4fvEl3/u8+kjH/5QuuLLX/AzBB84/8LUqwFn+arl3s1v7TrexeebBN2pf+my9E+f/XTqnTA+HXnUkWnlqgErzrie8al3vGYfwhkjp2TcuLFWVs1R0rLlC2UUmbl0pLHjutOivgXyYt+eFixclP7lX66QsVgrZewSHerEUmfUywZblcSAUkbDeLA0KWOjAYiOgcKShBIzQDGj5v41Rq141ZwBDFQxUoDTlZmzZ9V5gAXoHN6bIN9iIL76y3kIA7EKoHLFJ89bxGpAtBtn2stli148SxDlQ4cQz0oQB36dP/JVT4rWQclgwAP3+J61517pwQceVL3jYcmy2c9Pf/rT9Mcv+GPLp9wqYFl3ugzEnLlzzFvsQZDStdde6+cBuM30oQ9+MK1auVqz+pV+KwBHg1kjDwN+9KMfNT1XS1wwU7jt17f5tcR99t7bTsEitS3Llxzjxo1L9917r2crq/NOh85Z1fEPGyyFmihKEClxcI2sOJi97b7HHukf/uFSOfehq8j/nrvv8cOCOOE4Z9Yj4R900IHp0ksvTWwaVfoQ/eKrX/1qGjd+XHr9GWd4I6JrrrkmXf3976cf6czbSLwtcJ2Os/7+LD9vVPKjB98X3rGacADoH0vMG9j7hFUsnNpo3sHgikRwGIYGXtlmAoMDfdghR6Xzz/+gxtkVan++Upu8x8Qeu++hdlR7erV2g5/d4ZkRjD6TAMYYzrTP7b/+ddpp553TP152mZ099IV2QA/QjUMOPVTjT6fHB3SHBmR14GMf/3jaWRO+vr5+TRgGlJc9R7rSE/OfNG079bkvNxq9TeODY7w2af8r0I6X3yX+NEa/jxc824E6GQ3HE+HIP5wBDQR5gAgDJ49OeBjQ0ZrFL1u2Mn1FM/1161anT3zs4jSWAV8dVXPW9LFPfDJdcOGH0nHHHJsmT5iQtps1K22v2Rz3C3ld6ZOXXpZe/vKXp+uv/3F6bM4cL0Xd8es7RO8KPxQ2e/ad6etf/1raRvlYarryym+kJ+Y9LuOxPC18cpEMygN+QwDjZEMjRfjKl7+cXnXyqzSr6bXnut02O3i2+hkp6IkvfGGaMmlS4hPKjBVhEKNuEQOJMLtswuN7+dVqANUKoxsIOAqxORHp/IHTkBOGNg7HC4sf09cR6eFtE4ZOebuA6yijQc/3/+FBskVOBcw/AYgJNupUaAM+63AdFU95hQ/nLIii09XdpXQeHKWjRjzJ4MIfKws86c1y7+cvvzyd+KITnef++x5IX/3aV9L73v9+5YjXO8nPsv20aVPTGWe8Pp2sNukdPz7dcust6TWveU265JJL0pFHHumnzmfN2ib90R/ta/zjn398etuZZyrfdL9t8MEPfDCdeOKLfCsJZ4FbDOxzsMMOO6SecT3pe9/9XjrhhBd48Pj+93/g51Ne+YpXRD0FlqXrkgVaA+qWpfcHA9S2HAUGXaMrOmbOmJku+MgFvl2A8Uf+75Ps3/CGM9KBBx7o20X0D4z3Tjvv5NszN974C28KtEQD+9e+dqWfBTj//Pen/fbbz07cvqLD/eW9nrWXXy897bTT/Zoaewz8/IafWydw7FgtOvaYY9IxOtB5jMhNN/0y9Y7rTbvssrN1ER7NbzDt8DBsDUhm/Et2Rxx+VLr5lps15t6Vdtt19/SLX9yY3vWud/nVUt4AWKa2ZwIytrvbGz+dffbZaVuN5dOmTk3zn5ifzjnnHG80xSZC3RoT2ITswAMOTNOmT0vvf9/7/WAhzwwwUcMR4A2GviX9nixuv932aY8990h7yPncddedvOJ76623+XbRlClT/bZZ0cloZn7atDeJRmiT9r8ChZd2x+8GjNDgzsjYDAz4mrGyhLdsab/mwTL4fuKUmShDaRgkZo8bNvJBH74lsCH98qZb07nnnK2G3DVdesnHvGw0Ro19o+IvvPiSdNk/XZYmyvMcw7KtysDA8uriAw89nE557enpQjkQrCzMefghWef1wpGBVIOidGxk88pXviKt0KDDd/bPfNs70733zJZCCUkzBJ4j6PCbAZ3p+TIIf/u370wvlyH45CXyNHfaTrxqhrN2o2bcY9KfKX4fDUYfOP991hcbVJ3DaLBSEMvaPBuAl8urjigtxsJPxyuOg7wYGBtxzeiZ5SM7aPCHceY2Syilo50/uxiWZ8MZiGV+wnjRvMpJPpZXnSM3U7X8TxuJBzsxwsO4czbo7HQcMdLytZNyOrgcrg+zdyVDg7JGaBY/YdJE36YZMXKM8ioX/zrAp0wGfZbnn1Dn575hT884P9T52OOPpze+8Q3p2OOOSfPmzdMs75x01lnnpN122035N6b3S+aPPPKob/fcd9996fTTX5de+MI/Mc2777onfejDF6SpU6Z4RYmlfx42pCwGkHe9893mkWcCeMPghBOOT295y5ujXhLz2858u/kD7rnnXs9kMTbIleojB6CSRb4ehnaAjEJvPKsTePVGBmEHzQgf1ADOisy5551rg82+EqzK/dVf/XVas5qNoFak8847x2mrVq1OfYuXpI9efHGaOXOG7x8jeqRPU9D2//Ef/+HneyiW1aOLLrzIZXOM6RqTLrroIrUjq3F8oGyM9ydAP3hWhOXt5rYcbtdmCH0PCNlEF4g2bhKdElgJ4n7+373n3Wn2b+7yag6rNRhrjPwpcuCZ2Z8pR51XSa+66io/sMtbJd3sUKjx+Ytf/IIdB27RfeMbV6YrlI6Dv+8++6YPfuiDHi8YG3nzi1tEvKVw1FGxW6hvGaznFhNjY+xFwZsFGzXOc2sBftELsz3ch58xGNIZ2KjGWKUBeWDpEvVWts5lBkoDYNyYYXHFH0vdUiDvPDgyzVVH7hnbnWZMn2o6NBVe35OL+9L2O+6YujVrH6nO36lW9paTOtik6K777k/dGkxwDjo7ZBBXr0rjpFjM3ll+5olSXq+j8VmdeGTOY56N8IETXh9jiYk3EZixsz0qO5UtWPBkmq7Z6NjuMXYSmGzDP54o3u1uu+3qPJ5R23BHLVmqRygMgmGoY0XAkTpCZOJDf366GRzlD+POEj1O0zovu2G8WRHwsxfK548VBSPOh09FnSgTZwOa8IgBxLBh+BwnXMolfhTL+8rGIGoZwz95uVZC8IIzEAw3jKCTfc3BswzkYYZPO3gHOXBHbUy9Eyek0V3qsCPZKCTwSfJtCLURssIhgiBl3X77He7sBx5wkJ0y6oOxP+fsc9PZ55zrZwhwlhjQuS3AK0bcaxw3vseM0Q60Z3//0nTvvff4iWNeF+Q2SCwjBg84EuwrwH3l7XfYzjKmvjgLGAlmM2yRzCwSuvDGLRdmrUUOw7AFgOysO/TTfAtK7c0tl3nz5tsosLEMt5p4TuCCD39YcePTW99yZjhf6kmImz0iMCzbb7+D24dbatGedCT0qTis4QTbGZYx4kFjdh6lbBwIO7vouWjSf8CN12Lj/fRYeXPI18NQB8aBOOUQvamtqBhT6DMYedqFB/3YFp6H+ohnHP2qDDsPjB904EGiF32McYnnPbjNwBF9LeLRG8Z1xnHGZfAB33JVu5opoTNmMOaRrub0eMEt6JEj4uFCkLg9RNA4EIlGH4ZnAIZwBqQQUorVK5engf4laiB5ablzY6hohjKwMhCgQNghKNkgKUCnVsCDNTv7jdQAgA30U6NSjA7lX583MuKBwU7NKlfLIMEMS/9dYzqNy2YW3Cvifrxn2jr4QuEqDUp8MRE+1q/nfpRm1ixpc1Y+4l01Pxmfv4Cna75eyIoEPFIDDAW18r/ygOOH/3Tt95yNlWlx5UEnYm2MFfYsW3wV4D5mfeXA+MoHDeLJV9LoADgMAOkcUHenEPlYrRB94cAC8iYvPzgeCKyUTaczFFboZ+ZbYLxsEOEHmspHe5X7gJaZkkfJmE+YJK++UzM4OQNqTdOEbINHyEj21AX65BWNCI5wR/YeDap3uc+saD/cSJhBwisqkgEGv8gVPnFOkCm4GANwoEx6oWWDAjoyEAR9DEl82KbshoasQxcF0B+GLQPJLmTORei/9UNn2i76YszUOdOG4CFvZuo0JGngkg+jjU7TFIVWrOLwACv49LfA5aDNuAbQE5wI64HycgaHvhDf5qjD02lj1ziCv3egulG9ClTPTVQVw80bP6zsMJEJBy8I4IhVkxS1A+0UYxrtHI53Gf9oL08e1GbRbtGGpuSfPHbqP/Qhg3ljbFpjh5PBDOfBeTbB9zA8daicAU40ZoQ1wKpxV69ckfqXLFIEM0Gagw5OJ86GRZGe6cpZQBkwBl4WF0XoYcwVa6WAAIO0Eri7gMX0wC4GlC5aGhBit2NdMz8XD8Vr5FxeQeErh35lTcA1MwuQ7BjwJ1ooLjzZ0KpclLfMmn0vXgyFAQ9j1ASUl+VAnQAoV4bOebimZooz/8VoBw6o8MbhQutAvE7QIB/iwjlhYAOoA+/SEoqHFVUWJExKV8hcuEEbQOZRRtAIfpzfDkTwQZ1snKFHss4EGMRJxwHyw5C67hzTkXrlwXeM7hKfY4TakBHcQyMYAqJsl5Nl5PIsoyjbch6V8TKO81OfzDvgfIUe5SjNcTUcshFnULRTSrriS1roTpQBUK6DdVpbA7nIzF4bKAgASPXrdvAU+fgfA/HfWmeuS9V0Ls0AMGYwmNPnGCkQM23o9tC/2zDToS1sABQRzlxOMEq0OVB35EwPUsKPOPLUGGi6bk2rA2kFhsIB6nibgk3RALaUzhDQWsWnC63sttCsdZkGlDw5vt4n7QSoPUqWqv9VRIoOBOHSv6NBOcdlZGvp61gP6wdQ2pwxwxG/FxDSag//09UcwhlQlBwAVgaW9C0Wkrx9tQWGG/uI0cCbxwDiFTIzLztU+f6zGq6zY3R+yCy2Iqba/sMYyLrZ29eMlC/n0bmJZoWAQaLa0AjOxJM48+wVr7IYOHCAMGYoDHRiJorhIc7lFomKDlkoi4dfaAXCHJWC2uo64P8AeInlq7IsHnIK40I5cMgKAzgWnflWBTKNiItBj7zFEQDB/ENLV17OVj6cAfJ4IyLVqTy7gDMVqwhRPn8gFn6oL7RdJ0Vxpn1cpuRtrxxMsYIM7Ujl/DgklMktlyS/Znzv+NTd0yueuhXfpgMKGVqUK+qFpYghDWICaEfeBgHSHFcnmvM26PATM00PNjVUkiyzEtmS122iPE8JCq0tAiFX/ArqPLZCne6QeHVim4MtLWwoaJe/TUVyOwYonGUebUi44IJHmLbPQUPE8RuTgdDLwC9QIZNbV3FdDwfU80R6iWrmBWjGrYDoOloTtCYOiSjI9OvFbAp904mDYQj2t5ZMW2ilXaPJGBaOWguUPEryGC55I/Ja9BAgjKJDjIkFiMsESHX+GpGI4xd9Cp1i/LI+tBYGGtAa/38ACutD1WFLq/RMiGCzI6Y7rkrAaGFsvBxI4xCWgQpjKDz90LbMykd3xnvd4Hp2TUPqb6Om/tYLEFEmDLvwNqoIDlaBvBKkMCaSufd60adcZpq8clgGeeLq37lmMMBQMjOJ+/LxPjLqg4EdJcLMtL38zIxbLKDU4ZyUQyW6XpzhO+7981wCOy2KG1FTfUdgrNeH4VTsCM/s4RY+MFyUCoQiQ4f648CwzadvYzgd+cIIOUHDOcCQ0dHkAPHcxho+pLRWJSteTg5GndWTjSyvQCQToj7UzZcUqQOe/PxCRJk2BzILvhqHVzrgUwT8rAMrP5l4LiIDlASKBBcc5a7i6u0R+RtpPnRdDdwk5eQKuDae6Iov0/G1kuAVyNdNADnSdbbTo/ooIiduBUC7Hf1WMF5G5lzCTVC7Lsl1lEHsbQ2/4JYDaJe3Xmj9AHJeZFSOpvQM9WzUMWdz21b5ABACLA6ncxUG3W3ptILnq3wUGnEVAO0SJNDAKRD6VYcqQz63AWcp5dahnncL6BQadVL1rBXUEbYC2mV7CmTawiboVM1Tg9KvOCIcfbJq03qdSXd7FRBGIer4nFbiSM7nOjDxzKH4o8y4HAzEtYv/rUOpT61ehnp401CG8Qry9aD4zcAzIYJqZaAZNLznBwiXL1uqgVWGlYOBXpaaZim54j41nGdDgqGVCfZMWgMyxhyIJs0AogyeHYUcCTkrF4ZQYQwyqwcxm5VRh67SolwZzVIuv6JjQz9KTohoc1tAFOzIxKwy8ww+/+IpHJsow0ZUB+V79g8fuvbMWnKwI5JXJILdwGWmA30Mp2uY6ZDfTkbGNj3OpPGvPDa8ioIH7q9TVqkveNDm1odB124mnUfzIKRXNoIm0eEEqExdRI4oBzcAp8h1FI+0SUZQnnCqVKwBWqz44NKwojOud7wfIBwxarTykBpACb7KP6VMqgaYTa79S1rmyAgZCSC6IFfxgRvXyun0IlPHZDokR1odkHkjOeO24GwV1NnJ0CaqDbRitbkuUVsLkKjlJegqOkBMgaaLZkB27aCtrDJulaUE6owoXOVtxLkNHMzhuOBHUBGsQUkTFB7JVIV1EKzo5Pg6qRqJVoisrQiKrcujKbl+sQnCQJ0G0FaWTxUKbdGsBXOFAkq4Liugjl9F1qBOowJF1vIxbFRtJ/qlD1Z9rA5NsixpNXoA8Vy3ZK3AuPoZlL6ZfE8FhqJnHoAqEHhbXP4mkGokhwYhFfkh01Y518HpJazD4U3gDwEyBYM5g7ZjRQ8eIOuzfuI+fBxGcWKkuaPpzKBdZqUmpMN5OzrTKBkzZtLgceYePBYJe+MDdIgyM5VxB8ezVBlkwM8Y6IwBxMiFoQsDSu5YShftij+FnYaDkZ9urYxi5AHCbMEo0aqDzp7rR1ajFacBO4pzwPMLlF2cAiNDTgixk6EMfEcc5p8ZvXDZhjmKES1o6xeZc7bT4WDIml0QeUbCThL5C09BgH/HWSq+5hxxcduC9jAyVAPH4ejIyNYPYdkJKSjQaVzDD0e4dXUwp4FGBTDGEVWB+RFQb/4qYjlvIxzXkMmYZM5xVUxGKOHaJT9CN25Or+Lz9dOFigok49SIa4Hm9GiDzeG3QolryqdAPd5Q4vgpxxZAHT2ytMuIUHMQqJD5Cb0t8nYcQR+hdQbC1UVA5GscFc0qQtCSqURXuO2A6HJUUPpALdo4+mnCEzi+HK2Jm4I6rwpvTdYhoTDSBkp0HaXObz2+gkERzWwDlUyiz9G2DRQlUDWXM7hNDY7MCaYFbgui6dfOg6BdQrvCngGArHlsBeJa4nXZDnOrYGsIZDk3h2tx9bBOzdUoEfVj0yDbar8vXwZ4xs4y+JpVaflAf1q/djWWVFgoBsYvjA4GysvOeTYtk2VDzmoABrJTxnzt6jUiL8OG4eS+uuKdR6XG/e9SHg4Ezx1goGIzCs+ORdu3JlgpQNHICMsCHojjNgOOhw0bzoXO0PO9eOGWV4/IBi2cgbg3by2wMQ+ymaYMI52AWbLjKCvzN4rNTcRzzOzDOYhkpSscS+Sqq9J5Et6rF6JNSTwhj6HkGYlwaLL8FOdVCsrOt0Hi9kvIh/dqeaJ2o5/FEJBes7jQ2Wheld+OEbWKFQHYUoYw+KIVDhx8qoYq2PyKubgtwFPBcSuInSTHT5iQRo8pbxNkkee6cBQwKznNTJjx0APAv47nQlcFN5LbQqCzGtRAIht8W+/yNT/gmZzlX4gXXEKZRj6Rp0bWdLg0PUE9DBAOLRUU5GhmH7XgoHwF3Uc9URHl0vl0UdWNNF3Xz0A9PBSAo1/TqUOdHuAw8WrU4mQDmyIfpPkVVvwbQubQbM5d2mJTPIPS2s7twKT4oVzhFllFoo6SvR4eCmo4pitoLl6Rxmkup107N2WrgVkdKrEN1PHrZSIbStlyUoHvECuPptOcu0l27cDMEKD+eZwGv5aH8Q4aHNH/2tBrsGLgspyJrudoQa2glXbQUKwCdRmx7luHUlaJrdMp4UKLsCdzSm6tR2s+MOIcuK3YAc34BQgVDKA575ZCcxkFHKs6cG70JV0NQt90qe2dAYyEGnygvy+tXrFMMTJOGFeMMqL3zJeH9eKBM14dpIEwKn5VDz4UgTHjYTjzpzxWLg9AGLlOb6zDg4ixzK8iZai5R97hhw/Z7IbaUMlwCnhtDKPm15R0jZHDwPFeMmURJgc8YPStsIoj7GVxlQEr8mVgsKo1jgO4vOvupXIbShSEJ+xlqKmL6LCBhl+xEb+UjzqYN137mQeIUQbluozoOGyaAo82vuRSGuXAGzRL5yKNcqHPe77+KI/kxG0PyjBBaONE6Bo+cQAMJGXDTwWhYydFCUE63hEu+Wg/31cXUDf2cOA74jyH0TFmdOoZNy6N7mLTIfYZACtXSCcUzny6PrDEtYPGis4V9XS0fkoc7eD2Nrdgk7+ibkD/oM9DjeQrNPghHqCevqXjsPROB9ekBz+FmgBe9Oc4ysq6ELeaQm/BtrwUX/TIPCsMcB20ORstDsJECuDb4Vx+OKm6FA1jKE4UHAdBTk5RvN+sUbuad8WbDgUV/Az1+pVyXS8B/BPks9w0Dfy4Ljk9zqJHZ1O4pJuTjFOcg3wpQOYlb0nXQRY41b+dW/Higxy6Rr+h3cqjedcfmMFv0eEop5yNl/OUM3pX1afQRZfFU2SNeNLNmwB8tFQlVTgaNfSHEy6Z6xx8k5f0Up5idE3bccUEByyK9ZApsOSkS5xdtALGJZ28ppvpKc4sg6AAdY8H9TgaUOraiFY+5KiQ9YsofijCBKPdSztGTLxxxFXER96AgiPI/JX89GePDeKLP+LpAzFZoHLIULQ10XA14B8aOhryCfmX25DkN+R4ocRl5t8tlePdlsqnaIoKpJyBX7dhlj1lk69epscA8ex0ZXCawuYhX4MXtch0heg8umSiBpRSTT/TLv0i6pPL5S+nF1zKBaVRhtJNsdCjjJzfhRAv2eWyo5SMW6sjNGgPdMHjr3A8PuU051MkaYUGjMBTI6IKtIVNOAN8KXBxGqEBc8VAf+It0051WtGXcVW6hePSbWyZ+XZ189ngSPJDeJxVAYw3yrRi+XJvPAKwQQ2bU7A7GRtacN8cQ8RbA90yQhtUhlcEBEUZx3R32UgyePA9c1j3Dn0qa53yMovm+/rLVA5bErOJDZ2CMAqMYBAg/NmoK0wZrAbY6ItXaCBofugYtFiZMbMVKzTJG29KrDEezbFOxp7GC4MbRgmxwjflMrsnjPMDLerAdr+rVq60TINO8EXaGtUPoGNyq4COgLFmzwV2cOM9evZu580I6LNzFzJHPrwDDEHahTBnVlvYMAaHhwcRvWmLHCicK/iN2wXsCQEzI9LYceO9MtDR2SX6o9Iq8ROrNRo4VJ7+Ydngwcpyin3oPciJDg4adfE+E0rnnWVkan3QdZEFuhOvi2rwUh4/E6F02oP88EaHwcDgILAixIeIGDhoN/iCTnxISrLj3WjxYLkKcA4x/NGe4lsJxal0uyiPN10SP4AdTdGGR9oemq4w1RINv2eN40i9RIfux7Ml6BkygH/LQXlIhb6fPRFNkXBd3GXFI/oIm9SLvAB0KKM4CBUtyRl844pHMlI++dxHFE+f4A98Bjn0BXm5PxIvPID24vCeDopji2/0Gb7sqIumnTHRAEInQ67EIy/KgHe3k8rYaPlkA0Je5KgzsnTdlE583YkrdUYupZ25/Qbf8Be8qz9lHHQgIOpC30W2biMB5SMvaDC5oCzqE23eYbnGwB46HPzylVQmAnkCkfUKHOpInAj4tuWGzBcrX+QlTFvwLA9hvtlBfS0jpSMv0pED5cAL+sk7/Oge9SeN8gm7rcGVblE+8rCRFB3oU2fiwKXPlHqhp87r9g2dMShP5MOIh+zMGzzBm/Khy/ANHkcYmRh3GV94Rdzx5FcCMmSctI6JDngjkLf0g2v6oxH5lyyAIlvKQwYj2DtAuOV7Ay6b9pfMctbMYzh/RS6mb1nmOKXDFxuxSWiV/tM2KA16sF62Jeqm+qg8xkrkx21rxq61noBqDBFt8EZhL5hgignaGS2Hb2iiZ0U/Wf0VIzEOiHZxuKAZ4wn8Rpz7r8qwfiAvysn1Qcfhkckxm22FDBnPgx/3W3DRFeorPjwOKJ/D1Ft/ZRym5clvAYj7ou+bg7bOAA0Cc3MfeSQNLOlL/QsXphG6nigDsbivz7P2iZMmyqAvTytWrnB44aJFbmRmlH2LF3tAw9gvWLggTeidoAqPUnxf7EClItklbuKkSTIUfFRomeJ7bewGlg54H/QVy1ZYwJNFe7Hy0Xi9E3AeZOAlJD5Ew45XPWP5OFGP6Y3rGScFEb1lyywMvmy4aPGiNEnl0IDknaww+6rjTDBjR7gY5HAYNrij8nU0Gh9jyyc72RUPulOmTkvLVWf4nDRlsutMh+xSx1gmHMpj62TKHDsWQ9qZ+JQycunq6vYHV0jHEC1Z0p9mqJ4D4hV+Jk6clFbKQULBoYOyMciN7+lJ/QNL3fA4TXaGVCbfWKDO0EXRli0f8D7gY6ToCxcttFw6O8ekPrXXlCnT1J7IZXm0G6+MLlmcps+Y5odEuZ4yaYporJAmjPQXHdHh3gmTpA2xxwOAHBc++aQHfXafYx/y3gkTUrfaYtnSpWrDCebzUenNBLadlnzZBZJdJHltdOmSJa4bGkedZm6zjb9iaVnMnOm6LxHOpEmTPVAuFc2ZM2dJh570gDdzxoz0yKOPqq26vGUx8sQY9qi9+FIiuMh2kfR1stoHek88+YT5ZuMSPmRE/eGRDxvx4STals40WWX29S3xZGTq5ClpqeJXy/Fjv3XooU84YOgKOsO2q/PF12TxQZ3YHnnqlKn0nvTEvPlpW9UNPeUjLfDV37/E3/nnK43IAT2bNnNGWqr689YIX/l78okFzk+Zj86ZY33mS4/UgbL5eA86T3kYk/nz54v2TK+YxbcfRFsy40NPhOmb7P43Y/r01L+0X/JQu6me6A0OJjTZIRB9os/RVsiGesyf93iaqLZFd/moEDQY4Japf247a5b7B5+onTJ1ivvDQtGkDVer3fjkLHLhW/c4zej2cuk5/Xz6tOlyLFdb16eqnugnwI6G4HvcUD9H/gyuU9QWSzQG0eYYLerM1w/pG2xZjf4xZjA+0LcYDNEhaOO8rBdvU6XbT0pX+U7GOOlln2SxRvnZZhcHGcFQJrQ5892M+WpDZLVWkxXozFDfx1jNlZ5NkyxWq7z+pUvSZJWzdNmAJjor0vbbbuev9G2QbNg1kfamv06dNjUtVD0ZlKcIv7QnB5/6pe3RW+IZn2jbBU8uUN0nWzbwAg4OMLxMkW4zlnGg28h8YGCZ+yR9yTokHp944km/Isz4QN0oe2z32DRPbcv4iX7RhugQnwFfKb0ZL5ng8CJzvlSJwVu8aLH1iXaFB9pzgWgjt+232VayfdI7y7LF8CLsg3SIdmHsZxxi8kIdkCttiE6qobyzIXwhH8Z6djvEZqyRrXlC8TvuuGNaqTqi3/C4UrIcUH+iztBAh6ZLFyiHvr7dttt6C3SMLOXPe+xxT+DGyj4slDwJY2yXqJ8zNuHA0f9n0FaiPU96zs6nYib1S4dmSs8Zm3GY6Yd94o889I954g/dhiZjGH0D3Znz6BzhTpC8ZqTHcx/uEN6T89W26hPUf4nGArZqZmJJmG+roPuMZ7vutmt6bO5j6oej0nbbbe+60S5874MdOXESqdtjGm+QH7LtY8ycPEn1HJfmSJ/GKG7X3XdTWk+4A5It/WJz0N4ZkCUg8wp1mvUSEntO944XYXVOGgEB0BlXr15pgVBBOro/6CNFgGF/r16DLA0Jw3iYeGUMZAxK4V12ptXqbBg+Bjq+UoXHibPB4NYpGnhEdFjiaGQGOwYOykB56DAYDgbXCeKLMhmAKYfdCxEUDggDYxjlLq9QoOSsRrASQWfBW0QOlMdsmo6McwA+DYVxQ+HogAw6vXKMGJip+2gZ4SWSFY2DN7hQjYZh5JYHQAdnAKRccGhcaE1QPIMhPLOvOx2wDBIYEgQFzwzklIPhpx6ks6LCADhVgzGdF9o4Cxh9nBg+78tHptatl2xVJvJkhoIS4sSh4G7HNbFhFMZyYNlSGYCJ5pnP1fbKKYA2zgAyZ18IBmC+VAYsW4ETN9F06bSTNXCz+yJKPU18LZWiewtSDUjIjTanI/H9ArxhnK5+ted41R3jyoBKPDP8cBbllKiTUefYzz5mY7Qt8unXwEeYePSSQQJDgFymT5/mjoSjSJ3pdOgvjsNSOSLkIa/LkdMDb3z3AkfEequ6MpDhGC/TQIt+MhDjDE9Wx1ugQXS6DAT0cCzRPwaylRosqdMk6WWfykSf+IgS9BiIaHd0koEbvR8QLka3W4M0AzODDgaEL36CQztTV+JpQ5yRWRqk0H1mBwzetJX1Xf0FPqizDbf6JHqDI0M9WTXDqaK7M6MmP/2PfAwaK2SwcX4xrkwm+IgYcrLOiz5tWbalxQDybAn9lRkNePDJLI2ZXun/4OM8sfc8esvAhP5h3NFt9J9PnTOLphxwaAtoIX/akjA6TBtTP2RRVj2o3wrJhD4JX8gI4Np9wvVnJWmV+nU4/zgm6BNjGIYHp2DNujWWO7gYZjxW+hBlI0vGHuaIOFr0BfqP21TjhlcixTf1QbajZWiQJ5MSnMsyEweHsQo+qX+ZXSKv8mVN2oLRmDECemvUPjhbyMJE9YOMkAXyJQwv9EFvUy754iCTlzqXOiDHaBP1VdF2OSoI/UKGXimTbjCBYfYKTfiGJxgijfGkrMQiD/IhExwEngkDGOdYIaYcDC2TQ8ZXL8FLpvCBrvBRM3SZNnAdVEfKg8dl0o/yuWr0lPoDTKxoe3hgO3nqQN2QA22CbWDs5pspjN3IlP7JrWzaEJng0OAIIGPyUg+qiOPJzBoRs0JGPGMR/JLPspLcxokevEKzW/0pNsPTmKR6YnfYCh86q9Q+HdhDyWK1xg/aHqBNcAqh7VVc2kHXlIPcSGfM6dJkcoUmb8T34LRqbIKJHo3ZayRvoFP1ZBLG+IKeVCs9avONmsR1SBbUZyucAUTRDGV5byMNJ3JulI5YrrFGirCJ65rGxPPZyICgPOIobZAwwbGUdR6JAkl4CEmEKSDSoa6ywCv0KMN0NrJcpYFFDQEOJXOfe50aAuHBH0/l07mhRAN6+UY8x22FWGqjLuWhwFiGVEjCZjZE2MtXyj+qYzTsyOCtTaO4lSHFJT8OjhderMwsQUpp4E/KVuroJRrFhZzggWXv6BzrxRedAbmwzNMh2t4+WVShTHyRBd9jMK+iScMSH20hHAFKT1wM6CyPRfuwfOnpOvQ2qhzXQeUL3zyp027cgPxZStWgrYGPWxQqxkupyJIHIx0BmdI+1NkRAujDz4ZwngrPG1SXkaLFIIdh8N4Pyk+7KFPIXHGEyeN2ZK9xg2ggU+rFlcpTbTIv+kf/1E60ud9CIb/kMYK2Asyn8IiTDNw2xENHbYBFixIFyMhyp8hoQ8uDstnGWnJiAGEpj1zUBzmjs9Yh4cOndRi5qCwXrjTakFdxTY8odF15aTfrMxtHsVeE+GUgo88wEHWhC+o3lj98KR4dd+UpT/y4bkqs+pY6O7KlrhuU18ujyo1usbyJzGhHL8NSN3hVuRh9jBRx1BP9N7+0OSVyJh/lqExiRzi/BhgGag3eZoT6ZtrGIV08YUQN7jdxKwkD5VsvKsv5XBEdwkFHvLQs2qHvsYTLigV8lDDGlD7NcyyujwtV0P1PIhGN9XLSqI/rCgJp8OM6KQxttYnbU+Wv1cDKDA+cjSqH533gV5wrPdoW+m5rSCgNvZBw1B7Rj7hdQNsxYaEctzO6SntJ79AX6kB5vpXB+CS9FcvWDxtP+COCNtGBaMCnXGROIg4XPEYfpxzhMchrrMBRH4WDCa8eI+iP6KHGRPFruThd+axbocOMa9Y5xijFu2DYoL+Rl3ojQ51DJ0P3PMYL1+OQyvYD4QozNNhwiq5vMTgft15Y6hZvph75kA1nxmia0mOx6kM56DDytA6TJgSPfdQbCirbfVD8eJzP/csGUGXRp6L9ggecLeuTchN235L8oEv7uB5B2XmpB2MYdieW/OFctITiOTNAXZGHILhCVNAUnsI4AID5kryYpTN+AOg4OmMGVBfKxBkkv9NVH3iiz8StB+yc5CreKYvVE87IIeqv9nR9omwmdDG5hQfpHXoC38Inz+ag2RlQyBUkJudlcx2JJqJqBGOY5Rcc8sCs4vI58otalqkbMjMNLSuN4nwEclPjlLSc1GgMA2XrL9MD6LB05shLTJWRGAvSl9BXvqrauQiuicF4gc+1lZcGoBwhxSCcBzuFKyBO5dBwSAocy4B8SqYeUV/V0Rlcoh9kIt54JOY8JINRwF6rI4MvoJzhN1fJOBEbUPgFAdmEc8O98FCWOnBVaGbp5liTN390FuPov+BTRqkbEDwoPp+Dd+E6XalZnsjHnczpeK4gBU0GDJ8LUWjp2gglLuNWjpIGBA9iAmjGwJfzOC7oRfYGffPnSB0uAxyF8yVhlw2KTtH2hZ8GvUY5cUmM25bLQHKko/RDHYlFBs5KOfrLmIGXofAKYoSRV4VZ5Xe66uxLkvTTyBs8F94p3W2icEDwU35czxKhf/JwOL30JctucFhX0d88EHHNT8VV0ImQ/5FFgM4uI1/n8mJAIxreIylX1/ENKHWLJFaprOvUmWv9koZuOsLEIg6CwVe+5jcSQu8VivZkLFGEeHIy5XFtHMrJ104Svv7jmjBpuU9yKN51J9wEpOuU6QBclro1YoEo0zpvQ0Q9soGo8tf0NEdVPChv4cntR7rTjKXrkItp6VzHA4V4Hh4sYWfjV0LjKsaBBi68ZowMjRBALreP4gmHUSaveMQ+wIf+I9bBJnC9MjSN+RmC8qYhOKcM6bQCHqt0za3OKLBBpeAWfuv8oC+klXagXs5Z2Y+aPMx3yJYwhyeEkcNYpW5RpsK6DueKfIoNVB9xnXWNPJmHTUHlDESWgEJTXPOrczAJeNAtQjYTMTCFOgicOSqD51IeriA+lhAzfo22IhxPpRThKIBGoNKUg2CqCpWz8MJg5zSXzRE0g1YIqsojsLfKpY7GQCO+3DEju+kAGacyMEr0wBeZ+A00N5wAXGjqupAoAEajDnGCHvV2wysDCuTBJqfZ2BVcPHydo75EOLpKb46AT/9m/EKTg07VnM3pdDYnkKKDZlZapWxcioDrqn9KK21jHP5yVsox5HCODsjFmH6Ggu5zvjDvORdRhDjn4gtaFa7KFJTqcK6HgRpaBTnJNNxPTTDnldxd/zq/Sov2EYLDiiSogHmOf8dzBhzmQkeFT3wEq3SuubDhJoiMSXC+CBfDZHxnCDD9DMRzZB8pwkr3IKVw6EUjjT7p5VxoKo4kFe0AYaNyXcA0yCt6tD/7e+iv6AjlFL0xvzlcaJdwAVBcP+rthMgf4SjLZx1EFVk4XZHE1+UCGFdRTTLMcU4krD9eWzZeRPlc6ZkujFoSoUFclqvVuQ1OK5AECxgVSwo6OcHoOU/wETyBG/kwkqV+ROggH0QIKr4+bpT4ViANEh5vBGViw2oRWcrYPkT2CoIOZQqfti/CUl9xIMsGMMfw6groAE+HdYa0/FuAGpOn8Gi8ohP6cTj3yaAj3isl10HQhbYAcc1FNcepnBBCvuYMv5leZWviMupMoNCAwSI4kmo8FhxQqF1Fp6pP0CY/9SUxMCIfGQNXzEDEIFx+M1oFrddbCE3OQJ1GFBe/nr2YIfiIuDzVE9SUOkOEo8KuQEU5E8qXNkrOX9KJo9INRQhiQasdgOuUkpyLKFBd1tJdhsNkztxxbsLJYaBGz0B+smZlYBAtDk8d1SQKnXoagRxfkpugytNc7yaeBK1l+boeKchVrNK5pvYeRPUX6DlTpl/yVNHlOqfXy6jolzRBuSYKETX1sRpenU6BenIJg+ZwjU47MpTDRbmu+M7hKgGo4TYllQvOzcHAqRAVX6ehcMlayjSUzENA6UaFV6PnMElc1+sBOJ6EWlzL5ZBQ8oIPlG5WDFohUoIFD6joK7IKZ6iy1hLqeQsUmvX8dbzWujZBTqvwa9clC+GSXpGpMmSo0XeSfprlHRFcO06XhS9fF8RyrQOw/DYB9bZ23nz2GJnLc1kgCUrd6lCl5TPgfPlcoNAs4ejvOR7MjEx5RmtHeBPg8up5Sz51whhV9IuRy3SdnHFzVHMg89oEJQq8Wt6IboTqYf/Wo4cC4RTegJLF0JK/MnW6rtgsRbaUUS7r1WkqpxYPNMm/ntZCt4KW/Abhgu62lczboWwJtH1mYGjIDe0sUWRVcAmUpEI1hx2dcYoAzHyOrLLlfE7nHJfPODSqrRLivwmcWuOlFUodItzgtB3u1kKDWnvYXPqmIFfJ+Yek8zQKqGct4VaHu4ItKAeUAkXmZGmXdQvIbRHOU4WnQ7ued2voFFzOBbYkb8Efqsw6vQJbytPvAmyqPpurR9GzQsN580V1Ldgcnc1BnX6hVQ/XoZQ5FLTmaR6famEdBFvptSvzKYOIuxwRLeW1QlP5NaSh+Cgo9Xzlun7+QwWbIEFp56cCW+UM4ArkgCB7IFtceGmuUtzmMm4p3jMFhb9heKZhqJasD1JDgfNWP0Ku4Q+3ViWV6jwMw7C1UDcBQ63AtoOnmu//MrjOqurm5t+WTG2AK9gRr8M0aqC4yr5CvYX85sz005d/Sv8f6rQX3qZhNkkAAAAASUVORK5CYII=)"
      ]
    }
  ],
  "metadata": {
    "accelerator": "GPU",
    "colab": {
      "gpuType": "T4",
      "provenance": [],
      "include_colab_link": true
    },
    "kernelspec": {
      "display_name": "Python 3",
      "name": "python3"
    },
    "language_info": {
      "name": "python"
    }
  },
  "nbformat": 4,
  "nbformat_minor": 0
}