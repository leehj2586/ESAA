{
  "nbformat": 4,
  "nbformat_minor": 0,
  "metadata": {
    "colab": {
      "provenance": [],
      "mount_file_id": "1fQ36B0uOEfgY_zIdGy8OpJxzBSrnirtH",
      "authorship_tag": "ABX9TyOqMVCkarlJ/vqCI2JQ/muo",
      "include_colab_link": true
    },
    "kernelspec": {
      "name": "python3",
      "display_name": "Python 3"
    },
    "language_info": {
      "name": "python"
    }
  },
  "cells": [
    {
      "cell_type": "markdown",
      "metadata": {
        "id": "view-in-github",
        "colab_type": "text"
      },
      "source": [
        "<a href=\"https://colab.research.google.com/github/leehj2586/leehj/blob/main/ESAA_0930_%ED%8C%8C%EB%A8%B8%EC%99%848%EC%9E%A5_%ED%85%8D%EC%8A%A4%ED%8A%B8%EB%B6%84%EC%84%9D.ipynb\" target=\"_parent\"><img src=\"https://colab.research.google.com/assets/colab-badge.svg\" alt=\"Open In Colab\"/></a>"
      ]
    },
    {
      "cell_type": "markdown",
      "source": [
        "파머완 2판 p. 534-538, 550-565"
      ],
      "metadata": {
        "id": "793dJumTSL6w"
      }
    },
    {
      "cell_type": "markdown",
      "source": [
        "## 6. 토픽 모델링(Topic Modeling) - 20 뉴스그룹\n",
        "- 토픽모델링: 문서 집합에 숨어있는 주제를 찾아내는 것\n",
        "    - 사람 수행 : 더 함축적 의미로 문장 요약\n",
        "    - 머신러닝 기반: 숨겨진 주제를 효과적으로 표현 가능한 중심 단어를 함축적으로 추출\n",
        "- 기법: LSA(Latent Semantic Analysis), LDA(Latent Dirichlet Allocation)"
      ],
      "metadata": {
        "id": "RD7x26qHSmCt"
      }
    },
    {
      "cell_type": "markdown",
      "source": [
        "- LDA 토픽모델링을 위해 필요한 주제만 필터링 / 추출 → Count 기반 벡터화 변환"
      ],
      "metadata": {
        "id": "0xwFtFjcZN4a"
      }
    },
    {
      "cell_type": "code",
      "execution_count": 3,
      "metadata": {
        "colab": {
          "base_uri": "https://localhost:8080/"
        },
        "id": "vO5aF9ODQP1A",
        "outputId": "5216fb4f-64aa-4f3c-f9bc-018f812f8919"
      },
      "outputs": [
        {
          "output_type": "stream",
          "name": "stdout",
          "text": [
            "CountVectorizer Shape: (7862, 1000)\n"
          ]
        }
      ],
      "source": [
        "from sklearn.datasets import fetch_20newsgroups\n",
        "from sklearn.feature_extraction.text import CountVectorizer\n",
        "from sklearn.decomposition import LatentDirichletAllocation\n",
        "\n",
        "# 모터사이클, 야구, 그래픽스, 윈도우즈, 중동, 기독교, 전자공학, 의학 8개 주제를 추출\n",
        "cats = ['rec.motorcycles', 'rec.sport.baseball', 'comp.graphics', 'comp.windows.x',\n",
        "        'talk.politics.mideast', 'soc.religion.christian', 'sci.electronics', 'sci.med']\n",
        "\n",
        "# 위에서 cats 변수로 기재된 카테고리만 추출, fetch_20newsgroups()의 categories에 cats 입력\n",
        "news_df = fetch_20newsgroups(subset = 'all', remove = ('headers', 'footers', 'quotes'),\n",
        "                             categories = cats, random_state = 0)\n",
        "\n",
        "# LDA는 Count 기반의 벡터화만 적용합니다.\n",
        "count_vect = CountVectorizer(max_df = 0.95, max_features = 1000, min_df = 2, stop_words = 'english', ngram_range = (1,2))\n",
        "feat_vect = count_vect.fit_transform(news_df.data)\n",
        "print('CountVectorizer Shape:', feat_vect.shape)"
      ]
    },
    {
      "cell_type": "markdown",
      "source": [
        "- 토픽 모델링: 토픽 개수-8개)"
      ],
      "metadata": {
        "id": "vfBVsMgUbrNn"
      }
    },
    {
      "cell_type": "code",
      "source": [
        "lda = LatentDirichletAllocation(n_components = 8, random_state = 0)\n",
        "lda.fit(feat_vect)"
      ],
      "metadata": {
        "colab": {
          "base_uri": "https://localhost:8080/",
          "height": 80
        },
        "id": "iY4VEa_AboNO",
        "outputId": "bb7bd892-5df3-4d7c-cf0a-cb09520fc687"
      },
      "execution_count": 4,
      "outputs": [
        {
          "output_type": "execute_result",
          "data": {
            "text/plain": [
              "LatentDirichletAllocation(n_components=8, random_state=0)"
            ],
            "text/html": [
              "<style>#sk-container-id-1 {\n",
              "  /* Definition of color scheme common for light and dark mode */\n",
              "  --sklearn-color-text: black;\n",
              "  --sklearn-color-line: gray;\n",
              "  /* Definition of color scheme for unfitted estimators */\n",
              "  --sklearn-color-unfitted-level-0: #fff5e6;\n",
              "  --sklearn-color-unfitted-level-1: #f6e4d2;\n",
              "  --sklearn-color-unfitted-level-2: #ffe0b3;\n",
              "  --sklearn-color-unfitted-level-3: chocolate;\n",
              "  /* Definition of color scheme for fitted estimators */\n",
              "  --sklearn-color-fitted-level-0: #f0f8ff;\n",
              "  --sklearn-color-fitted-level-1: #d4ebff;\n",
              "  --sklearn-color-fitted-level-2: #b3dbfd;\n",
              "  --sklearn-color-fitted-level-3: cornflowerblue;\n",
              "\n",
              "  /* Specific color for light theme */\n",
              "  --sklearn-color-text-on-default-background: var(--sg-text-color, var(--theme-code-foreground, var(--jp-content-font-color1, black)));\n",
              "  --sklearn-color-background: var(--sg-background-color, var(--theme-background, var(--jp-layout-color0, white)));\n",
              "  --sklearn-color-border-box: var(--sg-text-color, var(--theme-code-foreground, var(--jp-content-font-color1, black)));\n",
              "  --sklearn-color-icon: #696969;\n",
              "\n",
              "  @media (prefers-color-scheme: dark) {\n",
              "    /* Redefinition of color scheme for dark theme */\n",
              "    --sklearn-color-text-on-default-background: var(--sg-text-color, var(--theme-code-foreground, var(--jp-content-font-color1, white)));\n",
              "    --sklearn-color-background: var(--sg-background-color, var(--theme-background, var(--jp-layout-color0, #111)));\n",
              "    --sklearn-color-border-box: var(--sg-text-color, var(--theme-code-foreground, var(--jp-content-font-color1, white)));\n",
              "    --sklearn-color-icon: #878787;\n",
              "  }\n",
              "}\n",
              "\n",
              "#sk-container-id-1 {\n",
              "  color: var(--sklearn-color-text);\n",
              "}\n",
              "\n",
              "#sk-container-id-1 pre {\n",
              "  padding: 0;\n",
              "}\n",
              "\n",
              "#sk-container-id-1 input.sk-hidden--visually {\n",
              "  border: 0;\n",
              "  clip: rect(1px 1px 1px 1px);\n",
              "  clip: rect(1px, 1px, 1px, 1px);\n",
              "  height: 1px;\n",
              "  margin: -1px;\n",
              "  overflow: hidden;\n",
              "  padding: 0;\n",
              "  position: absolute;\n",
              "  width: 1px;\n",
              "}\n",
              "\n",
              "#sk-container-id-1 div.sk-dashed-wrapped {\n",
              "  border: 1px dashed var(--sklearn-color-line);\n",
              "  margin: 0 0.4em 0.5em 0.4em;\n",
              "  box-sizing: border-box;\n",
              "  padding-bottom: 0.4em;\n",
              "  background-color: var(--sklearn-color-background);\n",
              "}\n",
              "\n",
              "#sk-container-id-1 div.sk-container {\n",
              "  /* jupyter's `normalize.less` sets `[hidden] { display: none; }`\n",
              "     but bootstrap.min.css set `[hidden] { display: none !important; }`\n",
              "     so we also need the `!important` here to be able to override the\n",
              "     default hidden behavior on the sphinx rendered scikit-learn.org.\n",
              "     See: https://github.com/scikit-learn/scikit-learn/issues/21755 */\n",
              "  display: inline-block !important;\n",
              "  position: relative;\n",
              "}\n",
              "\n",
              "#sk-container-id-1 div.sk-text-repr-fallback {\n",
              "  display: none;\n",
              "}\n",
              "\n",
              "div.sk-parallel-item,\n",
              "div.sk-serial,\n",
              "div.sk-item {\n",
              "  /* draw centered vertical line to link estimators */\n",
              "  background-image: linear-gradient(var(--sklearn-color-text-on-default-background), var(--sklearn-color-text-on-default-background));\n",
              "  background-size: 2px 100%;\n",
              "  background-repeat: no-repeat;\n",
              "  background-position: center center;\n",
              "}\n",
              "\n",
              "/* Parallel-specific style estimator block */\n",
              "\n",
              "#sk-container-id-1 div.sk-parallel-item::after {\n",
              "  content: \"\";\n",
              "  width: 100%;\n",
              "  border-bottom: 2px solid var(--sklearn-color-text-on-default-background);\n",
              "  flex-grow: 1;\n",
              "}\n",
              "\n",
              "#sk-container-id-1 div.sk-parallel {\n",
              "  display: flex;\n",
              "  align-items: stretch;\n",
              "  justify-content: center;\n",
              "  background-color: var(--sklearn-color-background);\n",
              "  position: relative;\n",
              "}\n",
              "\n",
              "#sk-container-id-1 div.sk-parallel-item {\n",
              "  display: flex;\n",
              "  flex-direction: column;\n",
              "}\n",
              "\n",
              "#sk-container-id-1 div.sk-parallel-item:first-child::after {\n",
              "  align-self: flex-end;\n",
              "  width: 50%;\n",
              "}\n",
              "\n",
              "#sk-container-id-1 div.sk-parallel-item:last-child::after {\n",
              "  align-self: flex-start;\n",
              "  width: 50%;\n",
              "}\n",
              "\n",
              "#sk-container-id-1 div.sk-parallel-item:only-child::after {\n",
              "  width: 0;\n",
              "}\n",
              "\n",
              "/* Serial-specific style estimator block */\n",
              "\n",
              "#sk-container-id-1 div.sk-serial {\n",
              "  display: flex;\n",
              "  flex-direction: column;\n",
              "  align-items: center;\n",
              "  background-color: var(--sklearn-color-background);\n",
              "  padding-right: 1em;\n",
              "  padding-left: 1em;\n",
              "}\n",
              "\n",
              "\n",
              "/* Toggleable style: style used for estimator/Pipeline/ColumnTransformer box that is\n",
              "clickable and can be expanded/collapsed.\n",
              "- Pipeline and ColumnTransformer use this feature and define the default style\n",
              "- Estimators will overwrite some part of the style using the `sk-estimator` class\n",
              "*/\n",
              "\n",
              "/* Pipeline and ColumnTransformer style (default) */\n",
              "\n",
              "#sk-container-id-1 div.sk-toggleable {\n",
              "  /* Default theme specific background. It is overwritten whether we have a\n",
              "  specific estimator or a Pipeline/ColumnTransformer */\n",
              "  background-color: var(--sklearn-color-background);\n",
              "}\n",
              "\n",
              "/* Toggleable label */\n",
              "#sk-container-id-1 label.sk-toggleable__label {\n",
              "  cursor: pointer;\n",
              "  display: block;\n",
              "  width: 100%;\n",
              "  margin-bottom: 0;\n",
              "  padding: 0.5em;\n",
              "  box-sizing: border-box;\n",
              "  text-align: center;\n",
              "}\n",
              "\n",
              "#sk-container-id-1 label.sk-toggleable__label-arrow:before {\n",
              "  /* Arrow on the left of the label */\n",
              "  content: \"▸\";\n",
              "  float: left;\n",
              "  margin-right: 0.25em;\n",
              "  color: var(--sklearn-color-icon);\n",
              "}\n",
              "\n",
              "#sk-container-id-1 label.sk-toggleable__label-arrow:hover:before {\n",
              "  color: var(--sklearn-color-text);\n",
              "}\n",
              "\n",
              "/* Toggleable content - dropdown */\n",
              "\n",
              "#sk-container-id-1 div.sk-toggleable__content {\n",
              "  max-height: 0;\n",
              "  max-width: 0;\n",
              "  overflow: hidden;\n",
              "  text-align: left;\n",
              "  /* unfitted */\n",
              "  background-color: var(--sklearn-color-unfitted-level-0);\n",
              "}\n",
              "\n",
              "#sk-container-id-1 div.sk-toggleable__content.fitted {\n",
              "  /* fitted */\n",
              "  background-color: var(--sklearn-color-fitted-level-0);\n",
              "}\n",
              "\n",
              "#sk-container-id-1 div.sk-toggleable__content pre {\n",
              "  margin: 0.2em;\n",
              "  border-radius: 0.25em;\n",
              "  color: var(--sklearn-color-text);\n",
              "  /* unfitted */\n",
              "  background-color: var(--sklearn-color-unfitted-level-0);\n",
              "}\n",
              "\n",
              "#sk-container-id-1 div.sk-toggleable__content.fitted pre {\n",
              "  /* unfitted */\n",
              "  background-color: var(--sklearn-color-fitted-level-0);\n",
              "}\n",
              "\n",
              "#sk-container-id-1 input.sk-toggleable__control:checked~div.sk-toggleable__content {\n",
              "  /* Expand drop-down */\n",
              "  max-height: 200px;\n",
              "  max-width: 100%;\n",
              "  overflow: auto;\n",
              "}\n",
              "\n",
              "#sk-container-id-1 input.sk-toggleable__control:checked~label.sk-toggleable__label-arrow:before {\n",
              "  content: \"▾\";\n",
              "}\n",
              "\n",
              "/* Pipeline/ColumnTransformer-specific style */\n",
              "\n",
              "#sk-container-id-1 div.sk-label input.sk-toggleable__control:checked~label.sk-toggleable__label {\n",
              "  color: var(--sklearn-color-text);\n",
              "  background-color: var(--sklearn-color-unfitted-level-2);\n",
              "}\n",
              "\n",
              "#sk-container-id-1 div.sk-label.fitted input.sk-toggleable__control:checked~label.sk-toggleable__label {\n",
              "  background-color: var(--sklearn-color-fitted-level-2);\n",
              "}\n",
              "\n",
              "/* Estimator-specific style */\n",
              "\n",
              "/* Colorize estimator box */\n",
              "#sk-container-id-1 div.sk-estimator input.sk-toggleable__control:checked~label.sk-toggleable__label {\n",
              "  /* unfitted */\n",
              "  background-color: var(--sklearn-color-unfitted-level-2);\n",
              "}\n",
              "\n",
              "#sk-container-id-1 div.sk-estimator.fitted input.sk-toggleable__control:checked~label.sk-toggleable__label {\n",
              "  /* fitted */\n",
              "  background-color: var(--sklearn-color-fitted-level-2);\n",
              "}\n",
              "\n",
              "#sk-container-id-1 div.sk-label label.sk-toggleable__label,\n",
              "#sk-container-id-1 div.sk-label label {\n",
              "  /* The background is the default theme color */\n",
              "  color: var(--sklearn-color-text-on-default-background);\n",
              "}\n",
              "\n",
              "/* On hover, darken the color of the background */\n",
              "#sk-container-id-1 div.sk-label:hover label.sk-toggleable__label {\n",
              "  color: var(--sklearn-color-text);\n",
              "  background-color: var(--sklearn-color-unfitted-level-2);\n",
              "}\n",
              "\n",
              "/* Label box, darken color on hover, fitted */\n",
              "#sk-container-id-1 div.sk-label.fitted:hover label.sk-toggleable__label.fitted {\n",
              "  color: var(--sklearn-color-text);\n",
              "  background-color: var(--sklearn-color-fitted-level-2);\n",
              "}\n",
              "\n",
              "/* Estimator label */\n",
              "\n",
              "#sk-container-id-1 div.sk-label label {\n",
              "  font-family: monospace;\n",
              "  font-weight: bold;\n",
              "  display: inline-block;\n",
              "  line-height: 1.2em;\n",
              "}\n",
              "\n",
              "#sk-container-id-1 div.sk-label-container {\n",
              "  text-align: center;\n",
              "}\n",
              "\n",
              "/* Estimator-specific */\n",
              "#sk-container-id-1 div.sk-estimator {\n",
              "  font-family: monospace;\n",
              "  border: 1px dotted var(--sklearn-color-border-box);\n",
              "  border-radius: 0.25em;\n",
              "  box-sizing: border-box;\n",
              "  margin-bottom: 0.5em;\n",
              "  /* unfitted */\n",
              "  background-color: var(--sklearn-color-unfitted-level-0);\n",
              "}\n",
              "\n",
              "#sk-container-id-1 div.sk-estimator.fitted {\n",
              "  /* fitted */\n",
              "  background-color: var(--sklearn-color-fitted-level-0);\n",
              "}\n",
              "\n",
              "/* on hover */\n",
              "#sk-container-id-1 div.sk-estimator:hover {\n",
              "  /* unfitted */\n",
              "  background-color: var(--sklearn-color-unfitted-level-2);\n",
              "}\n",
              "\n",
              "#sk-container-id-1 div.sk-estimator.fitted:hover {\n",
              "  /* fitted */\n",
              "  background-color: var(--sklearn-color-fitted-level-2);\n",
              "}\n",
              "\n",
              "/* Specification for estimator info (e.g. \"i\" and \"?\") */\n",
              "\n",
              "/* Common style for \"i\" and \"?\" */\n",
              "\n",
              ".sk-estimator-doc-link,\n",
              "a:link.sk-estimator-doc-link,\n",
              "a:visited.sk-estimator-doc-link {\n",
              "  float: right;\n",
              "  font-size: smaller;\n",
              "  line-height: 1em;\n",
              "  font-family: monospace;\n",
              "  background-color: var(--sklearn-color-background);\n",
              "  border-radius: 1em;\n",
              "  height: 1em;\n",
              "  width: 1em;\n",
              "  text-decoration: none !important;\n",
              "  margin-left: 1ex;\n",
              "  /* unfitted */\n",
              "  border: var(--sklearn-color-unfitted-level-1) 1pt solid;\n",
              "  color: var(--sklearn-color-unfitted-level-1);\n",
              "}\n",
              "\n",
              ".sk-estimator-doc-link.fitted,\n",
              "a:link.sk-estimator-doc-link.fitted,\n",
              "a:visited.sk-estimator-doc-link.fitted {\n",
              "  /* fitted */\n",
              "  border: var(--sklearn-color-fitted-level-1) 1pt solid;\n",
              "  color: var(--sklearn-color-fitted-level-1);\n",
              "}\n",
              "\n",
              "/* On hover */\n",
              "div.sk-estimator:hover .sk-estimator-doc-link:hover,\n",
              ".sk-estimator-doc-link:hover,\n",
              "div.sk-label-container:hover .sk-estimator-doc-link:hover,\n",
              ".sk-estimator-doc-link:hover {\n",
              "  /* unfitted */\n",
              "  background-color: var(--sklearn-color-unfitted-level-3);\n",
              "  color: var(--sklearn-color-background);\n",
              "  text-decoration: none;\n",
              "}\n",
              "\n",
              "div.sk-estimator.fitted:hover .sk-estimator-doc-link.fitted:hover,\n",
              ".sk-estimator-doc-link.fitted:hover,\n",
              "div.sk-label-container:hover .sk-estimator-doc-link.fitted:hover,\n",
              ".sk-estimator-doc-link.fitted:hover {\n",
              "  /* fitted */\n",
              "  background-color: var(--sklearn-color-fitted-level-3);\n",
              "  color: var(--sklearn-color-background);\n",
              "  text-decoration: none;\n",
              "}\n",
              "\n",
              "/* Span, style for the box shown on hovering the info icon */\n",
              ".sk-estimator-doc-link span {\n",
              "  display: none;\n",
              "  z-index: 9999;\n",
              "  position: relative;\n",
              "  font-weight: normal;\n",
              "  right: .2ex;\n",
              "  padding: .5ex;\n",
              "  margin: .5ex;\n",
              "  width: min-content;\n",
              "  min-width: 20ex;\n",
              "  max-width: 50ex;\n",
              "  color: var(--sklearn-color-text);\n",
              "  box-shadow: 2pt 2pt 4pt #999;\n",
              "  /* unfitted */\n",
              "  background: var(--sklearn-color-unfitted-level-0);\n",
              "  border: .5pt solid var(--sklearn-color-unfitted-level-3);\n",
              "}\n",
              "\n",
              ".sk-estimator-doc-link.fitted span {\n",
              "  /* fitted */\n",
              "  background: var(--sklearn-color-fitted-level-0);\n",
              "  border: var(--sklearn-color-fitted-level-3);\n",
              "}\n",
              "\n",
              ".sk-estimator-doc-link:hover span {\n",
              "  display: block;\n",
              "}\n",
              "\n",
              "/* \"?\"-specific style due to the `<a>` HTML tag */\n",
              "\n",
              "#sk-container-id-1 a.estimator_doc_link {\n",
              "  float: right;\n",
              "  font-size: 1rem;\n",
              "  line-height: 1em;\n",
              "  font-family: monospace;\n",
              "  background-color: var(--sklearn-color-background);\n",
              "  border-radius: 1rem;\n",
              "  height: 1rem;\n",
              "  width: 1rem;\n",
              "  text-decoration: none;\n",
              "  /* unfitted */\n",
              "  color: var(--sklearn-color-unfitted-level-1);\n",
              "  border: var(--sklearn-color-unfitted-level-1) 1pt solid;\n",
              "}\n",
              "\n",
              "#sk-container-id-1 a.estimator_doc_link.fitted {\n",
              "  /* fitted */\n",
              "  border: var(--sklearn-color-fitted-level-1) 1pt solid;\n",
              "  color: var(--sklearn-color-fitted-level-1);\n",
              "}\n",
              "\n",
              "/* On hover */\n",
              "#sk-container-id-1 a.estimator_doc_link:hover {\n",
              "  /* unfitted */\n",
              "  background-color: var(--sklearn-color-unfitted-level-3);\n",
              "  color: var(--sklearn-color-background);\n",
              "  text-decoration: none;\n",
              "}\n",
              "\n",
              "#sk-container-id-1 a.estimator_doc_link.fitted:hover {\n",
              "  /* fitted */\n",
              "  background-color: var(--sklearn-color-fitted-level-3);\n",
              "}\n",
              "</style><div id=\"sk-container-id-1\" class=\"sk-top-container\"><div class=\"sk-text-repr-fallback\"><pre>LatentDirichletAllocation(n_components=8, random_state=0)</pre><b>In a Jupyter environment, please rerun this cell to show the HTML representation or trust the notebook. <br />On GitHub, the HTML representation is unable to render, please try loading this page with nbviewer.org.</b></div><div class=\"sk-container\" hidden><div class=\"sk-item\"><div class=\"sk-estimator fitted sk-toggleable\"><input class=\"sk-toggleable__control sk-hidden--visually\" id=\"sk-estimator-id-1\" type=\"checkbox\" checked><label for=\"sk-estimator-id-1\" class=\"sk-toggleable__label fitted sk-toggleable__label-arrow fitted\">&nbsp;&nbsp;LatentDirichletAllocation<a class=\"sk-estimator-doc-link fitted\" rel=\"noreferrer\" target=\"_blank\" href=\"https://scikit-learn.org/1.5/modules/generated/sklearn.decomposition.LatentDirichletAllocation.html\">?<span>Documentation for LatentDirichletAllocation</span></a><span class=\"sk-estimator-doc-link fitted\">i<span>Fitted</span></span></label><div class=\"sk-toggleable__content fitted\"><pre>LatentDirichletAllocation(n_components=8, random_state=0)</pre></div> </div></div></div></div>"
            ]
          },
          "metadata": {},
          "execution_count": 4
        }
      ]
    },
    {
      "cell_type": "code",
      "source": [
        "print(lda.components_.shape)\n",
        "lda.components_"
      ],
      "metadata": {
        "colab": {
          "base_uri": "https://localhost:8080/"
        },
        "id": "KG1XDgdJcNSK",
        "outputId": "d0e9c05a-be2b-49b0-a968-c0913fae5b42"
      },
      "execution_count": 5,
      "outputs": [
        {
          "output_type": "stream",
          "name": "stdout",
          "text": [
            "(8, 1000)\n"
          ]
        },
        {
          "output_type": "execute_result",
          "data": {
            "text/plain": [
              "array([[3.60992018e+01, 1.35626798e+02, 2.15751867e+01, ...,\n",
              "        3.02911688e+01, 8.66830093e+01, 6.79285199e+01],\n",
              "       [1.25199920e-01, 1.44401815e+01, 1.25045596e-01, ...,\n",
              "        1.81506995e+02, 1.25097844e-01, 9.39593286e+01],\n",
              "       [3.34762663e+02, 1.25176265e-01, 1.46743299e+02, ...,\n",
              "        1.25105772e-01, 3.63689741e+01, 1.25025218e-01],\n",
              "       ...,\n",
              "       [3.60204965e+01, 2.08640688e+01, 4.29606813e+00, ...,\n",
              "        1.45056650e+01, 8.33854413e+00, 1.55690009e+01],\n",
              "       [1.25128711e-01, 1.25247756e-01, 1.25005143e-01, ...,\n",
              "        9.17278769e+01, 1.25177668e-01, 3.74575887e+01],\n",
              "       [5.49258690e+01, 4.47009532e+00, 9.88524814e+00, ...,\n",
              "        4.87048440e+01, 1.25034678e-01, 1.25074632e-01]])"
            ]
          },
          "metadata": {},
          "execution_count": 5
        }
      ]
    },
    {
      "cell_type": "code",
      "source": [
        "def display_topics(model, feature_names, no_top_words):\n",
        "    for topic_index, topic in enumerate(model.components_):\n",
        "        print('Topic #', topic_index)\n",
        "\n",
        "        # components_array에서 가장 값이 큰 순으로 정렬했을 때, 그 값의 array 인덱스를 반환.\n",
        "        topic_word_indexes = topic.argsort()[::-1]\n",
        "        top_indexes = topic_word_indexes[:no_top_words]\n",
        "\n",
        "        # top_indexes 대상인 인덱스별로 feature_names에 해당하는 word feature 추출 후 join으로 concat\n",
        "        feature_concat = ' '.join([feature_names[i] for i in top_indexes])\n",
        "        print(feature_concat)\n",
        "\n",
        "# CountVectorizer 객체 내의 전체 word의 명칭을 get_features_names()를 통해 추출\n",
        "feature_names = count_vect.get_feature_names_out()\n",
        "\n",
        "# 토픽별 가장 연관도가 높은 word를 15개만 추출\n",
        "display_topics(lda, feature_names,15)"
      ],
      "metadata": {
        "colab": {
          "base_uri": "https://localhost:8080/"
        },
        "id": "fSwhGfo_cSc3",
        "outputId": "9c408538-8409-48ec-9392-46187148123a"
      },
      "execution_count": 7,
      "outputs": [
        {
          "output_type": "stream",
          "name": "stdout",
          "text": [
            "Topic # 0\n",
            "year 10 game medical health team 12 20 disease cancer 1993 games years patients good\n",
            "Topic # 1\n",
            "don just like know people said think time ve didn right going say ll way\n",
            "Topic # 2\n",
            "image file jpeg program gif images output format files color entry 00 use bit 03\n",
            "Topic # 3\n",
            "like know don think use does just good time book read information people used post\n",
            "Topic # 4\n",
            "armenian israel armenians jews turkish people israeli jewish government war dos dos turkey arab armenia 000\n",
            "Topic # 5\n",
            "edu com available graphics ftp data pub motif mail widget software mit information version sun\n",
            "Topic # 6\n",
            "god people jesus church believe christ does christian say think christians bible faith sin life\n",
            "Topic # 7\n",
            "use dos thanks windows using window does display help like problem server need know run\n"
          ]
        }
      ]
    },
    {
      "cell_type": "markdown",
      "source": [
        "## 7. 문서 유사도\n",
        "### 문서 유사도 측정 방법 - 코사인 유사도\n",
        "- 코사인 유사도: 벡터와 벡터 간의 유사도를 비교할 때 벡터의 크기보다 벡터의 상호 방향성이 얼마나 유사한지에 기반\n",
        "\n",
        "### 두 벡터 사잇각\n",
        "![image.png](data:image/png;base64,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)\n",
        "\n",
        "### Opinion Review 데이터 세트를 이용한 문서 유사도 측정"
      ],
      "metadata": {
        "id": "nd202lBoeVph"
      }
    },
    {
      "cell_type": "code",
      "source": [
        "import numpy as np\n",
        "\n",
        "def cos_similarity(v1, v2):\n",
        "    dot_product = np.dot(v1, v2)\n",
        "    l2_norm = (np.sqrt(sum(np.square(v1))))* np.sqrt(sum(np.square(v2)))\n",
        "    similarity = dot_product / l2_norm\n",
        "\n",
        "    return similarity"
      ],
      "metadata": {
        "id": "CZ1ctA_Rdp2q"
      },
      "execution_count": 8,
      "outputs": []
    },
    {
      "cell_type": "markdown",
      "source": [
        "- 3개의 문서의 유사도 비교를 위한 TF-IDF로 벡터화된 행렬로 변환"
      ],
      "metadata": {
        "id": "5hurleo7jB7g"
      }
    },
    {
      "cell_type": "code",
      "source": [
        "from sklearn.feature_extraction.text import TfidfVectorizer\n",
        "\n",
        "doc_list = ['if you take the blue pill, the story ends',\n",
        "            'if you take the red pill, you stay in Wonderland',\n",
        "            'if you take the red pill, I show you how deep the rabbit hole goes']\n",
        "\n",
        "tfidf_vect_simple = TfidfVectorizer()\n",
        "feature_vect_simple = tfidf_vect_simple.fit_transform(doc_list)\n",
        "print(feature_vect_simple.shape)"
      ],
      "metadata": {
        "colab": {
          "base_uri": "https://localhost:8080/"
        },
        "id": "iUE2YQSBiMwb",
        "outputId": "d7f37b3d-52df-4c6e-8733-f2b2b11c87fb"
      },
      "execution_count": 10,
      "outputs": [
        {
          "output_type": "stream",
          "name": "stdout",
          "text": [
            "(3, 18)\n"
          ]
        }
      ]
    },
    {
      "cell_type": "markdown",
      "source": [
        "- 희소행렬 → 밀집행렬 → 배열 : doc_list의 첫번째 두번재 문서의 유사도 측정"
      ],
      "metadata": {
        "id": "ZZY_aeOmjIdO"
      }
    },
    {
      "cell_type": "code",
      "source": [
        "# TFidVectorizer로 transform()한 결과는 희소행렬이므로 밀집 행렬로 변환\n",
        "feature_vect_dense = feature_vect_simple.todense()\n",
        "\n",
        "# 첫번째 문장과 두번째 문장의 피처 벡터 추출\n",
        "vect1 = np.array(feature_vect_dense[0]).reshape(-1,)\n",
        "vect2 = np.array(feature_vect_dense[1]).reshape(-1,)\n",
        "\n",
        "# 첫번째 문장과 두 번째 문장의 피처 벡터로 두 개 문장의 코사인 유사도 추출\n",
        "similarity_simple = cos_similarity(vect1, vect2)\n",
        "print('문장1, 문장2 Cosine 유사도: {0:.3f}'.format(similarity_simple))"
      ],
      "metadata": {
        "colab": {
          "base_uri": "https://localhost:8080/"
        },
        "id": "cJ6TtA4BisXz",
        "outputId": "209ed43a-c30c-4d08-bc22-04f101ecd90d"
      },
      "execution_count": 12,
      "outputs": [
        {
          "output_type": "stream",
          "name": "stdout",
          "text": [
            "문장1, 문장2 Cosine 유사도: 0.402\n"
          ]
        }
      ]
    },
    {
      "cell_type": "markdown",
      "source": [
        "- 첫번째 문장과 세번째 문장, 두번째 문장과 세번째 문장의 유사도 측정"
      ],
      "metadata": {
        "id": "5zOrZ2Y2kjKd"
      }
    },
    {
      "cell_type": "code",
      "source": [
        "vect1= np.array(feature_vect_dense[0]).reshape(-1,)\n",
        "vect3= np.array(feature_vect_dense[2]).reshape(-1,)\n",
        "similarity_simple = cos_similarity(vect1, vect3)\n",
        "print('문장1, 문장3 Cosine 유사도: {0:.3f}'.format(similarity_simple))\n",
        "\n",
        "vect2= np.array(feature_vect_dense[1]).reshape(-1,)\n",
        "vect3= np.array(feature_vect_dense[2]).reshape(-1,)\n",
        "similarity_simple = cos_similarity(vect2, vect3)\n",
        "print('문장1, 문장3 Cosine 유사도: {0:.3f}'.format(similarity_simple))"
      ],
      "metadata": {
        "colab": {
          "base_uri": "https://localhost:8080/"
        },
        "id": "7gx9P4yqj_hq",
        "outputId": "c5d04c52-0d79-42b1-9a89-c92dd66b45f9"
      },
      "execution_count": 13,
      "outputs": [
        {
          "output_type": "stream",
          "name": "stdout",
          "text": [
            "문장1, 문장3 Cosine 유사도: 0.404\n",
            "문장1, 문장3 Cosine 유사도: 0.456\n"
          ]
        }
      ]
    },
    {
      "cell_type": "markdown",
      "source": [
        "- 첫번째 문서와 비교해 첫번째 문서, 두번째, 세번째 문서의 유사도 측정"
      ],
      "metadata": {
        "id": "RvSBpOBtk8jL"
      }
    },
    {
      "cell_type": "code",
      "source": [
        "from sklearn.metrics.pairwise import cosine_similarity\n",
        "\n",
        "similarity_simple_pair = cosine_similarity(feature_vect_simple[0], feature_vect_simple)\n",
        "print(similarity_simple_pair)"
      ],
      "metadata": {
        "colab": {
          "base_uri": "https://localhost:8080/"
        },
        "id": "Y4Fwi145k67b",
        "outputId": "034d988d-8f37-4696-9814-7f79b4a08a83"
      },
      "execution_count": 15,
      "outputs": [
        {
          "output_type": "stream",
          "name": "stdout",
          "text": [
            "[[1.         0.40207758 0.40425045]]\n"
          ]
        }
      ]
    },
    {
      "cell_type": "markdown",
      "source": [
        "- 자기 자신과의 유사도 측정 제외"
      ],
      "metadata": {
        "id": "k11nlpaelf7a"
      }
    },
    {
      "cell_type": "code",
      "source": [
        "from sklearn.metrics.pairwise import cosine_similarity\n",
        "\n",
        "similarity_simple_pair = cosine_similarity(feature_vect_simple[0], feature_vect_simple[1:])\n",
        "print(similarity_simple_pair)"
      ],
      "metadata": {
        "colab": {
          "base_uri": "https://localhost:8080/"
        },
        "id": "RWPQWFe7lWzK",
        "outputId": "ee752c05-53ed-41fb-f67d-4a8fc05791ae"
      },
      "execution_count": 16,
      "outputs": [
        {
          "output_type": "stream",
          "name": "stdout",
          "text": [
            "[[0.40207758 0.40425045]]\n"
          ]
        }
      ]
    },
    {
      "cell_type": "markdown",
      "source": [
        "- 모든 개별 문서에 쌍으로 코사인 유사도 값 계산"
      ],
      "metadata": {
        "id": "DaF_gUL5mI4J"
      }
    },
    {
      "cell_type": "code",
      "source": [
        "similarity_simple_pair = cosine_similarity(feature_vect_simple, feature_vect_simple)\n",
        "print(similarity_simple_pair)\n",
        "print('shape:', similarity_simple_pair.shape)"
      ],
      "metadata": {
        "colab": {
          "base_uri": "https://localhost:8080/"
        },
        "id": "qRcSng3Qlmba",
        "outputId": "5172f9af-265a-4c21-f3c0-819c7b5f3cbc"
      },
      "execution_count": 17,
      "outputs": [
        {
          "output_type": "stream",
          "name": "stdout",
          "text": [
            "[[1.         0.40207758 0.40425045]\n",
            " [0.40207758 1.         0.45647296]\n",
            " [0.40425045 0.45647296 1.        ]]\n",
            "shape: (3, 3)\n"
          ]
        }
      ]
    },
    {
      "cell_type": "markdown",
      "source": [
        "### Opinion Review 데이터 세트를 이용한 문서 유사도 측정"
      ],
      "metadata": {
        "id": "ZaQTAaUQmTZ1"
      }
    },
    {
      "cell_type": "code",
      "source": [
        "from nltk.stem import WordNetLemmatizer\n",
        "import nltk\n",
        "import string\n",
        "\n",
        "remove_punct_dict = dict((ord(punct), None) for punct in string.punctuation)\n",
        "lemmar = WordNetLemmatizer()\n",
        "\n",
        "# 입력으로 들어온 token단어들에 대해서 lemmatization 어근 변환.\n",
        "def LemTokens(tokens):\n",
        "    return [lemmar.lemmatize(token) for token in tokens]\n",
        "\n",
        "# TfidfVectorizer 객체 생성 시 tokenizer인자로 해당 함수를 설정하여 lemmatization 적용\n",
        "# 입력으로 문장을 받아서 stop words 제거-> 소문자 변환 -> 단어 토큰화 -> lemmatization 어근 변환.\n",
        "def LemNormalize(text):\n",
        "    return LemTokens(nltk.word_tokenize(text.lower().translate(remove_punct_dict)))"
      ],
      "metadata": {
        "id": "LcROZMwdq_bI"
      },
      "execution_count": 26,
      "outputs": []
    },
    {
      "cell_type": "code",
      "source": [
        "import nltk\n",
        "nltk.download('punkt')\n",
        "nltk.download('wordnet')"
      ],
      "metadata": {
        "colab": {
          "base_uri": "https://localhost:8080/"
        },
        "id": "fMEaeud-tbia",
        "outputId": "d22c80ff-3650-4039-ede6-bea04b4f7712"
      },
      "execution_count": 41,
      "outputs": [
        {
          "output_type": "stream",
          "name": "stderr",
          "text": [
            "[nltk_data] Downloading package punkt to /root/nltk_data...\n",
            "[nltk_data]   Package punkt is already up-to-date!\n",
            "[nltk_data] Downloading package wordnet to /root/nltk_data...\n"
          ]
        },
        {
          "output_type": "execute_result",
          "data": {
            "text/plain": [
              "True"
            ]
          },
          "metadata": {},
          "execution_count": 41
        }
      ]
    },
    {
      "cell_type": "code",
      "source": [
        "import pandas as pd\n",
        "import glob, os\n",
        "from sklearn.feature_extraction.text import TfidfVectorizer\n",
        "from sklearn.cluster import KMeans\n",
        "\n",
        "path = r\"/content/drive/MyDrive/ESAA/OB/OpinosisDataset1.0/topics\"\n",
        "all_files = glob.glob(os.path.join(path, \"*.data\"))\n",
        "filename_list = []\n",
        "opinion_text = []\n",
        "\n",
        "for file_ in all_files:\n",
        "    df = pd.read_table(file_, index_col = None, header = 0, encoding = 'latin1')\n",
        "    filename_ = file_.split('\\\\')[-1]\n",
        "    filename = filename_.split('.')[0]\n",
        "    filename_list.append(filename)\n",
        "    opinion_text.append(df.to_string())\n",
        "\n",
        "document_df = pd.DataFrame({'filename':filename_list, 'opinion_text' : opinion_text})\n",
        "tfidf_vect = TfidfVectorizer(tokenizer = LemNormalize, stop_words='english',\n",
        "                            ngram_range = (1,2), min_df=0.05, max_df = 0.85)\n",
        "feature_vect = tfidf_vect.fit_transform(document_df['opinion_text'])\n",
        "km_cluster = KMeans(n_clusters = 3, max_iter = 10000, random_state = 0)\n",
        "km_cluster.fit(feature_vect)\n",
        "cluster_label = km_cluster.labels_\n",
        "cluster_centers = km_cluster.cluster_centers_\n",
        "document_df['cluster_label'] = cluster_label"
      ],
      "metadata": {
        "id": "YRPlJrlJmFfc"
      },
      "execution_count": 44,
      "outputs": []
    },
    {
      "cell_type": "markdown",
      "source": [
        "문서를 피처 벡터화해 변환 → 문서 내 단어에 출현빈도와 같은 값을 부여해 각 문서가 단어 피처의 값으로 벡터화됨 → 피처화된 데이터를 상호비교해 유사도 확인 (cosisne_similarity())"
      ],
      "metadata": {
        "id": "Xww6AS5Nt1eK"
      }
    },
    {
      "cell_type": "code",
      "source": [
        "from sklearn.metrics.pairwise import cosine_similarity\n",
        "\n",
        "# cluster_label = 2 인 데이터는 호텔로 군집화된 데이터임. DataFrame에서 해당 인덱스 추출\n",
        "hotel_indexes = document_df[document_df['cluster_label']==2].index\n",
        "print('호텔로 클러스터링 된 문서들의 DataFrame Index:', hotel_indexes)\n",
        "\n",
        "# 호텔로 군집화된 데이터 중 첫번째 문서를 추출해 파일명 표시\n",
        "comparison_docname = document_df.iloc[hotel_indexes[0]]['filename']\n",
        "print('##### 비교 기준 문서명 ', comparison_docname, '와 타 문서 유사도#####')\n",
        "\n",
        "''' document_df에서 추출한 Index 객체를 feature_vect로 입력해 호텔 군집화된 feature_vect 추출\n",
        "이를 이용해 호텔로 군집화된 문서 중 첫 번째 문서와 다른 문서 간의 코사인 유사도 측정.'''\n",
        "similarity_pair = cosine_similarity(feature_vect[hotel_indexes[0]], feature_vect[hotel_indexes])\n",
        "print(similarity_pair)"
      ],
      "metadata": {
        "colab": {
          "base_uri": "https://localhost:8080/"
        },
        "id": "VvEJuJtqoT4S",
        "outputId": "64fc60de-a699-4874-b6d4-8b9f83b56142"
      },
      "execution_count": 46,
      "outputs": [
        {
          "output_type": "stream",
          "name": "stdout",
          "text": [
            "호텔로 클러스터링 된 문서들의 DataFrame Index: Index([ 0,  2,  4,  6, 14, 16, 17, 19, 22, 24, 25, 30, 36, 37, 38, 39, 45, 46,\n",
            "       47, 48, 49, 50],\n",
            "      dtype='int64')\n",
            "##### 비교 기준 문서명  /content/drive/MyDrive/ESAA/OB/OpinosisDataset1 와 타 문서 유사도#####\n",
            "[[1.         0.87235155 0.79742523 0.03505144 0.02911322 0.02589076\n",
            "  0.01265576 0.12157277 0.0303119  0.01672391 0.03546642 0.31211549\n",
            "  0.0115454  0.01452646 0.2100003  0.24196947 0.21032724 0.02670592\n",
            "  0.04025051 0.22766637 0.17227799 0.01821977]]\n"
          ]
        }
      ]
    },
    {
      "cell_type": "markdown",
      "source": [
        "- 첫번째 문서와 다른 문서간 유사도가 높은 순으로 정렬 후, 시각화"
      ],
      "metadata": {
        "id": "87NFnj2gvm84"
      }
    },
    {
      "cell_type": "code",
      "source": [
        "import seaborn as sns\n",
        "import numpy as np\n",
        "import matplotlib.pyplot as plt\n",
        "%matplotlib inline\n",
        "\n",
        "# 첫번째 문서와 타 문서간 유사도가 큰 순으로 정렬한 인덱스 추출하되 자기 자신은 제외\n",
        "sorted_index = similarity_pair.argsort()[:,::-1]\n",
        "sorted_index = sorted_index[:,1:]\n",
        "\n",
        "# 유사도가 큰 순으로 hotel_indexes를 추출하여 재정렬\n",
        "hotel_sorted_indexes = hotel_indexes[sorted_index.reshape(-1)]\n",
        "\n",
        "# 유사도가 큰 순으로 유사도 값을 재정렬하되 자기 자신은 제외\n",
        "hotel_1_sim_value = np.sort(similarity_pair.reshape(-1))[::-1]\n",
        "hotel_1_sim_value = hotel_1_sim_value[1:]\n",
        "\n",
        "# 유사도가 큰 순으로 정렬된 인덱스와 유사도 값을 이용해 파일명과 유사도값을 막대 그래프로 시각화\n",
        "hotel_1_sim_df = pd.DataFrame()\n",
        "hotel_1_sim_df['filename'] = document_df.iloc[hotel_sorted_indexes]['filename']\n",
        "hotel_1_sim_df['similarity'] = hotel_1_sim_value\n",
        "print('가장 유사도가 큰 파일명 및 유사도:\\n', hotel_1_sim_df.iloc[0,:])\n",
        "\n",
        "sns.barplot(x='similarity', y='filename', data=hotel_1_sim_df)\n",
        "plt.title(comparison_docname)"
      ],
      "metadata": {
        "colab": {
          "base_uri": "https://localhost:8080/",
          "height": 546
        },
        "id": "gW24EPu5vW5M",
        "outputId": "13192d28-fd80-4a9a-ea93-2e627630199a"
      },
      "execution_count": 49,
      "outputs": [
        {
          "output_type": "stream",
          "name": "stdout",
          "text": [
            "가장 유사도가 큰 파일명 및 유사도:\n",
            " filename      /content/drive/MyDrive/ESAA/OB/OpinosisDataset1\n",
            "similarity                                           0.872352\n",
            "Name: 2, dtype: object\n"
          ]
        },
        {
          "output_type": "execute_result",
          "data": {
            "text/plain": [
              "Text(0.5, 1.0, '/content/drive/MyDrive/ESAA/OB/OpinosisDataset1')"
            ]
          },
          "metadata": {},
          "execution_count": 49
        },
        {
          "output_type": "display_data",
          "data": {
            "text/plain": [
              "<Figure size 640x480 with 1 Axes>"
            ],
            "image/png": "[encoded data removed]"
          },
          "metadata": {}
        }
      ]
    },
    {
      "cell_type": "code",
      "source": [
        "import pandas as pd\n",
        "\n",
        "train_df = pd.read_csv('/content/drive/MyDrive/ESAA/OB/ratings_train.txt', sep='\\t')\n",
        "train_df.head(3)"
      ],
      "metadata": {
        "colab": {
          "base_uri": "https://localhost:8080/",
          "height": 143
        },
        "id": "wVvUUR0Cw6HW",
        "outputId": "81c2674e-622c-4019-db90-5ce00b866e79"
      },
      "execution_count": 51,
      "outputs": [
        {
          "output_type": "execute_result",
          "data": {
            "text/plain": [
              "         id                           document  label\n",
              "0   9976970                아 더빙.. 진짜 짜증나네요 목소리      0\n",
              "1   3819312  흠...포스터보고 초딩영화줄....오버연기조차 가볍지 않구나      1\n",
              "2  10265843                  너무재밓었다그래서보는것을추천한다      0"
            ],
            "text/html": [
              "\n",
              "  <div id=\"df-44eff955-4f36-4d17-a8a9-425c41474a37\" class=\"colab-df-container\">\n",
              "    <div>\n",
              "<style scoped>\n",
              "    .dataframe tbody tr th:only-of-type {\n",
              "        vertical-align: middle;\n",
              "    }\n",
              "\n",
              "    .dataframe tbody tr th {\n",
              "        vertical-align: top;\n",
              "    }\n",
              "\n",
              "    .dataframe thead th {\n",
              "        text-align: right;\n",
              "    }\n",
              "</style>\n",
              "<table border=\"1\" class=\"dataframe\">\n",
              "  <thead>\n",
              "    <tr style=\"text-align: right;\">\n",
              "      <th></th>\n",
              "      <th>id</th>\n",
              "      <th>document</th>\n",
              "      <th>label</th>\n",
              "    </tr>\n",
              "  </thead>\n",
              "  <tbody>\n",
              "    <tr>\n",
              "      <th>0</th>\n",
              "      <td>9976970</td>\n",
              "      <td>아 더빙.. 진짜 짜증나네요 목소리</td>\n",
              "      <td>0</td>\n",
              "    </tr>\n",
              "    <tr>\n",
              "      <th>1</th>\n",
              "      <td>3819312</td>\n",
              "      <td>흠...포스터보고 초딩영화줄....오버연기조차 가볍지 않구나</td>\n",
              "      <td>1</td>\n",
              "    </tr>\n",
              "    <tr>\n",
              "      <th>2</th>\n",
              "      <td>10265843</td>\n",
              "      <td>너무재밓었다그래서보는것을추천한다</td>\n",
              "      <td>0</td>\n",
              "    </tr>\n",
              "  </tbody>\n",
              "</table>\n",
              "</div>\n",
              "    <div class=\"colab-df-buttons\">\n",
              "\n",
              "  <div class=\"colab-df-container\">\n",
              "    <button class=\"colab-df-convert\" onclick=\"convertToInteractive('df-44eff955-4f36-4d17-a8a9-425c41474a37')\"\n",
              "            title=\"Convert this dataframe to an interactive table.\"\n",
              "            style=\"display:none;\">\n",
              "\n",
              "  <svg xmlns=\"http://www.w3.org/2000/svg\" height=\"24px\" viewBox=\"0 -960 960 960\">\n",
              "    <path d=\"M120-120v-720h720v720H120Zm60-500h600v-160H180v160Zm220 220h160v-160H400v160Zm0 220h160v-160H400v160ZM180-400h160v-160H180v160Zm440 0h160v-160H620v160ZM180-180h160v-160H180v160Zm440 0h160v-160H620v160Z\"/>\n",
              "  </svg>\n",
              "    </button>\n",
              "\n",
              "  <style>\n",
              "    .colab-df-container {\n",
              "      display:flex;\n",
              "      gap: 12px;\n",
              "    }\n",
              "\n",
              "    .colab-df-convert {\n",
              "      background-color: #E8F0FE;\n",
              "      border: none;\n",
              "      border-radius: 50%;\n",
              "      cursor: pointer;\n",
              "      display: none;\n",
              "      fill: #1967D2;\n",
              "      height: 32px;\n",
              "      padding: 0 0 0 0;\n",
              "      width: 32px;\n",
              "    }\n",
              "\n",
              "    .colab-df-convert:hover {\n",
              "      background-color: #E2EBFA;\n",
              "      box-shadow: 0px 1px 2px rgba(60, 64, 67, 0.3), 0px 1px 3px 1px rgba(60, 64, 67, 0.15);\n",
              "      fill: #174EA6;\n",
              "    }\n",
              "\n",
              "    .colab-df-buttons div {\n",
              "      margin-bottom: 4px;\n",
              "    }\n",
              "\n",
              "    [theme=dark] .colab-df-convert {\n",
              "      background-color: #3B4455;\n",
              "      fill: #D2E3FC;\n",
              "    }\n",
              "\n",
              "    [theme=dark] .colab-df-convert:hover {\n",
              "      background-color: #434B5C;\n",
              "      box-shadow: 0px 1px 3px 1px rgba(0, 0, 0, 0.15);\n",
              "      filter: drop-shadow(0px 1px 2px rgba(0, 0, 0, 0.3));\n",
              "      fill: #FFFFFF;\n",
              "    }\n",
              "  </style>\n",
              "\n",
              "    <script>\n",
              "      const buttonEl =\n",
              "        document.querySelector('#df-44eff955-4f36-4d17-a8a9-425c41474a37 button.colab-df-convert');\n",
              "      buttonEl.style.display =\n",
              "        google.colab.kernel.accessAllowed ? 'block' : 'none';\n",
              "\n",
              "      async function convertToInteractive(key) {\n",
              "        const element = document.querySelector('#df-44eff955-4f36-4d17-a8a9-425c41474a37');\n",
              "        const dataTable =\n",
              "          await google.colab.kernel.invokeFunction('convertToInteractive',\n",
              "                                                    [key], {});\n",
              "        if (!dataTable) return;\n",
              "\n",
              "        const docLinkHtml = 'Like what you see? Visit the ' +\n",
              "          '<a target=\"_blank\" href=https://colab.research.google.com/notebooks/data_table.ipynb>data table notebook</a>'\n",
              "          + ' to learn more about interactive tables.';\n",
              "        element.innerHTML = '';\n",
              "        dataTable['output_type'] = 'display_data';\n",
              "        await google.colab.output.renderOutput(dataTable, element);\n",
              "        const docLink = document.createElement('div');\n",
              "        docLink.innerHTML = docLinkHtml;\n",
              "        element.appendChild(docLink);\n",
              "      }\n",
              "    </script>\n",
              "  </div>\n",
              "\n",
              "\n",
              "<div id=\"df-ed35235d-9699-4ed6-ba54-dd2a2851183b\">\n",
              "  <button class=\"colab-df-quickchart\" onclick=\"quickchart('df-ed35235d-9699-4ed6-ba54-dd2a2851183b')\"\n",
              "            title=\"Suggest charts\"\n",
              "            style=\"display:none;\">\n",
              "\n",
              "<svg xmlns=\"http://www.w3.org/2000/svg\" height=\"24px\"viewBox=\"0 0 24 24\"\n",
              "     width=\"24px\">\n",
              "    <g>\n",
              "        <path d=\"M19 3H5c-1.1 0-2 .9-2 2v14c0 1.1.9 2 2 2h14c1.1 0 2-.9 2-2V5c0-1.1-.9-2-2-2zM9 17H7v-7h2v7zm4 0h-2V7h2v10zm4 0h-2v-4h2v4z\"/>\n",
              "    </g>\n",
              "</svg>\n",
              "  </button>\n",
              "\n",
              "<style>\n",
              "  .colab-df-quickchart {\n",
              "      --bg-color: #E8F0FE;\n",
              "      --fill-color: #1967D2;\n",
              "      --hover-bg-color: #E2EBFA;\n",
              "      --hover-fill-color: #174EA6;\n",
              "      --disabled-fill-color: #AAA;\n",
              "      --disabled-bg-color: #DDD;\n",
              "  }\n",
              "\n",
              "  [theme=dark] .colab-df-quickchart {\n",
              "      --bg-color: #3B4455;\n",
              "      --fill-color: #D2E3FC;\n",
              "      --hover-bg-color: #434B5C;\n",
              "      --hover-fill-color: #FFFFFF;\n",
              "      --disabled-bg-color: #3B4455;\n",
              "      --disabled-fill-color: #666;\n",
              "  }\n",
              "\n",
              "  .colab-df-quickchart {\n",
              "    background-color: var(--bg-color);\n",
              "    border: none;\n",
              "    border-radius: 50%;\n",
              "    cursor: pointer;\n",
              "    display: none;\n",
              "    fill: var(--fill-color);\n",
              "    height: 32px;\n",
              "    padding: 0;\n",
              "    width: 32px;\n",
              "  }\n",
              "\n",
              "  .colab-df-quickchart:hover {\n",
              "    background-color: var(--hover-bg-color);\n",
              "    box-shadow: 0 1px 2px rgba(60, 64, 67, 0.3), 0 1px 3px 1px rgba(60, 64, 67, 0.15);\n",
              "    fill: var(--button-hover-fill-color);\n",
              "  }\n",
              "\n",
              "  .colab-df-quickchart-complete:disabled,\n",
              "  .colab-df-quickchart-complete:disabled:hover {\n",
              "    background-color: var(--disabled-bg-color);\n",
              "    fill: var(--disabled-fill-color);\n",
              "    box-shadow: none;\n",
              "  }\n",
              "\n",
              "  .colab-df-spinner {\n",
              "    border: 2px solid var(--fill-color);\n",
              "    border-color: transparent;\n",
              "    border-bottom-color: var(--fill-color);\n",
              "    animation:\n",
              "      spin 1s steps(1) infinite;\n",
              "  }\n",
              "\n",
              "  @keyframes spin {\n",
              "    0% {\n",
              "      border-color: transparent;\n",
              "      border-bottom-color: var(--fill-color);\n",
              "      border-left-color: var(--fill-color);\n",
              "    }\n",
              "    20% {\n",
              "      border-color: transparent;\n",
              "      border-left-color: var(--fill-color);\n",
              "      border-top-color: var(--fill-color);\n",
              "    }\n",
              "    30% {\n",
              "      border-color: transparent;\n",
              "      border-left-color: var(--fill-color);\n",
              "      border-top-color: var(--fill-color);\n",
              "      border-right-color: var(--fill-color);\n",
              "    }\n",
              "    40% {\n",
              "      border-color: transparent;\n",
              "      border-right-color: var(--fill-color);\n",
              "      border-top-color: var(--fill-color);\n",
              "    }\n",
              "    60% {\n",
              "      border-color: transparent;\n",
              "      border-right-color: var(--fill-color);\n",
              "    }\n",
              "    80% {\n",
              "      border-color: transparent;\n",
              "      border-right-color: var(--fill-color);\n",
              "      border-bottom-color: var(--fill-color);\n",
              "    }\n",
              "    90% {\n",
              "      border-color: transparent;\n",
              "      border-bottom-color: var(--fill-color);\n",
              "    }\n",
              "  }\n",
              "</style>\n",
              "\n",
              "  <script>\n",
              "    async function quickchart(key) {\n",
              "      const quickchartButtonEl =\n",
              "        document.querySelector('#' + key + ' button');\n",
              "      quickchartButtonEl.disabled = true;  // To prevent multiple clicks.\n",
              "      quickchartButtonEl.classList.add('colab-df-spinner');\n",
              "      try {\n",
              "        const charts = await google.colab.kernel.invokeFunction(\n",
              "            'suggestCharts', [key], {});\n",
              "      } catch (error) {\n",
              "        console.error('Error during call to suggestCharts:', error);\n",
              "      }\n",
              "      quickchartButtonEl.classList.remove('colab-df-spinner');\n",
              "      quickchartButtonEl.classList.add('colab-df-quickchart-complete');\n",
              "    }\n",
              "    (() => {\n",
              "      let quickchartButtonEl =\n",
              "        document.querySelector('#df-ed35235d-9699-4ed6-ba54-dd2a2851183b button');\n",
              "      quickchartButtonEl.style.display =\n",
              "        google.colab.kernel.accessAllowed ? 'block' : 'none';\n",
              "    })();\n",
              "  </script>\n",
              "</div>\n",
              "\n",
              "    </div>\n",
              "  </div>\n"
            ],
            "application/vnd.google.colaboratory.intrinsic+json": {
              "type": "dataframe",
              "variable_name": "train_df"
            }
          },
          "metadata": {},
          "execution_count": 51
        }
      ]
    },
    {
      "cell_type": "code",
      "source": [
        "train_df['label'].value_counts()"
      ],
      "metadata": {
        "colab": {
          "base_uri": "https://localhost:8080/",
          "height": 178
        },
        "id": "xiYlVHcszFN-",
        "outputId": "9f4f4494-bc4f-49df-aad5-9141815b84b4"
      },
      "execution_count": 52,
      "outputs": [
        {
          "output_type": "execute_result",
          "data": {
            "text/plain": [
              "label\n",
              "0    75173\n",
              "1    74827\n",
              "Name: count, dtype: int64"
            ],
            "text/html": [
              "<div>\n",
              "<style scoped>\n",
              "    .dataframe tbody tr th:only-of-type {\n",
              "        vertical-align: middle;\n",
              "    }\n",
              "\n",
              "    .dataframe tbody tr th {\n",
              "        vertical-align: top;\n",
              "    }\n",
              "\n",
              "    .dataframe thead th {\n",
              "        text-align: right;\n",
              "    }\n",
              "</style>\n",
              "<table border=\"1\" class=\"dataframe\">\n",
              "  <thead>\n",
              "    <tr style=\"text-align: right;\">\n",
              "      <th></th>\n",
              "      <th>count</th>\n",
              "    </tr>\n",
              "    <tr>\n",
              "      <th>label</th>\n",
              "      <th></th>\n",
              "    </tr>\n",
              "  </thead>\n",
              "  <tbody>\n",
              "    <tr>\n",
              "      <th>0</th>\n",
              "      <td>75173</td>\n",
              "    </tr>\n",
              "    <tr>\n",
              "      <th>1</th>\n",
              "      <td>74827</td>\n",
              "    </tr>\n",
              "  </tbody>\n",
              "</table>\n",
              "</div><br><label><b>dtype:</b> int64</label>"
            ]
          },
          "metadata": {},
          "execution_count": 52
        }
      ]
    },
    {
      "cell_type": "code",
      "source": [
        "import re\n",
        "\n",
        "train_df = train_df.fillna(' ')\n",
        "#정규 표현식을 이용해 숫자를 공백으로 변경(정규 표현식으로 \\d는 숫자를 의미함.)\n",
        "train_df['document'] = train_df['document'].apply( lambda x : re.sub(r\"\\d+\", \" \", x) )\n",
        "\n",
        "#테스트 데이터 세트를 로딩하고 동일하게 Null 및 숫자를 공백으로 변환\n",
        "test_df = pd.read_csv('/content/drive/MyDrive/ESAA/OB/ratings_test.txt', sep='\\t', encoding='utf-8')\n",
        "test_df['document'] = test_df['document'].astype(str).apply(lambda x: re.sub(r\"\\d+\", \" \", x))\n",
        "\n",
        "#id 칼럼 삭제 수행\n",
        "train_df.drop('id', axis=1, inplace=True)\n",
        "test_df.drop('id', axis=1, inplace=True)"
      ],
      "metadata": {
        "id": "WITjK01mzMs-"
      },
      "execution_count": 53,
      "outputs": []
    },
    {
      "cell_type": "code",
      "source": [
        "# KoNLPY 설치 하기\n",
        "\n",
        "!pip install konlpy --quiet"
      ],
      "metadata": {
        "colab": {
          "base_uri": "https://localhost:8080/"
        },
        "id": "eZqLMorNz69g",
        "outputId": "460a224f-0777-43ae-fa21-ac753c28e07d"
      },
      "execution_count": 55,
      "outputs": [
        {
          "output_type": "stream",
          "name": "stdout",
          "text": [
            "\u001b[2K   \u001b[90m━━━━━━━━━━━━━━━━━━━━━━━━━━━━━━━━━━━━━━━━\u001b[0m \u001b[32m19.4/19.4 MB\u001b[0m \u001b[31m41.4 MB/s\u001b[0m eta \u001b[36m0:00:00\u001b[0m\n",
            "\u001b[2K   \u001b[90m━━━━━━━━━━━━━━━━━━━━━━━━━━━━━━━━━━━━━━━━\u001b[0m \u001b[32m488.6/488.6 kB\u001b[0m \u001b[31m23.4 MB/s\u001b[0m eta \u001b[36m0:00:00\u001b[0m\n",
            "\u001b[?25h"
          ]
        }
      ]
    },
    {
      "cell_type": "code",
      "source": [
        "from konlpy.tag import Twitter\n",
        "\n",
        "twitter = Twitter()\n",
        "def tw_tokenizer(text):\n",
        "#입력 인자로 들어온 텍스트를 형태소 단어로 토큰화해 리스트 형태로 반환\n",
        "    tokens_ko = twitter.morphs(text)\n",
        "    return tokens_ko"
      ],
      "metadata": {
        "id": "vkoxZqC6z3Yy"
      },
      "execution_count": 56,
      "outputs": []
    },
    {
      "cell_type": "code",
      "source": [
        "from sklearn.feature_extraction.text import TfidfVectorizer\n",
        "from sklearn.linear_model import LogisticRegression\n",
        "from sklearn.model_selection import GridSearchCV\n",
        "\n",
        "#Twitter 객체의 morphs( ) 객체를 이용한 tokenizer를 사용. ngram_range는 (1, 2)\n",
        "tfidf_vect = TfidfVectorizer(tokenizer=tw_tokenizer, ngram_range=(1, 2), min_df=3, max_df=0.9)\n",
        "tfidf_vect.fit(train_df['document'])\n",
        "tfidf_matrix_train = tfidf_vect.transform(train_df['document'])"
      ],
      "metadata": {
        "id": "f6ci2_p90IVT"
      },
      "execution_count": 57,
      "outputs": []
    },
    {
      "cell_type": "code",
      "source": [
        "#로지스틱 회귀를 이용해 감성 분석 분류 수행.\n",
        "lg_clf = LogisticRegression(random_state=0, solver='liblinear')\n",
        "\n",
        "#파라미터 C 최적화를 위해 GridSearchCV를 이용.\n",
        "params = { 'C' : [1, 3.5, 4.5, 5.5, 10] }\n",
        "grid_cv = GridSearchCV(lg_clf, param_grid=params, cv=3, scoring='accuracy', verbose=1)\n",
        "grid_cv.fit(tfidf_matrix_train, train_df['label'])\n",
        "print(grid_cv.best_params_, round(grid_cv.best_score_, 4))"
      ],
      "metadata": {
        "colab": {
          "base_uri": "https://localhost:8080/"
        },
        "id": "Uxae-gbc0Obt",
        "outputId": "d23157a6-06c3-43b2-bf68-e08a8c75c5eb"
      },
      "execution_count": 58,
      "outputs": [
        {
          "output_type": "stream",
          "name": "stdout",
          "text": [
            "Fitting 3 folds for each of 5 candidates, totalling 15 fits\n",
            "{'C': 3.5} 0.8593\n"
          ]
        }
      ]
    },
    {
      "cell_type": "code",
      "source": [
        "from sklearn.metrics import accuracy_score\n",
        "\n",
        "#학습 데이터를 적용한 TfidfVectorizer를 이용해 테스트 데이터를 TF-IDF 값으로 피처 변환함.\n",
        "tfidf_matrix_test = tfidf_vect.transform(test_df['document'])\n",
        "\n",
        "#classifier는 GridSearchCV에서 최적 파라미터로 학습된 classifier를 그대로 이용\n",
        "best_estimator = grid_cv.best_estimator_\n",
        "preds = best_estimator.predict(tfidf_matrix_test)\n",
        "print ('Logistic Regression 정확도:', accuracy_score(test_df ['label'], preds))"
      ],
      "metadata": {
        "colab": {
          "base_uri": "https://localhost:8080/"
        },
        "id": "6WgoPCAI0Q8s",
        "outputId": "035c8aa1-f0eb-4d0c-d85f-4ee64f25856c"
      },
      "execution_count": 59,
      "outputs": [
        {
          "output_type": "stream",
          "name": "stdout",
          "text": [
            "Logistic Regression 정확도: 0.86172\n"
          ]
        }
      ]
    }
  ]
}